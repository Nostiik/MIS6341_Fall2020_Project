{
 "cells": [
  {
   "cell_type": "markdown",
   "metadata": {},
   "source": [
    "# Classification"
   ]
  },
  {
   "cell_type": "markdown",
   "metadata": {},
   "source": [
    "For the Classification portion of this project we'll be using the Employee Attrition dataset created by IBM that is uploaded on Kaggle: https://www.kaggle.com/pavansubhasht/ibm-hr-analytics-attrition-dataset "
   ]
  },
  {
   "cell_type": "markdown",
   "metadata": {},
   "source": [
    "## <font color=blue> Importing Basic Libraries and Reading Dataset </font>"
   ]
  },
  {
   "cell_type": "code",
   "execution_count": 1,
   "metadata": {},
   "outputs": [],
   "source": [
    "import pandas as pd\n",
    "import numpy as np \n",
    "import matplotlib.pyplot as plt"
   ]
  },
  {
   "cell_type": "code",
   "execution_count": 2,
   "metadata": {},
   "outputs": [],
   "source": [
    "df = pd.read_csv(\"IBM_HR_EmployeeAttrition.csv\")"
   ]
  },
  {
   "cell_type": "markdown",
   "metadata": {},
   "source": [
    "## <font color=blue> Data Exploration & Preparation </font>"
   ]
  },
  {
   "cell_type": "markdown",
   "metadata": {},
   "source": [
    "#### Null ~5% to 10% of dataset and drop NaN values"
   ]
  },
  {
   "cell_type": "markdown",
   "metadata": {},
   "source": [
    "Setting RNG seed and creating NaN values randomly within data set the .002 was generated using trial and error by calculating proportion of NaN values to rest of dataset (shown in next cell)."
   ]
  },
  {
   "cell_type": "code",
   "execution_count": 3,
   "metadata": {},
   "outputs": [],
   "source": [
    "np.random.seed(200)\n",
    "df = df.mask(np.random.random(df.shape) < .002)"
   ]
  },
  {
   "cell_type": "code",
   "execution_count": 4,
   "metadata": {},
   "outputs": [
    {
     "name": "stdout",
     "output_type": "stream",
     "text": [
      "Count of NaN data: 94\n",
      "NaN data relative to number of rows: 0.06394557823129252\n"
     ]
    }
   ],
   "source": [
    "print('Count of NaN data:', df.isna().sum().sum())\n",
    "print('NaN data relative to number of rows:', (df.isna().sum().sum() / df.shape[0]))"
   ]
  },
  {
   "cell_type": "code",
   "execution_count": 5,
   "metadata": {},
   "outputs": [],
   "source": [
    "# Removing NaN values\n",
    "df.dropna(how='any', inplace=True)"
   ]
  },
  {
   "cell_type": "markdown",
   "metadata": {},
   "source": [
    "#### Dataset Exploration"
   ]
  },
  {
   "cell_type": "code",
   "execution_count": 6,
   "metadata": {},
   "outputs": [
    {
     "name": "stdout",
     "output_type": "stream",
     "text": [
      "<class 'pandas.core.frame.DataFrame'>\n",
      "Int64Index: 1379 entries, 0 to 1469\n",
      "Data columns (total 35 columns):\n",
      " #   Column                    Non-Null Count  Dtype  \n",
      "---  ------                    --------------  -----  \n",
      " 0   Age                       1379 non-null   int64  \n",
      " 1   Attrition                 1379 non-null   object \n",
      " 2   BusinessTravel            1379 non-null   object \n",
      " 3   DailyRate                 1379 non-null   float64\n",
      " 4   Department                1379 non-null   object \n",
      " 5   DistanceFromHome          1379 non-null   float64\n",
      " 6   Education                 1379 non-null   float64\n",
      " 7   EducationField            1379 non-null   object \n",
      " 8   EmployeeCount             1379 non-null   float64\n",
      " 9   EmployeeNumber            1379 non-null   float64\n",
      " 10  EnvironmentSatisfaction   1379 non-null   float64\n",
      " 11  Gender                    1379 non-null   object \n",
      " 12  HourlyRate                1379 non-null   float64\n",
      " 13  JobInvolvement            1379 non-null   float64\n",
      " 14  JobLevel                  1379 non-null   int64  \n",
      " 15  JobRole                   1379 non-null   object \n",
      " 16  JobSatisfaction           1379 non-null   float64\n",
      " 17  MaritalStatus             1379 non-null   object \n",
      " 18  MonthlyIncome             1379 non-null   float64\n",
      " 19  MonthlyRate               1379 non-null   float64\n",
      " 20  NumCompaniesWorked        1379 non-null   float64\n",
      " 21  Over18                    1379 non-null   object \n",
      " 22  OverTime                  1379 non-null   object \n",
      " 23  PercentSalaryHike         1379 non-null   float64\n",
      " 24  PerformanceRating         1379 non-null   float64\n",
      " 25  RelationshipSatisfaction  1379 non-null   float64\n",
      " 26  StandardHours             1379 non-null   float64\n",
      " 27  StockOptionLevel          1379 non-null   float64\n",
      " 28  TotalWorkingYears         1379 non-null   float64\n",
      " 29  TrainingTimesLastYear     1379 non-null   float64\n",
      " 30  WorkLifeBalance           1379 non-null   float64\n",
      " 31  YearsAtCompany            1379 non-null   float64\n",
      " 32  YearsInCurrentRole        1379 non-null   float64\n",
      " 33  YearsSinceLastPromotion   1379 non-null   float64\n",
      " 34  YearsWithCurrManager      1379 non-null   float64\n",
      "dtypes: float64(24), int64(2), object(9)\n",
      "memory usage: 387.8+ KB\n"
     ]
    }
   ],
   "source": [
    "# Check Dtypes\n",
    "df.info()"
   ]
  },
  {
   "cell_type": "code",
   "execution_count": 7,
   "metadata": {},
   "outputs": [
    {
     "data": {
      "text/plain": [
       "array(['Yes', 'No'], dtype=object)"
      ]
     },
     "execution_count": 7,
     "metadata": {},
     "output_type": "execute_result"
    }
   ],
   "source": [
    "df['Attrition'].unique() # Target Column - Map"
   ]
  },
  {
   "cell_type": "code",
   "execution_count": 8,
   "metadata": {},
   "outputs": [
    {
     "data": {
      "text/plain": [
       "array(['Travel_Rarely', 'Travel_Frequently', 'Non-Travel'], dtype=object)"
      ]
     },
     "execution_count": 8,
     "metadata": {},
     "output_type": "execute_result"
    }
   ],
   "source": [
    "df['BusinessTravel'].unique() # One-hot encode"
   ]
  },
  {
   "cell_type": "code",
   "execution_count": 9,
   "metadata": {},
   "outputs": [
    {
     "data": {
      "text/plain": [
       "array(['Sales', 'Research & Development', 'Human Resources'], dtype=object)"
      ]
     },
     "execution_count": 9,
     "metadata": {},
     "output_type": "execute_result"
    }
   ],
   "source": [
    "df['Department'].unique() # One-hot encode"
   ]
  },
  {
   "cell_type": "code",
   "execution_count": 10,
   "metadata": {},
   "outputs": [
    {
     "data": {
      "text/plain": [
       "array(['Life Sciences', 'Other', 'Medical', 'Marketing',\n",
       "       'Technical Degree', 'Human Resources'], dtype=object)"
      ]
     },
     "execution_count": 10,
     "metadata": {},
     "output_type": "execute_result"
    }
   ],
   "source": [
    "df['EducationField'].unique() # One-hot encode"
   ]
  },
  {
   "cell_type": "code",
   "execution_count": 11,
   "metadata": {},
   "outputs": [
    {
     "data": {
      "text/plain": [
       "array(['Female', 'Male'], dtype=object)"
      ]
     },
     "execution_count": 11,
     "metadata": {},
     "output_type": "execute_result"
    }
   ],
   "source": [
    "df['Gender'].unique() # Map"
   ]
  },
  {
   "cell_type": "code",
   "execution_count": 12,
   "metadata": {},
   "outputs": [
    {
     "data": {
      "text/plain": [
       "array(['Sales Executive', 'Research Scientist', 'Laboratory Technician',\n",
       "       'Manufacturing Director', 'Healthcare Representative', 'Manager',\n",
       "       'Sales Representative', 'Research Director', 'Human Resources'],\n",
       "      dtype=object)"
      ]
     },
     "execution_count": 12,
     "metadata": {},
     "output_type": "execute_result"
    }
   ],
   "source": [
    "df['JobRole'].unique() # One-hot encode"
   ]
  },
  {
   "cell_type": "code",
   "execution_count": 13,
   "metadata": {},
   "outputs": [
    {
     "data": {
      "text/plain": [
       "array(['Single', 'Married', 'Divorced'], dtype=object)"
      ]
     },
     "execution_count": 13,
     "metadata": {},
     "output_type": "execute_result"
    }
   ],
   "source": [
    "df['MaritalStatus'].unique() # Map"
   ]
  },
  {
   "cell_type": "code",
   "execution_count": 14,
   "metadata": {},
   "outputs": [
    {
     "data": {
      "text/plain": [
       "array(['Y'], dtype=object)"
      ]
     },
     "execution_count": 14,
     "metadata": {},
     "output_type": "execute_result"
    }
   ],
   "source": [
    "df['Over18'].unique() # Only contains one value - remove"
   ]
  },
  {
   "cell_type": "code",
   "execution_count": 15,
   "metadata": {},
   "outputs": [
    {
     "data": {
      "text/plain": [
       "array(['Yes', 'No'], dtype=object)"
      ]
     },
     "execution_count": 15,
     "metadata": {},
     "output_type": "execute_result"
    }
   ],
   "source": [
    "df['OverTime'].unique() # Map"
   ]
  },
  {
   "cell_type": "code",
   "execution_count": 16,
   "metadata": {},
   "outputs": [
    {
     "data": {
      "text/plain": [
       "0          1.0\n",
       "1          2.0\n",
       "2          4.0\n",
       "4          7.0\n",
       "5          8.0\n",
       "         ...  \n",
       "1465    2061.0\n",
       "1466    2062.0\n",
       "1467    2064.0\n",
       "1468    2065.0\n",
       "1469    2068.0\n",
       "Name: EmployeeNumber, Length: 1379, dtype: float64"
      ]
     },
     "execution_count": 16,
     "metadata": {},
     "output_type": "execute_result"
    }
   ],
   "source": [
    "df['EmployeeNumber'] # Can remove - irrelevant for data"
   ]
  },
  {
   "cell_type": "markdown",
   "metadata": {},
   "source": [
    "#### Target Column Analysis"
   ]
  },
  {
   "cell_type": "code",
   "execution_count": 17,
   "metadata": {},
   "outputs": [
    {
     "data": {
      "text/plain": [
       "<matplotlib.axes._subplots.AxesSubplot at 0x2b3477ebd00>"
      ]
     },
     "execution_count": 17,
     "metadata": {},
     "output_type": "execute_result"
    },
    {
     "data": {
      "image/png": "[encoded data removed]",
      "text/plain": [
       "<Figure size 432x288 with 1 Axes>"
      ]
     },
     "metadata": {
      "needs_background": "light"
     },
     "output_type": "display_data"
    }
   ],
   "source": [
    "df['Attrition'].hist()"
   ]
  },
  {
   "cell_type": "code",
   "execution_count": 18,
   "metadata": {},
   "outputs": [
    {
     "data": {
      "text/plain": [
       "No     1158\n",
       "Yes     221\n",
       "Name: Attrition, dtype: int64"
      ]
     },
     "execution_count": 18,
     "metadata": {},
     "output_type": "execute_result"
    }
   ],
   "source": [
    "df['Attrition'].value_counts()"
   ]
  },
  {
   "cell_type": "code",
   "execution_count": 19,
   "metadata": {},
   "outputs": [
    {
     "data": {
      "text/plain": [
       "0.1602610587382161"
      ]
     },
     "execution_count": 19,
     "metadata": {},
     "output_type": "execute_result"
    }
   ],
   "source": [
    "# Check proportion of 'Yes' values\n",
    "221 / (1158 + 221)"
   ]
  },
  {
   "cell_type": "markdown",
   "metadata": {},
   "source": [
    "A large issue is that this data is heavily skewed toward the 'No' value. Only around 16% of the data is 'Yes'. We'll keep this in mind when analyzing the models later on. "
   ]
  },
  {
   "cell_type": "markdown",
   "metadata": {},
   "source": [
    "#### Mapping Values"
   ]
  },
  {
   "cell_type": "code",
   "execution_count": 20,
   "metadata": {},
   "outputs": [],
   "source": [
    "# Attrition - this is our target column - No = 0, Yes = 1\n",
    "df['Attrition'] = df['Attrition'].map({'No':0,'Yes':1}).astype(int)\n",
    "\n",
    "# Overtime - No = 0, Yes = 1\n",
    "df['OverTime'] = df['OverTime'].map({'No':0,'Yes':1}).astype(int)\n",
    "\n",
    "# Gender - Male = 0, Female = 1\n",
    "df['Gender'] = df['Gender'].map({'Male':0,'Female':1}).astype(int)\n",
    "\n",
    "# Marital Status - Single = 0, Married = 1, Divorced = 2\n",
    "df['MaritalStatus'] = df['MaritalStatus'].map({'Single':0,'Married':1, 'Divorced':2}).astype(int)"
   ]
  },
  {
   "cell_type": "markdown",
   "metadata": {},
   "source": [
    "#### One-hot Encoding"
   ]
  },
  {
   "cell_type": "code",
   "execution_count": 21,
   "metadata": {},
   "outputs": [],
   "source": [
    "# Business Travel\n",
    "cols = pd.get_dummies(df['BusinessTravel'], prefix= 'BusTravel')\n",
    "df[cols.columns] = cols\n",
    "df.drop('BusinessTravel', axis = 1, inplace = True)\n",
    "\n",
    "# Department\n",
    "cols = pd.get_dummies(df['Department'], prefix= 'Dept')\n",
    "df[cols.columns] = cols\n",
    "df.drop('Department', axis = 1, inplace = True)\n",
    "\n",
    "# Education Field\n",
    "cols = pd.get_dummies(df['EducationField'], prefix= 'EduField')\n",
    "df[cols.columns] = cols\n",
    "df.drop('EducationField', axis = 1, inplace = True)\n",
    "\n",
    "# Job Role\n",
    "cols = pd.get_dummies(df['JobRole'], prefix= 'JobRole')\n",
    "df[cols.columns] = cols\n",
    "df.drop('JobRole', axis = 1, inplace = True)"
   ]
  },
  {
   "cell_type": "markdown",
   "metadata": {},
   "source": [
    "#### Dropping Columns with No Meaning"
   ]
  },
  {
   "cell_type": "markdown",
   "metadata": {},
   "source": [
    "Dropping the 'Over18' column as it only contains one value, and will be meaningless in analysis. The 'EmployeeNumber' field will also be dropped as it has no meaning to the models."
   ]
  },
  {
   "cell_type": "code",
   "execution_count": 22,
   "metadata": {},
   "outputs": [],
   "source": [
    "df = df.drop(['Over18', 'EmployeeNumber'], axis = 1)"
   ]
  },
  {
   "cell_type": "markdown",
   "metadata": {},
   "source": [
    "#### Verifying no 'Object' Dtypes are in the dataframe"
   ]
  },
  {
   "cell_type": "code",
   "execution_count": 23,
   "metadata": {},
   "outputs": [
    {
     "name": "stdout",
     "output_type": "stream",
     "text": [
      "<class 'pandas.core.frame.DataFrame'>\n",
      "Int64Index: 1379 entries, 0 to 1469\n",
      "Data columns (total 50 columns):\n",
      " #   Column                             Non-Null Count  Dtype  \n",
      "---  ------                             --------------  -----  \n",
      " 0   Age                                1379 non-null   int64  \n",
      " 1   Attrition                          1379 non-null   int32  \n",
      " 2   DailyRate                          1379 non-null   float64\n",
      " 3   DistanceFromHome                   1379 non-null   float64\n",
      " 4   Education                          1379 non-null   float64\n",
      " 5   EmployeeCount                      1379 non-null   float64\n",
      " 6   EnvironmentSatisfaction            1379 non-null   float64\n",
      " 7   Gender                             1379 non-null   int32  \n",
      " 8   HourlyRate                         1379 non-null   float64\n",
      " 9   JobInvolvement                     1379 non-null   float64\n",
      " 10  JobLevel                           1379 non-null   int64  \n",
      " 11  JobSatisfaction                    1379 non-null   float64\n",
      " 12  MaritalStatus                      1379 non-null   int32  \n",
      " 13  MonthlyIncome                      1379 non-null   float64\n",
      " 14  MonthlyRate                        1379 non-null   float64\n",
      " 15  NumCompaniesWorked                 1379 non-null   float64\n",
      " 16  OverTime                           1379 non-null   int32  \n",
      " 17  PercentSalaryHike                  1379 non-null   float64\n",
      " 18  PerformanceRating                  1379 non-null   float64\n",
      " 19  RelationshipSatisfaction           1379 non-null   float64\n",
      " 20  StandardHours                      1379 non-null   float64\n",
      " 21  StockOptionLevel                   1379 non-null   float64\n",
      " 22  TotalWorkingYears                  1379 non-null   float64\n",
      " 23  TrainingTimesLastYear              1379 non-null   float64\n",
      " 24  WorkLifeBalance                    1379 non-null   float64\n",
      " 25  YearsAtCompany                     1379 non-null   float64\n",
      " 26  YearsInCurrentRole                 1379 non-null   float64\n",
      " 27  YearsSinceLastPromotion            1379 non-null   float64\n",
      " 28  YearsWithCurrManager               1379 non-null   float64\n",
      " 29  BusTravel_Non-Travel               1379 non-null   uint8  \n",
      " 30  BusTravel_Travel_Frequently        1379 non-null   uint8  \n",
      " 31  BusTravel_Travel_Rarely            1379 non-null   uint8  \n",
      " 32  Dept_Human Resources               1379 non-null   uint8  \n",
      " 33  Dept_Research & Development        1379 non-null   uint8  \n",
      " 34  Dept_Sales                         1379 non-null   uint8  \n",
      " 35  EduField_Human Resources           1379 non-null   uint8  \n",
      " 36  EduField_Life Sciences             1379 non-null   uint8  \n",
      " 37  EduField_Marketing                 1379 non-null   uint8  \n",
      " 38  EduField_Medical                   1379 non-null   uint8  \n",
      " 39  EduField_Other                     1379 non-null   uint8  \n",
      " 40  EduField_Technical Degree          1379 non-null   uint8  \n",
      " 41  JobRole_Healthcare Representative  1379 non-null   uint8  \n",
      " 42  JobRole_Human Resources            1379 non-null   uint8  \n",
      " 43  JobRole_Laboratory Technician      1379 non-null   uint8  \n",
      " 44  JobRole_Manager                    1379 non-null   uint8  \n",
      " 45  JobRole_Manufacturing Director     1379 non-null   uint8  \n",
      " 46  JobRole_Research Director          1379 non-null   uint8  \n",
      " 47  JobRole_Research Scientist         1379 non-null   uint8  \n",
      " 48  JobRole_Sales Executive            1379 non-null   uint8  \n",
      " 49  JobRole_Sales Representative       1379 non-null   uint8  \n",
      "dtypes: float64(23), int32(4), int64(2), uint8(21)\n",
      "memory usage: 329.9 KB\n"
     ]
    }
   ],
   "source": [
    "df.info()"
   ]
  },
  {
   "cell_type": "markdown",
   "metadata": {},
   "source": [
    "#### Resetting Index"
   ]
  },
  {
   "cell_type": "code",
   "execution_count": 24,
   "metadata": {},
   "outputs": [
    {
     "data": {
      "text/html": [
       "<div>\n",
       "<style scoped>\n",
       "    .dataframe tbody tr th:only-of-type {\n",
       "        vertical-align: middle;\n",
       "    }\n",
       "\n",
       "    .dataframe tbody tr th {\n",
       "        vertical-align: top;\n",
       "    }\n",
       "\n",
       "    .dataframe thead th {\n",
       "        text-align: right;\n",
       "    }\n",
       "</style>\n",
       "<table border=\"1\" class=\"dataframe\">\n",
       "  <thead>\n",
       "    <tr style=\"text-align: right;\">\n",
       "      <th></th>\n",
       "      <th>Age</th>\n",
       "      <th>Attrition</th>\n",
       "      <th>DailyRate</th>\n",
       "      <th>DistanceFromHome</th>\n",
       "      <th>Education</th>\n",
       "      <th>EmployeeCount</th>\n",
       "      <th>EnvironmentSatisfaction</th>\n",
       "      <th>Gender</th>\n",
       "      <th>HourlyRate</th>\n",
       "      <th>JobInvolvement</th>\n",
       "      <th>...</th>\n",
       "      <th>EduField_Technical Degree</th>\n",
       "      <th>JobRole_Healthcare Representative</th>\n",
       "      <th>JobRole_Human Resources</th>\n",
       "      <th>JobRole_Laboratory Technician</th>\n",
       "      <th>JobRole_Manager</th>\n",
       "      <th>JobRole_Manufacturing Director</th>\n",
       "      <th>JobRole_Research Director</th>\n",
       "      <th>JobRole_Research Scientist</th>\n",
       "      <th>JobRole_Sales Executive</th>\n",
       "      <th>JobRole_Sales Representative</th>\n",
       "    </tr>\n",
       "  </thead>\n",
       "  <tbody>\n",
       "    <tr>\n",
       "      <th>0</th>\n",
       "      <td>41</td>\n",
       "      <td>1</td>\n",
       "      <td>1102.0</td>\n",
       "      <td>1.0</td>\n",
       "      <td>2.0</td>\n",
       "      <td>1.0</td>\n",
       "      <td>2.0</td>\n",
       "      <td>1</td>\n",
       "      <td>94.0</td>\n",
       "      <td>3.0</td>\n",
       "      <td>...</td>\n",
       "      <td>0</td>\n",
       "      <td>0</td>\n",
       "      <td>0</td>\n",
       "      <td>0</td>\n",
       "      <td>0</td>\n",
       "      <td>0</td>\n",
       "      <td>0</td>\n",
       "      <td>0</td>\n",
       "      <td>1</td>\n",
       "      <td>0</td>\n",
       "    </tr>\n",
       "    <tr>\n",
       "      <th>1</th>\n",
       "      <td>49</td>\n",
       "      <td>0</td>\n",
       "      <td>279.0</td>\n",
       "      <td>8.0</td>\n",
       "      <td>1.0</td>\n",
       "      <td>1.0</td>\n",
       "      <td>3.0</td>\n",
       "      <td>0</td>\n",
       "      <td>61.0</td>\n",
       "      <td>2.0</td>\n",
       "      <td>...</td>\n",
       "      <td>0</td>\n",
       "      <td>0</td>\n",
       "      <td>0</td>\n",
       "      <td>0</td>\n",
       "      <td>0</td>\n",
       "      <td>0</td>\n",
       "      <td>0</td>\n",
       "      <td>1</td>\n",
       "      <td>0</td>\n",
       "      <td>0</td>\n",
       "    </tr>\n",
       "    <tr>\n",
       "      <th>2</th>\n",
       "      <td>37</td>\n",
       "      <td>1</td>\n",
       "      <td>1373.0</td>\n",
       "      <td>2.0</td>\n",
       "      <td>2.0</td>\n",
       "      <td>1.0</td>\n",
       "      <td>4.0</td>\n",
       "      <td>0</td>\n",
       "      <td>92.0</td>\n",
       "      <td>2.0</td>\n",
       "      <td>...</td>\n",
       "      <td>0</td>\n",
       "      <td>0</td>\n",
       "      <td>0</td>\n",
       "      <td>1</td>\n",
       "      <td>0</td>\n",
       "      <td>0</td>\n",
       "      <td>0</td>\n",
       "      <td>0</td>\n",
       "      <td>0</td>\n",
       "      <td>0</td>\n",
       "    </tr>\n",
       "    <tr>\n",
       "      <th>3</th>\n",
       "      <td>27</td>\n",
       "      <td>0</td>\n",
       "      <td>591.0</td>\n",
       "      <td>2.0</td>\n",
       "      <td>1.0</td>\n",
       "      <td>1.0</td>\n",
       "      <td>1.0</td>\n",
       "      <td>0</td>\n",
       "      <td>40.0</td>\n",
       "      <td>3.0</td>\n",
       "      <td>...</td>\n",
       "      <td>0</td>\n",
       "      <td>0</td>\n",
       "      <td>0</td>\n",
       "      <td>1</td>\n",
       "      <td>0</td>\n",
       "      <td>0</td>\n",
       "      <td>0</td>\n",
       "      <td>0</td>\n",
       "      <td>0</td>\n",
       "      <td>0</td>\n",
       "    </tr>\n",
       "    <tr>\n",
       "      <th>4</th>\n",
       "      <td>32</td>\n",
       "      <td>0</td>\n",
       "      <td>1005.0</td>\n",
       "      <td>2.0</td>\n",
       "      <td>2.0</td>\n",
       "      <td>1.0</td>\n",
       "      <td>4.0</td>\n",
       "      <td>0</td>\n",
       "      <td>79.0</td>\n",
       "      <td>3.0</td>\n",
       "      <td>...</td>\n",
       "      <td>0</td>\n",
       "      <td>0</td>\n",
       "      <td>0</td>\n",
       "      <td>1</td>\n",
       "      <td>0</td>\n",
       "      <td>0</td>\n",
       "      <td>0</td>\n",
       "      <td>0</td>\n",
       "      <td>0</td>\n",
       "      <td>0</td>\n",
       "    </tr>\n",
       "    <tr>\n",
       "      <th>5</th>\n",
       "      <td>59</td>\n",
       "      <td>0</td>\n",
       "      <td>1324.0</td>\n",
       "      <td>3.0</td>\n",
       "      <td>3.0</td>\n",
       "      <td>1.0</td>\n",
       "      <td>3.0</td>\n",
       "      <td>1</td>\n",
       "      <td>81.0</td>\n",
       "      <td>4.0</td>\n",
       "      <td>...</td>\n",
       "      <td>0</td>\n",
       "      <td>0</td>\n",
       "      <td>0</td>\n",
       "      <td>1</td>\n",
       "      <td>0</td>\n",
       "      <td>0</td>\n",
       "      <td>0</td>\n",
       "      <td>0</td>\n",
       "      <td>0</td>\n",
       "      <td>0</td>\n",
       "    </tr>\n",
       "    <tr>\n",
       "      <th>6</th>\n",
       "      <td>30</td>\n",
       "      <td>0</td>\n",
       "      <td>1358.0</td>\n",
       "      <td>24.0</td>\n",
       "      <td>1.0</td>\n",
       "      <td>1.0</td>\n",
       "      <td>4.0</td>\n",
       "      <td>0</td>\n",
       "      <td>67.0</td>\n",
       "      <td>3.0</td>\n",
       "      <td>...</td>\n",
       "      <td>0</td>\n",
       "      <td>0</td>\n",
       "      <td>0</td>\n",
       "      <td>1</td>\n",
       "      <td>0</td>\n",
       "      <td>0</td>\n",
       "      <td>0</td>\n",
       "      <td>0</td>\n",
       "      <td>0</td>\n",
       "      <td>0</td>\n",
       "    </tr>\n",
       "    <tr>\n",
       "      <th>7</th>\n",
       "      <td>38</td>\n",
       "      <td>0</td>\n",
       "      <td>216.0</td>\n",
       "      <td>23.0</td>\n",
       "      <td>3.0</td>\n",
       "      <td>1.0</td>\n",
       "      <td>4.0</td>\n",
       "      <td>0</td>\n",
       "      <td>44.0</td>\n",
       "      <td>2.0</td>\n",
       "      <td>...</td>\n",
       "      <td>0</td>\n",
       "      <td>0</td>\n",
       "      <td>0</td>\n",
       "      <td>0</td>\n",
       "      <td>0</td>\n",
       "      <td>1</td>\n",
       "      <td>0</td>\n",
       "      <td>0</td>\n",
       "      <td>0</td>\n",
       "      <td>0</td>\n",
       "    </tr>\n",
       "    <tr>\n",
       "      <th>8</th>\n",
       "      <td>36</td>\n",
       "      <td>0</td>\n",
       "      <td>1299.0</td>\n",
       "      <td>27.0</td>\n",
       "      <td>3.0</td>\n",
       "      <td>1.0</td>\n",
       "      <td>3.0</td>\n",
       "      <td>0</td>\n",
       "      <td>94.0</td>\n",
       "      <td>3.0</td>\n",
       "      <td>...</td>\n",
       "      <td>0</td>\n",
       "      <td>1</td>\n",
       "      <td>0</td>\n",
       "      <td>0</td>\n",
       "      <td>0</td>\n",
       "      <td>0</td>\n",
       "      <td>0</td>\n",
       "      <td>0</td>\n",
       "      <td>0</td>\n",
       "      <td>0</td>\n",
       "    </tr>\n",
       "    <tr>\n",
       "      <th>9</th>\n",
       "      <td>35</td>\n",
       "      <td>0</td>\n",
       "      <td>809.0</td>\n",
       "      <td>16.0</td>\n",
       "      <td>3.0</td>\n",
       "      <td>1.0</td>\n",
       "      <td>1.0</td>\n",
       "      <td>0</td>\n",
       "      <td>84.0</td>\n",
       "      <td>4.0</td>\n",
       "      <td>...</td>\n",
       "      <td>0</td>\n",
       "      <td>0</td>\n",
       "      <td>0</td>\n",
       "      <td>1</td>\n",
       "      <td>0</td>\n",
       "      <td>0</td>\n",
       "      <td>0</td>\n",
       "      <td>0</td>\n",
       "      <td>0</td>\n",
       "      <td>0</td>\n",
       "    </tr>\n",
       "  </tbody>\n",
       "</table>\n",
       "<p>10 rows × 50 columns</p>\n",
       "</div>"
      ],
      "text/plain": [
       "   Age  Attrition  DailyRate  DistanceFromHome  Education  EmployeeCount  \\\n",
       "0   41          1     1102.0               1.0        2.0            1.0   \n",
       "1   49          0      279.0               8.0        1.0            1.0   \n",
       "2   37          1     1373.0               2.0        2.0            1.0   \n",
       "3   27          0      591.0               2.0        1.0            1.0   \n",
       "4   32          0     1005.0               2.0        2.0            1.0   \n",
       "5   59          0     1324.0               3.0        3.0            1.0   \n",
       "6   30          0     1358.0              24.0        1.0            1.0   \n",
       "7   38          0      216.0              23.0        3.0            1.0   \n",
       "8   36          0     1299.0              27.0        3.0            1.0   \n",
       "9   35          0      809.0              16.0        3.0            1.0   \n",
       "\n",
       "   EnvironmentSatisfaction  Gender  HourlyRate  JobInvolvement  ...  \\\n",
       "0                      2.0       1        94.0             3.0  ...   \n",
       "1                      3.0       0        61.0             2.0  ...   \n",
       "2                      4.0       0        92.0             2.0  ...   \n",
       "3                      1.0       0        40.0             3.0  ...   \n",
       "4                      4.0       0        79.0             3.0  ...   \n",
       "5                      3.0       1        81.0             4.0  ...   \n",
       "6                      4.0       0        67.0             3.0  ...   \n",
       "7                      4.0       0        44.0             2.0  ...   \n",
       "8                      3.0       0        94.0             3.0  ...   \n",
       "9                      1.0       0        84.0             4.0  ...   \n",
       "\n",
       "   EduField_Technical Degree  JobRole_Healthcare Representative  \\\n",
       "0                          0                                  0   \n",
       "1                          0                                  0   \n",
       "2                          0                                  0   \n",
       "3                          0                                  0   \n",
       "4                          0                                  0   \n",
       "5                          0                                  0   \n",
       "6                          0                                  0   \n",
       "7                          0                                  0   \n",
       "8                          0                                  1   \n",
       "9                          0                                  0   \n",
       "\n",
       "   JobRole_Human Resources  JobRole_Laboratory Technician  JobRole_Manager  \\\n",
       "0                        0                              0                0   \n",
       "1                        0                              0                0   \n",
       "2                        0                              1                0   \n",
       "3                        0                              1                0   \n",
       "4                        0                              1                0   \n",
       "5                        0                              1                0   \n",
       "6                        0                              1                0   \n",
       "7                        0                              0                0   \n",
       "8                        0                              0                0   \n",
       "9                        0                              1                0   \n",
       "\n",
       "   JobRole_Manufacturing Director  JobRole_Research Director  \\\n",
       "0                               0                          0   \n",
       "1                               0                          0   \n",
       "2                               0                          0   \n",
       "3                               0                          0   \n",
       "4                               0                          0   \n",
       "5                               0                          0   \n",
       "6                               0                          0   \n",
       "7                               1                          0   \n",
       "8                               0                          0   \n",
       "9                               0                          0   \n",
       "\n",
       "   JobRole_Research Scientist  JobRole_Sales Executive  \\\n",
       "0                           0                        1   \n",
       "1                           1                        0   \n",
       "2                           0                        0   \n",
       "3                           0                        0   \n",
       "4                           0                        0   \n",
       "5                           0                        0   \n",
       "6                           0                        0   \n",
       "7                           0                        0   \n",
       "8                           0                        0   \n",
       "9                           0                        0   \n",
       "\n",
       "   JobRole_Sales Representative  \n",
       "0                             0  \n",
       "1                             0  \n",
       "2                             0  \n",
       "3                             0  \n",
       "4                             0  \n",
       "5                             0  \n",
       "6                             0  \n",
       "7                             0  \n",
       "8                             0  \n",
       "9                             0  \n",
       "\n",
       "[10 rows x 50 columns]"
      ]
     },
     "execution_count": 24,
     "metadata": {},
     "output_type": "execute_result"
    }
   ],
   "source": [
    "df = df.reset_index(drop = True)\n",
    "df.head(10)"
   ]
  },
  {
   "cell_type": "markdown",
   "metadata": {},
   "source": [
    "#### Preparing Variables for Classification"
   ]
  },
  {
   "cell_type": "code",
   "execution_count": 25,
   "metadata": {},
   "outputs": [],
   "source": [
    "# y = target column 'Attrition', X = dataset without 'Attrition'\n",
    "X = df.drop(['Attrition'], axis = 1)\n",
    "y = df['Attrition']"
   ]
  },
  {
   "cell_type": "markdown",
   "metadata": {},
   "source": [
    "**train_test_split and scale data for Classification**"
   ]
  },
  {
   "cell_type": "markdown",
   "metadata": {},
   "source": [
    "Will be normalizing the data due to the varied measurements the dataset contains. Using the MinMaxScaler will rescale the data between 0 and 1."
   ]
  },
  {
   "cell_type": "code",
   "execution_count": 26,
   "metadata": {},
   "outputs": [
    {
     "name": "stdout",
     "output_type": "stream",
     "text": [
      "Size of training set: 965 \n",
      "Size of testing set: 414\n"
     ]
    }
   ],
   "source": [
    "from sklearn.model_selection import GridSearchCV\n",
    "from sklearn.preprocessing import MinMaxScaler\n",
    "from sklearn.model_selection import train_test_split\n",
    "\n",
    "X_train, X_test, y_train, y_test = train_test_split(X, y, random_state = 0, test_size = 0.3)\n",
    "\n",
    "print('Size of training set:', X_train.shape[0], '\\nSize of testing set:', X_test.shape[0])\n",
    "\n",
    "scaler = MinMaxScaler()\n",
    "X_train = scaler.fit_transform(X_train)\n",
    "X_test = scaler.transform(X_test)"
   ]
  },
  {
   "cell_type": "markdown",
   "metadata": {},
   "source": [
    "#### Import Classifier Models and Metrics"
   ]
  },
  {
   "cell_type": "code",
   "execution_count": 27,
   "metadata": {},
   "outputs": [],
   "source": [
    "# Models\n",
    "from sklearn.neighbors import KNeighborsClassifier\n",
    "from sklearn.linear_model import LogisticRegression\n",
    "from sklearn.svm import LinearSVC\n",
    "from sklearn.svm import SVC\n",
    "from sklearn.tree import DecisionTreeClassifier\n",
    "from sklearn import tree\n",
    "from sklearn.model_selection import GridSearchCV\n",
    "\n",
    "# For Analysis of Models\n",
    "from sklearn.metrics import (confusion_matrix, classification_report, precision_recall_curve, \n",
    "                             accuracy_score, precision_recall_fscore_support as score)"
   ]
  },
  {
   "cell_type": "markdown",
   "metadata": {},
   "source": [
    "## <font color=blue> GridSearch Model Estimators </font>"
   ]
  },
  {
   "cell_type": "markdown",
   "metadata": {},
   "source": [
    "This is to determine the best esimators for all the models used in Project 1. We will be using the best estimators in the PCA, Voting, Bagging & Pasting and AdaBoost models. We will also be referencing the results achieved in Project 1 (which used these estimators) when analyzing the overall results."
   ]
  },
  {
   "cell_type": "markdown",
   "metadata": {},
   "source": [
    "**GridSearch for best kNN estimators**"
   ]
  },
  {
   "cell_type": "code",
   "execution_count": 28,
   "metadata": {},
   "outputs": [
    {
     "name": "stdout",
     "output_type": "stream",
     "text": [
      "KNeighborsClassifier(n_neighbors=7)\n"
     ]
    }
   ],
   "source": [
    "t = list(range(1,21))\n",
    "\n",
    "gridKNN = GridSearchCV(KNeighborsClassifier(), \n",
    "                      param_grid = {'n_neighbors': t}, return_train_score = True)\n",
    "gridKNN.fit(X_train, y_train)\n",
    "print(gridKNN.best_estimator_)"
   ]
  },
  {
   "cell_type": "markdown",
   "metadata": {},
   "source": [
    "**GridSearch for best Logistic Regression estimators**"
   ]
  },
  {
   "cell_type": "code",
   "execution_count": 29,
   "metadata": {},
   "outputs": [
    {
     "name": "stdout",
     "output_type": "stream",
     "text": [
      "LogisticRegression(C=1, max_iter=10000, random_state=0, solver='liblinear')\n"
     ]
    }
   ],
   "source": [
    "gridLR = GridSearchCV(LogisticRegression(max_iter = 10000, random_state = 0, solver='liblinear'), \n",
    "                       param_grid = {'C': [0.01, 0.1, 1, 10, 100], \n",
    "                                    'penalty':['l1', 'l2']}, return_train_score = True)\n",
    "gridLR.fit(X_train, y_train)\n",
    "print(gridLR.best_estimator_)"
   ]
  },
  {
   "cell_type": "markdown",
   "metadata": {},
   "source": [
    "**GridSearch for best Linear SVC estimators**"
   ]
  },
  {
   "cell_type": "code",
   "execution_count": 30,
   "metadata": {},
   "outputs": [
    {
     "name": "stdout",
     "output_type": "stream",
     "text": [
      "LinearSVC(C=0.1, dual=False, max_iter=15000, random_state=0)\n"
     ]
    }
   ],
   "source": [
    "gridLSVC = GridSearchCV(LinearSVC(max_iter = 15000, dual = False, random_state = 0),\n",
    "                    param_grid = {'C': [0.001, 0.01, 0.1, 1, 10, 100], 'penalty':['l1', 'l2']}, \n",
    "                    return_train_score = True)\n",
    "gridLSVC.fit(X_train, y_train)\n",
    "print(gridLSVC.best_estimator_)"
   ]
  },
  {
   "cell_type": "markdown",
   "metadata": {},
   "source": [
    "**GridSearch for best SVC Linear kernel estimators**"
   ]
  },
  {
   "cell_type": "code",
   "execution_count": 31,
   "metadata": {},
   "outputs": [
    {
     "name": "stdout",
     "output_type": "stream",
     "text": [
      "SVC(C=1, kernel='linear', probability=True, random_state=0)\n"
     ]
    }
   ],
   "source": [
    "gridLinearSVC = GridSearchCV(SVC(kernel = 'linear', random_state = 0, probability = True),\n",
    "                            param_grid = {'C': [0.001, 0.01, 0.1, 1, 10, 100]}, return_train_score = True)\n",
    "gridLinearSVC.fit(X_train, y_train)\n",
    "print(gridLinearSVC.best_estimator_)"
   ]
  },
  {
   "cell_type": "markdown",
   "metadata": {},
   "source": [
    "**GridSearch for best SVC RBF kernel estimators**"
   ]
  },
  {
   "cell_type": "code",
   "execution_count": 32,
   "metadata": {},
   "outputs": [
    {
     "name": "stdout",
     "output_type": "stream",
     "text": [
      "SVC(C=100, gamma=0.01)\n"
     ]
    }
   ],
   "source": [
    "gridRBFSVC = GridSearchCV(SVC(kernel = 'rbf'),\n",
    "                          param_grid = {'C': [0.01, 0.1, 1, 10, 100], 'gamma':[0.0001, 0.001, 0.01, 0.1]}, \n",
    "                          return_train_score = True)\n",
    "gridRBFSVC.fit(X_train, y_train)\n",
    "print(gridRBFSVC.best_estimator_)"
   ]
  },
  {
   "cell_type": "markdown",
   "metadata": {},
   "source": [
    "**GridSearch for best SVC Poly kernel estimators**"
   ]
  },
  {
   "cell_type": "code",
   "execution_count": 33,
   "metadata": {},
   "outputs": [
    {
     "name": "stdout",
     "output_type": "stream",
     "text": [
      "SVC(coef0=1, gamma=0.1, kernel='poly')\n"
     ]
    }
   ],
   "source": [
    "gridPolySVC = GridSearchCV(SVC(kernel = 'poly'),\n",
    "                            param_grid = {'degree': [1, 2, 3, 4, 5, 6, 7, 8, 9, 10], \n",
    "                                          'gamma':[0.0001, 0.001, 0.01, 0.1], 'coef0':[0,1]}, \n",
    "                            return_train_score = True)\n",
    "gridPolySVC.fit(X_train, y_train)\n",
    "print(gridPolySVC.best_estimator_)"
   ]
  },
  {
   "cell_type": "markdown",
   "metadata": {},
   "source": [
    "**GridSearch for best Decision Tree estimators**"
   ]
  },
  {
   "cell_type": "code",
   "execution_count": 34,
   "metadata": {},
   "outputs": [
    {
     "name": "stdout",
     "output_type": "stream",
     "text": [
      "DecisionTreeClassifier(criterion='entropy', max_depth=4, random_state=0)\n"
     ]
    }
   ],
   "source": [
    "gridDtree = GridSearchCV(DecisionTreeClassifier(random_state=0), \n",
    "                         param_grid = {'max_depth':[1,2,3,4,5,6,7], 'criterion':['gini', 'entropy'], \n",
    "                                       'splitter':['best','random']}, \n",
    "                         return_train_score = True)\n",
    "gridDtree.fit(X_train, y_train)\n",
    "print(gridDtree.best_estimator_)"
   ]
  },
  {
   "cell_type": "markdown",
   "metadata": {},
   "source": [
    "## <font color=blue> Voting Classifier (Hard Voting) </font>"
   ]
  },
  {
   "cell_type": "markdown",
   "metadata": {},
   "source": [
    "We will be using kNN Classifier, Logistic Regression and SVC with Linear kernel as estimators for the hard voting classifier. "
   ]
  },
  {
   "cell_type": "code",
   "execution_count": 35,
   "metadata": {},
   "outputs": [],
   "source": [
    "from sklearn.ensemble import VotingClassifier"
   ]
  },
  {
   "cell_type": "markdown",
   "metadata": {},
   "source": [
    "**Fit models**"
   ]
  },
  {
   "cell_type": "code",
   "execution_count": 36,
   "metadata": {},
   "outputs": [
    {
     "data": {
      "text/plain": [
       "SVC(C=1, kernel='linear', probability=True, random_state=0)"
      ]
     },
     "execution_count": 36,
     "metadata": {},
     "output_type": "execute_result"
    }
   ],
   "source": [
    "kNNClf = KNeighborsClassifier(n_neighbors=7)\n",
    "kNNClf.fit(X_train, y_train)\n",
    "logClf = LogisticRegression(C=1, max_iter=10000, random_state=0, solver='liblinear')\n",
    "logClf.fit(X_train, y_train)\n",
    "svcLinear = SVC(C=1, kernel='linear', probability=True, random_state=0)\n",
    "svcLinear.fit(X_train, y_train)"
   ]
  },
  {
   "cell_type": "markdown",
   "metadata": {},
   "source": [
    "**Fit hard voting classifier model**"
   ]
  },
  {
   "cell_type": "code",
   "execution_count": 37,
   "metadata": {},
   "outputs": [
    {
     "data": {
      "text/plain": [
       "VotingClassifier(estimators=[('kNN', KNeighborsClassifier(n_neighbors=7)),\n",
       "                             ('Log',\n",
       "                              LogisticRegression(C=1, max_iter=10000,\n",
       "                                                 random_state=0,\n",
       "                                                 solver='liblinear')),\n",
       "                             ('SVC',\n",
       "                              SVC(C=1, kernel='linear', probability=True,\n",
       "                                  random_state=0))])"
      ]
     },
     "execution_count": 37,
     "metadata": {},
     "output_type": "execute_result"
    }
   ],
   "source": [
    "votingHClf = VotingClassifier(estimators=[('kNN', kNNClf), ('Log', logClf), ('SVC', svcLinear)], voting='hard')\n",
    "votingHClf.fit(X_train, y_train)"
   ]
  },
  {
   "cell_type": "markdown",
   "metadata": {},
   "source": [
    "**Train scores for models** "
   ]
  },
  {
   "cell_type": "code",
   "execution_count": 38,
   "metadata": {},
   "outputs": [
    {
     "name": "stdout",
     "output_type": "stream",
     "text": [
      "KNeighborsClassifier 0.8694300518134715\n",
      "LogisticRegression 0.8891191709844559\n",
      "SVC 0.8932642487046633\n",
      "VotingClassifier 0.8911917098445595\n"
     ]
    }
   ],
   "source": [
    "for clf in (kNNClf, logClf, svcLinear, votingHClf):\n",
    "    clf.fit(X_train, y_train)\n",
    "    print(clf.__class__.__name__, clf.score(X_train, y_train))"
   ]
  },
  {
   "cell_type": "markdown",
   "metadata": {},
   "source": [
    "**Test scores for models**"
   ]
  },
  {
   "cell_type": "code",
   "execution_count": 39,
   "metadata": {},
   "outputs": [
    {
     "name": "stdout",
     "output_type": "stream",
     "text": [
      "KNeighborsClassifier 0.8454106280193237\n",
      "LogisticRegression 0.8768115942028986\n",
      "SVC 0.8695652173913043\n",
      "VotingClassifier 0.8743961352657005\n"
     ]
    }
   ],
   "source": [
    "for clf in (kNNClf, logClf, svcLinear, votingHClf):\n",
    "    clf.fit(X_train, y_train)\n",
    "    print(clf.__class__.__name__, clf.score(X_test, y_test))"
   ]
  },
  {
   "cell_type": "markdown",
   "metadata": {},
   "source": [
    "**Predict the results (train data)**"
   ]
  },
  {
   "cell_type": "code",
   "execution_count": 40,
   "metadata": {},
   "outputs": [],
   "source": [
    "y_pred = votingHClf.predict(X_train)"
   ]
  },
  {
   "cell_type": "markdown",
   "metadata": {},
   "source": [
    "**Classification Report (train data)** "
   ]
  },
  {
   "cell_type": "code",
   "execution_count": 41,
   "metadata": {},
   "outputs": [
    {
     "name": "stdout",
     "output_type": "stream",
     "text": [
      "              precision    recall  f1-score   support\n",
      "\n",
      "           0       0.89      0.99      0.94       808\n",
      "           1       0.85      0.40      0.55       157\n",
      "\n",
      "    accuracy                           0.89       965\n",
      "   macro avg       0.87      0.69      0.74       965\n",
      "weighted avg       0.89      0.89      0.87       965\n",
      "\n"
     ]
    }
   ],
   "source": [
    "print(classification_report(y_train, y_pred))"
   ]
  },
  {
   "cell_type": "code",
   "execution_count": 42,
   "metadata": {},
   "outputs": [],
   "source": [
    "precisionTrn, recallTrn, fscoreTrn, supportTrn = score(y_train, y_pred, average = 'macro')"
   ]
  },
  {
   "cell_type": "markdown",
   "metadata": {},
   "source": [
    "**Predict the results (test data)**"
   ]
  },
  {
   "cell_type": "code",
   "execution_count": 43,
   "metadata": {},
   "outputs": [],
   "source": [
    "y_pred = votingHClf.predict(X_test)"
   ]
  },
  {
   "cell_type": "markdown",
   "metadata": {},
   "source": [
    "**Classification Report (test data)** "
   ]
  },
  {
   "cell_type": "code",
   "execution_count": 44,
   "metadata": {},
   "outputs": [
    {
     "name": "stdout",
     "output_type": "stream",
     "text": [
      "              precision    recall  f1-score   support\n",
      "\n",
      "           0       0.88      0.98      0.93       350\n",
      "           1       0.75      0.28      0.41        64\n",
      "\n",
      "    accuracy                           0.87       414\n",
      "   macro avg       0.82      0.63      0.67       414\n",
      "weighted avg       0.86      0.87      0.85       414\n",
      "\n"
     ]
    }
   ],
   "source": [
    "print(classification_report(y_test, y_pred))"
   ]
  },
  {
   "cell_type": "code",
   "execution_count": 45,
   "metadata": {},
   "outputs": [],
   "source": [
    "precisionTest, recallTest, fscoreTest, supportTest = score(y_test, y_pred, average = 'macro')"
   ]
  },
  {
   "cell_type": "markdown",
   "metadata": {},
   "source": [
    "**Confusion Matrix (test data)**"
   ]
  },
  {
   "cell_type": "code",
   "execution_count": 46,
   "metadata": {},
   "outputs": [],
   "source": [
    "confm = confusion_matrix(y_test, y_pred)"
   ]
  },
  {
   "cell_type": "code",
   "execution_count": 47,
   "metadata": {
    "scrolled": false
   },
   "outputs": [
    {
     "data": {
      "image/png": "[encoded data removed]",
      "text/plain": [
       "<Figure size 288x288 with 1 Axes>"
      ]
     },
     "metadata": {
      "needs_background": "light"
     },
     "output_type": "display_data"
    }
   ],
   "source": [
    "fig, ax = plt.subplots(figsize=(4, 4))\n",
    "\n",
    "ax.imshow(confm)\n",
    "ax.xaxis.set(ticks=(0, 1), ticklabels=('Predicted 0s', 'Predicted 1s'))\n",
    "ax.yaxis.set(ticks=(0, 1), ticklabels=('Actual 0s', 'Actual 1s'))\n",
    "ax.set_ylim(1.5, -0.5)\n",
    "for i in range(2):\n",
    "    for j in range(2):\n",
    "        ax.text(j, i, confm[i, j], ha='center', va='center', color='red')\n",
    "plt.show()"
   ]
  },
  {
   "cell_type": "markdown",
   "metadata": {},
   "source": [
    "**Hold important data for evaluation**"
   ]
  },
  {
   "cell_type": "code",
   "execution_count": 48,
   "metadata": {},
   "outputs": [],
   "source": [
    "VotingHInfo = ['VotingHard', votingHClf.score(X_train, y_train), votingHClf.score(X_test, y_test), \n",
    "                  abs(votingHClf.score(X_train, y_train) - votingHClf.score(X_test, y_test)),\n",
    "                  precisionTrn, recallTrn, fscoreTrn, precisionTest, recallTest, fscoreTest]"
   ]
  },
  {
   "cell_type": "markdown",
   "metadata": {},
   "source": [
    "## <font color=blue> Voting Classifier (Soft Voting) </font>"
   ]
  },
  {
   "cell_type": "markdown",
   "metadata": {},
   "source": [
    "We will be using kNN Classifier, Logistic Regression and SVC with RBF kernel for the soft voting classifier (using the models fitted in the Hard Voting Classifier). "
   ]
  },
  {
   "cell_type": "code",
   "execution_count": 49,
   "metadata": {},
   "outputs": [
    {
     "data": {
      "text/plain": [
       "VotingClassifier(estimators=[('kNN', KNeighborsClassifier(n_neighbors=7)),\n",
       "                             ('Log',\n",
       "                              LogisticRegression(C=1, max_iter=10000,\n",
       "                                                 random_state=0,\n",
       "                                                 solver='liblinear')),\n",
       "                             ('SVC',\n",
       "                              SVC(C=1, kernel='linear', probability=True,\n",
       "                                  random_state=0))],\n",
       "                 voting='soft')"
      ]
     },
     "execution_count": 49,
     "metadata": {},
     "output_type": "execute_result"
    }
   ],
   "source": [
    "votingSClf = VotingClassifier(estimators=[('kNN', kNNClf), ('Log', logClf), ('SVC', svcLinear)], voting='soft')\n",
    "votingSClf.fit(X_train, y_train)"
   ]
  },
  {
   "cell_type": "markdown",
   "metadata": {},
   "source": [
    "**Train scores for models** "
   ]
  },
  {
   "cell_type": "code",
   "execution_count": 50,
   "metadata": {},
   "outputs": [
    {
     "name": "stdout",
     "output_type": "stream",
     "text": [
      "KNeighborsClassifier 0.8694300518134715\n",
      "LogisticRegression 0.8891191709844559\n",
      "SVC 0.8932642487046633\n",
      "VotingClassifier 0.8880829015544042\n"
     ]
    }
   ],
   "source": [
    "for clf in (kNNClf, logClf, svcLinear, votingSClf):\n",
    "    clf.fit(X_train, y_train)\n",
    "    print(clf.__class__.__name__, clf.score(X_train, y_train))"
   ]
  },
  {
   "cell_type": "markdown",
   "metadata": {},
   "source": [
    "**Test scores for models**"
   ]
  },
  {
   "cell_type": "code",
   "execution_count": 51,
   "metadata": {
    "scrolled": true
   },
   "outputs": [
    {
     "name": "stdout",
     "output_type": "stream",
     "text": [
      "KNeighborsClassifier 0.8454106280193237\n",
      "LogisticRegression 0.8768115942028986\n",
      "SVC 0.8695652173913043\n",
      "VotingClassifier 0.857487922705314\n"
     ]
    }
   ],
   "source": [
    "for clf in (kNNClf, logClf, svcLinear, votingSClf):\n",
    "    clf.fit(X_train, y_train)\n",
    "    print(clf.__class__.__name__, clf.score(X_test, y_test))"
   ]
  },
  {
   "cell_type": "markdown",
   "metadata": {},
   "source": [
    "**Predict the results (train data)**"
   ]
  },
  {
   "cell_type": "code",
   "execution_count": 52,
   "metadata": {},
   "outputs": [],
   "source": [
    "y_pred = votingSClf.predict(X_train)"
   ]
  },
  {
   "cell_type": "markdown",
   "metadata": {},
   "source": [
    "**Classification Report (train data)** "
   ]
  },
  {
   "cell_type": "code",
   "execution_count": 53,
   "metadata": {},
   "outputs": [
    {
     "name": "stdout",
     "output_type": "stream",
     "text": [
      "              precision    recall  f1-score   support\n",
      "\n",
      "           0       0.89      1.00      0.94       808\n",
      "           1       0.93      0.34      0.50       157\n",
      "\n",
      "    accuracy                           0.89       965\n",
      "   macro avg       0.91      0.67      0.72       965\n",
      "weighted avg       0.89      0.89      0.87       965\n",
      "\n"
     ]
    }
   ],
   "source": [
    "print(classification_report(y_train, y_pred))"
   ]
  },
  {
   "cell_type": "code",
   "execution_count": 54,
   "metadata": {},
   "outputs": [],
   "source": [
    "precisionTrn, recallTrn, fscoreTrn, supportTrn = score(y_train, y_pred, average = 'macro')"
   ]
  },
  {
   "cell_type": "markdown",
   "metadata": {},
   "source": [
    "**Predict the results (test data)**"
   ]
  },
  {
   "cell_type": "code",
   "execution_count": 55,
   "metadata": {},
   "outputs": [],
   "source": [
    "y_pred = votingSClf.predict(X_test)"
   ]
  },
  {
   "cell_type": "markdown",
   "metadata": {},
   "source": [
    "**Classification Report (test data)** "
   ]
  },
  {
   "cell_type": "code",
   "execution_count": 56,
   "metadata": {},
   "outputs": [
    {
     "name": "stdout",
     "output_type": "stream",
     "text": [
      "              precision    recall  f1-score   support\n",
      "\n",
      "           0       0.86      0.99      0.92       350\n",
      "           1       0.69      0.14      0.23        64\n",
      "\n",
      "    accuracy                           0.86       414\n",
      "   macro avg       0.78      0.56      0.58       414\n",
      "weighted avg       0.84      0.86      0.82       414\n",
      "\n"
     ]
    }
   ],
   "source": [
    "print(classification_report(y_test, y_pred))"
   ]
  },
  {
   "cell_type": "code",
   "execution_count": 57,
   "metadata": {},
   "outputs": [],
   "source": [
    "precisionTest, recallTest, fscoreTest, supportTest = score(y_test, y_pred, average = 'macro')"
   ]
  },
  {
   "cell_type": "markdown",
   "metadata": {},
   "source": [
    "**Confusion Matrix (test data)**"
   ]
  },
  {
   "cell_type": "code",
   "execution_count": 58,
   "metadata": {},
   "outputs": [],
   "source": [
    "confm = confusion_matrix(y_test, y_pred)"
   ]
  },
  {
   "cell_type": "code",
   "execution_count": 59,
   "metadata": {
    "scrolled": false
   },
   "outputs": [
    {
     "data": {
      "image/png": "[encoded data removed]",
      "text/plain": [
       "<Figure size 288x288 with 1 Axes>"
      ]
     },
     "metadata": {
      "needs_background": "light"
     },
     "output_type": "display_data"
    }
   ],
   "source": [
    "fig, ax = plt.subplots(figsize=(4, 4))\n",
    "\n",
    "ax.imshow(confm)\n",
    "ax.xaxis.set(ticks=(0, 1), ticklabels=('Predicted 0s', 'Predicted 1s'))\n",
    "ax.yaxis.set(ticks=(0, 1), ticklabels=('Actual 0s', 'Actual 1s'))\n",
    "ax.set_ylim(1.5, -0.5)\n",
    "for i in range(2):\n",
    "    for j in range(2):\n",
    "        ax.text(j, i, confm[i, j], ha='center', va='center', color='red')\n",
    "plt.show()"
   ]
  },
  {
   "cell_type": "markdown",
   "metadata": {},
   "source": [
    "**Hold important data for evaluation**"
   ]
  },
  {
   "cell_type": "code",
   "execution_count": 60,
   "metadata": {},
   "outputs": [],
   "source": [
    "VotingSInfo = ['VotingSoft', votingSClf.score(X_train, y_train), votingSClf.score(X_test, y_test), \n",
    "                  abs(votingSClf.score(X_train, y_train) - votingSClf.score(X_test, y_test)),\n",
    "                  precisionTrn, recallTrn, fscoreTrn, precisionTest, recallTest, fscoreTest]"
   ]
  },
  {
   "cell_type": "markdown",
   "metadata": {},
   "source": [
    "## <font color=blue> Bagging and Pasting </font>"
   ]
  },
  {
   "cell_type": "markdown",
   "metadata": {},
   "source": [
    "We'll be using Decision Tree and Logistic Regression for both the Bagging and Pasting models. This is done to see a clear difference between how both the Bagging and Pasting models differ in their results."
   ]
  },
  {
   "cell_type": "code",
   "execution_count": 61,
   "metadata": {},
   "outputs": [],
   "source": [
    "from sklearn.ensemble import BaggingClassifier"
   ]
  },
  {
   "cell_type": "markdown",
   "metadata": {},
   "source": [
    "### <font color=green> Bagging (Decision Tree) </font>"
   ]
  },
  {
   "cell_type": "code",
   "execution_count": 62,
   "metadata": {},
   "outputs": [
    {
     "data": {
      "text/plain": [
       "BaggingClassifier(base_estimator=DecisionTreeClassifier(criterion='entropy',\n",
       "                                                        max_depth=4,\n",
       "                                                        random_state=0),\n",
       "                  max_samples=100, n_estimators=500, oob_score=True,\n",
       "                  random_state=0)"
      ]
     },
     "execution_count": 62,
     "metadata": {},
     "output_type": "execute_result"
    }
   ],
   "source": [
    "dtClf = DecisionTreeClassifier(criterion='entropy', max_depth=4, random_state=0)\n",
    "bagDT = BaggingClassifier(dtClf, n_estimators=500, max_samples=100, bootstrap=True, \n",
    "                          random_state=0, oob_score = True)\n",
    "bagDT.fit(X_train, y_train)"
   ]
  },
  {
   "cell_type": "markdown",
   "metadata": {},
   "source": [
    "**Train scores for model** "
   ]
  },
  {
   "cell_type": "code",
   "execution_count": 63,
   "metadata": {},
   "outputs": [
    {
     "name": "stdout",
     "output_type": "stream",
     "text": [
      "0.861139896373057\n"
     ]
    }
   ],
   "source": [
    "print(bagDT.score(X_train, y_train))"
   ]
  },
  {
   "cell_type": "markdown",
   "metadata": {},
   "source": [
    "**Test scores for model**"
   ]
  },
  {
   "cell_type": "code",
   "execution_count": 64,
   "metadata": {
    "scrolled": false
   },
   "outputs": [
    {
     "name": "stdout",
     "output_type": "stream",
     "text": [
      "0.8502415458937198\n"
     ]
    }
   ],
   "source": [
    "print(bagDT.score(X_test, y_test))"
   ]
  },
  {
   "cell_type": "markdown",
   "metadata": {},
   "source": [
    "**Out-of-bag score**"
   ]
  },
  {
   "cell_type": "code",
   "execution_count": 65,
   "metadata": {
    "scrolled": true
   },
   "outputs": [
    {
     "name": "stdout",
     "output_type": "stream",
     "text": [
      "0.8487046632124352\n"
     ]
    }
   ],
   "source": [
    "print(bagDT.oob_score_)"
   ]
  },
  {
   "cell_type": "markdown",
   "metadata": {},
   "source": [
    "**Predict the results (train data)**"
   ]
  },
  {
   "cell_type": "code",
   "execution_count": 66,
   "metadata": {},
   "outputs": [],
   "source": [
    "y_pred = bagDT.predict(X_train)"
   ]
  },
  {
   "cell_type": "markdown",
   "metadata": {},
   "source": [
    "**Classification Report (train data)** "
   ]
  },
  {
   "cell_type": "code",
   "execution_count": 67,
   "metadata": {},
   "outputs": [
    {
     "name": "stdout",
     "output_type": "stream",
     "text": [
      "              precision    recall  f1-score   support\n",
      "\n",
      "           0       0.86      1.00      0.92       808\n",
      "           1       0.93      0.16      0.27       157\n",
      "\n",
      "    accuracy                           0.86       965\n",
      "   macro avg       0.89      0.58      0.60       965\n",
      "weighted avg       0.87      0.86      0.82       965\n",
      "\n"
     ]
    }
   ],
   "source": [
    "print(classification_report(y_train, y_pred))"
   ]
  },
  {
   "cell_type": "code",
   "execution_count": 68,
   "metadata": {},
   "outputs": [],
   "source": [
    "precisionTrn, recallTrn, fscoreTrn, supportTrn = score(y_train, y_pred, average = 'macro')"
   ]
  },
  {
   "cell_type": "markdown",
   "metadata": {},
   "source": [
    "**Predict the results (test data)**"
   ]
  },
  {
   "cell_type": "code",
   "execution_count": 69,
   "metadata": {},
   "outputs": [],
   "source": [
    "y_pred = bagDT.predict(X_test)"
   ]
  },
  {
   "cell_type": "markdown",
   "metadata": {},
   "source": [
    "**Classification Report (test data)** "
   ]
  },
  {
   "cell_type": "code",
   "execution_count": 70,
   "metadata": {},
   "outputs": [
    {
     "name": "stdout",
     "output_type": "stream",
     "text": [
      "              precision    recall  f1-score   support\n",
      "\n",
      "           0       0.85      0.99      0.92       350\n",
      "           1       0.62      0.08      0.14        64\n",
      "\n",
      "    accuracy                           0.85       414\n",
      "   macro avg       0.74      0.53      0.53       414\n",
      "weighted avg       0.82      0.85      0.80       414\n",
      "\n"
     ]
    }
   ],
   "source": [
    "print(classification_report(y_test, y_pred))"
   ]
  },
  {
   "cell_type": "code",
   "execution_count": 71,
   "metadata": {},
   "outputs": [],
   "source": [
    "precisionTest, recallTest, fscoreTest, supportTest = score(y_test, y_pred, average = 'macro')"
   ]
  },
  {
   "cell_type": "markdown",
   "metadata": {},
   "source": [
    "**Confusion Matrix (test data)**"
   ]
  },
  {
   "cell_type": "code",
   "execution_count": 72,
   "metadata": {},
   "outputs": [],
   "source": [
    "confm = confusion_matrix(y_test, y_pred)"
   ]
  },
  {
   "cell_type": "code",
   "execution_count": 73,
   "metadata": {
    "scrolled": false
   },
   "outputs": [
    {
     "data": {
      "image/png": "[encoded data removed]",
      "text/plain": [
       "<Figure size 288x288 with 1 Axes>"
      ]
     },
     "metadata": {
      "needs_background": "light"
     },
     "output_type": "display_data"
    }
   ],
   "source": [
    "fig, ax = plt.subplots(figsize=(4, 4))\n",
    "\n",
    "ax.imshow(confm)\n",
    "ax.xaxis.set(ticks=(0, 1), ticklabels=('Predicted 0s', 'Predicted 1s'))\n",
    "ax.yaxis.set(ticks=(0, 1), ticklabels=('Actual 0s', 'Actual 1s'))\n",
    "ax.set_ylim(1.5, -0.5)\n",
    "for i in range(2):\n",
    "    for j in range(2):\n",
    "        ax.text(j, i, confm[i, j], ha='center', va='center', color='red')\n",
    "plt.show()"
   ]
  },
  {
   "cell_type": "markdown",
   "metadata": {},
   "source": [
    "**Hold important data for evaluation**"
   ]
  },
  {
   "cell_type": "code",
   "execution_count": 74,
   "metadata": {},
   "outputs": [],
   "source": [
    "BaggingDTInfo = ['Bagging DT', bagDT.score(X_train, y_train), bagDT.score(X_test, y_test), \n",
    "                  abs(bagDT.score(X_train, y_train) - bagDT.score(X_test, y_test)),\n",
    "                  precisionTrn, recallTrn, fscoreTrn, precisionTest, recallTest, fscoreTest]"
   ]
  },
  {
   "cell_type": "markdown",
   "metadata": {},
   "source": [
    "### <font color=green> Bagging (Logistic Regression) </font>"
   ]
  },
  {
   "cell_type": "code",
   "execution_count": 75,
   "metadata": {},
   "outputs": [
    {
     "data": {
      "text/plain": [
       "BaggingClassifier(base_estimator=LogisticRegression(C=1, max_iter=10000,\n",
       "                                                    random_state=0,\n",
       "                                                    solver='liblinear'),\n",
       "                  max_samples=100, n_estimators=500, oob_score=True,\n",
       "                  random_state=0)"
      ]
     },
     "execution_count": 75,
     "metadata": {},
     "output_type": "execute_result"
    }
   ],
   "source": [
    "lrClf = LogisticRegression(C=1, max_iter=10000, random_state=0, solver='liblinear')\n",
    "bagLR = BaggingClassifier(lrClf, n_estimators=500, max_samples=100, bootstrap=True, \n",
    "                          random_state=0, oob_score = True)\n",
    "bagLR.fit(X_train, y_train)"
   ]
  },
  {
   "cell_type": "markdown",
   "metadata": {},
   "source": [
    "**Train scores for model** "
   ]
  },
  {
   "cell_type": "code",
   "execution_count": 76,
   "metadata": {},
   "outputs": [
    {
     "name": "stdout",
     "output_type": "stream",
     "text": [
      "0.8435233160621761\n"
     ]
    }
   ],
   "source": [
    "print(bagLR.score(X_train, y_train))"
   ]
  },
  {
   "cell_type": "markdown",
   "metadata": {},
   "source": [
    "**Test scores for model**"
   ]
  },
  {
   "cell_type": "code",
   "execution_count": 77,
   "metadata": {
    "scrolled": false
   },
   "outputs": [
    {
     "name": "stdout",
     "output_type": "stream",
     "text": [
      "0.8526570048309179\n"
     ]
    }
   ],
   "source": [
    "print(bagLR.score(X_test, y_test))"
   ]
  },
  {
   "cell_type": "markdown",
   "metadata": {},
   "source": [
    "**Out-of-bag score**"
   ]
  },
  {
   "cell_type": "code",
   "execution_count": 78,
   "metadata": {
    "scrolled": true
   },
   "outputs": [
    {
     "name": "stdout",
     "output_type": "stream",
     "text": [
      "0.8424870466321244\n"
     ]
    }
   ],
   "source": [
    "print(bagLR.oob_score_)"
   ]
  },
  {
   "cell_type": "markdown",
   "metadata": {},
   "source": [
    "**Predict the results (train data)**"
   ]
  },
  {
   "cell_type": "code",
   "execution_count": 79,
   "metadata": {},
   "outputs": [],
   "source": [
    "y_pred = bagLR.predict(X_train)"
   ]
  },
  {
   "cell_type": "markdown",
   "metadata": {},
   "source": [
    "**Classification Report (train data)** "
   ]
  },
  {
   "cell_type": "code",
   "execution_count": 80,
   "metadata": {},
   "outputs": [
    {
     "name": "stdout",
     "output_type": "stream",
     "text": [
      "              precision    recall  f1-score   support\n",
      "\n",
      "           0       0.84      1.00      0.91       808\n",
      "           1       0.88      0.04      0.08       157\n",
      "\n",
      "    accuracy                           0.84       965\n",
      "   macro avg       0.86      0.52      0.50       965\n",
      "weighted avg       0.85      0.84      0.78       965\n",
      "\n"
     ]
    }
   ],
   "source": [
    "print(classification_report(y_train, y_pred))"
   ]
  },
  {
   "cell_type": "code",
   "execution_count": 81,
   "metadata": {},
   "outputs": [],
   "source": [
    "precisionTrn, recallTrn, fscoreTrn, supportTrn = score(y_train, y_pred, average = 'macro')"
   ]
  },
  {
   "cell_type": "markdown",
   "metadata": {},
   "source": [
    "**Predict the results (test data)**"
   ]
  },
  {
   "cell_type": "code",
   "execution_count": 82,
   "metadata": {},
   "outputs": [],
   "source": [
    "y_pred = bagLR.predict(X_test)"
   ]
  },
  {
   "cell_type": "markdown",
   "metadata": {},
   "source": [
    "**Classification Report (test data)** "
   ]
  },
  {
   "cell_type": "code",
   "execution_count": 83,
   "metadata": {},
   "outputs": [
    {
     "name": "stdout",
     "output_type": "stream",
     "text": [
      "              precision    recall  f1-score   support\n",
      "\n",
      "           0       0.85      1.00      0.92       350\n",
      "           1       1.00      0.05      0.09        64\n",
      "\n",
      "    accuracy                           0.85       414\n",
      "   macro avg       0.93      0.52      0.50       414\n",
      "weighted avg       0.87      0.85      0.79       414\n",
      "\n"
     ]
    }
   ],
   "source": [
    "print(classification_report(y_test, y_pred))"
   ]
  },
  {
   "cell_type": "code",
   "execution_count": 84,
   "metadata": {},
   "outputs": [],
   "source": [
    "precisionTest, recallTest, fscoreTest, supportTest = score(y_test, y_pred, average = 'macro')"
   ]
  },
  {
   "cell_type": "markdown",
   "metadata": {},
   "source": [
    "**Confusion Matrix (test data)**"
   ]
  },
  {
   "cell_type": "code",
   "execution_count": 85,
   "metadata": {},
   "outputs": [],
   "source": [
    "confm = confusion_matrix(y_test, y_pred)"
   ]
  },
  {
   "cell_type": "code",
   "execution_count": 86,
   "metadata": {
    "scrolled": false
   },
   "outputs": [
    {
     "data": {
      "image/png": "[encoded data removed]",
      "text/plain": [
       "<Figure size 288x288 with 1 Axes>"
      ]
     },
     "metadata": {
      "needs_background": "light"
     },
     "output_type": "display_data"
    }
   ],
   "source": [
    "fig, ax = plt.subplots(figsize=(4, 4))\n",
    "\n",
    "ax.imshow(confm)\n",
    "ax.xaxis.set(ticks=(0, 1), ticklabels=('Predicted 0s', 'Predicted 1s'))\n",
    "ax.yaxis.set(ticks=(0, 1), ticklabels=('Actual 0s', 'Actual 1s'))\n",
    "ax.set_ylim(1.5, -0.5)\n",
    "for i in range(2):\n",
    "    for j in range(2):\n",
    "        ax.text(j, i, confm[i, j], ha='center', va='center', color='red')\n",
    "plt.show()"
   ]
  },
  {
   "cell_type": "markdown",
   "metadata": {},
   "source": [
    "**Hold important data for evaluation**"
   ]
  },
  {
   "cell_type": "code",
   "execution_count": 87,
   "metadata": {},
   "outputs": [],
   "source": [
    "BaggingLRInfo = ['Bagging LR', bagLR.score(X_train, y_train), bagLR.score(X_test, y_test), \n",
    "                  abs(bagLR.score(X_train, y_train) - bagLR.score(X_test, y_test)),\n",
    "                  precisionTrn, recallTrn, fscoreTrn, precisionTest, recallTest, fscoreTest]"
   ]
  },
  {
   "cell_type": "markdown",
   "metadata": {},
   "source": [
    "### <font color=green> Pasting (Decision Tree) </font>"
   ]
  },
  {
   "cell_type": "code",
   "execution_count": 88,
   "metadata": {},
   "outputs": [
    {
     "data": {
      "text/plain": [
       "BaggingClassifier(base_estimator=DecisionTreeClassifier(criterion='entropy',\n",
       "                                                        max_depth=4,\n",
       "                                                        random_state=0),\n",
       "                  bootstrap=False, max_samples=100, n_estimators=500,\n",
       "                  random_state=0)"
      ]
     },
     "execution_count": 88,
     "metadata": {},
     "output_type": "execute_result"
    }
   ],
   "source": [
    "dtClf = DecisionTreeClassifier(criterion='entropy', max_depth=4, random_state=0)\n",
    "pasteDT = BaggingClassifier(dtClf, n_estimators=500, max_samples=100, bootstrap=False, \n",
    "                          random_state=0)\n",
    "pasteDT.fit(X_train, y_train)"
   ]
  },
  {
   "cell_type": "markdown",
   "metadata": {},
   "source": [
    "**Train scores for model** "
   ]
  },
  {
   "cell_type": "code",
   "execution_count": 89,
   "metadata": {},
   "outputs": [
    {
     "name": "stdout",
     "output_type": "stream",
     "text": [
      "0.861139896373057\n"
     ]
    }
   ],
   "source": [
    "print(pasteDT.score(X_train, y_train))"
   ]
  },
  {
   "cell_type": "markdown",
   "metadata": {},
   "source": [
    "**Test scores for model**"
   ]
  },
  {
   "cell_type": "code",
   "execution_count": 90,
   "metadata": {
    "scrolled": false
   },
   "outputs": [
    {
     "name": "stdout",
     "output_type": "stream",
     "text": [
      "0.8478260869565217\n"
     ]
    }
   ],
   "source": [
    "print(pasteDT.score(X_test, y_test))"
   ]
  },
  {
   "cell_type": "markdown",
   "metadata": {},
   "source": [
    "**Predict the results (train data)**"
   ]
  },
  {
   "cell_type": "code",
   "execution_count": 91,
   "metadata": {},
   "outputs": [],
   "source": [
    "y_pred = pasteDT.predict(X_train)"
   ]
  },
  {
   "cell_type": "markdown",
   "metadata": {},
   "source": [
    "**Classification Report (train data)** "
   ]
  },
  {
   "cell_type": "code",
   "execution_count": 92,
   "metadata": {},
   "outputs": [
    {
     "name": "stdout",
     "output_type": "stream",
     "text": [
      "              precision    recall  f1-score   support\n",
      "\n",
      "           0       0.86      1.00      0.92       808\n",
      "           1       0.96      0.15      0.26       157\n",
      "\n",
      "    accuracy                           0.86       965\n",
      "   macro avg       0.91      0.58      0.59       965\n",
      "weighted avg       0.88      0.86      0.82       965\n",
      "\n"
     ]
    }
   ],
   "source": [
    "print(classification_report(y_train, y_pred))"
   ]
  },
  {
   "cell_type": "code",
   "execution_count": 93,
   "metadata": {},
   "outputs": [],
   "source": [
    "precisionTrn, recallTrn, fscoreTrn, supportTrn = score(y_train, y_pred, average = 'macro')"
   ]
  },
  {
   "cell_type": "markdown",
   "metadata": {},
   "source": [
    "**Predict the results (test data)**"
   ]
  },
  {
   "cell_type": "code",
   "execution_count": 94,
   "metadata": {},
   "outputs": [],
   "source": [
    "y_pred = pasteDT.predict(X_test)"
   ]
  },
  {
   "cell_type": "markdown",
   "metadata": {},
   "source": [
    "**Classification Report (test data)** "
   ]
  },
  {
   "cell_type": "code",
   "execution_count": 95,
   "metadata": {},
   "outputs": [
    {
     "name": "stdout",
     "output_type": "stream",
     "text": [
      "              precision    recall  f1-score   support\n",
      "\n",
      "           0       0.85      0.99      0.92       350\n",
      "           1       0.57      0.06      0.11        64\n",
      "\n",
      "    accuracy                           0.85       414\n",
      "   macro avg       0.71      0.53      0.51       414\n",
      "weighted avg       0.81      0.85      0.79       414\n",
      "\n"
     ]
    }
   ],
   "source": [
    "print(classification_report(y_test, y_pred))"
   ]
  },
  {
   "cell_type": "code",
   "execution_count": 96,
   "metadata": {},
   "outputs": [],
   "source": [
    "precisionTest, recallTest, fscoreTest, supportTest = score(y_test, y_pred, average = 'macro')"
   ]
  },
  {
   "cell_type": "markdown",
   "metadata": {},
   "source": [
    "**Confusion Matrix (test data)**"
   ]
  },
  {
   "cell_type": "code",
   "execution_count": 97,
   "metadata": {},
   "outputs": [],
   "source": [
    "confm = confusion_matrix(y_test, y_pred)"
   ]
  },
  {
   "cell_type": "code",
   "execution_count": 98,
   "metadata": {
    "scrolled": false
   },
   "outputs": [
    {
     "data": {
      "image/png": "[encoded data removed]",
      "text/plain": [
       "<Figure size 288x288 with 1 Axes>"
      ]
     },
     "metadata": {
      "needs_background": "light"
     },
     "output_type": "display_data"
    }
   ],
   "source": [
    "fig, ax = plt.subplots(figsize=(4, 4))\n",
    "\n",
    "ax.imshow(confm)\n",
    "ax.xaxis.set(ticks=(0, 1), ticklabels=('Predicted 0s', 'Predicted 1s'))\n",
    "ax.yaxis.set(ticks=(0, 1), ticklabels=('Actual 0s', 'Actual 1s'))\n",
    "ax.set_ylim(1.5, -0.5)\n",
    "for i in range(2):\n",
    "    for j in range(2):\n",
    "        ax.text(j, i, confm[i, j], ha='center', va='center', color='red')\n",
    "plt.show()"
   ]
  },
  {
   "cell_type": "markdown",
   "metadata": {},
   "source": [
    "**Hold important data for evaluation**"
   ]
  },
  {
   "cell_type": "code",
   "execution_count": 99,
   "metadata": {},
   "outputs": [],
   "source": [
    "PastingDTInfo = ['Pasting DT', pasteDT.score(X_train, y_train), pasteDT.score(X_test, y_test), \n",
    "                  abs(pasteDT.score(X_train, y_train) - pasteDT.score(X_test, y_test)),\n",
    "                  precisionTrn, recallTrn, fscoreTrn, precisionTest, recallTest, fscoreTest]"
   ]
  },
  {
   "cell_type": "markdown",
   "metadata": {},
   "source": [
    "### <font color=green> Pasting (Logistic Regression) </font>"
   ]
  },
  {
   "cell_type": "code",
   "execution_count": 100,
   "metadata": {},
   "outputs": [
    {
     "data": {
      "text/plain": [
       "BaggingClassifier(base_estimator=LogisticRegression(C=1, max_iter=10000,\n",
       "                                                    random_state=0,\n",
       "                                                    solver='liblinear'),\n",
       "                  bootstrap=False, max_samples=100, n_estimators=500,\n",
       "                  random_state=0)"
      ]
     },
     "execution_count": 100,
     "metadata": {},
     "output_type": "execute_result"
    }
   ],
   "source": [
    "lrClf = LogisticRegression(C=1, max_iter=10000, random_state=0, solver='liblinear')\n",
    "pasteLR = BaggingClassifier(lrClf, n_estimators=500, max_samples=100, bootstrap=False, \n",
    "                          random_state=0)\n",
    "pasteLR.fit(X_train, y_train)"
   ]
  },
  {
   "cell_type": "markdown",
   "metadata": {},
   "source": [
    "**Train scores for model** "
   ]
  },
  {
   "cell_type": "code",
   "execution_count": 101,
   "metadata": {},
   "outputs": [
    {
     "name": "stdout",
     "output_type": "stream",
     "text": [
      "0.8435233160621761\n"
     ]
    }
   ],
   "source": [
    "print(pasteLR.score(X_train, y_train))"
   ]
  },
  {
   "cell_type": "markdown",
   "metadata": {},
   "source": [
    "**Test scores for model**"
   ]
  },
  {
   "cell_type": "code",
   "execution_count": 102,
   "metadata": {
    "scrolled": false
   },
   "outputs": [
    {
     "name": "stdout",
     "output_type": "stream",
     "text": [
      "0.8526570048309179\n"
     ]
    }
   ],
   "source": [
    "print(pasteLR.score(X_test, y_test))"
   ]
  },
  {
   "cell_type": "markdown",
   "metadata": {},
   "source": [
    "**Predict the results (train data)**"
   ]
  },
  {
   "cell_type": "code",
   "execution_count": 103,
   "metadata": {},
   "outputs": [],
   "source": [
    "y_pred = pasteLR.predict(X_train)"
   ]
  },
  {
   "cell_type": "markdown",
   "metadata": {},
   "source": [
    "**Classification Report (train data)** "
   ]
  },
  {
   "cell_type": "code",
   "execution_count": 104,
   "metadata": {},
   "outputs": [
    {
     "name": "stdout",
     "output_type": "stream",
     "text": [
      "              precision    recall  f1-score   support\n",
      "\n",
      "           0       0.84      1.00      0.91       808\n",
      "           1       0.88      0.04      0.08       157\n",
      "\n",
      "    accuracy                           0.84       965\n",
      "   macro avg       0.86      0.52      0.50       965\n",
      "weighted avg       0.85      0.84      0.78       965\n",
      "\n"
     ]
    }
   ],
   "source": [
    "print(classification_report(y_train, y_pred))"
   ]
  },
  {
   "cell_type": "code",
   "execution_count": 105,
   "metadata": {},
   "outputs": [],
   "source": [
    "precisionTrn, recallTrn, fscoreTrn, supportTrn = score(y_train, y_pred, average = 'macro')"
   ]
  },
  {
   "cell_type": "markdown",
   "metadata": {},
   "source": [
    "**Predict the results (test data)**"
   ]
  },
  {
   "cell_type": "code",
   "execution_count": 106,
   "metadata": {},
   "outputs": [],
   "source": [
    "y_pred = pasteLR.predict(X_test)"
   ]
  },
  {
   "cell_type": "markdown",
   "metadata": {},
   "source": [
    "**Classification Report (test data)** "
   ]
  },
  {
   "cell_type": "code",
   "execution_count": 107,
   "metadata": {},
   "outputs": [
    {
     "name": "stdout",
     "output_type": "stream",
     "text": [
      "              precision    recall  f1-score   support\n",
      "\n",
      "           0       0.85      1.00      0.92       350\n",
      "           1       1.00      0.05      0.09        64\n",
      "\n",
      "    accuracy                           0.85       414\n",
      "   macro avg       0.93      0.52      0.50       414\n",
      "weighted avg       0.87      0.85      0.79       414\n",
      "\n"
     ]
    }
   ],
   "source": [
    "print(classification_report(y_test, y_pred))"
   ]
  },
  {
   "cell_type": "code",
   "execution_count": 108,
   "metadata": {},
   "outputs": [],
   "source": [
    "precisionTest, recallTest, fscoreTest, supportTest = score(y_test, y_pred, average = 'macro')"
   ]
  },
  {
   "cell_type": "markdown",
   "metadata": {},
   "source": [
    "**Confusion Matrix (test data)**"
   ]
  },
  {
   "cell_type": "code",
   "execution_count": 109,
   "metadata": {},
   "outputs": [],
   "source": [
    "confm = confusion_matrix(y_test, y_pred)"
   ]
  },
  {
   "cell_type": "code",
   "execution_count": 110,
   "metadata": {
    "scrolled": false
   },
   "outputs": [
    {
     "data": {
      "image/png": "[encoded data removed]",
      "text/plain": [
       "<Figure size 288x288 with 1 Axes>"
      ]
     },
     "metadata": {
      "needs_background": "light"
     },
     "output_type": "display_data"
    }
   ],
   "source": [
    "fig, ax = plt.subplots(figsize=(4, 4))\n",
    "\n",
    "ax.imshow(confm)\n",
    "ax.xaxis.set(ticks=(0, 1), ticklabels=('Predicted 0s', 'Predicted 1s'))\n",
    "ax.yaxis.set(ticks=(0, 1), ticklabels=('Actual 0s', 'Actual 1s'))\n",
    "ax.set_ylim(1.5, -0.5)\n",
    "for i in range(2):\n",
    "    for j in range(2):\n",
    "        ax.text(j, i, confm[i, j], ha='center', va='center', color='red')\n",
    "plt.show()"
   ]
  },
  {
   "cell_type": "markdown",
   "metadata": {},
   "source": [
    "**Hold important data for evaluation**"
   ]
  },
  {
   "cell_type": "code",
   "execution_count": 111,
   "metadata": {},
   "outputs": [],
   "source": [
    "PastingLRInfo = ['Pasting LR', pasteLR.score(X_train, y_train), pasteLR.score(X_test, y_test), \n",
    "                  abs(pasteLR.score(X_train, y_train) - pasteLR.score(X_test, y_test)),\n",
    "                  precisionTrn, recallTrn, fscoreTrn, precisionTest, recallTest, fscoreTest]"
   ]
  },
  {
   "cell_type": "markdown",
   "metadata": {},
   "source": [
    "## <font color=blue> AdaBoost </font>"
   ]
  },
  {
   "cell_type": "markdown",
   "metadata": {},
   "source": [
    "The AdaBoost algorithm will be done using both Decision Tree and Logistic Regression."
   ]
  },
  {
   "cell_type": "code",
   "execution_count": 112,
   "metadata": {},
   "outputs": [],
   "source": [
    "from sklearn.ensemble import AdaBoostClassifier"
   ]
  },
  {
   "cell_type": "markdown",
   "metadata": {},
   "source": [
    "### <font color=green> AdaBoost (Decision Tree) </font>"
   ]
  },
  {
   "cell_type": "code",
   "execution_count": 113,
   "metadata": {
    "scrolled": true
   },
   "outputs": [
    {
     "data": {
      "text/plain": [
       "AdaBoostClassifier(base_estimator=DecisionTreeClassifier(criterion='entropy',\n",
       "                                                         max_depth=4),\n",
       "                   learning_rate=1, n_estimators=300, random_state=0)"
      ]
     },
     "execution_count": 113,
     "metadata": {},
     "output_type": "execute_result"
    }
   ],
   "source": [
    "adaClfDT = AdaBoostClassifier(DecisionTreeClassifier(criterion='entropy', max_depth=4), \n",
    "                              n_estimators = 300, learning_rate = 1, random_state = 0)\n",
    "adaClfDT.fit(X_train, y_train)"
   ]
  },
  {
   "cell_type": "markdown",
   "metadata": {},
   "source": [
    "**Train scores for models** "
   ]
  },
  {
   "cell_type": "code",
   "execution_count": 114,
   "metadata": {},
   "outputs": [
    {
     "name": "stdout",
     "output_type": "stream",
     "text": [
      "1.0\n"
     ]
    }
   ],
   "source": [
    "print(adaClfDT.score(X_train, y_train))"
   ]
  },
  {
   "cell_type": "markdown",
   "metadata": {},
   "source": [
    "**Test scores for models**"
   ]
  },
  {
   "cell_type": "code",
   "execution_count": 115,
   "metadata": {},
   "outputs": [
    {
     "name": "stdout",
     "output_type": "stream",
     "text": [
      "0.8502415458937198\n"
     ]
    }
   ],
   "source": [
    "print(adaClfDT.score(X_test, y_test))"
   ]
  },
  {
   "cell_type": "markdown",
   "metadata": {},
   "source": [
    "**Predict the results (train data)**"
   ]
  },
  {
   "cell_type": "code",
   "execution_count": 116,
   "metadata": {},
   "outputs": [],
   "source": [
    "y_pred = adaClfDT.predict(X_train)"
   ]
  },
  {
   "cell_type": "markdown",
   "metadata": {},
   "source": [
    "**Classification Report (train data)** "
   ]
  },
  {
   "cell_type": "code",
   "execution_count": 117,
   "metadata": {},
   "outputs": [
    {
     "name": "stdout",
     "output_type": "stream",
     "text": [
      "              precision    recall  f1-score   support\n",
      "\n",
      "           0       1.00      1.00      1.00       808\n",
      "           1       1.00      1.00      1.00       157\n",
      "\n",
      "    accuracy                           1.00       965\n",
      "   macro avg       1.00      1.00      1.00       965\n",
      "weighted avg       1.00      1.00      1.00       965\n",
      "\n"
     ]
    }
   ],
   "source": [
    "print(classification_report(y_train, y_pred))"
   ]
  },
  {
   "cell_type": "code",
   "execution_count": 118,
   "metadata": {},
   "outputs": [],
   "source": [
    "precisionTrn, recallTrn, fscoreTrn, supportTrn = score(y_train, y_pred, average = 'macro')"
   ]
  },
  {
   "cell_type": "markdown",
   "metadata": {},
   "source": [
    "**Predict the results (test data)**"
   ]
  },
  {
   "cell_type": "code",
   "execution_count": 119,
   "metadata": {},
   "outputs": [],
   "source": [
    "y_pred = adaClfDT.predict(X_test)"
   ]
  },
  {
   "cell_type": "markdown",
   "metadata": {},
   "source": [
    "**Classification Report (test data)** "
   ]
  },
  {
   "cell_type": "code",
   "execution_count": 120,
   "metadata": {},
   "outputs": [
    {
     "name": "stdout",
     "output_type": "stream",
     "text": [
      "              precision    recall  f1-score   support\n",
      "\n",
      "           0       0.86      0.98      0.92       350\n",
      "           1       0.56      0.14      0.23        64\n",
      "\n",
      "    accuracy                           0.85       414\n",
      "   macro avg       0.71      0.56      0.57       414\n",
      "weighted avg       0.82      0.85      0.81       414\n",
      "\n"
     ]
    }
   ],
   "source": [
    "print(classification_report(y_test, y_pred))"
   ]
  },
  {
   "cell_type": "code",
   "execution_count": 121,
   "metadata": {},
   "outputs": [],
   "source": [
    "precisionTest, recallTest, fscoreTest, supportTest = score(y_test, y_pred, average = 'macro')"
   ]
  },
  {
   "cell_type": "markdown",
   "metadata": {},
   "source": [
    "**Confusion Matrix (test data)**"
   ]
  },
  {
   "cell_type": "code",
   "execution_count": 122,
   "metadata": {},
   "outputs": [],
   "source": [
    "confm = confusion_matrix(y_test, y_pred)"
   ]
  },
  {
   "cell_type": "code",
   "execution_count": 123,
   "metadata": {
    "scrolled": false
   },
   "outputs": [
    {
     "data": {
      "image/png": "[encoded data removed]",
      "text/plain": [
       "<Figure size 288x288 with 1 Axes>"
      ]
     },
     "metadata": {
      "needs_background": "light"
     },
     "output_type": "display_data"
    }
   ],
   "source": [
    "fig, ax = plt.subplots(figsize=(4, 4))\n",
    "\n",
    "ax.imshow(confm)\n",
    "ax.xaxis.set(ticks=(0, 1), ticklabels=('Predicted 0s', 'Predicted 1s'))\n",
    "ax.yaxis.set(ticks=(0, 1), ticklabels=('Actual 0s', 'Actual 1s'))\n",
    "ax.set_ylim(1.5, -0.5)\n",
    "for i in range(2):\n",
    "    for j in range(2):\n",
    "        ax.text(j, i, confm[i, j], ha='center', va='center', color='red')\n",
    "plt.show()"
   ]
  },
  {
   "cell_type": "markdown",
   "metadata": {},
   "source": [
    "#### Visualize Feature Importance"
   ]
  },
  {
   "cell_type": "code",
   "execution_count": 124,
   "metadata": {},
   "outputs": [],
   "source": [
    "features = sorted(X)\n",
    "n_features = X.shape[1]"
   ]
  },
  {
   "cell_type": "code",
   "execution_count": 125,
   "metadata": {
    "scrolled": true
   },
   "outputs": [
    {
     "name": "stderr",
     "output_type": "stream",
     "text": [
      "C:\\Users\\Andrew\\anaconda3\\lib\\site-packages\\sklearn\\tree\\_classes.py:590: RuntimeWarning: invalid value encountered in true_divide\n",
      "  return self.tree_.compute_feature_importances()\n"
     ]
    },
    {
     "data": {
      "image/png": "[encoded data removed]",
      "text/plain": [
       "<Figure size 720x1080 with 1 Axes>"
      ]
     },
     "metadata": {
      "needs_background": "light"
     },
     "output_type": "display_data"
    }
   ],
   "source": [
    "%matplotlib inline\n",
    "\n",
    "plt.subplots(figsize = (10,15))\n",
    "plt.barh(range(n_features), adaClfDT.feature_importances_, align='center')\n",
    "plt.yticks(range(len(adaClfDT.feature_importances_)), X.columns)\n",
    "plt.ylabel('Features')\n",
    "plt.xlabel('Feature Importance')\n",
    "plt.show()"
   ]
  },
  {
   "cell_type": "markdown",
   "metadata": {},
   "source": [
    "**Hold important data for evaluation**"
   ]
  },
  {
   "cell_type": "code",
   "execution_count": 126,
   "metadata": {},
   "outputs": [],
   "source": [
    "adaDTInfo = ['AdaBoostDT', adaClfDT.score(X_train, y_train), adaClfDT.score(X_test, y_test), \n",
    "             abs(adaClfDT.score(X_train, y_train) - adaClfDT.score(X_test, y_test)),\n",
    "             precisionTrn, recallTrn, fscoreTrn, precisionTest, recallTest, fscoreTest]"
   ]
  },
  {
   "cell_type": "markdown",
   "metadata": {},
   "source": [
    "**Plot precision and recall curve (test data)**"
   ]
  },
  {
   "cell_type": "code",
   "execution_count": 127,
   "metadata": {},
   "outputs": [
    {
     "data": {
      "text/plain": [
       "<matplotlib.legend.Legend at 0x2b354463970>"
      ]
     },
     "execution_count": 127,
     "metadata": {},
     "output_type": "execute_result"
    },
    {
     "data": {
      "image/png": "[encoded data removed]",
      "text/plain": [
       "<Figure size 576x576 with 1 Axes>"
      ]
     },
     "metadata": {
      "needs_background": "light"
     },
     "output_type": "display_data"
    }
   ],
   "source": [
    "%matplotlib inline\n",
    "\n",
    "precision, recall, thresholds = precision_recall_curve(y_test, adaClfDT.decision_function(X_test))\n",
    "\n",
    "close_zero = np.argmin(np.abs(thresholds))\n",
    "\n",
    "plt.subplots(figsize=(8, 8))\n",
    "plt.plot(precision[close_zero], recall[close_zero], 'o', markersize=15,\n",
    "         label=\"threshold zero\", fillstyle=\"none\", c='k')\n",
    "\n",
    "plt.plot(precision, recall, label=\"Precision Recall Curve\")\n",
    "plt.xlabel(\"Precision\")\n",
    "plt.ylabel(\"Recall\")\n",
    "plt.legend()"
   ]
  },
  {
   "cell_type": "markdown",
   "metadata": {},
   "source": [
    "### <font color=green> AdaBoost (Logistic Regression) </font>"
   ]
  },
  {
   "cell_type": "code",
   "execution_count": 128,
   "metadata": {
    "scrolled": true
   },
   "outputs": [
    {
     "data": {
      "text/plain": [
       "AdaBoostClassifier(base_estimator=LogisticRegression(C=1, max_iter=10000,\n",
       "                                                     solver='liblinear'),\n",
       "                   learning_rate=0.65, n_estimators=300, random_state=0)"
      ]
     },
     "execution_count": 128,
     "metadata": {},
     "output_type": "execute_result"
    }
   ],
   "source": [
    "adaClfLR = AdaBoostClassifier(LogisticRegression(C=1, max_iter=10000, solver='liblinear'), \n",
    "                              n_estimators = 300, learning_rate = .65, random_state = 0)\n",
    "adaClfLR.fit(X_train, y_train)"
   ]
  },
  {
   "cell_type": "markdown",
   "metadata": {},
   "source": [
    "**Train scores for models** "
   ]
  },
  {
   "cell_type": "code",
   "execution_count": 129,
   "metadata": {},
   "outputs": [
    {
     "name": "stdout",
     "output_type": "stream",
     "text": [
      "0.8818652849740932\n"
     ]
    }
   ],
   "source": [
    "print(adaClfLR.score(X_train, y_train))"
   ]
  },
  {
   "cell_type": "markdown",
   "metadata": {},
   "source": [
    "**Test scores for models**"
   ]
  },
  {
   "cell_type": "code",
   "execution_count": 130,
   "metadata": {},
   "outputs": [
    {
     "name": "stdout",
     "output_type": "stream",
     "text": [
      "0.8671497584541062\n"
     ]
    }
   ],
   "source": [
    "print(adaClfLR.score(X_test, y_test))"
   ]
  },
  {
   "cell_type": "markdown",
   "metadata": {},
   "source": [
    "**Predict the results (train data)**"
   ]
  },
  {
   "cell_type": "code",
   "execution_count": 131,
   "metadata": {},
   "outputs": [],
   "source": [
    "y_pred = adaClfLR.predict(X_train)"
   ]
  },
  {
   "cell_type": "markdown",
   "metadata": {},
   "source": [
    "**Classification Report (train data)** "
   ]
  },
  {
   "cell_type": "code",
   "execution_count": 132,
   "metadata": {},
   "outputs": [
    {
     "name": "stdout",
     "output_type": "stream",
     "text": [
      "              precision    recall  f1-score   support\n",
      "\n",
      "           0       0.89      0.98      0.93       808\n",
      "           1       0.77      0.39      0.52       157\n",
      "\n",
      "    accuracy                           0.88       965\n",
      "   macro avg       0.83      0.69      0.73       965\n",
      "weighted avg       0.87      0.88      0.87       965\n",
      "\n"
     ]
    }
   ],
   "source": [
    "print(classification_report(y_train, y_pred))"
   ]
  },
  {
   "cell_type": "code",
   "execution_count": 133,
   "metadata": {},
   "outputs": [],
   "source": [
    "precisionTrn, recallTrn, fscoreTrn, supportTrn = score(y_train, y_pred, average = 'macro')"
   ]
  },
  {
   "cell_type": "markdown",
   "metadata": {},
   "source": [
    "**Predict the results (test data)**"
   ]
  },
  {
   "cell_type": "code",
   "execution_count": 134,
   "metadata": {},
   "outputs": [],
   "source": [
    "y_pred = adaClfLR.predict(X_test)"
   ]
  },
  {
   "cell_type": "markdown",
   "metadata": {},
   "source": [
    "**Classification Report (test data)** "
   ]
  },
  {
   "cell_type": "code",
   "execution_count": 135,
   "metadata": {},
   "outputs": [
    {
     "name": "stdout",
     "output_type": "stream",
     "text": [
      "              precision    recall  f1-score   support\n",
      "\n",
      "           0       0.88      0.97      0.93       350\n",
      "           1       0.67      0.28      0.40        64\n",
      "\n",
      "    accuracy                           0.87       414\n",
      "   macro avg       0.77      0.63      0.66       414\n",
      "weighted avg       0.85      0.87      0.84       414\n",
      "\n"
     ]
    }
   ],
   "source": [
    "print(classification_report(y_test, y_pred))"
   ]
  },
  {
   "cell_type": "code",
   "execution_count": 136,
   "metadata": {},
   "outputs": [],
   "source": [
    "precisionTest, recallTest, fscoreTest, supportTest = score(y_test, y_pred, average = 'macro')"
   ]
  },
  {
   "cell_type": "markdown",
   "metadata": {},
   "source": [
    "**Confusion Matrix (test data)**"
   ]
  },
  {
   "cell_type": "code",
   "execution_count": 137,
   "metadata": {},
   "outputs": [],
   "source": [
    "confm = confusion_matrix(y_test, y_pred)"
   ]
  },
  {
   "cell_type": "code",
   "execution_count": 138,
   "metadata": {
    "scrolled": false
   },
   "outputs": [
    {
     "data": {
      "image/png": "[encoded data removed]",
      "text/plain": [
       "<Figure size 288x288 with 1 Axes>"
      ]
     },
     "metadata": {
      "needs_background": "light"
     },
     "output_type": "display_data"
    }
   ],
   "source": [
    "fig, ax = plt.subplots(figsize=(4, 4))\n",
    "\n",
    "ax.imshow(confm)\n",
    "ax.xaxis.set(ticks=(0, 1), ticklabels=('Predicted 0s', 'Predicted 1s'))\n",
    "ax.yaxis.set(ticks=(0, 1), ticklabels=('Actual 0s', 'Actual 1s'))\n",
    "ax.set_ylim(1.5, -0.5)\n",
    "for i in range(2):\n",
    "    for j in range(2):\n",
    "        ax.text(j, i, confm[i, j], ha='center', va='center', color='red')\n",
    "plt.show()"
   ]
  },
  {
   "cell_type": "markdown",
   "metadata": {},
   "source": [
    "**Hold important data for evaluation**"
   ]
  },
  {
   "cell_type": "code",
   "execution_count": 139,
   "metadata": {},
   "outputs": [],
   "source": [
    "adaLRInfo = ['AdaBoostLR', adaClfLR.score(X_train, y_train), adaClfLR.score(X_test, y_test), \n",
    "             abs(adaClfLR.score(X_train, y_train) - adaClfLR.score(X_test, y_test)),\n",
    "             precisionTrn, recallTrn, fscoreTrn, precisionTest, recallTest, fscoreTest]"
   ]
  },
  {
   "cell_type": "markdown",
   "metadata": {},
   "source": [
    "**Plot precision and recall curve (test data)**"
   ]
  },
  {
   "cell_type": "code",
   "execution_count": 140,
   "metadata": {},
   "outputs": [
    {
     "data": {
      "text/plain": [
       "<matplotlib.legend.Legend at 0x2b35589d250>"
      ]
     },
     "execution_count": 140,
     "metadata": {},
     "output_type": "execute_result"
    },
    {
     "data": {
      "image/png": "[encoded data removed]",
      "text/plain": [
       "<Figure size 576x576 with 1 Axes>"
      ]
     },
     "metadata": {
      "needs_background": "light"
     },
     "output_type": "display_data"
    }
   ],
   "source": [
    "%matplotlib inline\n",
    "\n",
    "precision, recall, thresholds = precision_recall_curve(y_test, adaClfLR.decision_function(X_test))\n",
    "\n",
    "close_zero = np.argmin(np.abs(thresholds))\n",
    "\n",
    "plt.subplots(figsize=(8, 8))\n",
    "plt.plot(precision[close_zero], recall[close_zero], 'o', markersize=15,\n",
    "         label=\"threshold zero\", fillstyle=\"none\", c='k')\n",
    "\n",
    "plt.plot(precision, recall, label=\"Precision Recall Curve\")\n",
    "plt.xlabel(\"Precision\")\n",
    "plt.ylabel(\"Recall\")\n",
    "plt.legend()"
   ]
  },
  {
   "cell_type": "markdown",
   "metadata": {},
   "source": [
    "## <font color=blue> Gradient Boosting </font>"
   ]
  },
  {
   "cell_type": "code",
   "execution_count": 141,
   "metadata": {},
   "outputs": [],
   "source": [
    "from sklearn.ensemble import GradientBoostingClassifier"
   ]
  },
  {
   "cell_type": "code",
   "execution_count": 142,
   "metadata": {},
   "outputs": [],
   "source": [
    "params = {'loss': ['deviance', 'exponential'],\n",
    "          'learning_rate': [0.1, 0.2, 0.5, 1],\n",
    "          'n_estimators': [100, 200, 300],\n",
    "          'max_depth': [1, 3, 5, 8]}"
   ]
  },
  {
   "cell_type": "code",
   "execution_count": 143,
   "metadata": {
    "scrolled": true
   },
   "outputs": [
    {
     "data": {
      "text/plain": [
       "GridSearchCV(estimator=GradientBoostingClassifier(random_state=0),\n",
       "             param_grid={'learning_rate': [0.1, 0.2, 0.5, 1],\n",
       "                         'loss': ['deviance', 'exponential'],\n",
       "                         'max_depth': [1, 3, 5, 8],\n",
       "                         'n_estimators': [100, 200, 300]})"
      ]
     },
     "execution_count": 143,
     "metadata": {},
     "output_type": "execute_result"
    }
   ],
   "source": [
    "gbClf = GridSearchCV(GradientBoostingClassifier(random_state = 0), params)\n",
    "gbClf.fit(X_train, y_train)"
   ]
  },
  {
   "cell_type": "code",
   "execution_count": 144,
   "metadata": {},
   "outputs": [
    {
     "name": "stdout",
     "output_type": "stream",
     "text": [
      "GradientBoostingClassifier(learning_rate=0.2, max_depth=1, n_estimators=300,\n",
      "                           random_state=0)\n"
     ]
    }
   ],
   "source": [
    "print(gbClf.best_estimator_)"
   ]
  },
  {
   "cell_type": "code",
   "execution_count": 145,
   "metadata": {},
   "outputs": [
    {
     "data": {
      "text/plain": [
       "GradientBoostingClassifier(learning_rate=0.2, max_depth=1, n_estimators=300,\n",
       "                           random_state=0)"
      ]
     },
     "execution_count": 145,
     "metadata": {},
     "output_type": "execute_result"
    }
   ],
   "source": [
    "gbClf = GradientBoostingClassifier(learning_rate=0.2, max_depth=1, n_estimators=300,\n",
    "                           random_state=0)\n",
    "gbClf.fit(X_train, y_train)"
   ]
  },
  {
   "cell_type": "markdown",
   "metadata": {},
   "source": [
    "**Train score** "
   ]
  },
  {
   "cell_type": "code",
   "execution_count": 146,
   "metadata": {},
   "outputs": [
    {
     "name": "stdout",
     "output_type": "stream",
     "text": [
      "0.9233160621761658\n"
     ]
    }
   ],
   "source": [
    "print(gbClf.score(X_train, y_train))"
   ]
  },
  {
   "cell_type": "markdown",
   "metadata": {},
   "source": [
    "**Test score**"
   ]
  },
  {
   "cell_type": "code",
   "execution_count": 147,
   "metadata": {},
   "outputs": [
    {
     "name": "stdout",
     "output_type": "stream",
     "text": [
      "0.8671497584541062\n"
     ]
    }
   ],
   "source": [
    "print(gbClf.score(X_test, y_test))"
   ]
  },
  {
   "cell_type": "markdown",
   "metadata": {},
   "source": [
    "**Predict the results (train data)**"
   ]
  },
  {
   "cell_type": "code",
   "execution_count": 148,
   "metadata": {},
   "outputs": [],
   "source": [
    "y_pred = gbClf.predict(X_train)"
   ]
  },
  {
   "cell_type": "markdown",
   "metadata": {},
   "source": [
    "**Classification Report (train data)** "
   ]
  },
  {
   "cell_type": "code",
   "execution_count": 149,
   "metadata": {},
   "outputs": [
    {
     "name": "stdout",
     "output_type": "stream",
     "text": [
      "              precision    recall  f1-score   support\n",
      "\n",
      "           0       0.92      1.00      0.96       808\n",
      "           1       0.96      0.55      0.70       157\n",
      "\n",
      "    accuracy                           0.92       965\n",
      "   macro avg       0.94      0.77      0.83       965\n",
      "weighted avg       0.93      0.92      0.91       965\n",
      "\n"
     ]
    }
   ],
   "source": [
    "print(classification_report(y_train, y_pred))"
   ]
  },
  {
   "cell_type": "code",
   "execution_count": 150,
   "metadata": {},
   "outputs": [],
   "source": [
    "precisionTrn, recallTrn, fscoreTrn, supportTrn = score(y_train, y_pred, average = 'macro')"
   ]
  },
  {
   "cell_type": "markdown",
   "metadata": {},
   "source": [
    "**Predict the results (test data)**"
   ]
  },
  {
   "cell_type": "code",
   "execution_count": 151,
   "metadata": {},
   "outputs": [],
   "source": [
    "y_pred = gbClf.predict(X_test)"
   ]
  },
  {
   "cell_type": "markdown",
   "metadata": {},
   "source": [
    "**Classification Report (test data)** "
   ]
  },
  {
   "cell_type": "code",
   "execution_count": 152,
   "metadata": {},
   "outputs": [
    {
     "name": "stdout",
     "output_type": "stream",
     "text": [
      "              precision    recall  f1-score   support\n",
      "\n",
      "           0       0.88      0.97      0.93       350\n",
      "           1       0.67      0.28      0.40        64\n",
      "\n",
      "    accuracy                           0.87       414\n",
      "   macro avg       0.77      0.63      0.66       414\n",
      "weighted avg       0.85      0.87      0.84       414\n",
      "\n"
     ]
    }
   ],
   "source": [
    "print(classification_report(y_test, y_pred))"
   ]
  },
  {
   "cell_type": "code",
   "execution_count": 153,
   "metadata": {},
   "outputs": [],
   "source": [
    "precisionTest, recallTest, fscoreTest, supportTest = score(y_test, y_pred, average = 'macro')"
   ]
  },
  {
   "cell_type": "markdown",
   "metadata": {},
   "source": [
    "**Confusion Matrix (test data)**"
   ]
  },
  {
   "cell_type": "code",
   "execution_count": 154,
   "metadata": {},
   "outputs": [],
   "source": [
    "confm = confusion_matrix(y_test, y_pred)"
   ]
  },
  {
   "cell_type": "code",
   "execution_count": 155,
   "metadata": {
    "scrolled": false
   },
   "outputs": [
    {
     "data": {
      "image/png": "[encoded data removed]",
      "text/plain": [
       "<Figure size 288x288 with 1 Axes>"
      ]
     },
     "metadata": {
      "needs_background": "light"
     },
     "output_type": "display_data"
    }
   ],
   "source": [
    "fig, ax = plt.subplots(figsize=(4, 4))\n",
    "\n",
    "ax.imshow(confm)\n",
    "ax.xaxis.set(ticks=(0, 1), ticklabels=('Predicted 0s', 'Predicted 1s'))\n",
    "ax.yaxis.set(ticks=(0, 1), ticklabels=('Actual 0s', 'Actual 1s'))\n",
    "ax.set_ylim(1.5, -0.5)\n",
    "for i in range(2):\n",
    "    for j in range(2):\n",
    "        ax.text(j, i, confm[i, j], ha='center', va='center', color='red')\n",
    "plt.show()"
   ]
  },
  {
   "cell_type": "markdown",
   "metadata": {},
   "source": [
    "#### Visualize Feature Importance"
   ]
  },
  {
   "cell_type": "code",
   "execution_count": 156,
   "metadata": {},
   "outputs": [],
   "source": [
    "features = sorted(X)\n",
    "n_features = X.shape[1]"
   ]
  },
  {
   "cell_type": "code",
   "execution_count": 157,
   "metadata": {
    "scrolled": true
   },
   "outputs": [
    {
     "data": {
      "image/png": "[encoded data removed]",
      "text/plain": [
       "<Figure size 720x1080 with 1 Axes>"
      ]
     },
     "metadata": {
      "needs_background": "light"
     },
     "output_type": "display_data"
    }
   ],
   "source": [
    "%matplotlib inline\n",
    "\n",
    "plt.subplots(figsize = (10,15))\n",
    "plt.barh(range(n_features), gbClf.feature_importances_, align='center')\n",
    "plt.yticks(range(len(gbClf.feature_importances_)), X.columns)\n",
    "plt.ylabel('Features')\n",
    "plt.xlabel('Feature Importance')\n",
    "plt.show()"
   ]
  },
  {
   "cell_type": "markdown",
   "metadata": {},
   "source": [
    "**Hold important data for evaluation**"
   ]
  },
  {
   "cell_type": "code",
   "execution_count": 158,
   "metadata": {},
   "outputs": [],
   "source": [
    "gbInfo = ['GradientBoost', gbClf.score(X_train, y_train), gbClf.score(X_test, y_test), \n",
    "             abs(gbClf.score(X_train, y_train) - gbClf.score(X_test, y_test)),\n",
    "             precisionTrn, recallTrn, fscoreTrn, precisionTest, recallTest, fscoreTest]"
   ]
  },
  {
   "cell_type": "markdown",
   "metadata": {},
   "source": [
    "**Plot precision and recall curve (test data)**"
   ]
  },
  {
   "cell_type": "code",
   "execution_count": 159,
   "metadata": {},
   "outputs": [
    {
     "data": {
      "text/plain": [
       "<matplotlib.legend.Legend at 0x2b355a1e430>"
      ]
     },
     "execution_count": 159,
     "metadata": {},
     "output_type": "execute_result"
    },
    {
     "data": {
      "image/png": "[encoded data removed]",
      "text/plain": [
       "<Figure size 576x576 with 1 Axes>"
      ]
     },
     "metadata": {
      "needs_background": "light"
     },
     "output_type": "display_data"
    }
   ],
   "source": [
    "%matplotlib inline\n",
    "\n",
    "precision, recall, thresholds = precision_recall_curve(y_test, gbClf.decision_function(X_test))\n",
    "\n",
    "close_zero = np.argmin(np.abs(thresholds))\n",
    "\n",
    "plt.subplots(figsize=(8, 8))\n",
    "plt.plot(precision[close_zero], recall[close_zero], 'o', markersize=15,\n",
    "         label=\"threshold zero\", fillstyle=\"none\", c='k')\n",
    "\n",
    "plt.plot(precision, recall, label=\"Precision Recall Curve\")\n",
    "plt.xlabel(\"Precision\")\n",
    "plt.ylabel(\"Recall\")\n",
    "plt.legend()"
   ]
  },
  {
   "cell_type": "markdown",
   "metadata": {},
   "source": [
    "## <font color=blue> PCA </font>"
   ]
  },
  {
   "cell_type": "markdown",
   "metadata": {},
   "source": [
    "These PCA techniques are done using the models utilized in Project 1 (KNN, Logistic Regression, Linear SVC, Kernelized SVC (Linear, RBF, Poly), and Decision Tree). The PCA results will be compared to the results achieved in Project 1 in the 'Evaluation' section of this notebook."
   ]
  },
  {
   "cell_type": "code",
   "execution_count": 160,
   "metadata": {},
   "outputs": [],
   "source": [
    "from sklearn.decomposition import PCA"
   ]
  },
  {
   "cell_type": "code",
   "execution_count": 163,
   "metadata": {},
   "outputs": [],
   "source": [
    "pca = PCA(n_components = 0.95)\n",
    "Xtrn_reduced = pca.fit_transform(X_train)\n",
    "Xtst_reduced = pca.transform(X_test)"
   ]
  },
  {
   "cell_type": "code",
   "execution_count": 164,
   "metadata": {},
   "outputs": [
    {
     "data": {
      "text/plain": [
       "30"
      ]
     },
     "execution_count": 164,
     "metadata": {},
     "output_type": "execute_result"
    }
   ],
   "source": [
    "pca.n_components_"
   ]
  },
  {
   "cell_type": "markdown",
   "metadata": {},
   "source": [
    "### <font color=green> kNN Classification </font>"
   ]
  },
  {
   "cell_type": "code",
   "execution_count": 165,
   "metadata": {},
   "outputs": [
    {
     "data": {
      "text/plain": [
       "KNeighborsClassifier(n_neighbors=7)"
      ]
     },
     "execution_count": 165,
     "metadata": {},
     "output_type": "execute_result"
    }
   ],
   "source": [
    "kNN = KNeighborsClassifier(n_neighbors=7)\n",
    "kNN.fit(Xtrn_reduced, y_train)"
   ]
  },
  {
   "cell_type": "markdown",
   "metadata": {},
   "source": [
    "**Train score** "
   ]
  },
  {
   "cell_type": "code",
   "execution_count": 166,
   "metadata": {},
   "outputs": [
    {
     "name": "stdout",
     "output_type": "stream",
     "text": [
      "0.8704663212435233\n"
     ]
    }
   ],
   "source": [
    "print(kNN.score(Xtrn_reduced, y_train))"
   ]
  },
  {
   "cell_type": "markdown",
   "metadata": {},
   "source": [
    "**Test score**"
   ]
  },
  {
   "cell_type": "code",
   "execution_count": 167,
   "metadata": {},
   "outputs": [
    {
     "name": "stdout",
     "output_type": "stream",
     "text": [
      "0.8526570048309179\n"
     ]
    }
   ],
   "source": [
    "print(kNN.score(Xtst_reduced, y_test))"
   ]
  },
  {
   "cell_type": "markdown",
   "metadata": {},
   "source": [
    "**Predict the results (train data)**"
   ]
  },
  {
   "cell_type": "code",
   "execution_count": 168,
   "metadata": {},
   "outputs": [],
   "source": [
    "y_pred = kNN.predict(Xtrn_reduced)"
   ]
  },
  {
   "cell_type": "markdown",
   "metadata": {},
   "source": [
    "**Classification Report (train data)** "
   ]
  },
  {
   "cell_type": "code",
   "execution_count": 169,
   "metadata": {},
   "outputs": [
    {
     "name": "stdout",
     "output_type": "stream",
     "text": [
      "              precision    recall  f1-score   support\n",
      "\n",
      "           0       0.87      1.00      0.93       808\n",
      "           1       0.90      0.23      0.37       157\n",
      "\n",
      "    accuracy                           0.87       965\n",
      "   macro avg       0.88      0.61      0.65       965\n",
      "weighted avg       0.87      0.87      0.84       965\n",
      "\n"
     ]
    }
   ],
   "source": [
    "print(classification_report(y_train, y_pred))"
   ]
  },
  {
   "cell_type": "code",
   "execution_count": 170,
   "metadata": {},
   "outputs": [],
   "source": [
    "precisionTrn, recallTrn, fscoreTrn, supportTrn = score(y_train, y_pred, average = 'macro')"
   ]
  },
  {
   "cell_type": "markdown",
   "metadata": {},
   "source": [
    "**Predict the results (test data)**"
   ]
  },
  {
   "cell_type": "code",
   "execution_count": 171,
   "metadata": {},
   "outputs": [],
   "source": [
    "y_pred = kNN.predict(Xtst_reduced)"
   ]
  },
  {
   "cell_type": "markdown",
   "metadata": {},
   "source": [
    "**Classification Report (test data)** "
   ]
  },
  {
   "cell_type": "code",
   "execution_count": 172,
   "metadata": {},
   "outputs": [
    {
     "name": "stdout",
     "output_type": "stream",
     "text": [
      "              precision    recall  f1-score   support\n",
      "\n",
      "           0       0.86      0.99      0.92       350\n",
      "           1       0.64      0.11      0.19        64\n",
      "\n",
      "    accuracy                           0.85       414\n",
      "   macro avg       0.75      0.55      0.55       414\n",
      "weighted avg       0.82      0.85      0.81       414\n",
      "\n"
     ]
    }
   ],
   "source": [
    "print(classification_report(y_test, y_pred))"
   ]
  },
  {
   "cell_type": "code",
   "execution_count": 173,
   "metadata": {},
   "outputs": [],
   "source": [
    "precisionTest, recallTest, fscoreTest, supportTest = score(y_test, y_pred, average = 'macro')"
   ]
  },
  {
   "cell_type": "markdown",
   "metadata": {},
   "source": [
    "**Confusion Matrix (test data)**"
   ]
  },
  {
   "cell_type": "code",
   "execution_count": 174,
   "metadata": {},
   "outputs": [],
   "source": [
    "confm = confusion_matrix(y_test, y_pred)"
   ]
  },
  {
   "cell_type": "code",
   "execution_count": 175,
   "metadata": {
    "scrolled": true
   },
   "outputs": [
    {
     "data": {
      "image/png": "[encoded data removed]",
      "text/plain": [
       "<Figure size 288x288 with 1 Axes>"
      ]
     },
     "metadata": {
      "needs_background": "light"
     },
     "output_type": "display_data"
    }
   ],
   "source": [
    "fig, ax = plt.subplots(figsize=(4, 4))\n",
    "\n",
    "ax.imshow(confm)\n",
    "ax.xaxis.set(ticks=(0, 1), ticklabels=('Predicted 0s', 'Predicted 1s'))\n",
    "ax.yaxis.set(ticks=(0, 1), ticklabels=('Actual 0s', 'Actual 1s'))\n",
    "ax.set_ylim(1.5, -0.5)\n",
    "for i in range(2):\n",
    "    for j in range(2):\n",
    "        ax.text(j, i, confm[i, j], ha='center', va='center', color='red')\n",
    "plt.show()"
   ]
  },
  {
   "cell_type": "markdown",
   "metadata": {},
   "source": [
    "**Hold important data for evaluation**"
   ]
  },
  {
   "cell_type": "code",
   "execution_count": 176,
   "metadata": {},
   "outputs": [],
   "source": [
    "pcaKNNInfo = ['PCA kNN', kNN.score(Xtrn_reduced, y_train), kNN.score(Xtst_reduced, y_test), \n",
    "             abs(kNN.score(Xtrn_reduced, y_train) - kNN.score(Xtst_reduced, y_test)),\n",
    "             precisionTrn, recallTrn, fscoreTrn, precisionTest, recallTest, fscoreTest]"
   ]
  },
  {
   "cell_type": "markdown",
   "metadata": {},
   "source": [
    "### <font color=green> Logistic Regression </font>"
   ]
  },
  {
   "cell_type": "code",
   "execution_count": 177,
   "metadata": {},
   "outputs": [
    {
     "data": {
      "text/plain": [
       "LogisticRegression(C=1, max_iter=10000, random_state=0, solver='liblinear')"
      ]
     },
     "execution_count": 177,
     "metadata": {},
     "output_type": "execute_result"
    }
   ],
   "source": [
    "log = LogisticRegression(C=1, max_iter=10000, random_state=0, solver='liblinear')\n",
    "log.fit(Xtrn_reduced, y_train)"
   ]
  },
  {
   "cell_type": "markdown",
   "metadata": {},
   "source": [
    "**Train score** "
   ]
  },
  {
   "cell_type": "code",
   "execution_count": 178,
   "metadata": {},
   "outputs": [
    {
     "name": "stdout",
     "output_type": "stream",
     "text": [
      "0.8818652849740932\n"
     ]
    }
   ],
   "source": [
    "print(log.score(Xtrn_reduced, y_train))"
   ]
  },
  {
   "cell_type": "markdown",
   "metadata": {},
   "source": [
    "**Test score**"
   ]
  },
  {
   "cell_type": "code",
   "execution_count": 179,
   "metadata": {},
   "outputs": [
    {
     "name": "stdout",
     "output_type": "stream",
     "text": [
      "0.8719806763285024\n"
     ]
    }
   ],
   "source": [
    "print(log.score(Xtst_reduced, y_test))"
   ]
  },
  {
   "cell_type": "markdown",
   "metadata": {},
   "source": [
    "**Predict the results (train data)**"
   ]
  },
  {
   "cell_type": "code",
   "execution_count": 180,
   "metadata": {},
   "outputs": [],
   "source": [
    "y_pred = log.predict(Xtrn_reduced)"
   ]
  },
  {
   "cell_type": "markdown",
   "metadata": {},
   "source": [
    "**Classification Report (train data)** "
   ]
  },
  {
   "cell_type": "code",
   "execution_count": 181,
   "metadata": {},
   "outputs": [
    {
     "name": "stdout",
     "output_type": "stream",
     "text": [
      "              precision    recall  f1-score   support\n",
      "\n",
      "           0       0.89      0.98      0.93       808\n",
      "           1       0.79      0.38      0.51       157\n",
      "\n",
      "    accuracy                           0.88       965\n",
      "   macro avg       0.84      0.68      0.72       965\n",
      "weighted avg       0.87      0.88      0.86       965\n",
      "\n"
     ]
    }
   ],
   "source": [
    "print(classification_report(y_train, y_pred))"
   ]
  },
  {
   "cell_type": "code",
   "execution_count": 182,
   "metadata": {},
   "outputs": [],
   "source": [
    "precisionTrn, recallTrn, fscoreTrn, supportTrn = score(y_train, y_pred, average = 'macro')"
   ]
  },
  {
   "cell_type": "markdown",
   "metadata": {},
   "source": [
    "**Predict the results (test data)**"
   ]
  },
  {
   "cell_type": "code",
   "execution_count": 183,
   "metadata": {},
   "outputs": [],
   "source": [
    "y_pred = log.predict(Xtst_reduced)"
   ]
  },
  {
   "cell_type": "markdown",
   "metadata": {},
   "source": [
    "**Classification Report (test data)** "
   ]
  },
  {
   "cell_type": "code",
   "execution_count": 184,
   "metadata": {},
   "outputs": [
    {
     "name": "stdout",
     "output_type": "stream",
     "text": [
      "              precision    recall  f1-score   support\n",
      "\n",
      "           0       0.88      0.98      0.93       350\n",
      "           1       0.70      0.30      0.42        64\n",
      "\n",
      "    accuracy                           0.87       414\n",
      "   macro avg       0.79      0.64      0.67       414\n",
      "weighted avg       0.86      0.87      0.85       414\n",
      "\n"
     ]
    }
   ],
   "source": [
    "print(classification_report(y_test, y_pred))"
   ]
  },
  {
   "cell_type": "code",
   "execution_count": 185,
   "metadata": {},
   "outputs": [],
   "source": [
    "precisionTest, recallTest, fscoreTest, supportTest = score(y_test, y_pred, average = 'macro')"
   ]
  },
  {
   "cell_type": "markdown",
   "metadata": {},
   "source": [
    "**Confusion Matrix (test data)**"
   ]
  },
  {
   "cell_type": "code",
   "execution_count": 186,
   "metadata": {},
   "outputs": [],
   "source": [
    "confm = confusion_matrix(y_test, y_pred)"
   ]
  },
  {
   "cell_type": "code",
   "execution_count": 187,
   "metadata": {
    "scrolled": true
   },
   "outputs": [
    {
     "data": {
      "image/png": "[encoded data removed]",
      "text/plain": [
       "<Figure size 288x288 with 1 Axes>"
      ]
     },
     "metadata": {
      "needs_background": "light"
     },
     "output_type": "display_data"
    }
   ],
   "source": [
    "fig, ax = plt.subplots(figsize=(4, 4))\n",
    "\n",
    "ax.imshow(confm)\n",
    "ax.xaxis.set(ticks=(0, 1), ticklabels=('Predicted 0s', 'Predicted 1s'))\n",
    "ax.yaxis.set(ticks=(0, 1), ticklabels=('Actual 0s', 'Actual 1s'))\n",
    "ax.set_ylim(1.5, -0.5)\n",
    "for i in range(2):\n",
    "    for j in range(2):\n",
    "        ax.text(j, i, confm[i, j], ha='center', va='center', color='red')\n",
    "plt.show()"
   ]
  },
  {
   "cell_type": "markdown",
   "metadata": {},
   "source": [
    "**Hold important data for evaluation**"
   ]
  },
  {
   "cell_type": "code",
   "execution_count": 188,
   "metadata": {},
   "outputs": [],
   "source": [
    "pcaLRInfo = ['PCA LR', log.score(Xtrn_reduced, y_train), log.score(Xtst_reduced, y_test), \n",
    "             abs(log.score(Xtrn_reduced, y_train) - log.score(Xtst_reduced, y_test)),\n",
    "             precisionTrn, recallTrn, fscoreTrn, precisionTest, recallTest, fscoreTest]"
   ]
  },
  {
   "cell_type": "markdown",
   "metadata": {},
   "source": [
    "### <font color=green> Linear SVC </font>"
   ]
  },
  {
   "cell_type": "code",
   "execution_count": 189,
   "metadata": {},
   "outputs": [
    {
     "data": {
      "text/plain": [
       "LinearSVC(C=0.1, dual=False, max_iter=15000, random_state=0)"
      ]
     },
     "execution_count": 189,
     "metadata": {},
     "output_type": "execute_result"
    }
   ],
   "source": [
    "lsvc = LinearSVC(C=0.1, dual=False, max_iter=15000, random_state=0)\n",
    "lsvc.fit(Xtrn_reduced, y_train)"
   ]
  },
  {
   "cell_type": "markdown",
   "metadata": {},
   "source": [
    "**Train score** "
   ]
  },
  {
   "cell_type": "code",
   "execution_count": 190,
   "metadata": {},
   "outputs": [
    {
     "name": "stdout",
     "output_type": "stream",
     "text": [
      "0.877720207253886\n"
     ]
    }
   ],
   "source": [
    "print(lsvc.score(Xtrn_reduced, y_train))"
   ]
  },
  {
   "cell_type": "markdown",
   "metadata": {},
   "source": [
    "**Test score**"
   ]
  },
  {
   "cell_type": "code",
   "execution_count": 191,
   "metadata": {},
   "outputs": [
    {
     "name": "stdout",
     "output_type": "stream",
     "text": [
      "0.8768115942028986\n"
     ]
    }
   ],
   "source": [
    "print(lsvc.score(Xtst_reduced, y_test))"
   ]
  },
  {
   "cell_type": "markdown",
   "metadata": {},
   "source": [
    "**Predict the results (train data)**"
   ]
  },
  {
   "cell_type": "code",
   "execution_count": 192,
   "metadata": {},
   "outputs": [],
   "source": [
    "y_pred = lsvc.predict(Xtrn_reduced)"
   ]
  },
  {
   "cell_type": "markdown",
   "metadata": {},
   "source": [
    "**Classification Report (train data)** "
   ]
  },
  {
   "cell_type": "code",
   "execution_count": 193,
   "metadata": {},
   "outputs": [
    {
     "name": "stdout",
     "output_type": "stream",
     "text": [
      "              precision    recall  f1-score   support\n",
      "\n",
      "           0       0.88      0.99      0.93       808\n",
      "           1       0.85      0.30      0.44       157\n",
      "\n",
      "    accuracy                           0.88       965\n",
      "   macro avg       0.87      0.64      0.69       965\n",
      "weighted avg       0.88      0.88      0.85       965\n",
      "\n"
     ]
    }
   ],
   "source": [
    "print(classification_report(y_train, y_pred))"
   ]
  },
  {
   "cell_type": "code",
   "execution_count": 194,
   "metadata": {},
   "outputs": [],
   "source": [
    "precisionTrn, recallTrn, fscoreTrn, supportTrn = score(y_train, y_pred, average = 'macro')"
   ]
  },
  {
   "cell_type": "markdown",
   "metadata": {},
   "source": [
    "**Predict the results (test data)**"
   ]
  },
  {
   "cell_type": "code",
   "execution_count": 195,
   "metadata": {},
   "outputs": [],
   "source": [
    "y_pred = lsvc.predict(Xtst_reduced)"
   ]
  },
  {
   "cell_type": "markdown",
   "metadata": {},
   "source": [
    "**Classification Report (test data)** "
   ]
  },
  {
   "cell_type": "code",
   "execution_count": 196,
   "metadata": {},
   "outputs": [
    {
     "name": "stdout",
     "output_type": "stream",
     "text": [
      "              precision    recall  f1-score   support\n",
      "\n",
      "           0       0.88      0.99      0.93       350\n",
      "           1       0.81      0.27      0.40        64\n",
      "\n",
      "    accuracy                           0.88       414\n",
      "   macro avg       0.84      0.63      0.67       414\n",
      "weighted avg       0.87      0.88      0.85       414\n",
      "\n"
     ]
    }
   ],
   "source": [
    "print(classification_report(y_test, y_pred))"
   ]
  },
  {
   "cell_type": "code",
   "execution_count": 197,
   "metadata": {},
   "outputs": [],
   "source": [
    "precisionTest, recallTest, fscoreTest, supportTest = score(y_test, y_pred, average = 'macro')"
   ]
  },
  {
   "cell_type": "markdown",
   "metadata": {},
   "source": [
    "**Confusion Matrix (test data)**"
   ]
  },
  {
   "cell_type": "code",
   "execution_count": 198,
   "metadata": {},
   "outputs": [],
   "source": [
    "confm = confusion_matrix(y_test, y_pred)"
   ]
  },
  {
   "cell_type": "code",
   "execution_count": 199,
   "metadata": {
    "scrolled": true
   },
   "outputs": [
    {
     "data": {
      "image/png": "[encoded data removed]",
      "text/plain": [
       "<Figure size 288x288 with 1 Axes>"
      ]
     },
     "metadata": {
      "needs_background": "light"
     },
     "output_type": "display_data"
    }
   ],
   "source": [
    "fig, ax = plt.subplots(figsize=(4, 4))\n",
    "\n",
    "ax.imshow(confm)\n",
    "ax.xaxis.set(ticks=(0, 1), ticklabels=('Predicted 0s', 'Predicted 1s'))\n",
    "ax.yaxis.set(ticks=(0, 1), ticklabels=('Actual 0s', 'Actual 1s'))\n",
    "ax.set_ylim(1.5, -0.5)\n",
    "for i in range(2):\n",
    "    for j in range(2):\n",
    "        ax.text(j, i, confm[i, j], ha='center', va='center', color='red')\n",
    "plt.show()"
   ]
  },
  {
   "cell_type": "markdown",
   "metadata": {},
   "source": [
    "**Hold important data for evaluation**"
   ]
  },
  {
   "cell_type": "code",
   "execution_count": 200,
   "metadata": {},
   "outputs": [],
   "source": [
    "pcaLSVCInfo = ['PCA LinearSVC', lsvc.score(Xtrn_reduced, y_train), lsvc.score(Xtst_reduced, y_test), \n",
    "             abs(lsvc.score(Xtrn_reduced, y_train) - lsvc.score(Xtst_reduced, y_test)),\n",
    "             precisionTrn, recallTrn, fscoreTrn, precisionTest, recallTest, fscoreTest]"
   ]
  },
  {
   "cell_type": "markdown",
   "metadata": {},
   "source": [
    "### <font color=green> Kernelized SVC (Linear) </font>"
   ]
  },
  {
   "cell_type": "code",
   "execution_count": 201,
   "metadata": {},
   "outputs": [
    {
     "data": {
      "text/plain": [
       "SVC(C=1, kernel='linear', probability=True, random_state=0)"
      ]
     },
     "execution_count": 201,
     "metadata": {},
     "output_type": "execute_result"
    }
   ],
   "source": [
    "svcLin = SVC(C=1, kernel='linear', probability=True, random_state=0)\n",
    "svcLin.fit(Xtrn_reduced, y_train)"
   ]
  },
  {
   "cell_type": "markdown",
   "metadata": {},
   "source": [
    "**Train score** "
   ]
  },
  {
   "cell_type": "code",
   "execution_count": 202,
   "metadata": {},
   "outputs": [
    {
     "name": "stdout",
     "output_type": "stream",
     "text": [
      "0.883937823834197\n"
     ]
    }
   ],
   "source": [
    "print(svcLin.score(Xtrn_reduced, y_train))"
   ]
  },
  {
   "cell_type": "markdown",
   "metadata": {},
   "source": [
    "**Test score**"
   ]
  },
  {
   "cell_type": "code",
   "execution_count": 203,
   "metadata": {},
   "outputs": [
    {
     "name": "stdout",
     "output_type": "stream",
     "text": [
      "0.8743961352657005\n"
     ]
    }
   ],
   "source": [
    "print(svcLin.score(Xtst_reduced, y_test))"
   ]
  },
  {
   "cell_type": "markdown",
   "metadata": {},
   "source": [
    "**Predict the results (train data)**"
   ]
  },
  {
   "cell_type": "code",
   "execution_count": 204,
   "metadata": {},
   "outputs": [],
   "source": [
    "y_pred = svcLin.predict(Xtrn_reduced)"
   ]
  },
  {
   "cell_type": "markdown",
   "metadata": {},
   "source": [
    "**Classification Report (train data)** "
   ]
  },
  {
   "cell_type": "code",
   "execution_count": 205,
   "metadata": {},
   "outputs": [
    {
     "name": "stdout",
     "output_type": "stream",
     "text": [
      "              precision    recall  f1-score   support\n",
      "\n",
      "           0       0.89      0.99      0.93       808\n",
      "           1       0.85      0.35      0.50       157\n",
      "\n",
      "    accuracy                           0.88       965\n",
      "   macro avg       0.87      0.67      0.71       965\n",
      "weighted avg       0.88      0.88      0.86       965\n",
      "\n"
     ]
    }
   ],
   "source": [
    "print(classification_report(y_train, y_pred))"
   ]
  },
  {
   "cell_type": "code",
   "execution_count": 206,
   "metadata": {},
   "outputs": [],
   "source": [
    "precisionTrn, recallTrn, fscoreTrn, supportTrn = score(y_train, y_pred, average = 'macro')"
   ]
  },
  {
   "cell_type": "markdown",
   "metadata": {},
   "source": [
    "**Predict the results (test data)**"
   ]
  },
  {
   "cell_type": "code",
   "execution_count": 207,
   "metadata": {},
   "outputs": [],
   "source": [
    "y_pred = svcLin.predict(Xtst_reduced)"
   ]
  },
  {
   "cell_type": "markdown",
   "metadata": {},
   "source": [
    "**Classification Report (test data)** "
   ]
  },
  {
   "cell_type": "code",
   "execution_count": 208,
   "metadata": {},
   "outputs": [
    {
     "name": "stdout",
     "output_type": "stream",
     "text": [
      "              precision    recall  f1-score   support\n",
      "\n",
      "           0       0.88      0.98      0.93       350\n",
      "           1       0.75      0.28      0.41        64\n",
      "\n",
      "    accuracy                           0.87       414\n",
      "   macro avg       0.82      0.63      0.67       414\n",
      "weighted avg       0.86      0.87      0.85       414\n",
      "\n"
     ]
    }
   ],
   "source": [
    "print(classification_report(y_test, y_pred))"
   ]
  },
  {
   "cell_type": "code",
   "execution_count": 209,
   "metadata": {},
   "outputs": [],
   "source": [
    "precisionTest, recallTest, fscoreTest, supportTest = score(y_test, y_pred, average = 'macro')"
   ]
  },
  {
   "cell_type": "markdown",
   "metadata": {},
   "source": [
    "**Confusion Matrix (test data)**"
   ]
  },
  {
   "cell_type": "code",
   "execution_count": 210,
   "metadata": {},
   "outputs": [],
   "source": [
    "confm = confusion_matrix(y_test, y_pred)"
   ]
  },
  {
   "cell_type": "code",
   "execution_count": 211,
   "metadata": {
    "scrolled": true
   },
   "outputs": [
    {
     "data": {
      "image/png": "[encoded data removed]",
      "text/plain": [
       "<Figure size 288x288 with 1 Axes>"
      ]
     },
     "metadata": {
      "needs_background": "light"
     },
     "output_type": "display_data"
    }
   ],
   "source": [
    "fig, ax = plt.subplots(figsize=(4, 4))\n",
    "\n",
    "ax.imshow(confm)\n",
    "ax.xaxis.set(ticks=(0, 1), ticklabels=('Predicted 0s', 'Predicted 1s'))\n",
    "ax.yaxis.set(ticks=(0, 1), ticklabels=('Actual 0s', 'Actual 1s'))\n",
    "ax.set_ylim(1.5, -0.5)\n",
    "for i in range(2):\n",
    "    for j in range(2):\n",
    "        ax.text(j, i, confm[i, j], ha='center', va='center', color='red')\n",
    "plt.show()"
   ]
  },
  {
   "cell_type": "markdown",
   "metadata": {},
   "source": [
    "**Hold important data for evaluation**"
   ]
  },
  {
   "cell_type": "code",
   "execution_count": 212,
   "metadata": {},
   "outputs": [],
   "source": [
    "pcaKernLinInfo = ['PCA KernLinear', svcLin.score(Xtrn_reduced, y_train), svcLin.score(Xtst_reduced, y_test), \n",
    "                 abs(svcLin.score(Xtrn_reduced, y_train) - svcLin.score(Xtst_reduced, y_test)),\n",
    "                 precisionTrn, recallTrn, fscoreTrn, precisionTest, recallTest, fscoreTest]"
   ]
  },
  {
   "cell_type": "markdown",
   "metadata": {},
   "source": [
    "### <font color=green> Kernelized SVC (RBF) </font>"
   ]
  },
  {
   "cell_type": "code",
   "execution_count": 213,
   "metadata": {},
   "outputs": [
    {
     "data": {
      "text/plain": [
       "SVC(C=100, gamma=0.01)"
      ]
     },
     "execution_count": 213,
     "metadata": {},
     "output_type": "execute_result"
    }
   ],
   "source": [
    "svcRbf = SVC(C=100, gamma=0.01)\n",
    "svcRbf.fit(Xtrn_reduced, y_train)"
   ]
  },
  {
   "cell_type": "markdown",
   "metadata": {},
   "source": [
    "**Train score** "
   ]
  },
  {
   "cell_type": "code",
   "execution_count": 214,
   "metadata": {},
   "outputs": [
    {
     "name": "stdout",
     "output_type": "stream",
     "text": [
      "0.9025906735751296\n"
     ]
    }
   ],
   "source": [
    "print(svcRbf.score(Xtrn_reduced, y_train))"
   ]
  },
  {
   "cell_type": "markdown",
   "metadata": {},
   "source": [
    "**Test score**"
   ]
  },
  {
   "cell_type": "code",
   "execution_count": 215,
   "metadata": {},
   "outputs": [
    {
     "name": "stdout",
     "output_type": "stream",
     "text": [
      "0.8768115942028986\n"
     ]
    }
   ],
   "source": [
    "print(svcRbf.score(Xtst_reduced, y_test))"
   ]
  },
  {
   "cell_type": "markdown",
   "metadata": {},
   "source": [
    "**Predict the results (train data)**"
   ]
  },
  {
   "cell_type": "code",
   "execution_count": 216,
   "metadata": {},
   "outputs": [],
   "source": [
    "y_pred = svcRbf.predict(Xtrn_reduced)"
   ]
  },
  {
   "cell_type": "markdown",
   "metadata": {},
   "source": [
    "**Classification Report (train data)** "
   ]
  },
  {
   "cell_type": "code",
   "execution_count": 217,
   "metadata": {},
   "outputs": [
    {
     "name": "stdout",
     "output_type": "stream",
     "text": [
      "              precision    recall  f1-score   support\n",
      "\n",
      "           0       0.90      0.99      0.94       808\n",
      "           1       0.90      0.45      0.60       157\n",
      "\n",
      "    accuracy                           0.90       965\n",
      "   macro avg       0.90      0.72      0.77       965\n",
      "weighted avg       0.90      0.90      0.89       965\n",
      "\n"
     ]
    }
   ],
   "source": [
    "print(classification_report(y_train, y_pred))"
   ]
  },
  {
   "cell_type": "code",
   "execution_count": 218,
   "metadata": {},
   "outputs": [],
   "source": [
    "precisionTrn, recallTrn, fscoreTrn, supportTrn = score(y_train, y_pred, average = 'macro')"
   ]
  },
  {
   "cell_type": "markdown",
   "metadata": {},
   "source": [
    "**Predict the results (test data)**"
   ]
  },
  {
   "cell_type": "code",
   "execution_count": 219,
   "metadata": {},
   "outputs": [],
   "source": [
    "y_pred = svcRbf.predict(Xtst_reduced)"
   ]
  },
  {
   "cell_type": "markdown",
   "metadata": {},
   "source": [
    "**Classification Report (test data)** "
   ]
  },
  {
   "cell_type": "code",
   "execution_count": 220,
   "metadata": {},
   "outputs": [
    {
     "name": "stdout",
     "output_type": "stream",
     "text": [
      "              precision    recall  f1-score   support\n",
      "\n",
      "           0       0.88      0.98      0.93       350\n",
      "           1       0.76      0.30      0.43        64\n",
      "\n",
      "    accuracy                           0.88       414\n",
      "   macro avg       0.82      0.64      0.68       414\n",
      "weighted avg       0.87      0.88      0.85       414\n",
      "\n"
     ]
    }
   ],
   "source": [
    "print(classification_report(y_test, y_pred))"
   ]
  },
  {
   "cell_type": "code",
   "execution_count": 221,
   "metadata": {},
   "outputs": [],
   "source": [
    "precisionTest, recallTest, fscoreTest, supportTest = score(y_test, y_pred, average = 'macro')"
   ]
  },
  {
   "cell_type": "markdown",
   "metadata": {},
   "source": [
    "**Confusion Matrix (test data)**"
   ]
  },
  {
   "cell_type": "code",
   "execution_count": 222,
   "metadata": {},
   "outputs": [],
   "source": [
    "confm = confusion_matrix(y_test, y_pred)"
   ]
  },
  {
   "cell_type": "code",
   "execution_count": 223,
   "metadata": {
    "scrolled": true
   },
   "outputs": [
    {
     "data": {
      "image/png": "[encoded data removed]",
      "text/plain": [
       "<Figure size 288x288 with 1 Axes>"
      ]
     },
     "metadata": {
      "needs_background": "light"
     },
     "output_type": "display_data"
    }
   ],
   "source": [
    "fig, ax = plt.subplots(figsize=(4, 4))\n",
    "\n",
    "ax.imshow(confm)\n",
    "ax.xaxis.set(ticks=(0, 1), ticklabels=('Predicted 0s', 'Predicted 1s'))\n",
    "ax.yaxis.set(ticks=(0, 1), ticklabels=('Actual 0s', 'Actual 1s'))\n",
    "ax.set_ylim(1.5, -0.5)\n",
    "for i in range(2):\n",
    "    for j in range(2):\n",
    "        ax.text(j, i, confm[i, j], ha='center', va='center', color='red')\n",
    "plt.show()"
   ]
  },
  {
   "cell_type": "markdown",
   "metadata": {},
   "source": [
    "**Hold important data for evaluation**"
   ]
  },
  {
   "cell_type": "code",
   "execution_count": 224,
   "metadata": {},
   "outputs": [],
   "source": [
    "pcaKernRBFInfo = ['PCA KernRBF', svcRbf.score(Xtrn_reduced, y_train), svcRbf.score(Xtst_reduced, y_test), \n",
    "                 abs(svcRbf.score(Xtrn_reduced, y_train) - svcRbf.score(Xtst_reduced, y_test)),\n",
    "                 precisionTrn, recallTrn, fscoreTrn, precisionTest, recallTest, fscoreTest]"
   ]
  },
  {
   "cell_type": "markdown",
   "metadata": {},
   "source": [
    "### <font color=green> Kernelized SVC (Poly) </font>"
   ]
  },
  {
   "cell_type": "code",
   "execution_count": 225,
   "metadata": {},
   "outputs": [
    {
     "data": {
      "text/plain": [
       "SVC(coef0=1, gamma=0.1, kernel='poly')"
      ]
     },
     "execution_count": 225,
     "metadata": {},
     "output_type": "execute_result"
    }
   ],
   "source": [
    "svcPoly = SVC(coef0=1, gamma=0.1, kernel='poly')\n",
    "svcPoly.fit(Xtrn_reduced, y_train)"
   ]
  },
  {
   "cell_type": "markdown",
   "metadata": {},
   "source": [
    "**Train score** "
   ]
  },
  {
   "cell_type": "code",
   "execution_count": 226,
   "metadata": {},
   "outputs": [
    {
     "name": "stdout",
     "output_type": "stream",
     "text": [
      "0.9088082901554404\n"
     ]
    }
   ],
   "source": [
    "print(svcPoly.score(Xtrn_reduced, y_train))"
   ]
  },
  {
   "cell_type": "markdown",
   "metadata": {},
   "source": [
    "**Test score**"
   ]
  },
  {
   "cell_type": "code",
   "execution_count": 227,
   "metadata": {},
   "outputs": [
    {
     "name": "stdout",
     "output_type": "stream",
     "text": [
      "0.8623188405797102\n"
     ]
    }
   ],
   "source": [
    "print(svcPoly.score(Xtst_reduced, y_test))"
   ]
  },
  {
   "cell_type": "markdown",
   "metadata": {},
   "source": [
    "**Predict the results (train data)**"
   ]
  },
  {
   "cell_type": "code",
   "execution_count": 228,
   "metadata": {},
   "outputs": [],
   "source": [
    "y_pred = svcPoly.predict(Xtrn_reduced)"
   ]
  },
  {
   "cell_type": "markdown",
   "metadata": {},
   "source": [
    "**Classification Report (train data)** "
   ]
  },
  {
   "cell_type": "code",
   "execution_count": 229,
   "metadata": {},
   "outputs": [
    {
     "name": "stdout",
     "output_type": "stream",
     "text": [
      "              precision    recall  f1-score   support\n",
      "\n",
      "           0       0.90      1.00      0.95       808\n",
      "           1       0.96      0.46      0.62       157\n",
      "\n",
      "    accuracy                           0.91       965\n",
      "   macro avg       0.93      0.73      0.78       965\n",
      "weighted avg       0.91      0.91      0.89       965\n",
      "\n"
     ]
    }
   ],
   "source": [
    "print(classification_report(y_train, y_pred))"
   ]
  },
  {
   "cell_type": "code",
   "execution_count": 230,
   "metadata": {},
   "outputs": [],
   "source": [
    "precisionTrn, recallTrn, fscoreTrn, supportTrn = score(y_train, y_pred, average = 'macro')"
   ]
  },
  {
   "cell_type": "markdown",
   "metadata": {},
   "source": [
    "**Predict the results (test data)**"
   ]
  },
  {
   "cell_type": "code",
   "execution_count": 231,
   "metadata": {},
   "outputs": [],
   "source": [
    "y_pred = svcPoly.predict(Xtst_reduced)"
   ]
  },
  {
   "cell_type": "markdown",
   "metadata": {},
   "source": [
    "**Classification Report (test data)** "
   ]
  },
  {
   "cell_type": "code",
   "execution_count": 232,
   "metadata": {},
   "outputs": [
    {
     "name": "stdout",
     "output_type": "stream",
     "text": [
      "              precision    recall  f1-score   support\n",
      "\n",
      "           0       0.87      0.98      0.92       350\n",
      "           1       0.65      0.23      0.34        64\n",
      "\n",
      "    accuracy                           0.86       414\n",
      "   macro avg       0.76      0.61      0.63       414\n",
      "weighted avg       0.84      0.86      0.83       414\n",
      "\n"
     ]
    }
   ],
   "source": [
    "print(classification_report(y_test, y_pred))"
   ]
  },
  {
   "cell_type": "code",
   "execution_count": 233,
   "metadata": {},
   "outputs": [],
   "source": [
    "precisionTest, recallTest, fscoreTest, supportTest = score(y_test, y_pred, average = 'macro')"
   ]
  },
  {
   "cell_type": "markdown",
   "metadata": {},
   "source": [
    "**Confusion Matrix (test data)**"
   ]
  },
  {
   "cell_type": "code",
   "execution_count": 234,
   "metadata": {},
   "outputs": [],
   "source": [
    "confm = confusion_matrix(y_test, y_pred)"
   ]
  },
  {
   "cell_type": "code",
   "execution_count": 235,
   "metadata": {
    "scrolled": false
   },
   "outputs": [
    {
     "data": {
      "image/png": "[encoded data removed]",
      "text/plain": [
       "<Figure size 288x288 with 1 Axes>"
      ]
     },
     "metadata": {
      "needs_background": "light"
     },
     "output_type": "display_data"
    }
   ],
   "source": [
    "fig, ax = plt.subplots(figsize=(4, 4))\n",
    "\n",
    "ax.imshow(confm)\n",
    "ax.xaxis.set(ticks=(0, 1), ticklabels=('Predicted 0s', 'Predicted 1s'))\n",
    "ax.yaxis.set(ticks=(0, 1), ticklabels=('Actual 0s', 'Actual 1s'))\n",
    "ax.set_ylim(1.5, -0.5)\n",
    "for i in range(2):\n",
    "    for j in range(2):\n",
    "        ax.text(j, i, confm[i, j], ha='center', va='center', color='red')\n",
    "plt.show()"
   ]
  },
  {
   "cell_type": "markdown",
   "metadata": {},
   "source": [
    "**Hold important data for evaluation**"
   ]
  },
  {
   "cell_type": "code",
   "execution_count": 236,
   "metadata": {},
   "outputs": [],
   "source": [
    "pcaKernPolyInfo = ['PCA KernPoly', svcPoly.score(Xtrn_reduced, y_train), svcPoly.score(Xtst_reduced, y_test), \n",
    "                   abs(svcPoly.score(Xtrn_reduced, y_train) - svcPoly.score(Xtst_reduced, y_test)),\n",
    "                   precisionTrn, recallTrn, fscoreTrn, precisionTest, recallTest, fscoreTest]"
   ]
  },
  {
   "cell_type": "markdown",
   "metadata": {},
   "source": [
    "### <font color=green> Decision Tree </font>"
   ]
  },
  {
   "cell_type": "code",
   "execution_count": 237,
   "metadata": {},
   "outputs": [
    {
     "data": {
      "text/plain": [
       "DecisionTreeClassifier(criterion='entropy', max_depth=4, random_state=0)"
      ]
     },
     "execution_count": 237,
     "metadata": {},
     "output_type": "execute_result"
    }
   ],
   "source": [
    "dt = DecisionTreeClassifier(criterion='entropy', max_depth=4, random_state=0)\n",
    "dt.fit(Xtrn_reduced, y_train)"
   ]
  },
  {
   "cell_type": "markdown",
   "metadata": {},
   "source": [
    "**Train score** "
   ]
  },
  {
   "cell_type": "code",
   "execution_count": 238,
   "metadata": {},
   "outputs": [
    {
     "name": "stdout",
     "output_type": "stream",
     "text": [
      "0.8735751295336788\n"
     ]
    }
   ],
   "source": [
    "print(dt.score(Xtrn_reduced, y_train))"
   ]
  },
  {
   "cell_type": "markdown",
   "metadata": {},
   "source": [
    "**Test score**"
   ]
  },
  {
   "cell_type": "code",
   "execution_count": 239,
   "metadata": {},
   "outputs": [
    {
     "name": "stdout",
     "output_type": "stream",
     "text": [
      "0.8333333333333334\n"
     ]
    }
   ],
   "source": [
    "print(dt.score(Xtst_reduced, y_test))"
   ]
  },
  {
   "cell_type": "markdown",
   "metadata": {},
   "source": [
    "**Predict the results (train data)**"
   ]
  },
  {
   "cell_type": "code",
   "execution_count": 240,
   "metadata": {},
   "outputs": [],
   "source": [
    "y_pred = dt.predict(Xtrn_reduced)"
   ]
  },
  {
   "cell_type": "markdown",
   "metadata": {},
   "source": [
    "**Classification Report (train data)** "
   ]
  },
  {
   "cell_type": "code",
   "execution_count": 241,
   "metadata": {},
   "outputs": [
    {
     "name": "stdout",
     "output_type": "stream",
     "text": [
      "              precision    recall  f1-score   support\n",
      "\n",
      "           0       0.88      0.98      0.93       808\n",
      "           1       0.74      0.34      0.47       157\n",
      "\n",
      "    accuracy                           0.87       965\n",
      "   macro avg       0.81      0.66      0.70       965\n",
      "weighted avg       0.86      0.87      0.85       965\n",
      "\n"
     ]
    }
   ],
   "source": [
    "print(classification_report(y_train, y_pred))"
   ]
  },
  {
   "cell_type": "code",
   "execution_count": 242,
   "metadata": {},
   "outputs": [],
   "source": [
    "precisionTrn, recallTrn, fscoreTrn, supportTrn = score(y_train, y_pred, average = 'macro')"
   ]
  },
  {
   "cell_type": "markdown",
   "metadata": {},
   "source": [
    "**Predict the results (test data)**"
   ]
  },
  {
   "cell_type": "code",
   "execution_count": 243,
   "metadata": {},
   "outputs": [],
   "source": [
    "y_pred = dt.predict(Xtst_reduced)"
   ]
  },
  {
   "cell_type": "markdown",
   "metadata": {},
   "source": [
    "**Classification Report (test data)** "
   ]
  },
  {
   "cell_type": "code",
   "execution_count": 244,
   "metadata": {},
   "outputs": [
    {
     "name": "stdout",
     "output_type": "stream",
     "text": [
      "              precision    recall  f1-score   support\n",
      "\n",
      "           0       0.87      0.94      0.91       350\n",
      "           1       0.43      0.25      0.32        64\n",
      "\n",
      "    accuracy                           0.83       414\n",
      "   macro avg       0.65      0.59      0.61       414\n",
      "weighted avg       0.80      0.83      0.81       414\n",
      "\n"
     ]
    }
   ],
   "source": [
    "print(classification_report(y_test, y_pred))"
   ]
  },
  {
   "cell_type": "code",
   "execution_count": 245,
   "metadata": {},
   "outputs": [],
   "source": [
    "precisionTest, recallTest, fscoreTest, supportTest = score(y_test, y_pred, average = 'macro')"
   ]
  },
  {
   "cell_type": "markdown",
   "metadata": {},
   "source": [
    "**Confusion Matrix (test data)**"
   ]
  },
  {
   "cell_type": "code",
   "execution_count": 246,
   "metadata": {},
   "outputs": [],
   "source": [
    "confm = confusion_matrix(y_test, y_pred)"
   ]
  },
  {
   "cell_type": "code",
   "execution_count": 247,
   "metadata": {
    "scrolled": true
   },
   "outputs": [
    {
     "data": {
      "image/png": "[encoded data removed]",
      "text/plain": [
       "<Figure size 288x288 with 1 Axes>"
      ]
     },
     "metadata": {
      "needs_background": "light"
     },
     "output_type": "display_data"
    }
   ],
   "source": [
    "fig, ax = plt.subplots(figsize=(4, 4))\n",
    "\n",
    "ax.imshow(confm)\n",
    "ax.xaxis.set(ticks=(0, 1), ticklabels=('Predicted 0s', 'Predicted 1s'))\n",
    "ax.yaxis.set(ticks=(0, 1), ticklabels=('Actual 0s', 'Actual 1s'))\n",
    "ax.set_ylim(1.5, -0.5)\n",
    "for i in range(2):\n",
    "    for j in range(2):\n",
    "        ax.text(j, i, confm[i, j], ha='center', va='center', color='red')\n",
    "plt.show()"
   ]
  },
  {
   "cell_type": "markdown",
   "metadata": {},
   "source": [
    "**Hold important data for evaluation**"
   ]
  },
  {
   "cell_type": "code",
   "execution_count": 248,
   "metadata": {},
   "outputs": [],
   "source": [
    "pcaDTInfo = ['PCA DecTree', dt.score(Xtrn_reduced, y_train), dt.score(Xtst_reduced, y_test), \n",
    "             abs(dt.score(Xtrn_reduced, y_train) - dt.score(Xtst_reduced, y_test)),\n",
    "             precisionTrn, recallTrn, fscoreTrn, precisionTest, recallTest, fscoreTest]"
   ]
  },
  {
   "cell_type": "markdown",
   "metadata": {},
   "source": [
    "## <font color=blue> Deep Learning </font>"
   ]
  },
  {
   "cell_type": "code",
   "execution_count": 249,
   "metadata": {},
   "outputs": [],
   "source": [
    "import tensorflow as tf\n",
    "from tensorflow.keras.models import Sequential\n",
    "from tensorflow.keras.layers import Dense"
   ]
  },
  {
   "cell_type": "code",
   "execution_count": 250,
   "metadata": {},
   "outputs": [],
   "source": [
    "model = Sequential()\n",
    "model.add(Dense(10, activation=\"relu\", input_dim = 49))\n",
    "model.add(Dense(6, activation='relu'))\n",
    "model.add(Dense(1, activation='sigmoid'))"
   ]
  },
  {
   "cell_type": "code",
   "execution_count": 251,
   "metadata": {},
   "outputs": [],
   "source": [
    "model.compile(loss='binary_crossentropy', optimizer='adam', metrics=['accuracy'])"
   ]
  },
  {
   "cell_type": "code",
   "execution_count": 252,
   "metadata": {},
   "outputs": [
    {
     "name": "stdout",
     "output_type": "stream",
     "text": [
      "Epoch 1/150\n",
      "97/97 [==============================] - 0s 430us/step - loss: 0.4698 - accuracy: 0.8332\n",
      "Epoch 2/150\n",
      "97/97 [==============================] - 0s 440us/step - loss: 0.4033 - accuracy: 0.8373\n",
      "Epoch 3/150\n",
      "97/97 [==============================] - 0s 440us/step - loss: 0.3902 - accuracy: 0.8373\n",
      "Epoch 4/150\n",
      "97/97 [==============================] - 0s 491us/step - loss: 0.3780 - accuracy: 0.8394\n",
      "Epoch 5/150\n",
      "97/97 [==============================] - 0s 450us/step - loss: 0.3669 - accuracy: 0.8446\n",
      "Epoch 6/150\n",
      "97/97 [==============================] - 0s 445us/step - loss: 0.3567 - accuracy: 0.8477\n",
      "Epoch 7/150\n",
      "97/97 [==============================] - 0s 450us/step - loss: 0.3461 - accuracy: 0.8611\n",
      "Epoch 8/150\n",
      "97/97 [==============================] - 0s 440us/step - loss: 0.3355 - accuracy: 0.8736\n",
      "Epoch 9/150\n",
      "97/97 [==============================] - 0s 450us/step - loss: 0.3286 - accuracy: 0.8725\n",
      "Epoch 10/150\n",
      "97/97 [==============================] - 0s 440us/step - loss: 0.3202 - accuracy: 0.8736\n",
      "Epoch 11/150\n",
      "97/97 [==============================] - 0s 481us/step - loss: 0.3176 - accuracy: 0.8756\n",
      "Epoch 12/150\n",
      "97/97 [==============================] - 0s 455us/step - loss: 0.3090 - accuracy: 0.8839\n",
      "Epoch 13/150\n",
      "97/97 [==============================] - 0s 450us/step - loss: 0.3075 - accuracy: 0.8870\n",
      "Epoch 14/150\n",
      "97/97 [==============================] - 0s 481us/step - loss: 0.3058 - accuracy: 0.8891\n",
      "Epoch 15/150\n",
      "97/97 [==============================] - 0s 476us/step - loss: 0.3005 - accuracy: 0.8953\n",
      "Epoch 16/150\n",
      "97/97 [==============================] - 0s 470us/step - loss: 0.2975 - accuracy: 0.8953\n",
      "Epoch 17/150\n",
      "97/97 [==============================] - 0s 450us/step - loss: 0.2946 - accuracy: 0.8902\n",
      "Epoch 18/150\n",
      "97/97 [==============================] - 0s 445us/step - loss: 0.2932 - accuracy: 0.8922\n",
      "Epoch 19/150\n",
      "97/97 [==============================] - 0s 435us/step - loss: 0.2891 - accuracy: 0.8902\n",
      "Epoch 20/150\n",
      "97/97 [==============================] - 0s 445us/step - loss: 0.2894 - accuracy: 0.8933\n",
      "Epoch 21/150\n",
      "97/97 [==============================] - 0s 465us/step - loss: 0.2889 - accuracy: 0.8933\n",
      "Epoch 22/150\n",
      "97/97 [==============================] - 0s 496us/step - loss: 0.2864 - accuracy: 0.8953\n",
      "Epoch 23/150\n",
      "97/97 [==============================] - 0s 476us/step - loss: 0.2844 - accuracy: 0.8943\n",
      "Epoch 24/150\n",
      "97/97 [==============================] - 0s 455us/step - loss: 0.2814 - accuracy: 0.8943\n",
      "Epoch 25/150\n",
      "97/97 [==============================] - 0s 440us/step - loss: 0.2801 - accuracy: 0.8984\n",
      "Epoch 26/150\n",
      "97/97 [==============================] - 0s 511us/step - loss: 0.2777 - accuracy: 0.8953\n",
      "Epoch 27/150\n",
      "97/97 [==============================] - 0s 440us/step - loss: 0.2754 - accuracy: 0.8912\n",
      "Epoch 28/150\n",
      "97/97 [==============================] - 0s 455us/step - loss: 0.2748 - accuracy: 0.8984\n",
      "Epoch 29/150\n",
      "97/97 [==============================] - 0s 455us/step - loss: 0.2760 - accuracy: 0.8974\n",
      "Epoch 30/150\n",
      "97/97 [==============================] - 0s 470us/step - loss: 0.2728 - accuracy: 0.8943\n",
      "Epoch 31/150\n",
      "97/97 [==============================] - 0s 476us/step - loss: 0.2713 - accuracy: 0.8995\n",
      "Epoch 32/150\n",
      "97/97 [==============================] - 0s 465us/step - loss: 0.2689 - accuracy: 0.8984\n",
      "Epoch 33/150\n",
      "97/97 [==============================] - 0s 450us/step - loss: 0.2672 - accuracy: 0.9026\n",
      "Epoch 34/150\n",
      "97/97 [==============================] - 0s 450us/step - loss: 0.2674 - accuracy: 0.8964\n",
      "Epoch 35/150\n",
      "97/97 [==============================] - 0s 445us/step - loss: 0.2638 - accuracy: 0.8995\n",
      "Epoch 36/150\n",
      "97/97 [==============================] - 0s 445us/step - loss: 0.2650 - accuracy: 0.8995\n",
      "Epoch 37/150\n",
      "97/97 [==============================] - 0s 476us/step - loss: 0.2634 - accuracy: 0.8933\n",
      "Epoch 38/150\n",
      "97/97 [==============================] - 0s 470us/step - loss: 0.2636 - accuracy: 0.8964\n",
      "Epoch 39/150\n",
      "97/97 [==============================] - 0s 486us/step - loss: 0.2630 - accuracy: 0.8964\n",
      "Epoch 40/150\n",
      "97/97 [==============================] - 0s 440us/step - loss: 0.2608 - accuracy: 0.9016\n",
      "Epoch 41/150\n",
      "97/97 [==============================] - 0s 445us/step - loss: 0.2605 - accuracy: 0.9005\n",
      "Epoch 42/150\n",
      "97/97 [==============================] - 0s 430us/step - loss: 0.2576 - accuracy: 0.8984\n",
      "Epoch 43/150\n",
      "97/97 [==============================] - 0s 435us/step - loss: 0.2568 - accuracy: 0.8984\n",
      "Epoch 44/150\n",
      "97/97 [==============================] - 0s 455us/step - loss: 0.2583 - accuracy: 0.8964\n",
      "Epoch 45/150\n",
      "97/97 [==============================] - 0s 445us/step - loss: 0.2530 - accuracy: 0.9036\n",
      "Epoch 46/150\n",
      "97/97 [==============================] - 0s 481us/step - loss: 0.2537 - accuracy: 0.8984\n",
      "Epoch 47/150\n",
      "97/97 [==============================] - 0s 496us/step - loss: 0.2500 - accuracy: 0.9036\n",
      "Epoch 48/150\n",
      "97/97 [==============================] - 0s 465us/step - loss: 0.2518 - accuracy: 0.9005\n",
      "Epoch 49/150\n",
      "97/97 [==============================] - 0s 460us/step - loss: 0.2483 - accuracy: 0.8995\n",
      "Epoch 50/150\n",
      "97/97 [==============================] - 0s 445us/step - loss: 0.2495 - accuracy: 0.9005\n",
      "Epoch 51/150\n",
      "97/97 [==============================] - 0s 440us/step - loss: 0.2478 - accuracy: 0.9078\n",
      "Epoch 52/150\n",
      "97/97 [==============================] - 0s 455us/step - loss: 0.2433 - accuracy: 0.9067\n",
      "Epoch 53/150\n",
      "97/97 [==============================] - 0s 455us/step - loss: 0.2428 - accuracy: 0.9005\n",
      "Epoch 54/150\n",
      "97/97 [==============================] - 0s 445us/step - loss: 0.2436 - accuracy: 0.9036\n",
      "Epoch 55/150\n",
      "97/97 [==============================] - 0s 440us/step - loss: 0.2408 - accuracy: 0.9067\n",
      "Epoch 56/150\n",
      "97/97 [==============================] - 0s 450us/step - loss: 0.2396 - accuracy: 0.9026\n",
      "Epoch 57/150\n",
      "97/97 [==============================] - 0s 455us/step - loss: 0.2375 - accuracy: 0.9130\n",
      "Epoch 58/150\n",
      "97/97 [==============================] - 0s 445us/step - loss: 0.2378 - accuracy: 0.9036\n",
      "Epoch 59/150\n",
      "97/97 [==============================] - 0s 465us/step - loss: 0.2354 - accuracy: 0.9119\n",
      "Epoch 60/150\n",
      "97/97 [==============================] - 0s 430us/step - loss: 0.2347 - accuracy: 0.9130\n",
      "Epoch 61/150\n",
      "97/97 [==============================] - 0s 440us/step - loss: 0.2340 - accuracy: 0.9098\n",
      "Epoch 62/150\n",
      "97/97 [==============================] - 0s 430us/step - loss: 0.2303 - accuracy: 0.9109\n",
      "Epoch 63/150\n",
      "97/97 [==============================] - 0s 440us/step - loss: 0.2297 - accuracy: 0.9088\n",
      "Epoch 64/150\n",
      "97/97 [==============================] - 0s 430us/step - loss: 0.2262 - accuracy: 0.9140\n",
      "Epoch 65/150\n",
      "97/97 [==============================] - 0s 430us/step - loss: 0.2279 - accuracy: 0.9161\n",
      "Epoch 66/150\n",
      "97/97 [==============================] - 0s 445us/step - loss: 0.2254 - accuracy: 0.9212\n",
      "Epoch 67/150\n",
      "97/97 [==============================] - 0s 435us/step - loss: 0.2233 - accuracy: 0.9171\n",
      "Epoch 68/150\n",
      "97/97 [==============================] - 0s 430us/step - loss: 0.2241 - accuracy: 0.9171\n",
      "Epoch 69/150\n",
      "97/97 [==============================] - 0s 460us/step - loss: 0.2210 - accuracy: 0.9181\n",
      "Epoch 70/150\n",
      "97/97 [==============================] - 0s 562us/step - loss: 0.2179 - accuracy: 0.9171\n",
      "Epoch 71/150\n",
      "97/97 [==============================] - 0s 465us/step - loss: 0.2170 - accuracy: 0.9202\n",
      "Epoch 72/150\n",
      "97/97 [==============================] - 0s 455us/step - loss: 0.2141 - accuracy: 0.9275\n",
      "Epoch 73/150\n",
      "97/97 [==============================] - 0s 465us/step - loss: 0.2178 - accuracy: 0.9212\n",
      "Epoch 74/150\n",
      "97/97 [==============================] - 0s 455us/step - loss: 0.2150 - accuracy: 0.9223\n",
      "Epoch 75/150\n",
      "97/97 [==============================] - 0s 430us/step - loss: 0.2112 - accuracy: 0.9192\n",
      "Epoch 76/150\n",
      "97/97 [==============================] - 0s 435us/step - loss: 0.2111 - accuracy: 0.9223\n",
      "Epoch 77/150\n",
      "97/97 [==============================] - 0s 435us/step - loss: 0.2089 - accuracy: 0.9223\n",
      "Epoch 78/150\n",
      "97/97 [==============================] - 0s 445us/step - loss: 0.2103 - accuracy: 0.9223\n",
      "Epoch 79/150\n",
      "97/97 [==============================] - 0s 435us/step - loss: 0.2069 - accuracy: 0.9264\n",
      "Epoch 80/150\n",
      "97/97 [==============================] - 0s 435us/step - loss: 0.2054 - accuracy: 0.9275\n",
      "Epoch 81/150\n",
      "97/97 [==============================] - 0s 435us/step - loss: 0.2036 - accuracy: 0.9285\n",
      "Epoch 82/150\n",
      "97/97 [==============================] - 0s 435us/step - loss: 0.2028 - accuracy: 0.9254\n",
      "Epoch 83/150\n",
      "97/97 [==============================] - 0s 424us/step - loss: 0.2040 - accuracy: 0.9254\n",
      "Epoch 84/150\n",
      "97/97 [==============================] - 0s 430us/step - loss: 0.2015 - accuracy: 0.9254\n",
      "Epoch 85/150\n",
      "97/97 [==============================] - 0s 435us/step - loss: 0.1992 - accuracy: 0.9264\n",
      "Epoch 86/150\n",
      "97/97 [==============================] - 0s 430us/step - loss: 0.2029 - accuracy: 0.9202\n",
      "Epoch 87/150\n",
      "97/97 [==============================] - 0s 430us/step - loss: 0.1987 - accuracy: 0.9264\n",
      "Epoch 88/150\n",
      "97/97 [==============================] - 0s 491us/step - loss: 0.2026 - accuracy: 0.9223\n",
      "Epoch 89/150\n",
      "97/97 [==============================] - ETA: 0s - loss: 0.0449 - accuracy: 1.00 - 0s 460us/step - loss: 0.1942 - accuracy: 0.9316\n",
      "Epoch 90/150\n",
      "97/97 [==============================] - 0s 455us/step - loss: 0.1961 - accuracy: 0.9264\n",
      "Epoch 91/150\n",
      "97/97 [==============================] - 0s 450us/step - loss: 0.1923 - accuracy: 0.9254\n",
      "Epoch 92/150\n",
      "97/97 [==============================] - 0s 481us/step - loss: 0.1919 - accuracy: 0.9285\n",
      "Epoch 93/150\n",
      "97/97 [==============================] - 0s 435us/step - loss: 0.1917 - accuracy: 0.9264\n",
      "Epoch 94/150\n",
      "97/97 [==============================] - 0s 435us/step - loss: 0.1920 - accuracy: 0.9295\n",
      "Epoch 95/150\n",
      "97/97 [==============================] - 0s 450us/step - loss: 0.1899 - accuracy: 0.9337\n",
      "Epoch 96/150\n",
      "97/97 [==============================] - 0s 460us/step - loss: 0.1884 - accuracy: 0.9295\n",
      "Epoch 97/150\n",
      "97/97 [==============================] - 0s 445us/step - loss: 0.1873 - accuracy: 0.9244\n",
      "Epoch 98/150\n",
      "97/97 [==============================] - 0s 424us/step - loss: 0.1856 - accuracy: 0.9244\n",
      "Epoch 99/150\n",
      "97/97 [==============================] - 0s 430us/step - loss: 0.1874 - accuracy: 0.9316\n",
      "Epoch 100/150\n",
      "97/97 [==============================] - 0s 435us/step - loss: 0.1840 - accuracy: 0.9264\n",
      "Epoch 101/150\n",
      "97/97 [==============================] - 0s 435us/step - loss: 0.1825 - accuracy: 0.9285\n",
      "Epoch 102/150\n",
      "97/97 [==============================] - 0s 430us/step - loss: 0.1828 - accuracy: 0.9316\n",
      "Epoch 103/150\n",
      "97/97 [==============================] - 0s 435us/step - loss: 0.1843 - accuracy: 0.9306\n",
      "Epoch 104/150\n",
      "97/97 [==============================] - 0s 419us/step - loss: 0.1810 - accuracy: 0.9337\n",
      "Epoch 105/150\n",
      "97/97 [==============================] - ETA: 0s - loss: 0.1231 - accuracy: 1.00 - 0s 435us/step - loss: 0.1791 - accuracy: 0.9316\n",
      "Epoch 106/150\n",
      "97/97 [==============================] - 0s 455us/step - loss: 0.1795 - accuracy: 0.9368\n",
      "Epoch 107/150\n",
      "97/97 [==============================] - ETA: 0s - loss: 0.4103 - accuracy: 0.80 - 0s 465us/step - loss: 0.1831 - accuracy: 0.9275\n",
      "Epoch 108/150\n",
      "97/97 [==============================] - 0s 455us/step - loss: 0.1775 - accuracy: 0.9399\n",
      "Epoch 109/150\n",
      "97/97 [==============================] - 0s 450us/step - loss: 0.1759 - accuracy: 0.9337\n",
      "Epoch 110/150\n",
      "97/97 [==============================] - 0s 455us/step - loss: 0.1784 - accuracy: 0.9326\n",
      "Epoch 111/150\n",
      "97/97 [==============================] - 0s 430us/step - loss: 0.1738 - accuracy: 0.9399\n",
      "Epoch 112/150\n",
      "97/97 [==============================] - 0s 435us/step - loss: 0.1780 - accuracy: 0.9337\n",
      "Epoch 113/150\n",
      "97/97 [==============================] - 0s 435us/step - loss: 0.1740 - accuracy: 0.9378\n",
      "Epoch 114/150\n",
      "97/97 [==============================] - 0s 450us/step - loss: 0.1712 - accuracy: 0.9399\n",
      "Epoch 115/150\n",
      "97/97 [==============================] - 0s 460us/step - loss: 0.1760 - accuracy: 0.9295\n",
      "Epoch 116/150\n",
      "97/97 [==============================] - 0s 486us/step - loss: 0.1707 - accuracy: 0.9440\n",
      "Epoch 117/150\n",
      "97/97 [==============================] - 0s 435us/step - loss: 0.1720 - accuracy: 0.9420\n",
      "Epoch 118/150\n",
      "97/97 [==============================] - 0s 424us/step - loss: 0.1715 - accuracy: 0.9358\n",
      "Epoch 119/150\n",
      "97/97 [==============================] - 0s 440us/step - loss: 0.1705 - accuracy: 0.9295\n",
      "Epoch 120/150\n",
      "97/97 [==============================] - 0s 450us/step - loss: 0.1669 - accuracy: 0.9399\n",
      "Epoch 121/150\n",
      "97/97 [==============================] - 0s 440us/step - loss: 0.1654 - accuracy: 0.9420\n",
      "Epoch 122/150\n",
      "97/97 [==============================] - 0s 419us/step - loss: 0.1679 - accuracy: 0.9440\n",
      "Epoch 123/150\n",
      "97/97 [==============================] - 0s 450us/step - loss: 0.1650 - accuracy: 0.9430\n",
      "Epoch 124/150\n",
      "97/97 [==============================] - 0s 435us/step - loss: 0.1681 - accuracy: 0.9378\n",
      "Epoch 125/150\n",
      "97/97 [==============================] - 0s 435us/step - loss: 0.1663 - accuracy: 0.9430\n",
      "Epoch 126/150\n",
      "97/97 [==============================] - 0s 435us/step - loss: 0.1634 - accuracy: 0.9409\n",
      "Epoch 127/150\n",
      "97/97 [==============================] - 0s 450us/step - loss: 0.1632 - accuracy: 0.9492\n",
      "Epoch 128/150\n",
      "97/97 [==============================] - 0s 440us/step - loss: 0.1622 - accuracy: 0.9420\n",
      "Epoch 129/150\n",
      "97/97 [==============================] - 0s 435us/step - loss: 0.1646 - accuracy: 0.9420\n",
      "Epoch 130/150\n",
      "97/97 [==============================] - 0s 440us/step - loss: 0.1638 - accuracy: 0.9451\n",
      "Epoch 131/150\n",
      "97/97 [==============================] - 0s 430us/step - loss: 0.1587 - accuracy: 0.9472\n",
      "Epoch 132/150\n",
      "97/97 [==============================] - 0s 430us/step - loss: 0.1603 - accuracy: 0.9399\n",
      "Epoch 133/150\n",
      "97/97 [==============================] - 0s 440us/step - loss: 0.1628 - accuracy: 0.9440\n",
      "Epoch 134/150\n",
      "97/97 [==============================] - 0s 440us/step - loss: 0.1577 - accuracy: 0.9451\n",
      "Epoch 135/150\n",
      "97/97 [==============================] - 0s 445us/step - loss: 0.1579 - accuracy: 0.9440\n",
      "Epoch 136/150\n",
      "97/97 [==============================] - 0s 440us/step - loss: 0.1548 - accuracy: 0.9472\n",
      "Epoch 137/150\n",
      "97/97 [==============================] - 0s 486us/step - loss: 0.1607 - accuracy: 0.9430\n",
      "Epoch 138/150\n",
      "97/97 [==============================] - 0s 440us/step - loss: 0.1571 - accuracy: 0.9440\n",
      "Epoch 139/150\n",
      "97/97 [==============================] - 0s 440us/step - loss: 0.1560 - accuracy: 0.9492\n",
      "Epoch 140/150\n",
      "97/97 [==============================] - 0s 440us/step - loss: 0.1566 - accuracy: 0.9451\n",
      "Epoch 141/150\n",
      "97/97 [==============================] - 0s 430us/step - loss: 0.1523 - accuracy: 0.9492\n",
      "Epoch 142/150\n",
      "97/97 [==============================] - 0s 430us/step - loss: 0.1525 - accuracy: 0.9503\n",
      "Epoch 143/150\n",
      "97/97 [==============================] - 0s 440us/step - loss: 0.1565 - accuracy: 0.9451\n",
      "Epoch 144/150\n",
      "97/97 [==============================] - 0s 435us/step - loss: 0.1517 - accuracy: 0.9451\n",
      "Epoch 145/150\n",
      "97/97 [==============================] - 0s 435us/step - loss: 0.1509 - accuracy: 0.9482\n",
      "Epoch 146/150\n",
      "97/97 [==============================] - 0s 450us/step - loss: 0.1513 - accuracy: 0.9482\n",
      "Epoch 147/150\n",
      "97/97 [==============================] - 0s 430us/step - loss: 0.1532 - accuracy: 0.9482\n",
      "Epoch 148/150\n",
      "97/97 [==============================] - 0s 440us/step - loss: 0.1502 - accuracy: 0.9482\n",
      "Epoch 149/150\n",
      "97/97 [==============================] - 0s 435us/step - loss: 0.1489 - accuracy: 0.9461\n",
      "Epoch 150/150\n",
      "97/97 [==============================] - 0s 424us/step - loss: 0.1474 - accuracy: 0.9492\n"
     ]
    },
    {
     "data": {
      "text/plain": [
       "<tensorflow.python.keras.callbacks.History at 0x2b365f11d00>"
      ]
     },
     "execution_count": 252,
     "metadata": {},
     "output_type": "execute_result"
    }
   ],
   "source": [
    "model.fit(X_train, y_train, epochs=150, batch_size=10)"
   ]
  },
  {
   "cell_type": "markdown",
   "metadata": {},
   "source": [
    "**Train and Test Scores**"
   ]
  },
  {
   "cell_type": "code",
   "execution_count": 253,
   "metadata": {
    "scrolled": true
   },
   "outputs": [
    {
     "name": "stdout",
     "output_type": "stream",
     "text": [
      "31/31 [==============================] - 0s 352us/step - loss: 0.1414 - accuracy: 0.9565\n",
      "Train Score: 0.9564766883850098\n",
      "13/13 [==============================] - 0s 420us/step - loss: 0.4922 - accuracy: 0.8285\n",
      "Test Score: 0.8285024166107178\n"
     ]
    }
   ],
   "source": [
    "scoresTrn = model.evaluate(X_train, y_train)\n",
    "print('Train Score:',scoresTrn[1])\n",
    "\n",
    "scoresTst = model.evaluate(X_test, y_test)\n",
    "print('Test Score:',scoresTst[1])"
   ]
  },
  {
   "cell_type": "markdown",
   "metadata": {},
   "source": [
    "## <font color=blue> Evaluation </font>"
   ]
  },
  {
   "cell_type": "markdown",
   "metadata": {},
   "source": [
    "### <font color=green> Project 1 Model Results </font>"
   ]
  },
  {
   "cell_type": "markdown",
   "metadata": {},
   "source": [
    "**Import csv containing Project 1 DataFrame results**"
   ]
  },
  {
   "cell_type": "code",
   "execution_count": 254,
   "metadata": {},
   "outputs": [],
   "source": [
    "P1Results = pd.read_csv('P1Results.csv')"
   ]
  },
  {
   "cell_type": "markdown",
   "metadata": {},
   "source": [
    "**Drop meaningless column**"
   ]
  },
  {
   "cell_type": "code",
   "execution_count": 255,
   "metadata": {},
   "outputs": [],
   "source": [
    "P1Results = P1Results.drop(['Unnamed: 0'], axis = 1)"
   ]
  },
  {
   "cell_type": "markdown",
   "metadata": {},
   "source": [
    "#### Round the data"
   ]
  },
  {
   "cell_type": "code",
   "execution_count": 256,
   "metadata": {},
   "outputs": [],
   "source": [
    "P1Results = P1Results.round(4)"
   ]
  },
  {
   "cell_type": "markdown",
   "metadata": {},
   "source": [
    "**Display DataFrame**"
   ]
  },
  {
   "cell_type": "code",
   "execution_count": 257,
   "metadata": {},
   "outputs": [
    {
     "data": {
      "text/html": [
       "<div>\n",
       "<style scoped>\n",
       "    .dataframe tbody tr th:only-of-type {\n",
       "        vertical-align: middle;\n",
       "    }\n",
       "\n",
       "    .dataframe tbody tr th {\n",
       "        vertical-align: top;\n",
       "    }\n",
       "\n",
       "    .dataframe thead th {\n",
       "        text-align: right;\n",
       "    }\n",
       "</style>\n",
       "<table border=\"1\" class=\"dataframe\">\n",
       "  <thead>\n",
       "    <tr style=\"text-align: right;\">\n",
       "      <th></th>\n",
       "      <th>ModelType</th>\n",
       "      <th>TrainScore</th>\n",
       "      <th>TestScore</th>\n",
       "      <th>Difference</th>\n",
       "      <th>PrecisionTrn</th>\n",
       "      <th>RecallTrn</th>\n",
       "      <th>f1-scoreTrn</th>\n",
       "      <th>PrecisionTest</th>\n",
       "      <th>RecallTest</th>\n",
       "      <th>f1-scoreTest</th>\n",
       "    </tr>\n",
       "  </thead>\n",
       "  <tbody>\n",
       "    <tr>\n",
       "      <th>0</th>\n",
       "      <td>kNN</td>\n",
       "      <td>0.8694</td>\n",
       "      <td>0.8454</td>\n",
       "      <td>0.0240</td>\n",
       "      <td>0.8735</td>\n",
       "      <td>0.6116</td>\n",
       "      <td>0.6454</td>\n",
       "      <td>0.6779</td>\n",
       "      <td>0.5383</td>\n",
       "      <td>0.5364</td>\n",
       "    </tr>\n",
       "    <tr>\n",
       "      <th>1</th>\n",
       "      <td>LogisticRegression</td>\n",
       "      <td>0.8891</td>\n",
       "      <td>0.8768</td>\n",
       "      <td>0.0123</td>\n",
       "      <td>0.8578</td>\n",
       "      <td>0.6952</td>\n",
       "      <td>0.7408</td>\n",
       "      <td>0.8222</td>\n",
       "      <td>0.6399</td>\n",
       "      <td>0.6790</td>\n",
       "    </tr>\n",
       "    <tr>\n",
       "      <th>2</th>\n",
       "      <td>LinearSVC</td>\n",
       "      <td>0.8829</td>\n",
       "      <td>0.8696</td>\n",
       "      <td>0.0133</td>\n",
       "      <td>0.8698</td>\n",
       "      <td>0.6632</td>\n",
       "      <td>0.7090</td>\n",
       "      <td>0.8128</td>\n",
       "      <td>0.6100</td>\n",
       "      <td>0.6423</td>\n",
       "    </tr>\n",
       "    <tr>\n",
       "      <th>3</th>\n",
       "      <td>KernLinearSVC</td>\n",
       "      <td>0.8933</td>\n",
       "      <td>0.8696</td>\n",
       "      <td>0.0237</td>\n",
       "      <td>0.8642</td>\n",
       "      <td>0.7079</td>\n",
       "      <td>0.7541</td>\n",
       "      <td>0.7718</td>\n",
       "      <td>0.6483</td>\n",
       "      <td>0.6819</td>\n",
       "    </tr>\n",
       "    <tr>\n",
       "      <th>4</th>\n",
       "      <td>KernRbfSVC</td>\n",
       "      <td>0.9109</td>\n",
       "      <td>0.8671</td>\n",
       "      <td>0.0437</td>\n",
       "      <td>0.9016</td>\n",
       "      <td>0.7518</td>\n",
       "      <td>0.8010</td>\n",
       "      <td>0.7618</td>\n",
       "      <td>0.6469</td>\n",
       "      <td>0.6789</td>\n",
       "    </tr>\n",
       "    <tr>\n",
       "      <th>5</th>\n",
       "      <td>KernPolySVC</td>\n",
       "      <td>0.9285</td>\n",
       "      <td>0.8575</td>\n",
       "      <td>0.0710</td>\n",
       "      <td>0.9226</td>\n",
       "      <td>0.8033</td>\n",
       "      <td>0.8481</td>\n",
       "      <td>0.7277</td>\n",
       "      <td>0.6348</td>\n",
       "      <td>0.6616</td>\n",
       "    </tr>\n",
       "    <tr>\n",
       "      <th>6</th>\n",
       "      <td>DecisionTree</td>\n",
       "      <td>0.8829</td>\n",
       "      <td>0.8406</td>\n",
       "      <td>0.0423</td>\n",
       "      <td>0.8698</td>\n",
       "      <td>0.6632</td>\n",
       "      <td>0.7090</td>\n",
       "      <td>0.6739</td>\n",
       "      <td>0.6057</td>\n",
       "      <td>0.6247</td>\n",
       "    </tr>\n",
       "  </tbody>\n",
       "</table>\n",
       "</div>"
      ],
      "text/plain": [
       "            ModelType  TrainScore  TestScore  Difference  PrecisionTrn  \\\n",
       "0                 kNN      0.8694     0.8454      0.0240        0.8735   \n",
       "1  LogisticRegression      0.8891     0.8768      0.0123        0.8578   \n",
       "2           LinearSVC      0.8829     0.8696      0.0133        0.8698   \n",
       "3       KernLinearSVC      0.8933     0.8696      0.0237        0.8642   \n",
       "4          KernRbfSVC      0.9109     0.8671      0.0437        0.9016   \n",
       "5         KernPolySVC      0.9285     0.8575      0.0710        0.9226   \n",
       "6        DecisionTree      0.8829     0.8406      0.0423        0.8698   \n",
       "\n",
       "   RecallTrn  f1-scoreTrn  PrecisionTest  RecallTest  f1-scoreTest  \n",
       "0     0.6116       0.6454         0.6779      0.5383        0.5364  \n",
       "1     0.6952       0.7408         0.8222      0.6399        0.6790  \n",
       "2     0.6632       0.7090         0.8128      0.6100        0.6423  \n",
       "3     0.7079       0.7541         0.7718      0.6483        0.6819  \n",
       "4     0.7518       0.8010         0.7618      0.6469        0.6789  \n",
       "5     0.8033       0.8481         0.7277      0.6348        0.6616  \n",
       "6     0.6632       0.7090         0.6739      0.6057        0.6247  "
      ]
     },
     "execution_count": 257,
     "metadata": {},
     "output_type": "execute_result"
    }
   ],
   "source": [
    "P1Results"
   ]
  },
  {
   "cell_type": "markdown",
   "metadata": {},
   "source": [
    "### <font color=green> PCA Model Results </font>"
   ]
  },
  {
   "cell_type": "markdown",
   "metadata": {},
   "source": [
    "**Aggregate the data for each PCA model**"
   ]
  },
  {
   "cell_type": "code",
   "execution_count": 258,
   "metadata": {},
   "outputs": [],
   "source": [
    "pcaModels = np.array([pcaKNNInfo,\n",
    "                    pcaLRInfo,\n",
    "                    pcaLSVCInfo,\n",
    "                    pcaKernLinInfo,\n",
    "                    pcaKernRBFInfo,\n",
    "                    pcaKernPolyInfo,\n",
    "                    pcaDTInfo\n",
    "                    ])\n",
    "pcaValues = pd.DataFrame(pcaModels, columns = ['ModelType', 'TrainScore', 'TestScore', \n",
    "                                               'Difference', 'PrecisionTrn', 'RecallTrn', 'f1-scoreTrn', \n",
    "                                               'PrecisionTest', 'RecallTest', 'f1-scoreTest'])"
   ]
  },
  {
   "cell_type": "markdown",
   "metadata": {},
   "source": [
    "**Set the dtypes to float**"
   ]
  },
  {
   "cell_type": "code",
   "execution_count": 259,
   "metadata": {},
   "outputs": [],
   "source": [
    "pcaValues[['TrainScore', 'TestScore', \n",
    "           'Difference', 'PrecisionTrn', \n",
    "           'RecallTrn', 'f1-scoreTrn', \n",
    "           'PrecisionTest','RecallTest', \n",
    "           'f1-scoreTest']] = pcaValues[['TrainScore', 'TestScore', \n",
    "                                        'Difference', 'PrecisionTrn', \n",
    "                                        'RecallTrn', 'f1-scoreTrn', \n",
    "                                        'PrecisionTest', 'RecallTest', \n",
    "                                        'f1-scoreTest']].astype('float')"
   ]
  },
  {
   "cell_type": "markdown",
   "metadata": {},
   "source": [
    "**Round the data**"
   ]
  },
  {
   "cell_type": "code",
   "execution_count": 260,
   "metadata": {},
   "outputs": [],
   "source": [
    "pcaValues = pcaValues.round(4)"
   ]
  },
  {
   "cell_type": "markdown",
   "metadata": {},
   "source": [
    "**Display DataFrame**"
   ]
  },
  {
   "cell_type": "code",
   "execution_count": 261,
   "metadata": {},
   "outputs": [
    {
     "data": {
      "text/html": [
       "<div>\n",
       "<style scoped>\n",
       "    .dataframe tbody tr th:only-of-type {\n",
       "        vertical-align: middle;\n",
       "    }\n",
       "\n",
       "    .dataframe tbody tr th {\n",
       "        vertical-align: top;\n",
       "    }\n",
       "\n",
       "    .dataframe thead th {\n",
       "        text-align: right;\n",
       "    }\n",
       "</style>\n",
       "<table border=\"1\" class=\"dataframe\">\n",
       "  <thead>\n",
       "    <tr style=\"text-align: right;\">\n",
       "      <th></th>\n",
       "      <th>ModelType</th>\n",
       "      <th>TrainScore</th>\n",
       "      <th>TestScore</th>\n",
       "      <th>Difference</th>\n",
       "      <th>PrecisionTrn</th>\n",
       "      <th>RecallTrn</th>\n",
       "      <th>f1-scoreTrn</th>\n",
       "      <th>PrecisionTest</th>\n",
       "      <th>RecallTest</th>\n",
       "      <th>f1-scoreTest</th>\n",
       "    </tr>\n",
       "  </thead>\n",
       "  <tbody>\n",
       "    <tr>\n",
       "      <th>0</th>\n",
       "      <td>PCA kNN</td>\n",
       "      <td>0.8705</td>\n",
       "      <td>0.8527</td>\n",
       "      <td>0.0178</td>\n",
       "      <td>0.8846</td>\n",
       "      <td>0.6122</td>\n",
       "      <td>0.6467</td>\n",
       "      <td>0.7475</td>\n",
       "      <td>0.5490</td>\n",
       "      <td>0.5528</td>\n",
       "    </tr>\n",
       "    <tr>\n",
       "      <th>1</th>\n",
       "      <td>PCA LR</td>\n",
       "      <td>0.8819</td>\n",
       "      <td>0.8720</td>\n",
       "      <td>0.0099</td>\n",
       "      <td>0.8383</td>\n",
       "      <td>0.6780</td>\n",
       "      <td>0.7207</td>\n",
       "      <td>0.7937</td>\n",
       "      <td>0.6370</td>\n",
       "      <td>0.6728</td>\n",
       "    </tr>\n",
       "    <tr>\n",
       "      <th>2</th>\n",
       "      <td>PCA LinearSVC</td>\n",
       "      <td>0.8777</td>\n",
       "      <td>0.8768</td>\n",
       "      <td>0.0009</td>\n",
       "      <td>0.8668</td>\n",
       "      <td>0.6447</td>\n",
       "      <td>0.6874</td>\n",
       "      <td>0.8450</td>\n",
       "      <td>0.6271</td>\n",
       "      <td>0.6657</td>\n",
       "    </tr>\n",
       "    <tr>\n",
       "      <th>3</th>\n",
       "      <td>PCA KernLinear</td>\n",
       "      <td>0.8839</td>\n",
       "      <td>0.8744</td>\n",
       "      <td>0.0095</td>\n",
       "      <td>0.8664</td>\n",
       "      <td>0.6690</td>\n",
       "      <td>0.7150</td>\n",
       "      <td>0.8160</td>\n",
       "      <td>0.6321</td>\n",
       "      <td>0.6694</td>\n",
       "    </tr>\n",
       "    <tr>\n",
       "      <th>4</th>\n",
       "      <td>PCA KernRBF</td>\n",
       "      <td>0.9026</td>\n",
       "      <td>0.8768</td>\n",
       "      <td>0.0258</td>\n",
       "      <td>0.9008</td>\n",
       "      <td>0.7212</td>\n",
       "      <td>0.7731</td>\n",
       "      <td>0.8222</td>\n",
       "      <td>0.6399</td>\n",
       "      <td>0.6790</td>\n",
       "    </tr>\n",
       "    <tr>\n",
       "      <th>5</th>\n",
       "      <td>PCA KernPoly</td>\n",
       "      <td>0.9088</td>\n",
       "      <td>0.8623</td>\n",
       "      <td>0.0465</td>\n",
       "      <td>0.9322</td>\n",
       "      <td>0.7274</td>\n",
       "      <td>0.7844</td>\n",
       "      <td>0.7634</td>\n",
       "      <td>0.6058</td>\n",
       "      <td>0.6340</td>\n",
       "    </tr>\n",
       "    <tr>\n",
       "      <th>6</th>\n",
       "      <td>PCA DecTree</td>\n",
       "      <td>0.8736</td>\n",
       "      <td>0.8333</td>\n",
       "      <td>0.0402</td>\n",
       "      <td>0.8121</td>\n",
       "      <td>0.6602</td>\n",
       "      <td>0.6989</td>\n",
       "      <td>0.6526</td>\n",
       "      <td>0.5950</td>\n",
       "      <td>0.6110</td>\n",
       "    </tr>\n",
       "  </tbody>\n",
       "</table>\n",
       "</div>"
      ],
      "text/plain": [
       "        ModelType  TrainScore  TestScore  Difference  PrecisionTrn  RecallTrn  \\\n",
       "0         PCA kNN      0.8705     0.8527      0.0178        0.8846     0.6122   \n",
       "1          PCA LR      0.8819     0.8720      0.0099        0.8383     0.6780   \n",
       "2   PCA LinearSVC      0.8777     0.8768      0.0009        0.8668     0.6447   \n",
       "3  PCA KernLinear      0.8839     0.8744      0.0095        0.8664     0.6690   \n",
       "4     PCA KernRBF      0.9026     0.8768      0.0258        0.9008     0.7212   \n",
       "5    PCA KernPoly      0.9088     0.8623      0.0465        0.9322     0.7274   \n",
       "6     PCA DecTree      0.8736     0.8333      0.0402        0.8121     0.6602   \n",
       "\n",
       "   f1-scoreTrn  PrecisionTest  RecallTest  f1-scoreTest  \n",
       "0       0.6467         0.7475      0.5490        0.5528  \n",
       "1       0.7207         0.7937      0.6370        0.6728  \n",
       "2       0.6874         0.8450      0.6271        0.6657  \n",
       "3       0.7150         0.8160      0.6321        0.6694  \n",
       "4       0.7731         0.8222      0.6399        0.6790  \n",
       "5       0.7844         0.7634      0.6058        0.6340  \n",
       "6       0.6989         0.6526      0.5950        0.6110  "
      ]
     },
     "execution_count": 261,
     "metadata": {},
     "output_type": "execute_result"
    }
   ],
   "source": [
    "pcaValues"
   ]
  },
  {
   "cell_type": "markdown",
   "metadata": {},
   "source": [
    "### <font color=green> Results from Voting, AdaBoost, GradientBoost & Bagging/Pasting Models </font>"
   ]
  },
  {
   "cell_type": "markdown",
   "metadata": {},
   "source": [
    "**Aggregate the data for each model**"
   ]
  },
  {
   "cell_type": "code",
   "execution_count": 262,
   "metadata": {},
   "outputs": [],
   "source": [
    "Xvalues = np.array([VotingHInfo,\n",
    "                    VotingSInfo,\n",
    "                    adaDTInfo,\n",
    "                    adaLRInfo,\n",
    "                    gbInfo,\n",
    "                    BaggingDTInfo,\n",
    "                    BaggingLRInfo,\n",
    "                    PastingDTInfo,\n",
    "                    PastingLRInfo])\n",
    "\n",
    "dfValues = pd.DataFrame(Xvalues, columns = ['ModelType', 'TrainScore', 'TestScore', \n",
    "                                            'Difference', 'PrecisionTrn', 'RecallTrn', 'f1-scoreTrn', \n",
    "                                            'PrecisionTest', 'RecallTest', 'f1-scoreTest'])"
   ]
  },
  {
   "cell_type": "markdown",
   "metadata": {},
   "source": [
    "**Set the dtypes to float**"
   ]
  },
  {
   "cell_type": "code",
   "execution_count": 263,
   "metadata": {},
   "outputs": [],
   "source": [
    "dfValues[['TrainScore', 'TestScore', \n",
    "          'Difference', 'PrecisionTrn', \n",
    "          'RecallTrn', 'f1-scoreTrn', \n",
    "          'PrecisionTest','RecallTest', \n",
    "          'f1-scoreTest']] = dfValues[['TrainScore', 'TestScore', \n",
    "                                       'Difference', 'PrecisionTrn', \n",
    "                                       'RecallTrn', 'f1-scoreTrn', \n",
    "                                       'PrecisionTest', 'RecallTest', \n",
    "                                       'f1-scoreTest']].astype('float')"
   ]
  },
  {
   "cell_type": "markdown",
   "metadata": {},
   "source": [
    "**Round the data**"
   ]
  },
  {
   "cell_type": "code",
   "execution_count": 264,
   "metadata": {},
   "outputs": [],
   "source": [
    "dfValues = dfValues.round(4)"
   ]
  },
  {
   "cell_type": "markdown",
   "metadata": {},
   "source": [
    "**Display DataFrame**"
   ]
  },
  {
   "cell_type": "code",
   "execution_count": 265,
   "metadata": {},
   "outputs": [
    {
     "data": {
      "text/html": [
       "<div>\n",
       "<style scoped>\n",
       "    .dataframe tbody tr th:only-of-type {\n",
       "        vertical-align: middle;\n",
       "    }\n",
       "\n",
       "    .dataframe tbody tr th {\n",
       "        vertical-align: top;\n",
       "    }\n",
       "\n",
       "    .dataframe thead th {\n",
       "        text-align: right;\n",
       "    }\n",
       "</style>\n",
       "<table border=\"1\" class=\"dataframe\">\n",
       "  <thead>\n",
       "    <tr style=\"text-align: right;\">\n",
       "      <th></th>\n",
       "      <th>ModelType</th>\n",
       "      <th>TrainScore</th>\n",
       "      <th>TestScore</th>\n",
       "      <th>Difference</th>\n",
       "      <th>PrecisionTrn</th>\n",
       "      <th>RecallTrn</th>\n",
       "      <th>f1-scoreTrn</th>\n",
       "      <th>PrecisionTest</th>\n",
       "      <th>RecallTest</th>\n",
       "      <th>f1-scoreTest</th>\n",
       "    </tr>\n",
       "  </thead>\n",
       "  <tbody>\n",
       "    <tr>\n",
       "      <th>0</th>\n",
       "      <td>VotingHard</td>\n",
       "      <td>0.8912</td>\n",
       "      <td>0.8744</td>\n",
       "      <td>0.0168</td>\n",
       "      <td>0.8729</td>\n",
       "      <td>0.6938</td>\n",
       "      <td>0.7418</td>\n",
       "      <td>0.8160</td>\n",
       "      <td>0.6321</td>\n",
       "      <td>0.6694</td>\n",
       "    </tr>\n",
       "    <tr>\n",
       "      <th>1</th>\n",
       "      <td>VotingSoft</td>\n",
       "      <td>0.8881</td>\n",
       "      <td>0.8575</td>\n",
       "      <td>0.0306</td>\n",
       "      <td>0.9076</td>\n",
       "      <td>0.6663</td>\n",
       "      <td>0.7162</td>\n",
       "      <td>0.7776</td>\n",
       "      <td>0.5646</td>\n",
       "      <td>0.5776</td>\n",
       "    </tr>\n",
       "    <tr>\n",
       "      <th>2</th>\n",
       "      <td>AdaBoostDT</td>\n",
       "      <td>1.0000</td>\n",
       "      <td>0.8502</td>\n",
       "      <td>0.1498</td>\n",
       "      <td>1.0000</td>\n",
       "      <td>1.0000</td>\n",
       "      <td>1.0000</td>\n",
       "      <td>0.7122</td>\n",
       "      <td>0.5603</td>\n",
       "      <td>0.5711</td>\n",
       "    </tr>\n",
       "    <tr>\n",
       "      <th>3</th>\n",
       "      <td>AdaBoostLR</td>\n",
       "      <td>0.8819</td>\n",
       "      <td>0.8671</td>\n",
       "      <td>0.0147</td>\n",
       "      <td>0.8290</td>\n",
       "      <td>0.6857</td>\n",
       "      <td>0.7268</td>\n",
       "      <td>0.7739</td>\n",
       "      <td>0.6278</td>\n",
       "      <td>0.6605</td>\n",
       "    </tr>\n",
       "    <tr>\n",
       "      <th>4</th>\n",
       "      <td>GradientBoost</td>\n",
       "      <td>0.9233</td>\n",
       "      <td>0.8671</td>\n",
       "      <td>0.0562</td>\n",
       "      <td>0.9380</td>\n",
       "      <td>0.7746</td>\n",
       "      <td>0.8288</td>\n",
       "      <td>0.7739</td>\n",
       "      <td>0.6278</td>\n",
       "      <td>0.6605</td>\n",
       "    </tr>\n",
       "    <tr>\n",
       "      <th>5</th>\n",
       "      <td>Bagging DT</td>\n",
       "      <td>0.8611</td>\n",
       "      <td>0.8502</td>\n",
       "      <td>0.0109</td>\n",
       "      <td>0.8926</td>\n",
       "      <td>0.5784</td>\n",
       "      <td>0.5975</td>\n",
       "      <td>0.7398</td>\n",
       "      <td>0.5348</td>\n",
       "      <td>0.5284</td>\n",
       "    </tr>\n",
       "    <tr>\n",
       "      <th>6</th>\n",
       "      <td>Bagging LR</td>\n",
       "      <td>0.8435</td>\n",
       "      <td>0.8527</td>\n",
       "      <td>0.0091</td>\n",
       "      <td>0.8591</td>\n",
       "      <td>0.5217</td>\n",
       "      <td>0.4996</td>\n",
       "      <td>0.9258</td>\n",
       "      <td>0.5234</td>\n",
       "      <td>0.5047</td>\n",
       "    </tr>\n",
       "    <tr>\n",
       "      <th>7</th>\n",
       "      <td>Pasting DT</td>\n",
       "      <td>0.8611</td>\n",
       "      <td>0.8478</td>\n",
       "      <td>0.0133</td>\n",
       "      <td>0.9093</td>\n",
       "      <td>0.5758</td>\n",
       "      <td>0.5935</td>\n",
       "      <td>0.7120</td>\n",
       "      <td>0.5270</td>\n",
       "      <td>0.5147</td>\n",
       "    </tr>\n",
       "    <tr>\n",
       "      <th>8</th>\n",
       "      <td>Pasting LR</td>\n",
       "      <td>0.8435</td>\n",
       "      <td>0.8527</td>\n",
       "      <td>0.0091</td>\n",
       "      <td>0.8591</td>\n",
       "      <td>0.5217</td>\n",
       "      <td>0.4996</td>\n",
       "      <td>0.9258</td>\n",
       "      <td>0.5234</td>\n",
       "      <td>0.5047</td>\n",
       "    </tr>\n",
       "  </tbody>\n",
       "</table>\n",
       "</div>"
      ],
      "text/plain": [
       "       ModelType  TrainScore  TestScore  Difference  PrecisionTrn  RecallTrn  \\\n",
       "0     VotingHard      0.8912     0.8744      0.0168        0.8729     0.6938   \n",
       "1     VotingSoft      0.8881     0.8575      0.0306        0.9076     0.6663   \n",
       "2     AdaBoostDT      1.0000     0.8502      0.1498        1.0000     1.0000   \n",
       "3     AdaBoostLR      0.8819     0.8671      0.0147        0.8290     0.6857   \n",
       "4  GradientBoost      0.9233     0.8671      0.0562        0.9380     0.7746   \n",
       "5     Bagging DT      0.8611     0.8502      0.0109        0.8926     0.5784   \n",
       "6     Bagging LR      0.8435     0.8527      0.0091        0.8591     0.5217   \n",
       "7     Pasting DT      0.8611     0.8478      0.0133        0.9093     0.5758   \n",
       "8     Pasting LR      0.8435     0.8527      0.0091        0.8591     0.5217   \n",
       "\n",
       "   f1-scoreTrn  PrecisionTest  RecallTest  f1-scoreTest  \n",
       "0       0.7418         0.8160      0.6321        0.6694  \n",
       "1       0.7162         0.7776      0.5646        0.5776  \n",
       "2       1.0000         0.7122      0.5603        0.5711  \n",
       "3       0.7268         0.7739      0.6278        0.6605  \n",
       "4       0.8288         0.7739      0.6278        0.6605  \n",
       "5       0.5975         0.7398      0.5348        0.5284  \n",
       "6       0.4996         0.9258      0.5234        0.5047  \n",
       "7       0.5935         0.7120      0.5270        0.5147  \n",
       "8       0.4996         0.9258      0.5234        0.5047  "
      ]
     },
     "execution_count": 265,
     "metadata": {},
     "output_type": "execute_result"
    }
   ],
   "source": [
    "dfValues"
   ]
  },
  {
   "cell_type": "markdown",
   "metadata": {},
   "source": [
    "### <font color=green> Comparison Between Model Results </font>"
   ]
  },
  {
   "cell_type": "markdown",
   "metadata": {},
   "source": [
    "**Project 1 Model Results**"
   ]
  },
  {
   "cell_type": "code",
   "execution_count": 266,
   "metadata": {},
   "outputs": [
    {
     "data": {
      "text/html": [
       "<div>\n",
       "<style scoped>\n",
       "    .dataframe tbody tr th:only-of-type {\n",
       "        vertical-align: middle;\n",
       "    }\n",
       "\n",
       "    .dataframe tbody tr th {\n",
       "        vertical-align: top;\n",
       "    }\n",
       "\n",
       "    .dataframe thead th {\n",
       "        text-align: right;\n",
       "    }\n",
       "</style>\n",
       "<table border=\"1\" class=\"dataframe\">\n",
       "  <thead>\n",
       "    <tr style=\"text-align: right;\">\n",
       "      <th></th>\n",
       "      <th>ModelType</th>\n",
       "      <th>TrainScore</th>\n",
       "      <th>TestScore</th>\n",
       "      <th>Difference</th>\n",
       "      <th>PrecisionTrn</th>\n",
       "      <th>RecallTrn</th>\n",
       "      <th>f1-scoreTrn</th>\n",
       "      <th>PrecisionTest</th>\n",
       "      <th>RecallTest</th>\n",
       "      <th>f1-scoreTest</th>\n",
       "    </tr>\n",
       "  </thead>\n",
       "  <tbody>\n",
       "    <tr>\n",
       "      <th>0</th>\n",
       "      <td>kNN</td>\n",
       "      <td>0.8694</td>\n",
       "      <td>0.8454</td>\n",
       "      <td>0.0240</td>\n",
       "      <td>0.8735</td>\n",
       "      <td>0.6116</td>\n",
       "      <td>0.6454</td>\n",
       "      <td>0.6779</td>\n",
       "      <td>0.5383</td>\n",
       "      <td>0.5364</td>\n",
       "    </tr>\n",
       "    <tr>\n",
       "      <th>1</th>\n",
       "      <td>LogisticRegression</td>\n",
       "      <td>0.8891</td>\n",
       "      <td>0.8768</td>\n",
       "      <td>0.0123</td>\n",
       "      <td>0.8578</td>\n",
       "      <td>0.6952</td>\n",
       "      <td>0.7408</td>\n",
       "      <td>0.8222</td>\n",
       "      <td>0.6399</td>\n",
       "      <td>0.6790</td>\n",
       "    </tr>\n",
       "    <tr>\n",
       "      <th>2</th>\n",
       "      <td>LinearSVC</td>\n",
       "      <td>0.8829</td>\n",
       "      <td>0.8696</td>\n",
       "      <td>0.0133</td>\n",
       "      <td>0.8698</td>\n",
       "      <td>0.6632</td>\n",
       "      <td>0.7090</td>\n",
       "      <td>0.8128</td>\n",
       "      <td>0.6100</td>\n",
       "      <td>0.6423</td>\n",
       "    </tr>\n",
       "    <tr>\n",
       "      <th>3</th>\n",
       "      <td>KernLinearSVC</td>\n",
       "      <td>0.8933</td>\n",
       "      <td>0.8696</td>\n",
       "      <td>0.0237</td>\n",
       "      <td>0.8642</td>\n",
       "      <td>0.7079</td>\n",
       "      <td>0.7541</td>\n",
       "      <td>0.7718</td>\n",
       "      <td>0.6483</td>\n",
       "      <td>0.6819</td>\n",
       "    </tr>\n",
       "    <tr>\n",
       "      <th>4</th>\n",
       "      <td>KernRbfSVC</td>\n",
       "      <td>0.9109</td>\n",
       "      <td>0.8671</td>\n",
       "      <td>0.0437</td>\n",
       "      <td>0.9016</td>\n",
       "      <td>0.7518</td>\n",
       "      <td>0.8010</td>\n",
       "      <td>0.7618</td>\n",
       "      <td>0.6469</td>\n",
       "      <td>0.6789</td>\n",
       "    </tr>\n",
       "    <tr>\n",
       "      <th>5</th>\n",
       "      <td>KernPolySVC</td>\n",
       "      <td>0.9285</td>\n",
       "      <td>0.8575</td>\n",
       "      <td>0.0710</td>\n",
       "      <td>0.9226</td>\n",
       "      <td>0.8033</td>\n",
       "      <td>0.8481</td>\n",
       "      <td>0.7277</td>\n",
       "      <td>0.6348</td>\n",
       "      <td>0.6616</td>\n",
       "    </tr>\n",
       "    <tr>\n",
       "      <th>6</th>\n",
       "      <td>DecisionTree</td>\n",
       "      <td>0.8829</td>\n",
       "      <td>0.8406</td>\n",
       "      <td>0.0423</td>\n",
       "      <td>0.8698</td>\n",
       "      <td>0.6632</td>\n",
       "      <td>0.7090</td>\n",
       "      <td>0.6739</td>\n",
       "      <td>0.6057</td>\n",
       "      <td>0.6247</td>\n",
       "    </tr>\n",
       "  </tbody>\n",
       "</table>\n",
       "</div>"
      ],
      "text/plain": [
       "            ModelType  TrainScore  TestScore  Difference  PrecisionTrn  \\\n",
       "0                 kNN      0.8694     0.8454      0.0240        0.8735   \n",
       "1  LogisticRegression      0.8891     0.8768      0.0123        0.8578   \n",
       "2           LinearSVC      0.8829     0.8696      0.0133        0.8698   \n",
       "3       KernLinearSVC      0.8933     0.8696      0.0237        0.8642   \n",
       "4          KernRbfSVC      0.9109     0.8671      0.0437        0.9016   \n",
       "5         KernPolySVC      0.9285     0.8575      0.0710        0.9226   \n",
       "6        DecisionTree      0.8829     0.8406      0.0423        0.8698   \n",
       "\n",
       "   RecallTrn  f1-scoreTrn  PrecisionTest  RecallTest  f1-scoreTest  \n",
       "0     0.6116       0.6454         0.6779      0.5383        0.5364  \n",
       "1     0.6952       0.7408         0.8222      0.6399        0.6790  \n",
       "2     0.6632       0.7090         0.8128      0.6100        0.6423  \n",
       "3     0.7079       0.7541         0.7718      0.6483        0.6819  \n",
       "4     0.7518       0.8010         0.7618      0.6469        0.6789  \n",
       "5     0.8033       0.8481         0.7277      0.6348        0.6616  \n",
       "6     0.6632       0.7090         0.6739      0.6057        0.6247  "
      ]
     },
     "execution_count": 266,
     "metadata": {},
     "output_type": "execute_result"
    }
   ],
   "source": [
    "P1Results"
   ]
  },
  {
   "cell_type": "markdown",
   "metadata": {},
   "source": [
    "**PCA Model Results**"
   ]
  },
  {
   "cell_type": "code",
   "execution_count": 267,
   "metadata": {},
   "outputs": [
    {
     "data": {
      "text/html": [
       "<div>\n",
       "<style scoped>\n",
       "    .dataframe tbody tr th:only-of-type {\n",
       "        vertical-align: middle;\n",
       "    }\n",
       "\n",
       "    .dataframe tbody tr th {\n",
       "        vertical-align: top;\n",
       "    }\n",
       "\n",
       "    .dataframe thead th {\n",
       "        text-align: right;\n",
       "    }\n",
       "</style>\n",
       "<table border=\"1\" class=\"dataframe\">\n",
       "  <thead>\n",
       "    <tr style=\"text-align: right;\">\n",
       "      <th></th>\n",
       "      <th>ModelType</th>\n",
       "      <th>TrainScore</th>\n",
       "      <th>TestScore</th>\n",
       "      <th>Difference</th>\n",
       "      <th>PrecisionTrn</th>\n",
       "      <th>RecallTrn</th>\n",
       "      <th>f1-scoreTrn</th>\n",
       "      <th>PrecisionTest</th>\n",
       "      <th>RecallTest</th>\n",
       "      <th>f1-scoreTest</th>\n",
       "    </tr>\n",
       "  </thead>\n",
       "  <tbody>\n",
       "    <tr>\n",
       "      <th>0</th>\n",
       "      <td>PCA kNN</td>\n",
       "      <td>0.8705</td>\n",
       "      <td>0.8527</td>\n",
       "      <td>0.0178</td>\n",
       "      <td>0.8846</td>\n",
       "      <td>0.6122</td>\n",
       "      <td>0.6467</td>\n",
       "      <td>0.7475</td>\n",
       "      <td>0.5490</td>\n",
       "      <td>0.5528</td>\n",
       "    </tr>\n",
       "    <tr>\n",
       "      <th>1</th>\n",
       "      <td>PCA LR</td>\n",
       "      <td>0.8819</td>\n",
       "      <td>0.8720</td>\n",
       "      <td>0.0099</td>\n",
       "      <td>0.8383</td>\n",
       "      <td>0.6780</td>\n",
       "      <td>0.7207</td>\n",
       "      <td>0.7937</td>\n",
       "      <td>0.6370</td>\n",
       "      <td>0.6728</td>\n",
       "    </tr>\n",
       "    <tr>\n",
       "      <th>2</th>\n",
       "      <td>PCA LinearSVC</td>\n",
       "      <td>0.8777</td>\n",
       "      <td>0.8768</td>\n",
       "      <td>0.0009</td>\n",
       "      <td>0.8668</td>\n",
       "      <td>0.6447</td>\n",
       "      <td>0.6874</td>\n",
       "      <td>0.8450</td>\n",
       "      <td>0.6271</td>\n",
       "      <td>0.6657</td>\n",
       "    </tr>\n",
       "    <tr>\n",
       "      <th>3</th>\n",
       "      <td>PCA KernLinear</td>\n",
       "      <td>0.8839</td>\n",
       "      <td>0.8744</td>\n",
       "      <td>0.0095</td>\n",
       "      <td>0.8664</td>\n",
       "      <td>0.6690</td>\n",
       "      <td>0.7150</td>\n",
       "      <td>0.8160</td>\n",
       "      <td>0.6321</td>\n",
       "      <td>0.6694</td>\n",
       "    </tr>\n",
       "    <tr>\n",
       "      <th>4</th>\n",
       "      <td>PCA KernRBF</td>\n",
       "      <td>0.9026</td>\n",
       "      <td>0.8768</td>\n",
       "      <td>0.0258</td>\n",
       "      <td>0.9008</td>\n",
       "      <td>0.7212</td>\n",
       "      <td>0.7731</td>\n",
       "      <td>0.8222</td>\n",
       "      <td>0.6399</td>\n",
       "      <td>0.6790</td>\n",
       "    </tr>\n",
       "    <tr>\n",
       "      <th>5</th>\n",
       "      <td>PCA KernPoly</td>\n",
       "      <td>0.9088</td>\n",
       "      <td>0.8623</td>\n",
       "      <td>0.0465</td>\n",
       "      <td>0.9322</td>\n",
       "      <td>0.7274</td>\n",
       "      <td>0.7844</td>\n",
       "      <td>0.7634</td>\n",
       "      <td>0.6058</td>\n",
       "      <td>0.6340</td>\n",
       "    </tr>\n",
       "    <tr>\n",
       "      <th>6</th>\n",
       "      <td>PCA DecTree</td>\n",
       "      <td>0.8736</td>\n",
       "      <td>0.8333</td>\n",
       "      <td>0.0402</td>\n",
       "      <td>0.8121</td>\n",
       "      <td>0.6602</td>\n",
       "      <td>0.6989</td>\n",
       "      <td>0.6526</td>\n",
       "      <td>0.5950</td>\n",
       "      <td>0.6110</td>\n",
       "    </tr>\n",
       "  </tbody>\n",
       "</table>\n",
       "</div>"
      ],
      "text/plain": [
       "        ModelType  TrainScore  TestScore  Difference  PrecisionTrn  RecallTrn  \\\n",
       "0         PCA kNN      0.8705     0.8527      0.0178        0.8846     0.6122   \n",
       "1          PCA LR      0.8819     0.8720      0.0099        0.8383     0.6780   \n",
       "2   PCA LinearSVC      0.8777     0.8768      0.0009        0.8668     0.6447   \n",
       "3  PCA KernLinear      0.8839     0.8744      0.0095        0.8664     0.6690   \n",
       "4     PCA KernRBF      0.9026     0.8768      0.0258        0.9008     0.7212   \n",
       "5    PCA KernPoly      0.9088     0.8623      0.0465        0.9322     0.7274   \n",
       "6     PCA DecTree      0.8736     0.8333      0.0402        0.8121     0.6602   \n",
       "\n",
       "   f1-scoreTrn  PrecisionTest  RecallTest  f1-scoreTest  \n",
       "0       0.6467         0.7475      0.5490        0.5528  \n",
       "1       0.7207         0.7937      0.6370        0.6728  \n",
       "2       0.6874         0.8450      0.6271        0.6657  \n",
       "3       0.7150         0.8160      0.6321        0.6694  \n",
       "4       0.7731         0.8222      0.6399        0.6790  \n",
       "5       0.7844         0.7634      0.6058        0.6340  \n",
       "6       0.6989         0.6526      0.5950        0.6110  "
      ]
     },
     "execution_count": 267,
     "metadata": {},
     "output_type": "execute_result"
    }
   ],
   "source": [
    "pcaValues"
   ]
  },
  {
   "cell_type": "markdown",
   "metadata": {},
   "source": [
    "**Other Model Results**"
   ]
  },
  {
   "cell_type": "code",
   "execution_count": 268,
   "metadata": {},
   "outputs": [
    {
     "data": {
      "text/html": [
       "<div>\n",
       "<style scoped>\n",
       "    .dataframe tbody tr th:only-of-type {\n",
       "        vertical-align: middle;\n",
       "    }\n",
       "\n",
       "    .dataframe tbody tr th {\n",
       "        vertical-align: top;\n",
       "    }\n",
       "\n",
       "    .dataframe thead th {\n",
       "        text-align: right;\n",
       "    }\n",
       "</style>\n",
       "<table border=\"1\" class=\"dataframe\">\n",
       "  <thead>\n",
       "    <tr style=\"text-align: right;\">\n",
       "      <th></th>\n",
       "      <th>ModelType</th>\n",
       "      <th>TrainScore</th>\n",
       "      <th>TestScore</th>\n",
       "      <th>Difference</th>\n",
       "      <th>PrecisionTrn</th>\n",
       "      <th>RecallTrn</th>\n",
       "      <th>f1-scoreTrn</th>\n",
       "      <th>PrecisionTest</th>\n",
       "      <th>RecallTest</th>\n",
       "      <th>f1-scoreTest</th>\n",
       "    </tr>\n",
       "  </thead>\n",
       "  <tbody>\n",
       "    <tr>\n",
       "      <th>0</th>\n",
       "      <td>VotingHard</td>\n",
       "      <td>0.8912</td>\n",
       "      <td>0.8744</td>\n",
       "      <td>0.0168</td>\n",
       "      <td>0.8729</td>\n",
       "      <td>0.6938</td>\n",
       "      <td>0.7418</td>\n",
       "      <td>0.8160</td>\n",
       "      <td>0.6321</td>\n",
       "      <td>0.6694</td>\n",
       "    </tr>\n",
       "    <tr>\n",
       "      <th>1</th>\n",
       "      <td>VotingSoft</td>\n",
       "      <td>0.8881</td>\n",
       "      <td>0.8575</td>\n",
       "      <td>0.0306</td>\n",
       "      <td>0.9076</td>\n",
       "      <td>0.6663</td>\n",
       "      <td>0.7162</td>\n",
       "      <td>0.7776</td>\n",
       "      <td>0.5646</td>\n",
       "      <td>0.5776</td>\n",
       "    </tr>\n",
       "    <tr>\n",
       "      <th>2</th>\n",
       "      <td>AdaBoostDT</td>\n",
       "      <td>1.0000</td>\n",
       "      <td>0.8502</td>\n",
       "      <td>0.1498</td>\n",
       "      <td>1.0000</td>\n",
       "      <td>1.0000</td>\n",
       "      <td>1.0000</td>\n",
       "      <td>0.7122</td>\n",
       "      <td>0.5603</td>\n",
       "      <td>0.5711</td>\n",
       "    </tr>\n",
       "    <tr>\n",
       "      <th>3</th>\n",
       "      <td>AdaBoostLR</td>\n",
       "      <td>0.8819</td>\n",
       "      <td>0.8671</td>\n",
       "      <td>0.0147</td>\n",
       "      <td>0.8290</td>\n",
       "      <td>0.6857</td>\n",
       "      <td>0.7268</td>\n",
       "      <td>0.7739</td>\n",
       "      <td>0.6278</td>\n",
       "      <td>0.6605</td>\n",
       "    </tr>\n",
       "    <tr>\n",
       "      <th>4</th>\n",
       "      <td>GradientBoost</td>\n",
       "      <td>0.9233</td>\n",
       "      <td>0.8671</td>\n",
       "      <td>0.0562</td>\n",
       "      <td>0.9380</td>\n",
       "      <td>0.7746</td>\n",
       "      <td>0.8288</td>\n",
       "      <td>0.7739</td>\n",
       "      <td>0.6278</td>\n",
       "      <td>0.6605</td>\n",
       "    </tr>\n",
       "    <tr>\n",
       "      <th>5</th>\n",
       "      <td>Bagging DT</td>\n",
       "      <td>0.8611</td>\n",
       "      <td>0.8502</td>\n",
       "      <td>0.0109</td>\n",
       "      <td>0.8926</td>\n",
       "      <td>0.5784</td>\n",
       "      <td>0.5975</td>\n",
       "      <td>0.7398</td>\n",
       "      <td>0.5348</td>\n",
       "      <td>0.5284</td>\n",
       "    </tr>\n",
       "    <tr>\n",
       "      <th>6</th>\n",
       "      <td>Bagging LR</td>\n",
       "      <td>0.8435</td>\n",
       "      <td>0.8527</td>\n",
       "      <td>0.0091</td>\n",
       "      <td>0.8591</td>\n",
       "      <td>0.5217</td>\n",
       "      <td>0.4996</td>\n",
       "      <td>0.9258</td>\n",
       "      <td>0.5234</td>\n",
       "      <td>0.5047</td>\n",
       "    </tr>\n",
       "    <tr>\n",
       "      <th>7</th>\n",
       "      <td>Pasting DT</td>\n",
       "      <td>0.8611</td>\n",
       "      <td>0.8478</td>\n",
       "      <td>0.0133</td>\n",
       "      <td>0.9093</td>\n",
       "      <td>0.5758</td>\n",
       "      <td>0.5935</td>\n",
       "      <td>0.7120</td>\n",
       "      <td>0.5270</td>\n",
       "      <td>0.5147</td>\n",
       "    </tr>\n",
       "    <tr>\n",
       "      <th>8</th>\n",
       "      <td>Pasting LR</td>\n",
       "      <td>0.8435</td>\n",
       "      <td>0.8527</td>\n",
       "      <td>0.0091</td>\n",
       "      <td>0.8591</td>\n",
       "      <td>0.5217</td>\n",
       "      <td>0.4996</td>\n",
       "      <td>0.9258</td>\n",
       "      <td>0.5234</td>\n",
       "      <td>0.5047</td>\n",
       "    </tr>\n",
       "  </tbody>\n",
       "</table>\n",
       "</div>"
      ],
      "text/plain": [
       "       ModelType  TrainScore  TestScore  Difference  PrecisionTrn  RecallTrn  \\\n",
       "0     VotingHard      0.8912     0.8744      0.0168        0.8729     0.6938   \n",
       "1     VotingSoft      0.8881     0.8575      0.0306        0.9076     0.6663   \n",
       "2     AdaBoostDT      1.0000     0.8502      0.1498        1.0000     1.0000   \n",
       "3     AdaBoostLR      0.8819     0.8671      0.0147        0.8290     0.6857   \n",
       "4  GradientBoost      0.9233     0.8671      0.0562        0.9380     0.7746   \n",
       "5     Bagging DT      0.8611     0.8502      0.0109        0.8926     0.5784   \n",
       "6     Bagging LR      0.8435     0.8527      0.0091        0.8591     0.5217   \n",
       "7     Pasting DT      0.8611     0.8478      0.0133        0.9093     0.5758   \n",
       "8     Pasting LR      0.8435     0.8527      0.0091        0.8591     0.5217   \n",
       "\n",
       "   f1-scoreTrn  PrecisionTest  RecallTest  f1-scoreTest  \n",
       "0       0.7418         0.8160      0.6321        0.6694  \n",
       "1       0.7162         0.7776      0.5646        0.5776  \n",
       "2       1.0000         0.7122      0.5603        0.5711  \n",
       "3       0.7268         0.7739      0.6278        0.6605  \n",
       "4       0.8288         0.7739      0.6278        0.6605  \n",
       "5       0.5975         0.7398      0.5348        0.5284  \n",
       "6       0.4996         0.9258      0.5234        0.5047  \n",
       "7       0.5935         0.7120      0.5270        0.5147  \n",
       "8       0.4996         0.9258      0.5234        0.5047  "
      ]
     },
     "execution_count": 268,
     "metadata": {},
     "output_type": "execute_result"
    }
   ],
   "source": [
    "dfValues"
   ]
  },
  {
   "cell_type": "markdown",
   "metadata": {},
   "source": [
    "**PCA Results vs. Project 1 Results**"
   ]
  },
  {
   "cell_type": "markdown",
   "metadata": {},
   "source": [
    "In Project 1 we chose Logistic Regression as the 'best option' for prediction on this dataset. Comparing thae Logistic Regression results to the overall PCA results, it seems that PCA does not help in achieving better results. The closest results were in the Kernelized RBF PCA results, which scored similarly (looking at the f1 score) to the Logistic Regression f1 score for the test set, but it fell behind on the f1-score for the train set as well as having a larger difference between the train and test accuracy scores (and thus are larger risk of overfitting)."
   ]
  },
  {
   "cell_type": "markdown",
   "metadata": {},
   "source": [
    "**Other Model Results Analysis**"
   ]
  },
  {
   "cell_type": "markdown",
   "metadata": {},
   "source": [
    "Similar to the PCA results, majority of the other models (Voting, AdaBoost, GradientBoost, Bagging & Pasting) did not perform well compared to the original results received in project 1. The closest model to achieving similar results was the Hard Voting Classifier, which had a slighlty higher accuracy scores and a higher f1-score for the training set, while having a slighly lower f1-score for the testing set. "
   ]
  }
 ],
 "metadata": {
  "kernelspec": {
   "display_name": "Python 3",
   "language": "python",
   "name": "python3"
  },
  "language_info": {
   "codemirror_mode": {
    "name": "ipython",
    "version": 3
   },
   "file_extension": ".py",
   "mimetype": "text/x-python",
   "name": "python",
   "nbconvert_exporter": "python",
   "pygments_lexer": "ipython3",
   "version": "3.8.3"
  }
 },
 "nbformat": 4,
 "nbformat_minor": 4
}
