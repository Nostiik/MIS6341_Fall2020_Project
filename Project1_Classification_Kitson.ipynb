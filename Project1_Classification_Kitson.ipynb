{
 "cells": [
  {
   "cell_type": "markdown",
   "metadata": {},
   "source": [
    "# Classification"
   ]
  },
  {
   "cell_type": "markdown",
   "metadata": {},
   "source": [
    "For the Classification portion of this project we'll be using the Employee Attrition dataset created by IBM that is uploaded on Kaggle: https://www.kaggle.com/pavansubhasht/ibm-hr-analytics-attrition-dataset "
   ]
  },
  {
   "cell_type": "markdown",
   "metadata": {},
   "source": [
    "## <font color=blue> Importing Basic Libraries and Reading Dataset </font>"
   ]
  },
  {
   "cell_type": "code",
   "execution_count": 1,
   "metadata": {},
   "outputs": [],
   "source": [
    "import pandas as pd\n",
    "import numpy as np \n",
    "import matplotlib.pyplot as plt"
   ]
  },
  {
   "cell_type": "code",
   "execution_count": 2,
   "metadata": {},
   "outputs": [],
   "source": [
    "df = pd.read_csv(\"IBM_HR_EmployeeAttrition.csv\")"
   ]
  },
  {
   "cell_type": "markdown",
   "metadata": {},
   "source": [
    "## <font color=blue> Data Exploration & Preparation </font>"
   ]
  },
  {
   "cell_type": "markdown",
   "metadata": {},
   "source": [
    "#### Null ~5% to 10% of dataset and drop NaN values"
   ]
  },
  {
   "cell_type": "markdown",
   "metadata": {},
   "source": [
    "Setting RNG seed and creating NaN values randomly within data set the .002 was generated using trial and error by calculating proportion of NaN values to rest of dataset (shown in next cell)."
   ]
  },
  {
   "cell_type": "code",
   "execution_count": 3,
   "metadata": {},
   "outputs": [],
   "source": [
    "np.random.seed(200)\n",
    "df = df.mask(np.random.random(df.shape) < .002)"
   ]
  },
  {
   "cell_type": "code",
   "execution_count": 4,
   "metadata": {},
   "outputs": [
    {
     "name": "stdout",
     "output_type": "stream",
     "text": [
      "Count of NaN data: 94\n",
      "NaN data relative to number of rows: 0.06394557823129252\n"
     ]
    }
   ],
   "source": [
    "print('Count of NaN data:', df.isna().sum().sum())\n",
    "print('NaN data relative to number of rows:', (df.isna().sum().sum() / df.shape[0]))"
   ]
  },
  {
   "cell_type": "code",
   "execution_count": 5,
   "metadata": {},
   "outputs": [],
   "source": [
    "# Removing NaN values\n",
    "df.dropna(how='any', inplace=True)"
   ]
  },
  {
   "cell_type": "markdown",
   "metadata": {},
   "source": [
    "#### Dataset Exploration"
   ]
  },
  {
   "cell_type": "code",
   "execution_count": 6,
   "metadata": {},
   "outputs": [
    {
     "name": "stdout",
     "output_type": "stream",
     "text": [
      "<class 'pandas.core.frame.DataFrame'>\n",
      "Int64Index: 1379 entries, 0 to 1469\n",
      "Data columns (total 35 columns):\n",
      " #   Column                    Non-Null Count  Dtype  \n",
      "---  ------                    --------------  -----  \n",
      " 0   Age                       1379 non-null   int64  \n",
      " 1   Attrition                 1379 non-null   object \n",
      " 2   BusinessTravel            1379 non-null   object \n",
      " 3   DailyRate                 1379 non-null   float64\n",
      " 4   Department                1379 non-null   object \n",
      " 5   DistanceFromHome          1379 non-null   float64\n",
      " 6   Education                 1379 non-null   float64\n",
      " 7   EducationField            1379 non-null   object \n",
      " 8   EmployeeCount             1379 non-null   float64\n",
      " 9   EmployeeNumber            1379 non-null   float64\n",
      " 10  EnvironmentSatisfaction   1379 non-null   float64\n",
      " 11  Gender                    1379 non-null   object \n",
      " 12  HourlyRate                1379 non-null   float64\n",
      " 13  JobInvolvement            1379 non-null   float64\n",
      " 14  JobLevel                  1379 non-null   int64  \n",
      " 15  JobRole                   1379 non-null   object \n",
      " 16  JobSatisfaction           1379 non-null   float64\n",
      " 17  MaritalStatus             1379 non-null   object \n",
      " 18  MonthlyIncome             1379 non-null   float64\n",
      " 19  MonthlyRate               1379 non-null   float64\n",
      " 20  NumCompaniesWorked        1379 non-null   float64\n",
      " 21  Over18                    1379 non-null   object \n",
      " 22  OverTime                  1379 non-null   object \n",
      " 23  PercentSalaryHike         1379 non-null   float64\n",
      " 24  PerformanceRating         1379 non-null   float64\n",
      " 25  RelationshipSatisfaction  1379 non-null   float64\n",
      " 26  StandardHours             1379 non-null   float64\n",
      " 27  StockOptionLevel          1379 non-null   float64\n",
      " 28  TotalWorkingYears         1379 non-null   float64\n",
      " 29  TrainingTimesLastYear     1379 non-null   float64\n",
      " 30  WorkLifeBalance           1379 non-null   float64\n",
      " 31  YearsAtCompany            1379 non-null   float64\n",
      " 32  YearsInCurrentRole        1379 non-null   float64\n",
      " 33  YearsSinceLastPromotion   1379 non-null   float64\n",
      " 34  YearsWithCurrManager      1379 non-null   float64\n",
      "dtypes: float64(24), int64(2), object(9)\n",
      "memory usage: 387.8+ KB\n"
     ]
    }
   ],
   "source": [
    "# Check Dtypes\n",
    "df.info()"
   ]
  },
  {
   "cell_type": "code",
   "execution_count": 7,
   "metadata": {},
   "outputs": [
    {
     "data": {
      "text/plain": [
       "array(['Yes', 'No'], dtype=object)"
      ]
     },
     "execution_count": 7,
     "metadata": {},
     "output_type": "execute_result"
    }
   ],
   "source": [
    "df['Attrition'].unique() # Target Column - Map"
   ]
  },
  {
   "cell_type": "code",
   "execution_count": 8,
   "metadata": {},
   "outputs": [
    {
     "data": {
      "text/plain": [
       "array(['Travel_Rarely', 'Travel_Frequently', 'Non-Travel'], dtype=object)"
      ]
     },
     "execution_count": 8,
     "metadata": {},
     "output_type": "execute_result"
    }
   ],
   "source": [
    "df['BusinessTravel'].unique() # One-hot encode"
   ]
  },
  {
   "cell_type": "code",
   "execution_count": 9,
   "metadata": {},
   "outputs": [
    {
     "data": {
      "text/plain": [
       "array(['Sales', 'Research & Development', 'Human Resources'], dtype=object)"
      ]
     },
     "execution_count": 9,
     "metadata": {},
     "output_type": "execute_result"
    }
   ],
   "source": [
    "df['Department'].unique() # One-hot encode"
   ]
  },
  {
   "cell_type": "code",
   "execution_count": 10,
   "metadata": {},
   "outputs": [
    {
     "data": {
      "text/plain": [
       "array(['Life Sciences', 'Other', 'Medical', 'Marketing',\n",
       "       'Technical Degree', 'Human Resources'], dtype=object)"
      ]
     },
     "execution_count": 10,
     "metadata": {},
     "output_type": "execute_result"
    }
   ],
   "source": [
    "df['EducationField'].unique() # One-hot encode"
   ]
  },
  {
   "cell_type": "code",
   "execution_count": 11,
   "metadata": {},
   "outputs": [
    {
     "data": {
      "text/plain": [
       "array(['Female', 'Male'], dtype=object)"
      ]
     },
     "execution_count": 11,
     "metadata": {},
     "output_type": "execute_result"
    }
   ],
   "source": [
    "df['Gender'].unique() # Map"
   ]
  },
  {
   "cell_type": "code",
   "execution_count": 12,
   "metadata": {},
   "outputs": [
    {
     "data": {
      "text/plain": [
       "array(['Sales Executive', 'Research Scientist', 'Laboratory Technician',\n",
       "       'Manufacturing Director', 'Healthcare Representative', 'Manager',\n",
       "       'Sales Representative', 'Research Director', 'Human Resources'],\n",
       "      dtype=object)"
      ]
     },
     "execution_count": 12,
     "metadata": {},
     "output_type": "execute_result"
    }
   ],
   "source": [
    "df['JobRole'].unique() # One-hot encode"
   ]
  },
  {
   "cell_type": "code",
   "execution_count": 13,
   "metadata": {},
   "outputs": [
    {
     "data": {
      "text/plain": [
       "array(['Single', 'Married', 'Divorced'], dtype=object)"
      ]
     },
     "execution_count": 13,
     "metadata": {},
     "output_type": "execute_result"
    }
   ],
   "source": [
    "df['MaritalStatus'].unique() # Map"
   ]
  },
  {
   "cell_type": "code",
   "execution_count": 14,
   "metadata": {},
   "outputs": [
    {
     "data": {
      "text/plain": [
       "array(['Y'], dtype=object)"
      ]
     },
     "execution_count": 14,
     "metadata": {},
     "output_type": "execute_result"
    }
   ],
   "source": [
    "df['Over18'].unique() # Only contains one value - remove"
   ]
  },
  {
   "cell_type": "code",
   "execution_count": 15,
   "metadata": {},
   "outputs": [
    {
     "data": {
      "text/plain": [
       "array(['Yes', 'No'], dtype=object)"
      ]
     },
     "execution_count": 15,
     "metadata": {},
     "output_type": "execute_result"
    }
   ],
   "source": [
    "df['OverTime'].unique() # Map"
   ]
  },
  {
   "cell_type": "code",
   "execution_count": 16,
   "metadata": {},
   "outputs": [
    {
     "data": {
      "text/plain": [
       "0          1.0\n",
       "1          2.0\n",
       "2          4.0\n",
       "4          7.0\n",
       "5          8.0\n",
       "         ...  \n",
       "1465    2061.0\n",
       "1466    2062.0\n",
       "1467    2064.0\n",
       "1468    2065.0\n",
       "1469    2068.0\n",
       "Name: EmployeeNumber, Length: 1379, dtype: float64"
      ]
     },
     "execution_count": 16,
     "metadata": {},
     "output_type": "execute_result"
    }
   ],
   "source": [
    "df['EmployeeNumber'] # Can remove - irrelevant for data"
   ]
  },
  {
   "cell_type": "markdown",
   "metadata": {},
   "source": [
    "#### Target Column Analysis"
   ]
  },
  {
   "cell_type": "code",
   "execution_count": 17,
   "metadata": {},
   "outputs": [
    {
     "data": {
      "text/plain": [
       "<matplotlib.axes._subplots.AxesSubplot at 0x2a50af9bd00>"
      ]
     },
     "execution_count": 17,
     "metadata": {},
     "output_type": "execute_result"
    },
    {
     "data": {
      "image/png": "[encoded data removed]",
      "text/plain": [
       "<Figure size 432x288 with 1 Axes>"
      ]
     },
     "metadata": {
      "needs_background": "light"
     },
     "output_type": "display_data"
    }
   ],
   "source": [
    "df['Attrition'].hist()"
   ]
  },
  {
   "cell_type": "code",
   "execution_count": 18,
   "metadata": {},
   "outputs": [
    {
     "data": {
      "text/plain": [
       "No     1158\n",
       "Yes     221\n",
       "Name: Attrition, dtype: int64"
      ]
     },
     "execution_count": 18,
     "metadata": {},
     "output_type": "execute_result"
    }
   ],
   "source": [
    "df['Attrition'].value_counts()"
   ]
  },
  {
   "cell_type": "code",
   "execution_count": 19,
   "metadata": {},
   "outputs": [
    {
     "data": {
      "text/plain": [
       "0.1602610587382161"
      ]
     },
     "execution_count": 19,
     "metadata": {},
     "output_type": "execute_result"
    }
   ],
   "source": [
    "# Check proportion of 'Yes' values\n",
    "221 / (1158 + 221)"
   ]
  },
  {
   "cell_type": "markdown",
   "metadata": {},
   "source": [
    "A large issue is that this data is heavily skewed toward the 'No' value. Only around 16% of the data is 'Yes'. We'll keep this in mind when analyzing the models later on. "
   ]
  },
  {
   "cell_type": "markdown",
   "metadata": {},
   "source": [
    "#### Mapping Values"
   ]
  },
  {
   "cell_type": "code",
   "execution_count": 20,
   "metadata": {},
   "outputs": [],
   "source": [
    "# Attrition - this is our target column - No = 0, Yes = 1\n",
    "df['Attrition'] = df['Attrition'].map({'No':0,'Yes':1}).astype(int)\n",
    "\n",
    "# Overtime - No = 0, Yes = 1\n",
    "df['OverTime'] = df['OverTime'].map({'No':0,'Yes':1}).astype(int)\n",
    "\n",
    "# Gender - Male = 0, Female = 1\n",
    "df['Gender'] = df['Gender'].map({'Male':0,'Female':1}).astype(int)\n",
    "\n",
    "# Marital Status - Single = 0, Married = 1, Divorced = 2\n",
    "df['MaritalStatus'] = df['MaritalStatus'].map({'Single':0,'Married':1, 'Divorced':2}).astype(int)"
   ]
  },
  {
   "cell_type": "markdown",
   "metadata": {},
   "source": [
    "#### One-hot Encoding"
   ]
  },
  {
   "cell_type": "code",
   "execution_count": 21,
   "metadata": {},
   "outputs": [],
   "source": [
    "# Business Travel\n",
    "cols = pd.get_dummies(df['BusinessTravel'], prefix= 'BusTravel')\n",
    "df[cols.columns] = cols\n",
    "df.drop('BusinessTravel', axis = 1, inplace = True)\n",
    "\n",
    "# Department\n",
    "cols = pd.get_dummies(df['Department'], prefix= 'Dept')\n",
    "df[cols.columns] = cols\n",
    "df.drop('Department', axis = 1, inplace = True)\n",
    "\n",
    "# Education Field\n",
    "cols = pd.get_dummies(df['EducationField'], prefix= 'EduField')\n",
    "df[cols.columns] = cols\n",
    "df.drop('EducationField', axis = 1, inplace = True)\n",
    "\n",
    "# Job Role\n",
    "cols = pd.get_dummies(df['JobRole'], prefix= 'JobRole')\n",
    "df[cols.columns] = cols\n",
    "df.drop('JobRole', axis = 1, inplace = True)"
   ]
  },
  {
   "cell_type": "markdown",
   "metadata": {},
   "source": [
    "#### Dropping Columns with No Meaning"
   ]
  },
  {
   "cell_type": "markdown",
   "metadata": {},
   "source": [
    "Dropping the 'Over18' column as it only contains one value, and will be meaningless in analysis. The 'EmployeeNumber' field will also be dropped as it has no meaning to the models."
   ]
  },
  {
   "cell_type": "code",
   "execution_count": 22,
   "metadata": {},
   "outputs": [],
   "source": [
    "df = df.drop(['Over18', 'EmployeeNumber'], axis = 1)"
   ]
  },
  {
   "cell_type": "markdown",
   "metadata": {},
   "source": [
    "#### Verifying no 'Object' Dtypes are in the dataframe"
   ]
  },
  {
   "cell_type": "code",
   "execution_count": 23,
   "metadata": {},
   "outputs": [
    {
     "name": "stdout",
     "output_type": "stream",
     "text": [
      "<class 'pandas.core.frame.DataFrame'>\n",
      "Int64Index: 1379 entries, 0 to 1469\n",
      "Data columns (total 50 columns):\n",
      " #   Column                             Non-Null Count  Dtype  \n",
      "---  ------                             --------------  -----  \n",
      " 0   Age                                1379 non-null   int64  \n",
      " 1   Attrition                          1379 non-null   int32  \n",
      " 2   DailyRate                          1379 non-null   float64\n",
      " 3   DistanceFromHome                   1379 non-null   float64\n",
      " 4   Education                          1379 non-null   float64\n",
      " 5   EmployeeCount                      1379 non-null   float64\n",
      " 6   EnvironmentSatisfaction            1379 non-null   float64\n",
      " 7   Gender                             1379 non-null   int32  \n",
      " 8   HourlyRate                         1379 non-null   float64\n",
      " 9   JobInvolvement                     1379 non-null   float64\n",
      " 10  JobLevel                           1379 non-null   int64  \n",
      " 11  JobSatisfaction                    1379 non-null   float64\n",
      " 12  MaritalStatus                      1379 non-null   int32  \n",
      " 13  MonthlyIncome                      1379 non-null   float64\n",
      " 14  MonthlyRate                        1379 non-null   float64\n",
      " 15  NumCompaniesWorked                 1379 non-null   float64\n",
      " 16  OverTime                           1379 non-null   int32  \n",
      " 17  PercentSalaryHike                  1379 non-null   float64\n",
      " 18  PerformanceRating                  1379 non-null   float64\n",
      " 19  RelationshipSatisfaction           1379 non-null   float64\n",
      " 20  StandardHours                      1379 non-null   float64\n",
      " 21  StockOptionLevel                   1379 non-null   float64\n",
      " 22  TotalWorkingYears                  1379 non-null   float64\n",
      " 23  TrainingTimesLastYear              1379 non-null   float64\n",
      " 24  WorkLifeBalance                    1379 non-null   float64\n",
      " 25  YearsAtCompany                     1379 non-null   float64\n",
      " 26  YearsInCurrentRole                 1379 non-null   float64\n",
      " 27  YearsSinceLastPromotion            1379 non-null   float64\n",
      " 28  YearsWithCurrManager               1379 non-null   float64\n",
      " 29  BusTravel_Non-Travel               1379 non-null   uint8  \n",
      " 30  BusTravel_Travel_Frequently        1379 non-null   uint8  \n",
      " 31  BusTravel_Travel_Rarely            1379 non-null   uint8  \n",
      " 32  Dept_Human Resources               1379 non-null   uint8  \n",
      " 33  Dept_Research & Development        1379 non-null   uint8  \n",
      " 34  Dept_Sales                         1379 non-null   uint8  \n",
      " 35  EduField_Human Resources           1379 non-null   uint8  \n",
      " 36  EduField_Life Sciences             1379 non-null   uint8  \n",
      " 37  EduField_Marketing                 1379 non-null   uint8  \n",
      " 38  EduField_Medical                   1379 non-null   uint8  \n",
      " 39  EduField_Other                     1379 non-null   uint8  \n",
      " 40  EduField_Technical Degree          1379 non-null   uint8  \n",
      " 41  JobRole_Healthcare Representative  1379 non-null   uint8  \n",
      " 42  JobRole_Human Resources            1379 non-null   uint8  \n",
      " 43  JobRole_Laboratory Technician      1379 non-null   uint8  \n",
      " 44  JobRole_Manager                    1379 non-null   uint8  \n",
      " 45  JobRole_Manufacturing Director     1379 non-null   uint8  \n",
      " 46  JobRole_Research Director          1379 non-null   uint8  \n",
      " 47  JobRole_Research Scientist         1379 non-null   uint8  \n",
      " 48  JobRole_Sales Executive            1379 non-null   uint8  \n",
      " 49  JobRole_Sales Representative       1379 non-null   uint8  \n",
      "dtypes: float64(23), int32(4), int64(2), uint8(21)\n",
      "memory usage: 329.9 KB\n"
     ]
    }
   ],
   "source": [
    "df.info()"
   ]
  },
  {
   "cell_type": "markdown",
   "metadata": {},
   "source": [
    "#### Resetting Index"
   ]
  },
  {
   "cell_type": "code",
   "execution_count": 24,
   "metadata": {},
   "outputs": [
    {
     "data": {
      "text/html": [
       "<div>\n",
       "<style scoped>\n",
       "    .dataframe tbody tr th:only-of-type {\n",
       "        vertical-align: middle;\n",
       "    }\n",
       "\n",
       "    .dataframe tbody tr th {\n",
       "        vertical-align: top;\n",
       "    }\n",
       "\n",
       "    .dataframe thead th {\n",
       "        text-align: right;\n",
       "    }\n",
       "</style>\n",
       "<table border=\"1\" class=\"dataframe\">\n",
       "  <thead>\n",
       "    <tr style=\"text-align: right;\">\n",
       "      <th></th>\n",
       "      <th>Age</th>\n",
       "      <th>Attrition</th>\n",
       "      <th>DailyRate</th>\n",
       "      <th>DistanceFromHome</th>\n",
       "      <th>Education</th>\n",
       "      <th>EmployeeCount</th>\n",
       "      <th>EnvironmentSatisfaction</th>\n",
       "      <th>Gender</th>\n",
       "      <th>HourlyRate</th>\n",
       "      <th>JobInvolvement</th>\n",
       "      <th>...</th>\n",
       "      <th>EduField_Technical Degree</th>\n",
       "      <th>JobRole_Healthcare Representative</th>\n",
       "      <th>JobRole_Human Resources</th>\n",
       "      <th>JobRole_Laboratory Technician</th>\n",
       "      <th>JobRole_Manager</th>\n",
       "      <th>JobRole_Manufacturing Director</th>\n",
       "      <th>JobRole_Research Director</th>\n",
       "      <th>JobRole_Research Scientist</th>\n",
       "      <th>JobRole_Sales Executive</th>\n",
       "      <th>JobRole_Sales Representative</th>\n",
       "    </tr>\n",
       "  </thead>\n",
       "  <tbody>\n",
       "    <tr>\n",
       "      <th>0</th>\n",
       "      <td>41</td>\n",
       "      <td>1</td>\n",
       "      <td>1102.0</td>\n",
       "      <td>1.0</td>\n",
       "      <td>2.0</td>\n",
       "      <td>1.0</td>\n",
       "      <td>2.0</td>\n",
       "      <td>1</td>\n",
       "      <td>94.0</td>\n",
       "      <td>3.0</td>\n",
       "      <td>...</td>\n",
       "      <td>0</td>\n",
       "      <td>0</td>\n",
       "      <td>0</td>\n",
       "      <td>0</td>\n",
       "      <td>0</td>\n",
       "      <td>0</td>\n",
       "      <td>0</td>\n",
       "      <td>0</td>\n",
       "      <td>1</td>\n",
       "      <td>0</td>\n",
       "    </tr>\n",
       "    <tr>\n",
       "      <th>1</th>\n",
       "      <td>49</td>\n",
       "      <td>0</td>\n",
       "      <td>279.0</td>\n",
       "      <td>8.0</td>\n",
       "      <td>1.0</td>\n",
       "      <td>1.0</td>\n",
       "      <td>3.0</td>\n",
       "      <td>0</td>\n",
       "      <td>61.0</td>\n",
       "      <td>2.0</td>\n",
       "      <td>...</td>\n",
       "      <td>0</td>\n",
       "      <td>0</td>\n",
       "      <td>0</td>\n",
       "      <td>0</td>\n",
       "      <td>0</td>\n",
       "      <td>0</td>\n",
       "      <td>0</td>\n",
       "      <td>1</td>\n",
       "      <td>0</td>\n",
       "      <td>0</td>\n",
       "    </tr>\n",
       "    <tr>\n",
       "      <th>2</th>\n",
       "      <td>37</td>\n",
       "      <td>1</td>\n",
       "      <td>1373.0</td>\n",
       "      <td>2.0</td>\n",
       "      <td>2.0</td>\n",
       "      <td>1.0</td>\n",
       "      <td>4.0</td>\n",
       "      <td>0</td>\n",
       "      <td>92.0</td>\n",
       "      <td>2.0</td>\n",
       "      <td>...</td>\n",
       "      <td>0</td>\n",
       "      <td>0</td>\n",
       "      <td>0</td>\n",
       "      <td>1</td>\n",
       "      <td>0</td>\n",
       "      <td>0</td>\n",
       "      <td>0</td>\n",
       "      <td>0</td>\n",
       "      <td>0</td>\n",
       "      <td>0</td>\n",
       "    </tr>\n",
       "    <tr>\n",
       "      <th>3</th>\n",
       "      <td>27</td>\n",
       "      <td>0</td>\n",
       "      <td>591.0</td>\n",
       "      <td>2.0</td>\n",
       "      <td>1.0</td>\n",
       "      <td>1.0</td>\n",
       "      <td>1.0</td>\n",
       "      <td>0</td>\n",
       "      <td>40.0</td>\n",
       "      <td>3.0</td>\n",
       "      <td>...</td>\n",
       "      <td>0</td>\n",
       "      <td>0</td>\n",
       "      <td>0</td>\n",
       "      <td>1</td>\n",
       "      <td>0</td>\n",
       "      <td>0</td>\n",
       "      <td>0</td>\n",
       "      <td>0</td>\n",
       "      <td>0</td>\n",
       "      <td>0</td>\n",
       "    </tr>\n",
       "    <tr>\n",
       "      <th>4</th>\n",
       "      <td>32</td>\n",
       "      <td>0</td>\n",
       "      <td>1005.0</td>\n",
       "      <td>2.0</td>\n",
       "      <td>2.0</td>\n",
       "      <td>1.0</td>\n",
       "      <td>4.0</td>\n",
       "      <td>0</td>\n",
       "      <td>79.0</td>\n",
       "      <td>3.0</td>\n",
       "      <td>...</td>\n",
       "      <td>0</td>\n",
       "      <td>0</td>\n",
       "      <td>0</td>\n",
       "      <td>1</td>\n",
       "      <td>0</td>\n",
       "      <td>0</td>\n",
       "      <td>0</td>\n",
       "      <td>0</td>\n",
       "      <td>0</td>\n",
       "      <td>0</td>\n",
       "    </tr>\n",
       "    <tr>\n",
       "      <th>5</th>\n",
       "      <td>59</td>\n",
       "      <td>0</td>\n",
       "      <td>1324.0</td>\n",
       "      <td>3.0</td>\n",
       "      <td>3.0</td>\n",
       "      <td>1.0</td>\n",
       "      <td>3.0</td>\n",
       "      <td>1</td>\n",
       "      <td>81.0</td>\n",
       "      <td>4.0</td>\n",
       "      <td>...</td>\n",
       "      <td>0</td>\n",
       "      <td>0</td>\n",
       "      <td>0</td>\n",
       "      <td>1</td>\n",
       "      <td>0</td>\n",
       "      <td>0</td>\n",
       "      <td>0</td>\n",
       "      <td>0</td>\n",
       "      <td>0</td>\n",
       "      <td>0</td>\n",
       "    </tr>\n",
       "    <tr>\n",
       "      <th>6</th>\n",
       "      <td>30</td>\n",
       "      <td>0</td>\n",
       "      <td>1358.0</td>\n",
       "      <td>24.0</td>\n",
       "      <td>1.0</td>\n",
       "      <td>1.0</td>\n",
       "      <td>4.0</td>\n",
       "      <td>0</td>\n",
       "      <td>67.0</td>\n",
       "      <td>3.0</td>\n",
       "      <td>...</td>\n",
       "      <td>0</td>\n",
       "      <td>0</td>\n",
       "      <td>0</td>\n",
       "      <td>1</td>\n",
       "      <td>0</td>\n",
       "      <td>0</td>\n",
       "      <td>0</td>\n",
       "      <td>0</td>\n",
       "      <td>0</td>\n",
       "      <td>0</td>\n",
       "    </tr>\n",
       "    <tr>\n",
       "      <th>7</th>\n",
       "      <td>38</td>\n",
       "      <td>0</td>\n",
       "      <td>216.0</td>\n",
       "      <td>23.0</td>\n",
       "      <td>3.0</td>\n",
       "      <td>1.0</td>\n",
       "      <td>4.0</td>\n",
       "      <td>0</td>\n",
       "      <td>44.0</td>\n",
       "      <td>2.0</td>\n",
       "      <td>...</td>\n",
       "      <td>0</td>\n",
       "      <td>0</td>\n",
       "      <td>0</td>\n",
       "      <td>0</td>\n",
       "      <td>0</td>\n",
       "      <td>1</td>\n",
       "      <td>0</td>\n",
       "      <td>0</td>\n",
       "      <td>0</td>\n",
       "      <td>0</td>\n",
       "    </tr>\n",
       "    <tr>\n",
       "      <th>8</th>\n",
       "      <td>36</td>\n",
       "      <td>0</td>\n",
       "      <td>1299.0</td>\n",
       "      <td>27.0</td>\n",
       "      <td>3.0</td>\n",
       "      <td>1.0</td>\n",
       "      <td>3.0</td>\n",
       "      <td>0</td>\n",
       "      <td>94.0</td>\n",
       "      <td>3.0</td>\n",
       "      <td>...</td>\n",
       "      <td>0</td>\n",
       "      <td>1</td>\n",
       "      <td>0</td>\n",
       "      <td>0</td>\n",
       "      <td>0</td>\n",
       "      <td>0</td>\n",
       "      <td>0</td>\n",
       "      <td>0</td>\n",
       "      <td>0</td>\n",
       "      <td>0</td>\n",
       "    </tr>\n",
       "    <tr>\n",
       "      <th>9</th>\n",
       "      <td>35</td>\n",
       "      <td>0</td>\n",
       "      <td>809.0</td>\n",
       "      <td>16.0</td>\n",
       "      <td>3.0</td>\n",
       "      <td>1.0</td>\n",
       "      <td>1.0</td>\n",
       "      <td>0</td>\n",
       "      <td>84.0</td>\n",
       "      <td>4.0</td>\n",
       "      <td>...</td>\n",
       "      <td>0</td>\n",
       "      <td>0</td>\n",
       "      <td>0</td>\n",
       "      <td>1</td>\n",
       "      <td>0</td>\n",
       "      <td>0</td>\n",
       "      <td>0</td>\n",
       "      <td>0</td>\n",
       "      <td>0</td>\n",
       "      <td>0</td>\n",
       "    </tr>\n",
       "  </tbody>\n",
       "</table>\n",
       "<p>10 rows × 50 columns</p>\n",
       "</div>"
      ],
      "text/plain": [
       "   Age  Attrition  DailyRate  DistanceFromHome  Education  EmployeeCount  \\\n",
       "0   41          1     1102.0               1.0        2.0            1.0   \n",
       "1   49          0      279.0               8.0        1.0            1.0   \n",
       "2   37          1     1373.0               2.0        2.0            1.0   \n",
       "3   27          0      591.0               2.0        1.0            1.0   \n",
       "4   32          0     1005.0               2.0        2.0            1.0   \n",
       "5   59          0     1324.0               3.0        3.0            1.0   \n",
       "6   30          0     1358.0              24.0        1.0            1.0   \n",
       "7   38          0      216.0              23.0        3.0            1.0   \n",
       "8   36          0     1299.0              27.0        3.0            1.0   \n",
       "9   35          0      809.0              16.0        3.0            1.0   \n",
       "\n",
       "   EnvironmentSatisfaction  Gender  HourlyRate  JobInvolvement  ...  \\\n",
       "0                      2.0       1        94.0             3.0  ...   \n",
       "1                      3.0       0        61.0             2.0  ...   \n",
       "2                      4.0       0        92.0             2.0  ...   \n",
       "3                      1.0       0        40.0             3.0  ...   \n",
       "4                      4.0       0        79.0             3.0  ...   \n",
       "5                      3.0       1        81.0             4.0  ...   \n",
       "6                      4.0       0        67.0             3.0  ...   \n",
       "7                      4.0       0        44.0             2.0  ...   \n",
       "8                      3.0       0        94.0             3.0  ...   \n",
       "9                      1.0       0        84.0             4.0  ...   \n",
       "\n",
       "   EduField_Technical Degree  JobRole_Healthcare Representative  \\\n",
       "0                          0                                  0   \n",
       "1                          0                                  0   \n",
       "2                          0                                  0   \n",
       "3                          0                                  0   \n",
       "4                          0                                  0   \n",
       "5                          0                                  0   \n",
       "6                          0                                  0   \n",
       "7                          0                                  0   \n",
       "8                          0                                  1   \n",
       "9                          0                                  0   \n",
       "\n",
       "   JobRole_Human Resources  JobRole_Laboratory Technician  JobRole_Manager  \\\n",
       "0                        0                              0                0   \n",
       "1                        0                              0                0   \n",
       "2                        0                              1                0   \n",
       "3                        0                              1                0   \n",
       "4                        0                              1                0   \n",
       "5                        0                              1                0   \n",
       "6                        0                              1                0   \n",
       "7                        0                              0                0   \n",
       "8                        0                              0                0   \n",
       "9                        0                              1                0   \n",
       "\n",
       "   JobRole_Manufacturing Director  JobRole_Research Director  \\\n",
       "0                               0                          0   \n",
       "1                               0                          0   \n",
       "2                               0                          0   \n",
       "3                               0                          0   \n",
       "4                               0                          0   \n",
       "5                               0                          0   \n",
       "6                               0                          0   \n",
       "7                               1                          0   \n",
       "8                               0                          0   \n",
       "9                               0                          0   \n",
       "\n",
       "   JobRole_Research Scientist  JobRole_Sales Executive  \\\n",
       "0                           0                        1   \n",
       "1                           1                        0   \n",
       "2                           0                        0   \n",
       "3                           0                        0   \n",
       "4                           0                        0   \n",
       "5                           0                        0   \n",
       "6                           0                        0   \n",
       "7                           0                        0   \n",
       "8                           0                        0   \n",
       "9                           0                        0   \n",
       "\n",
       "   JobRole_Sales Representative  \n",
       "0                             0  \n",
       "1                             0  \n",
       "2                             0  \n",
       "3                             0  \n",
       "4                             0  \n",
       "5                             0  \n",
       "6                             0  \n",
       "7                             0  \n",
       "8                             0  \n",
       "9                             0  \n",
       "\n",
       "[10 rows x 50 columns]"
      ]
     },
     "execution_count": 24,
     "metadata": {},
     "output_type": "execute_result"
    }
   ],
   "source": [
    "df = df.reset_index(drop = True)\n",
    "df.head(10)"
   ]
  },
  {
   "cell_type": "markdown",
   "metadata": {},
   "source": [
    "#### Preparing Variables for Classification"
   ]
  },
  {
   "cell_type": "code",
   "execution_count": 25,
   "metadata": {},
   "outputs": [],
   "source": [
    "# y = target column 'Attrition', X = dataset without 'Attrition'\n",
    "X = df.drop(['Attrition'], axis = 1)\n",
    "y = df['Attrition']"
   ]
  },
  {
   "cell_type": "markdown",
   "metadata": {},
   "source": [
    "**train_test_split and scale data for Classification**"
   ]
  },
  {
   "cell_type": "markdown",
   "metadata": {},
   "source": [
    "Will be normalizing the data due to the varied measurements the dataset contains. Using the MinMaxScaler will rescale the data between 0 and 1. A test size of 0.3 was chosen after running the data on various test sizes between 0.15 - 0.3. The test size of 0.3 returned the best results."
   ]
  },
  {
   "cell_type": "code",
   "execution_count": 26,
   "metadata": {},
   "outputs": [
    {
     "name": "stdout",
     "output_type": "stream",
     "text": [
      "Size of training set: 965 \n",
      "Size of testing set: 414\n"
     ]
    }
   ],
   "source": [
    "from sklearn.model_selection import GridSearchCV\n",
    "from sklearn.preprocessing import MinMaxScaler\n",
    "from sklearn.model_selection import train_test_split\n",
    "from sklearn.metrics import (confusion_matrix, classification_report, precision_recall_curve, \n",
    "                             precision_recall_fscore_support as score)\n",
    "\n",
    "X_train, X_test, y_train, y_test = train_test_split(X, y, random_state = 0, test_size = 0.3)\n",
    "\n",
    "print('Size of training set:', X_train.shape[0], '\\nSize of testing set:', X_test.shape[0])\n",
    "\n",
    "scaler = MinMaxScaler()\n",
    "X_train = scaler.fit_transform(X_train)\n",
    "X_test = scaler.transform(X_test)"
   ]
  },
  {
   "cell_type": "markdown",
   "metadata": {},
   "source": [
    "### <font color=blue>kNN Classification</font>"
   ]
  },
  {
   "cell_type": "code",
   "execution_count": 27,
   "metadata": {},
   "outputs": [],
   "source": [
    "from sklearn.neighbors import KNeighborsClassifier"
   ]
  },
  {
   "cell_type": "markdown",
   "metadata": {},
   "source": [
    "#### GridSearch to find best k-value"
   ]
  },
  {
   "cell_type": "code",
   "execution_count": 28,
   "metadata": {},
   "outputs": [],
   "source": [
    "t = list(range(1,21))"
   ]
  },
  {
   "cell_type": "code",
   "execution_count": 29,
   "metadata": {
    "scrolled": true
   },
   "outputs": [
    {
     "data": {
      "text/plain": [
       "GridSearchCV(estimator=KNeighborsClassifier(),\n",
       "             param_grid={'n_neighbors': [1, 2, 3, 4, 5, 6, 7, 8, 9, 10, 11, 12,\n",
       "                                         13, 14, 15, 16, 17, 18, 19, 20]},\n",
       "             return_train_score=True)"
      ]
     },
     "execution_count": 29,
     "metadata": {},
     "output_type": "execute_result"
    }
   ],
   "source": [
    "gridKNN = GridSearchCV(KNeighborsClassifier(), \n",
    "                      param_grid = {'n_neighbors': t}, return_train_score = True)\n",
    "gridKNN.fit(X_train, y_train)"
   ]
  },
  {
   "cell_type": "code",
   "execution_count": 30,
   "metadata": {
    "scrolled": true
   },
   "outputs": [
    {
     "name": "stdout",
     "output_type": "stream",
     "text": [
      "KNeighborsClassifier(n_neighbors=7)\n",
      "{'n_neighbors': 7}\n"
     ]
    }
   ],
   "source": [
    "print(gridKNN.best_estimator_)\n",
    "print(gridKNN.best_params_)"
   ]
  },
  {
   "cell_type": "markdown",
   "metadata": {},
   "source": [
    "**Create GridSearch results DataFrame and plot the results**"
   ]
  },
  {
   "cell_type": "code",
   "execution_count": 31,
   "metadata": {},
   "outputs": [
    {
     "data": {
      "text/html": [
       "<div>\n",
       "<style scoped>\n",
       "    .dataframe tbody tr th:only-of-type {\n",
       "        vertical-align: middle;\n",
       "    }\n",
       "\n",
       "    .dataframe tbody tr th {\n",
       "        vertical-align: top;\n",
       "    }\n",
       "\n",
       "    .dataframe thead th {\n",
       "        text-align: right;\n",
       "    }\n",
       "</style>\n",
       "<table border=\"1\" class=\"dataframe\">\n",
       "  <thead>\n",
       "    <tr style=\"text-align: right;\">\n",
       "      <th></th>\n",
       "      <th>mean_fit_time</th>\n",
       "      <th>std_fit_time</th>\n",
       "      <th>mean_score_time</th>\n",
       "      <th>std_score_time</th>\n",
       "      <th>param_n_neighbors</th>\n",
       "      <th>params</th>\n",
       "      <th>split0_test_score</th>\n",
       "      <th>split1_test_score</th>\n",
       "      <th>split2_test_score</th>\n",
       "      <th>split3_test_score</th>\n",
       "      <th>...</th>\n",
       "      <th>mean_test_score</th>\n",
       "      <th>std_test_score</th>\n",
       "      <th>rank_test_score</th>\n",
       "      <th>split0_train_score</th>\n",
       "      <th>split1_train_score</th>\n",
       "      <th>split2_train_score</th>\n",
       "      <th>split3_train_score</th>\n",
       "      <th>split4_train_score</th>\n",
       "      <th>mean_train_score</th>\n",
       "      <th>std_train_score</th>\n",
       "    </tr>\n",
       "  </thead>\n",
       "  <tbody>\n",
       "    <tr>\n",
       "      <th>0</th>\n",
       "      <td>0.005347</td>\n",
       "      <td>3.744671e-04</td>\n",
       "      <td>0.013789</td>\n",
       "      <td>0.000371</td>\n",
       "      <td>1</td>\n",
       "      <td>{'n_neighbors': 1}</td>\n",
       "      <td>0.740933</td>\n",
       "      <td>0.834197</td>\n",
       "      <td>0.818653</td>\n",
       "      <td>0.787565</td>\n",
       "      <td>...</td>\n",
       "      <td>0.801036</td>\n",
       "      <td>0.033834</td>\n",
       "      <td>20</td>\n",
       "      <td>1.000000</td>\n",
       "      <td>1.000000</td>\n",
       "      <td>1.000000</td>\n",
       "      <td>1.000000</td>\n",
       "      <td>1.000000</td>\n",
       "      <td>1.000000</td>\n",
       "      <td>0.000000</td>\n",
       "    </tr>\n",
       "    <tr>\n",
       "      <th>1</th>\n",
       "      <td>0.005456</td>\n",
       "      <td>3.217587e-04</td>\n",
       "      <td>0.014089</td>\n",
       "      <td>0.000596</td>\n",
       "      <td>2</td>\n",
       "      <td>{'n_neighbors': 2}</td>\n",
       "      <td>0.823834</td>\n",
       "      <td>0.844560</td>\n",
       "      <td>0.849741</td>\n",
       "      <td>0.844560</td>\n",
       "      <td>...</td>\n",
       "      <td>0.840415</td>\n",
       "      <td>0.008914</td>\n",
       "      <td>17</td>\n",
       "      <td>0.882124</td>\n",
       "      <td>0.871762</td>\n",
       "      <td>0.876943</td>\n",
       "      <td>0.879534</td>\n",
       "      <td>0.873057</td>\n",
       "      <td>0.876684</td>\n",
       "      <td>0.003877</td>\n",
       "    </tr>\n",
       "    <tr>\n",
       "      <th>2</th>\n",
       "      <td>0.005456</td>\n",
       "      <td>5.135693e-07</td>\n",
       "      <td>0.013987</td>\n",
       "      <td>0.000578</td>\n",
       "      <td>3</td>\n",
       "      <td>{'n_neighbors': 3}</td>\n",
       "      <td>0.813472</td>\n",
       "      <td>0.844560</td>\n",
       "      <td>0.854922</td>\n",
       "      <td>0.823834</td>\n",
       "      <td>...</td>\n",
       "      <td>0.836269</td>\n",
       "      <td>0.015230</td>\n",
       "      <td>19</td>\n",
       "      <td>0.904145</td>\n",
       "      <td>0.897668</td>\n",
       "      <td>0.902850</td>\n",
       "      <td>0.896373</td>\n",
       "      <td>0.893782</td>\n",
       "      <td>0.898964</td>\n",
       "      <td>0.003929</td>\n",
       "    </tr>\n",
       "    <tr>\n",
       "      <th>3</th>\n",
       "      <td>0.005849</td>\n",
       "      <td>5.812747e-04</td>\n",
       "      <td>0.015172</td>\n",
       "      <td>0.000867</td>\n",
       "      <td>4</td>\n",
       "      <td>{'n_neighbors': 4}</td>\n",
       "      <td>0.834197</td>\n",
       "      <td>0.849741</td>\n",
       "      <td>0.865285</td>\n",
       "      <td>0.839378</td>\n",
       "      <td>...</td>\n",
       "      <td>0.846632</td>\n",
       "      <td>0.010669</td>\n",
       "      <td>3</td>\n",
       "      <td>0.869171</td>\n",
       "      <td>0.861399</td>\n",
       "      <td>0.860104</td>\n",
       "      <td>0.869171</td>\n",
       "      <td>0.858808</td>\n",
       "      <td>0.863731</td>\n",
       "      <td>0.004517</td>\n",
       "    </tr>\n",
       "    <tr>\n",
       "      <th>4</th>\n",
       "      <td>0.005555</td>\n",
       "      <td>1.980545e-04</td>\n",
       "      <td>0.015376</td>\n",
       "      <td>0.002993</td>\n",
       "      <td>5</td>\n",
       "      <td>{'n_neighbors': 5}</td>\n",
       "      <td>0.829016</td>\n",
       "      <td>0.844560</td>\n",
       "      <td>0.860104</td>\n",
       "      <td>0.854922</td>\n",
       "      <td>...</td>\n",
       "      <td>0.845596</td>\n",
       "      <td>0.011064</td>\n",
       "      <td>6</td>\n",
       "      <td>0.878238</td>\n",
       "      <td>0.876943</td>\n",
       "      <td>0.865285</td>\n",
       "      <td>0.879534</td>\n",
       "      <td>0.874352</td>\n",
       "      <td>0.874870</td>\n",
       "      <td>0.005090</td>\n",
       "    </tr>\n",
       "  </tbody>\n",
       "</table>\n",
       "<p>5 rows × 21 columns</p>\n",
       "</div>"
      ],
      "text/plain": [
       "   mean_fit_time  std_fit_time  mean_score_time  std_score_time  \\\n",
       "0       0.005347  3.744671e-04         0.013789        0.000371   \n",
       "1       0.005456  3.217587e-04         0.014089        0.000596   \n",
       "2       0.005456  5.135693e-07         0.013987        0.000578   \n",
       "3       0.005849  5.812747e-04         0.015172        0.000867   \n",
       "4       0.005555  1.980545e-04         0.015376        0.002993   \n",
       "\n",
       "  param_n_neighbors              params  split0_test_score  split1_test_score  \\\n",
       "0                 1  {'n_neighbors': 1}           0.740933           0.834197   \n",
       "1                 2  {'n_neighbors': 2}           0.823834           0.844560   \n",
       "2                 3  {'n_neighbors': 3}           0.813472           0.844560   \n",
       "3                 4  {'n_neighbors': 4}           0.834197           0.849741   \n",
       "4                 5  {'n_neighbors': 5}           0.829016           0.844560   \n",
       "\n",
       "   split2_test_score  split3_test_score  ...  mean_test_score  std_test_score  \\\n",
       "0           0.818653           0.787565  ...         0.801036        0.033834   \n",
       "1           0.849741           0.844560  ...         0.840415        0.008914   \n",
       "2           0.854922           0.823834  ...         0.836269        0.015230   \n",
       "3           0.865285           0.839378  ...         0.846632        0.010669   \n",
       "4           0.860104           0.854922  ...         0.845596        0.011064   \n",
       "\n",
       "   rank_test_score  split0_train_score  split1_train_score  \\\n",
       "0               20            1.000000            1.000000   \n",
       "1               17            0.882124            0.871762   \n",
       "2               19            0.904145            0.897668   \n",
       "3                3            0.869171            0.861399   \n",
       "4                6            0.878238            0.876943   \n",
       "\n",
       "   split2_train_score  split3_train_score  split4_train_score  \\\n",
       "0            1.000000            1.000000            1.000000   \n",
       "1            0.876943            0.879534            0.873057   \n",
       "2            0.902850            0.896373            0.893782   \n",
       "3            0.860104            0.869171            0.858808   \n",
       "4            0.865285            0.879534            0.874352   \n",
       "\n",
       "   mean_train_score  std_train_score  \n",
       "0          1.000000         0.000000  \n",
       "1          0.876684         0.003877  \n",
       "2          0.898964         0.003929  \n",
       "3          0.863731         0.004517  \n",
       "4          0.874870         0.005090  \n",
       "\n",
       "[5 rows x 21 columns]"
      ]
     },
     "execution_count": 31,
     "metadata": {},
     "output_type": "execute_result"
    }
   ],
   "source": [
    "result = pd.DataFrame(gridKNN.cv_results_)\n",
    "result.head()"
   ]
  },
  {
   "cell_type": "code",
   "execution_count": 32,
   "metadata": {},
   "outputs": [
    {
     "name": "stdout",
     "output_type": "stream",
     "text": [
      "range(0, 20)\n"
     ]
    },
    {
     "data": {
      "image/png": "[encoded data removed]",
      "text/plain": [
       "<Figure size 1080x288 with 1 Axes>"
      ]
     },
     "metadata": {
      "needs_background": "light"
     },
     "output_type": "display_data"
    }
   ],
   "source": [
    "%matplotlib inline\n",
    "\n",
    "size = range(result['params'].shape[0])\n",
    "index = gridKNN.best_index_\n",
    "print(size)\n",
    "\n",
    "plt.subplots(figsize = (15,4))\n",
    "plt.plot(range(result['params'].shape[0]), result['mean_train_score'], label = 'mean train score')\n",
    "plt.plot(range(result['params'].shape[0]), result['mean_test_score'], label = 'mean test score')\n",
    "plt.xticks(range(result['params'].shape[0]), result['params'], rotation = 90)\n",
    "plt.gca().get_xticklabels()[index].set_color('red')\n",
    "plt.legend()\n",
    "plt.grid()"
   ]
  },
  {
   "cell_type": "markdown",
   "metadata": {},
   "source": [
    "**Run kNN model again with k-value of 7 (display Test and Train scores as well as difference)**"
   ]
  },
  {
   "cell_type": "code",
   "execution_count": 33,
   "metadata": {},
   "outputs": [
    {
     "name": "stdout",
     "output_type": "stream",
     "text": [
      "Train score:  0.8694300518134715\n",
      "Test score:  0.8454106280193237\n"
     ]
    }
   ],
   "source": [
    "knn = KNeighborsClassifier(7)\n",
    "knn.fit(X_train, y_train)\n",
    "print('Train score: ', knn.score(X_train, y_train))\n",
    "print('Test score: ', knn.score(X_test, y_test))"
   ]
  },
  {
   "cell_type": "code",
   "execution_count": 34,
   "metadata": {},
   "outputs": [
    {
     "name": "stdout",
     "output_type": "stream",
     "text": [
      "Difference: 0.0240194237941479\n"
     ]
    }
   ],
   "source": [
    "print('Difference:', abs(knn.score(X_train, y_train) - knn.score(X_test, y_test)))"
   ]
  },
  {
   "cell_type": "markdown",
   "metadata": {},
   "source": [
    "**Predict the results (for training data)**"
   ]
  },
  {
   "cell_type": "code",
   "execution_count": 35,
   "metadata": {},
   "outputs": [],
   "source": [
    "y_pred = knn.predict(X_train)"
   ]
  },
  {
   "cell_type": "markdown",
   "metadata": {},
   "source": [
    "**Classification report (for training data)** "
   ]
  },
  {
   "cell_type": "code",
   "execution_count": 36,
   "metadata": {
    "scrolled": true
   },
   "outputs": [
    {
     "name": "stdout",
     "output_type": "stream",
     "text": [
      "              precision    recall  f1-score   support\n",
      "\n",
      "           0       0.87      0.99      0.93       808\n",
      "           1       0.88      0.23      0.36       157\n",
      "\n",
      "    accuracy                           0.87       965\n",
      "   macro avg       0.87      0.61      0.65       965\n",
      "weighted avg       0.87      0.87      0.84       965\n",
      "\n"
     ]
    }
   ],
   "source": [
    "print(classification_report(y_train, y_pred))"
   ]
  },
  {
   "cell_type": "markdown",
   "metadata": {},
   "source": [
    "We can see that this model is not good at predicting '1' values. It is, however, really good at predicting '0' values."
   ]
  },
  {
   "cell_type": "code",
   "execution_count": 37,
   "metadata": {},
   "outputs": [],
   "source": [
    "precisionTrn, recallTrn, fscoreTrn, supportTrn = score(y_train, y_pred, average = 'macro')"
   ]
  },
  {
   "cell_type": "markdown",
   "metadata": {},
   "source": [
    "**Predict results (for test data)**"
   ]
  },
  {
   "cell_type": "code",
   "execution_count": 38,
   "metadata": {},
   "outputs": [],
   "source": [
    "y_pred = knn.predict(X_test)"
   ]
  },
  {
   "cell_type": "markdown",
   "metadata": {},
   "source": [
    "**Classification Report (test data)**"
   ]
  },
  {
   "cell_type": "code",
   "execution_count": 39,
   "metadata": {},
   "outputs": [
    {
     "name": "stdout",
     "output_type": "stream",
     "text": [
      "              precision    recall  f1-score   support\n",
      "\n",
      "           0       0.86      0.98      0.91       350\n",
      "           1       0.50      0.09      0.16        64\n",
      "\n",
      "    accuracy                           0.85       414\n",
      "   macro avg       0.68      0.54      0.54       414\n",
      "weighted avg       0.80      0.85      0.80       414\n",
      "\n"
     ]
    }
   ],
   "source": [
    "print(classification_report(y_test, y_pred))"
   ]
  },
  {
   "cell_type": "markdown",
   "metadata": {},
   "source": [
    "This model is not good at predicting '1' values at all. The training classification report showed that it was poor at doing so, however, the test classification report shows that it really struggled in doing this. Based on this alone, this likely will not be a good model to use. "
   ]
  },
  {
   "cell_type": "code",
   "execution_count": 40,
   "metadata": {},
   "outputs": [],
   "source": [
    "precisionTest, recallTest, fscoreTest, supportTest = score(y_test, y_pred, average = 'macro')"
   ]
  },
  {
   "cell_type": "markdown",
   "metadata": {},
   "source": [
    "**Confusion Matrix (test data)**"
   ]
  },
  {
   "cell_type": "code",
   "execution_count": 41,
   "metadata": {},
   "outputs": [],
   "source": [
    "confm = confusion_matrix(y_test, y_pred)"
   ]
  },
  {
   "cell_type": "code",
   "execution_count": 42,
   "metadata": {
    "scrolled": true
   },
   "outputs": [
    {
     "data": {
      "image/png": "[encoded data removed]",
      "text/plain": [
       "<Figure size 288x288 with 1 Axes>"
      ]
     },
     "metadata": {
      "needs_background": "light"
     },
     "output_type": "display_data"
    }
   ],
   "source": [
    "fig, ax = plt.subplots(figsize=(4, 4))\n",
    "\n",
    "ax.imshow(confm)\n",
    "ax.xaxis.set(ticks=(0, 1), ticklabels=('Predicted 0s', 'Predicted 1s'))\n",
    "ax.yaxis.set(ticks=(0, 1), ticklabels=('Actual 0s', 'Actual 1s'))\n",
    "ax.set_ylim(1.5, -0.5)\n",
    "for i in range(2):\n",
    "    for j in range(2):\n",
    "        ax.text(j, i, confm[i, j], ha='center', va='center', color='red')\n",
    "plt.show()"
   ]
  },
  {
   "cell_type": "code",
   "execution_count": 43,
   "metadata": {},
   "outputs": [
    {
     "data": {
      "text/plain": [
       "0    350\n",
       "1     64\n",
       "Name: Attrition, dtype: int64"
      ]
     },
     "execution_count": 43,
     "metadata": {},
     "output_type": "execute_result"
    }
   ],
   "source": [
    "y_test.value_counts()"
   ]
  },
  {
   "cell_type": "markdown",
   "metadata": {},
   "source": [
    "The confusion matrix further shows evidence that the model struggled. It correctly classfified 6 out of 64 '1' values - 58 were incorrectly classified!"
   ]
  },
  {
   "cell_type": "markdown",
   "metadata": {},
   "source": [
    "**Hold important data for evaluation**"
   ]
  },
  {
   "cell_type": "code",
   "execution_count": 44,
   "metadata": {},
   "outputs": [],
   "source": [
    "kNNInfo = ['kNN', knn.score(X_train, y_train), knn.score(X_test, y_test), \n",
    "           abs(knn.score(X_train, y_train) - knn.score(X_test, y_test)),\n",
    "           precisionTrn, recallTrn, fscoreTrn, precisionTest, recallTest, \n",
    "           fscoreTest]"
   ]
  },
  {
   "cell_type": "markdown",
   "metadata": {},
   "source": [
    "### <font color=blue> Logistic Regression </font>"
   ]
  },
  {
   "cell_type": "code",
   "execution_count": 45,
   "metadata": {},
   "outputs": [],
   "source": [
    "from sklearn.linear_model import LogisticRegression"
   ]
  },
  {
   "cell_type": "markdown",
   "metadata": {},
   "source": [
    "#### GridSearch for best model parameters"
   ]
  },
  {
   "cell_type": "code",
   "execution_count": 46,
   "metadata": {
    "scrolled": true
   },
   "outputs": [
    {
     "data": {
      "text/plain": [
       "GridSearchCV(estimator=LogisticRegression(max_iter=10000, random_state=0),\n",
       "             param_grid={'C': [0.01, 0.1, 1, 10, 100],\n",
       "                         'solver': ['liblinear', 'newton-cg', 'lbfgs', 'sag',\n",
       "                                    'saga']},\n",
       "             return_train_score=True)"
      ]
     },
     "execution_count": 46,
     "metadata": {},
     "output_type": "execute_result"
    }
   ],
   "source": [
    "gridLR = GridSearchCV(LogisticRegression(max_iter = 10000, random_state = 0), \n",
    "                      param_grid = {'C': [0.01, 0.1, 1, 10, 100], \n",
    "                                    'solver':['liblinear', 'newton-cg', 'lbfgs', 'sag', 'saga']}, return_train_score = True)\n",
    "gridLR.fit(X_train, y_train)"
   ]
  },
  {
   "cell_type": "code",
   "execution_count": 47,
   "metadata": {
    "scrolled": true
   },
   "outputs": [
    {
     "name": "stdout",
     "output_type": "stream",
     "text": [
      "LogisticRegression(C=1, max_iter=10000, random_state=0, solver='liblinear')\n",
      "{'C': 1, 'solver': 'liblinear'}\n"
     ]
    }
   ],
   "source": [
    "print(gridLR.best_estimator_)\n",
    "print(gridLR.best_params_)"
   ]
  },
  {
   "cell_type": "markdown",
   "metadata": {},
   "source": [
    "**Create GridSearch results DataFrame and plot the results**"
   ]
  },
  {
   "cell_type": "code",
   "execution_count": 48,
   "metadata": {},
   "outputs": [
    {
     "data": {
      "text/html": [
       "<div>\n",
       "<style scoped>\n",
       "    .dataframe tbody tr th:only-of-type {\n",
       "        vertical-align: middle;\n",
       "    }\n",
       "\n",
       "    .dataframe tbody tr th {\n",
       "        vertical-align: top;\n",
       "    }\n",
       "\n",
       "    .dataframe thead th {\n",
       "        text-align: right;\n",
       "    }\n",
       "</style>\n",
       "<table border=\"1\" class=\"dataframe\">\n",
       "  <thead>\n",
       "    <tr style=\"text-align: right;\">\n",
       "      <th></th>\n",
       "      <th>mean_fit_time</th>\n",
       "      <th>std_fit_time</th>\n",
       "      <th>mean_score_time</th>\n",
       "      <th>std_score_time</th>\n",
       "      <th>param_C</th>\n",
       "      <th>param_solver</th>\n",
       "      <th>params</th>\n",
       "      <th>split0_test_score</th>\n",
       "      <th>split1_test_score</th>\n",
       "      <th>split2_test_score</th>\n",
       "      <th>...</th>\n",
       "      <th>mean_test_score</th>\n",
       "      <th>std_test_score</th>\n",
       "      <th>rank_test_score</th>\n",
       "      <th>split0_train_score</th>\n",
       "      <th>split1_train_score</th>\n",
       "      <th>split2_train_score</th>\n",
       "      <th>split3_train_score</th>\n",
       "      <th>split4_train_score</th>\n",
       "      <th>mean_train_score</th>\n",
       "      <th>std_train_score</th>\n",
       "    </tr>\n",
       "  </thead>\n",
       "  <tbody>\n",
       "    <tr>\n",
       "      <th>0</th>\n",
       "      <td>0.002778</td>\n",
       "      <td>0.001618</td>\n",
       "      <td>0.000396</td>\n",
       "      <td>1.982451e-04</td>\n",
       "      <td>0.01</td>\n",
       "      <td>liblinear</td>\n",
       "      <td>{'C': 0.01, 'solver': 'liblinear'}</td>\n",
       "      <td>0.839378</td>\n",
       "      <td>0.839378</td>\n",
       "      <td>0.839378</td>\n",
       "      <td>...</td>\n",
       "      <td>0.837306</td>\n",
       "      <td>0.002538</td>\n",
       "      <td>21</td>\n",
       "      <td>0.836788</td>\n",
       "      <td>0.836788</td>\n",
       "      <td>0.836788</td>\n",
       "      <td>0.838083</td>\n",
       "      <td>0.838083</td>\n",
       "      <td>0.837306</td>\n",
       "      <td>0.000635</td>\n",
       "    </tr>\n",
       "    <tr>\n",
       "      <th>1</th>\n",
       "      <td>0.006845</td>\n",
       "      <td>0.000371</td>\n",
       "      <td>0.000198</td>\n",
       "      <td>2.429456e-04</td>\n",
       "      <td>0.01</td>\n",
       "      <td>newton-cg</td>\n",
       "      <td>{'C': 0.01, 'solver': 'newton-cg'}</td>\n",
       "      <td>0.839378</td>\n",
       "      <td>0.839378</td>\n",
       "      <td>0.839378</td>\n",
       "      <td>...</td>\n",
       "      <td>0.837306</td>\n",
       "      <td>0.002538</td>\n",
       "      <td>21</td>\n",
       "      <td>0.836788</td>\n",
       "      <td>0.836788</td>\n",
       "      <td>0.836788</td>\n",
       "      <td>0.838083</td>\n",
       "      <td>0.838083</td>\n",
       "      <td>0.837306</td>\n",
       "      <td>0.000635</td>\n",
       "    </tr>\n",
       "    <tr>\n",
       "      <th>2</th>\n",
       "      <td>0.003671</td>\n",
       "      <td>0.000673</td>\n",
       "      <td>0.000298</td>\n",
       "      <td>2.429457e-04</td>\n",
       "      <td>0.01</td>\n",
       "      <td>lbfgs</td>\n",
       "      <td>{'C': 0.01, 'solver': 'lbfgs'}</td>\n",
       "      <td>0.839378</td>\n",
       "      <td>0.839378</td>\n",
       "      <td>0.839378</td>\n",
       "      <td>...</td>\n",
       "      <td>0.837306</td>\n",
       "      <td>0.002538</td>\n",
       "      <td>21</td>\n",
       "      <td>0.836788</td>\n",
       "      <td>0.836788</td>\n",
       "      <td>0.836788</td>\n",
       "      <td>0.838083</td>\n",
       "      <td>0.838083</td>\n",
       "      <td>0.837306</td>\n",
       "      <td>0.000635</td>\n",
       "    </tr>\n",
       "    <tr>\n",
       "      <th>3</th>\n",
       "      <td>0.005158</td>\n",
       "      <td>0.000243</td>\n",
       "      <td>0.000496</td>\n",
       "      <td>2.780415e-07</td>\n",
       "      <td>0.01</td>\n",
       "      <td>sag</td>\n",
       "      <td>{'C': 0.01, 'solver': 'sag'}</td>\n",
       "      <td>0.839378</td>\n",
       "      <td>0.839378</td>\n",
       "      <td>0.839378</td>\n",
       "      <td>...</td>\n",
       "      <td>0.837306</td>\n",
       "      <td>0.002538</td>\n",
       "      <td>21</td>\n",
       "      <td>0.836788</td>\n",
       "      <td>0.836788</td>\n",
       "      <td>0.836788</td>\n",
       "      <td>0.838083</td>\n",
       "      <td>0.838083</td>\n",
       "      <td>0.837306</td>\n",
       "      <td>0.000635</td>\n",
       "    </tr>\n",
       "    <tr>\n",
       "      <th>4</th>\n",
       "      <td>0.006845</td>\n",
       "      <td>0.000371</td>\n",
       "      <td>0.000397</td>\n",
       "      <td>1.984362e-04</td>\n",
       "      <td>0.01</td>\n",
       "      <td>saga</td>\n",
       "      <td>{'C': 0.01, 'solver': 'saga'}</td>\n",
       "      <td>0.839378</td>\n",
       "      <td>0.839378</td>\n",
       "      <td>0.839378</td>\n",
       "      <td>...</td>\n",
       "      <td>0.837306</td>\n",
       "      <td>0.002538</td>\n",
       "      <td>21</td>\n",
       "      <td>0.836788</td>\n",
       "      <td>0.836788</td>\n",
       "      <td>0.836788</td>\n",
       "      <td>0.838083</td>\n",
       "      <td>0.838083</td>\n",
       "      <td>0.837306</td>\n",
       "      <td>0.000635</td>\n",
       "    </tr>\n",
       "  </tbody>\n",
       "</table>\n",
       "<p>5 rows × 22 columns</p>\n",
       "</div>"
      ],
      "text/plain": [
       "   mean_fit_time  std_fit_time  mean_score_time  std_score_time param_C  \\\n",
       "0       0.002778      0.001618         0.000396    1.982451e-04    0.01   \n",
       "1       0.006845      0.000371         0.000198    2.429456e-04    0.01   \n",
       "2       0.003671      0.000673         0.000298    2.429457e-04    0.01   \n",
       "3       0.005158      0.000243         0.000496    2.780415e-07    0.01   \n",
       "4       0.006845      0.000371         0.000397    1.984362e-04    0.01   \n",
       "\n",
       "  param_solver                              params  split0_test_score  \\\n",
       "0    liblinear  {'C': 0.01, 'solver': 'liblinear'}           0.839378   \n",
       "1    newton-cg  {'C': 0.01, 'solver': 'newton-cg'}           0.839378   \n",
       "2        lbfgs      {'C': 0.01, 'solver': 'lbfgs'}           0.839378   \n",
       "3          sag        {'C': 0.01, 'solver': 'sag'}           0.839378   \n",
       "4         saga       {'C': 0.01, 'solver': 'saga'}           0.839378   \n",
       "\n",
       "   split1_test_score  split2_test_score  ...  mean_test_score  std_test_score  \\\n",
       "0           0.839378           0.839378  ...         0.837306        0.002538   \n",
       "1           0.839378           0.839378  ...         0.837306        0.002538   \n",
       "2           0.839378           0.839378  ...         0.837306        0.002538   \n",
       "3           0.839378           0.839378  ...         0.837306        0.002538   \n",
       "4           0.839378           0.839378  ...         0.837306        0.002538   \n",
       "\n",
       "   rank_test_score  split0_train_score  split1_train_score  \\\n",
       "0               21            0.836788            0.836788   \n",
       "1               21            0.836788            0.836788   \n",
       "2               21            0.836788            0.836788   \n",
       "3               21            0.836788            0.836788   \n",
       "4               21            0.836788            0.836788   \n",
       "\n",
       "   split2_train_score  split3_train_score  split4_train_score  \\\n",
       "0            0.836788            0.838083            0.838083   \n",
       "1            0.836788            0.838083            0.838083   \n",
       "2            0.836788            0.838083            0.838083   \n",
       "3            0.836788            0.838083            0.838083   \n",
       "4            0.836788            0.838083            0.838083   \n",
       "\n",
       "   mean_train_score  std_train_score  \n",
       "0          0.837306         0.000635  \n",
       "1          0.837306         0.000635  \n",
       "2          0.837306         0.000635  \n",
       "3          0.837306         0.000635  \n",
       "4          0.837306         0.000635  \n",
       "\n",
       "[5 rows x 22 columns]"
      ]
     },
     "execution_count": 48,
     "metadata": {},
     "output_type": "execute_result"
    }
   ],
   "source": [
    "result = pd.DataFrame(gridLR.cv_results_)\n",
    "result.head()"
   ]
  },
  {
   "cell_type": "code",
   "execution_count": 49,
   "metadata": {},
   "outputs": [
    {
     "data": {
      "image/png": "[encoded data removed]",
      "text/plain": [
       "<Figure size 1080x288 with 1 Axes>"
      ]
     },
     "metadata": {
      "needs_background": "light"
     },
     "output_type": "display_data"
    }
   ],
   "source": [
    "%matplotlib inline\n",
    "\n",
    "size = range(result['params'].shape[0])\n",
    "index = gridLR.best_index_\n",
    "\n",
    "plt.subplots(figsize = (15,4))\n",
    "plt.plot(size, result['mean_train_score'], label = 'mean train score')\n",
    "plt.plot(size, result['mean_test_score'], label = 'mean test score')\n",
    "plt.xticks(size, result['params'], rotation = 90)\n",
    "plt.gca().get_xticklabels()[index].set_color('red')\n",
    "plt.legend()\n",
    "plt.grid()"
   ]
  },
  {
   "cell_type": "markdown",
   "metadata": {},
   "source": [
    "**Run GridSearch again using 'liblinear' solver to determine penalty**"
   ]
  },
  {
   "cell_type": "markdown",
   "metadata": {},
   "source": [
    "We will run the GridSearch again based on the first GridSearch returning that the 'liblinear' solver is the best solver to use. The reason we are doing this is because the different solvers in LogisticRegression may not be compatible with certain parameters (such as penalty). This means the GridSearch is unable to search for many paramaters while searching across different solvers. "
   ]
  },
  {
   "cell_type": "code",
   "execution_count": 50,
   "metadata": {},
   "outputs": [
    {
     "data": {
      "text/plain": [
       "GridSearchCV(estimator=LogisticRegression(max_iter=10000, random_state=0,\n",
       "                                          solver='liblinear'),\n",
       "             param_grid={'C': [0.01, 0.1, 1, 10, 100], 'penalty': ['l1', 'l2']},\n",
       "             return_train_score=True)"
      ]
     },
     "execution_count": 50,
     "metadata": {},
     "output_type": "execute_result"
    }
   ],
   "source": [
    "gridLR2 = GridSearchCV(LogisticRegression(max_iter = 10000, random_state = 0, solver='liblinear'), \n",
    "                       param_grid = {'C': [0.01, 0.1, 1, 10, 100], \n",
    "                                    'penalty':['l1', 'l2']}, return_train_score = True)\n",
    "gridLR2.fit(X_train, y_train)"
   ]
  },
  {
   "cell_type": "code",
   "execution_count": 51,
   "metadata": {},
   "outputs": [
    {
     "name": "stdout",
     "output_type": "stream",
     "text": [
      "LogisticRegression(C=1, max_iter=10000, random_state=0, solver='liblinear')\n",
      "{'C': 1, 'penalty': 'l2'}\n"
     ]
    }
   ],
   "source": [
    "print(gridLR2.best_estimator_)\n",
    "print(gridLR2.best_params_)"
   ]
  },
  {
   "cell_type": "markdown",
   "metadata": {},
   "source": [
    "**Create GridSearch results DataFrame again and plot the results**"
   ]
  },
  {
   "cell_type": "code",
   "execution_count": 52,
   "metadata": {
    "scrolled": true
   },
   "outputs": [
    {
     "data": {
      "text/html": [
       "<div>\n",
       "<style scoped>\n",
       "    .dataframe tbody tr th:only-of-type {\n",
       "        vertical-align: middle;\n",
       "    }\n",
       "\n",
       "    .dataframe tbody tr th {\n",
       "        vertical-align: top;\n",
       "    }\n",
       "\n",
       "    .dataframe thead th {\n",
       "        text-align: right;\n",
       "    }\n",
       "</style>\n",
       "<table border=\"1\" class=\"dataframe\">\n",
       "  <thead>\n",
       "    <tr style=\"text-align: right;\">\n",
       "      <th></th>\n",
       "      <th>mean_fit_time</th>\n",
       "      <th>std_fit_time</th>\n",
       "      <th>mean_score_time</th>\n",
       "      <th>std_score_time</th>\n",
       "      <th>param_C</th>\n",
       "      <th>param_penalty</th>\n",
       "      <th>params</th>\n",
       "      <th>split0_test_score</th>\n",
       "      <th>split1_test_score</th>\n",
       "      <th>split2_test_score</th>\n",
       "      <th>...</th>\n",
       "      <th>mean_test_score</th>\n",
       "      <th>std_test_score</th>\n",
       "      <th>rank_test_score</th>\n",
       "      <th>split0_train_score</th>\n",
       "      <th>split1_train_score</th>\n",
       "      <th>split2_train_score</th>\n",
       "      <th>split3_train_score</th>\n",
       "      <th>split4_train_score</th>\n",
       "      <th>mean_train_score</th>\n",
       "      <th>std_train_score</th>\n",
       "    </tr>\n",
       "  </thead>\n",
       "  <tbody>\n",
       "    <tr>\n",
       "      <th>0</th>\n",
       "      <td>0.001587</td>\n",
       "      <td>0.000198</td>\n",
       "      <td>0.000397</td>\n",
       "      <td>1.983644e-04</td>\n",
       "      <td>0.01</td>\n",
       "      <td>l1</td>\n",
       "      <td>{'C': 0.01, 'penalty': 'l1'}</td>\n",
       "      <td>0.839378</td>\n",
       "      <td>0.839378</td>\n",
       "      <td>0.839378</td>\n",
       "      <td>...</td>\n",
       "      <td>0.837306</td>\n",
       "      <td>0.002538</td>\n",
       "      <td>9</td>\n",
       "      <td>0.836788</td>\n",
       "      <td>0.836788</td>\n",
       "      <td>0.836788</td>\n",
       "      <td>0.838083</td>\n",
       "      <td>0.838083</td>\n",
       "      <td>0.837306</td>\n",
       "      <td>0.000635</td>\n",
       "    </tr>\n",
       "    <tr>\n",
       "      <th>1</th>\n",
       "      <td>0.001885</td>\n",
       "      <td>0.000199</td>\n",
       "      <td>0.000397</td>\n",
       "      <td>3.712712e-04</td>\n",
       "      <td>0.01</td>\n",
       "      <td>l2</td>\n",
       "      <td>{'C': 0.01, 'penalty': 'l2'}</td>\n",
       "      <td>0.839378</td>\n",
       "      <td>0.839378</td>\n",
       "      <td>0.839378</td>\n",
       "      <td>...</td>\n",
       "      <td>0.837306</td>\n",
       "      <td>0.002538</td>\n",
       "      <td>9</td>\n",
       "      <td>0.836788</td>\n",
       "      <td>0.836788</td>\n",
       "      <td>0.836788</td>\n",
       "      <td>0.838083</td>\n",
       "      <td>0.838083</td>\n",
       "      <td>0.837306</td>\n",
       "      <td>0.000635</td>\n",
       "    </tr>\n",
       "    <tr>\n",
       "      <th>2</th>\n",
       "      <td>0.002480</td>\n",
       "      <td>0.000314</td>\n",
       "      <td>0.000397</td>\n",
       "      <td>1.984598e-04</td>\n",
       "      <td>0.1</td>\n",
       "      <td>l1</td>\n",
       "      <td>{'C': 0.1, 'penalty': 'l1'}</td>\n",
       "      <td>0.844560</td>\n",
       "      <td>0.839378</td>\n",
       "      <td>0.849741</td>\n",
       "      <td>...</td>\n",
       "      <td>0.844560</td>\n",
       "      <td>0.004634</td>\n",
       "      <td>8</td>\n",
       "      <td>0.847150</td>\n",
       "      <td>0.843264</td>\n",
       "      <td>0.841969</td>\n",
       "      <td>0.844560</td>\n",
       "      <td>0.843264</td>\n",
       "      <td>0.844041</td>\n",
       "      <td>0.001757</td>\n",
       "    </tr>\n",
       "    <tr>\n",
       "      <th>3</th>\n",
       "      <td>0.002182</td>\n",
       "      <td>0.000243</td>\n",
       "      <td>0.000496</td>\n",
       "      <td>1.784161e-07</td>\n",
       "      <td>0.1</td>\n",
       "      <td>l2</td>\n",
       "      <td>{'C': 0.1, 'penalty': 'l2'}</td>\n",
       "      <td>0.844560</td>\n",
       "      <td>0.849741</td>\n",
       "      <td>0.844560</td>\n",
       "      <td>...</td>\n",
       "      <td>0.848705</td>\n",
       "      <td>0.003877</td>\n",
       "      <td>7</td>\n",
       "      <td>0.857513</td>\n",
       "      <td>0.847150</td>\n",
       "      <td>0.852332</td>\n",
       "      <td>0.853627</td>\n",
       "      <td>0.851036</td>\n",
       "      <td>0.852332</td>\n",
       "      <td>0.003378</td>\n",
       "    </tr>\n",
       "    <tr>\n",
       "      <th>4</th>\n",
       "      <td>0.005555</td>\n",
       "      <td>0.001345</td>\n",
       "      <td>0.000496</td>\n",
       "      <td>5.223489e-07</td>\n",
       "      <td>1</td>\n",
       "      <td>l1</td>\n",
       "      <td>{'C': 1, 'penalty': 'l1'}</td>\n",
       "      <td>0.854922</td>\n",
       "      <td>0.886010</td>\n",
       "      <td>0.865285</td>\n",
       "      <td>...</td>\n",
       "      <td>0.871503</td>\n",
       "      <td>0.011064</td>\n",
       "      <td>2</td>\n",
       "      <td>0.901554</td>\n",
       "      <td>0.887306</td>\n",
       "      <td>0.880829</td>\n",
       "      <td>0.884715</td>\n",
       "      <td>0.880829</td>\n",
       "      <td>0.887047</td>\n",
       "      <td>0.007659</td>\n",
       "    </tr>\n",
       "  </tbody>\n",
       "</table>\n",
       "<p>5 rows × 22 columns</p>\n",
       "</div>"
      ],
      "text/plain": [
       "   mean_fit_time  std_fit_time  mean_score_time  std_score_time param_C  \\\n",
       "0       0.001587      0.000198         0.000397    1.983644e-04    0.01   \n",
       "1       0.001885      0.000199         0.000397    3.712712e-04    0.01   \n",
       "2       0.002480      0.000314         0.000397    1.984598e-04     0.1   \n",
       "3       0.002182      0.000243         0.000496    1.784161e-07     0.1   \n",
       "4       0.005555      0.001345         0.000496    5.223489e-07       1   \n",
       "\n",
       "  param_penalty                        params  split0_test_score  \\\n",
       "0            l1  {'C': 0.01, 'penalty': 'l1'}           0.839378   \n",
       "1            l2  {'C': 0.01, 'penalty': 'l2'}           0.839378   \n",
       "2            l1   {'C': 0.1, 'penalty': 'l1'}           0.844560   \n",
       "3            l2   {'C': 0.1, 'penalty': 'l2'}           0.844560   \n",
       "4            l1     {'C': 1, 'penalty': 'l1'}           0.854922   \n",
       "\n",
       "   split1_test_score  split2_test_score  ...  mean_test_score  std_test_score  \\\n",
       "0           0.839378           0.839378  ...         0.837306        0.002538   \n",
       "1           0.839378           0.839378  ...         0.837306        0.002538   \n",
       "2           0.839378           0.849741  ...         0.844560        0.004634   \n",
       "3           0.849741           0.844560  ...         0.848705        0.003877   \n",
       "4           0.886010           0.865285  ...         0.871503        0.011064   \n",
       "\n",
       "   rank_test_score  split0_train_score  split1_train_score  \\\n",
       "0                9            0.836788            0.836788   \n",
       "1                9            0.836788            0.836788   \n",
       "2                8            0.847150            0.843264   \n",
       "3                7            0.857513            0.847150   \n",
       "4                2            0.901554            0.887306   \n",
       "\n",
       "   split2_train_score  split3_train_score  split4_train_score  \\\n",
       "0            0.836788            0.838083            0.838083   \n",
       "1            0.836788            0.838083            0.838083   \n",
       "2            0.841969            0.844560            0.843264   \n",
       "3            0.852332            0.853627            0.851036   \n",
       "4            0.880829            0.884715            0.880829   \n",
       "\n",
       "   mean_train_score  std_train_score  \n",
       "0          0.837306         0.000635  \n",
       "1          0.837306         0.000635  \n",
       "2          0.844041         0.001757  \n",
       "3          0.852332         0.003378  \n",
       "4          0.887047         0.007659  \n",
       "\n",
       "[5 rows x 22 columns]"
      ]
     },
     "execution_count": 52,
     "metadata": {},
     "output_type": "execute_result"
    }
   ],
   "source": [
    "result = pd.DataFrame(gridLR2.cv_results_)\n",
    "result.head()"
   ]
  },
  {
   "cell_type": "code",
   "execution_count": 53,
   "metadata": {},
   "outputs": [
    {
     "data": {
      "image/png": "[encoded data removed]",
      "text/plain": [
       "<Figure size 1080x288 with 1 Axes>"
      ]
     },
     "metadata": {
      "needs_background": "light"
     },
     "output_type": "display_data"
    }
   ],
   "source": [
    "%matplotlib inline\n",
    "\n",
    "size = range(result['params'].shape[0])\n",
    "index = gridLR2.best_index_\n",
    "\n",
    "plt.subplots(figsize = (15,4))\n",
    "plt.plot(size, result['mean_train_score'], label = 'mean train score')\n",
    "plt.plot(size, result['mean_test_score'], label = 'mean test score')\n",
    "plt.xticks(size, result['params'], rotation = 90)\n",
    "plt.gca().get_xticklabels()[index].set_color('red') # Best parameters highlighted in red\n",
    "plt.legend()\n",
    "plt.grid()"
   ]
  },
  {
   "cell_type": "markdown",
   "metadata": {},
   "source": [
    "**Run the Logistic Regression model using best parameters**"
   ]
  },
  {
   "cell_type": "code",
   "execution_count": 54,
   "metadata": {},
   "outputs": [
    {
     "name": "stdout",
     "output_type": "stream",
     "text": [
      "Train score:  0.8891191709844559\n",
      "Test score:  0.8768115942028986\n"
     ]
    }
   ],
   "source": [
    "log = LogisticRegression(C=1, max_iter=10000, random_state=0, solver='liblinear')\n",
    "log.fit(X_train, y_train)\n",
    "print('Train score: ', log.score(X_train, y_train))\n",
    "print('Test score: ', log.score(X_test, y_test))"
   ]
  },
  {
   "cell_type": "code",
   "execution_count": 55,
   "metadata": {},
   "outputs": [
    {
     "name": "stdout",
     "output_type": "stream",
     "text": [
      "Difference: 0.012307576781557361\n"
     ]
    }
   ],
   "source": [
    "print('Difference:', abs(log.score(X_train, y_train) - log.score(X_test, y_test)))"
   ]
  },
  {
   "cell_type": "markdown",
   "metadata": {},
   "source": [
    "**Predict the results (training data)**"
   ]
  },
  {
   "cell_type": "code",
   "execution_count": 56,
   "metadata": {},
   "outputs": [],
   "source": [
    "y_pred = log.predict(X_train)"
   ]
  },
  {
   "cell_type": "markdown",
   "metadata": {},
   "source": [
    "**Classification report (training data)** "
   ]
  },
  {
   "cell_type": "code",
   "execution_count": 57,
   "metadata": {
    "scrolled": true
   },
   "outputs": [
    {
     "name": "stdout",
     "output_type": "stream",
     "text": [
      "              precision    recall  f1-score   support\n",
      "\n",
      "           0       0.90      0.98      0.94       808\n",
      "           1       0.82      0.41      0.54       157\n",
      "\n",
      "    accuracy                           0.89       965\n",
      "   macro avg       0.86      0.70      0.74       965\n",
      "weighted avg       0.88      0.89      0.87       965\n",
      "\n"
     ]
    }
   ],
   "source": [
    "print(classification_report(y_train, y_pred))"
   ]
  },
  {
   "cell_type": "markdown",
   "metadata": {},
   "source": [
    "The training model seems to do a great job at predicting the '0' values, but struggles at predicting the '1' values (this is expected)."
   ]
  },
  {
   "cell_type": "code",
   "execution_count": 58,
   "metadata": {},
   "outputs": [],
   "source": [
    "precisionTrn, recallTrn, fscoreTrn, supportTrn = score(y_train, y_pred, average = 'macro')"
   ]
  },
  {
   "cell_type": "markdown",
   "metadata": {},
   "source": [
    "**Predict the results (test data)**"
   ]
  },
  {
   "cell_type": "code",
   "execution_count": 59,
   "metadata": {},
   "outputs": [],
   "source": [
    "y_pred = log.predict(X_test)"
   ]
  },
  {
   "cell_type": "markdown",
   "metadata": {},
   "source": [
    "**Classification Report (test data)**"
   ]
  },
  {
   "cell_type": "code",
   "execution_count": 60,
   "metadata": {},
   "outputs": [
    {
     "name": "stdout",
     "output_type": "stream",
     "text": [
      "              precision    recall  f1-score   support\n",
      "\n",
      "           0       0.88      0.98      0.93       350\n",
      "           1       0.76      0.30      0.43        64\n",
      "\n",
      "    accuracy                           0.88       414\n",
      "   macro avg       0.82      0.64      0.68       414\n",
      "weighted avg       0.87      0.88      0.85       414\n",
      "\n"
     ]
    }
   ],
   "source": [
    "print(classification_report(y_test, y_pred))"
   ]
  },
  {
   "cell_type": "markdown",
   "metadata": {},
   "source": [
    "The testing model manages to maintain high accuracy in classifying '0' values, but drops a small amount (compared to the training model) when classifying the '1' values. This may be a decent model. "
   ]
  },
  {
   "cell_type": "code",
   "execution_count": 61,
   "metadata": {},
   "outputs": [],
   "source": [
    "precisionTest, recallTest, fscoreTest, supportTest = score(y_test, y_pred, average = 'macro')"
   ]
  },
  {
   "cell_type": "markdown",
   "metadata": {},
   "source": [
    "**Confusion Matrix (test data)**"
   ]
  },
  {
   "cell_type": "code",
   "execution_count": 62,
   "metadata": {},
   "outputs": [],
   "source": [
    "confm = confusion_matrix(y_test, y_pred)"
   ]
  },
  {
   "cell_type": "code",
   "execution_count": 63,
   "metadata": {
    "scrolled": true
   },
   "outputs": [
    {
     "data": {
      "image/png": "[encoded data removed]",
      "text/plain": [
       "<Figure size 288x288 with 1 Axes>"
      ]
     },
     "metadata": {
      "needs_background": "light"
     },
     "output_type": "display_data"
    }
   ],
   "source": [
    "fig, ax = plt.subplots(figsize=(4, 4))\n",
    "\n",
    "ax.imshow(confm)\n",
    "ax.xaxis.set(ticks=(0, 1), ticklabels=('Predicted 0s', 'Predicted 1s'))\n",
    "ax.yaxis.set(ticks=(0, 1), ticklabels=('Actual 0s', 'Actual 1s'))\n",
    "ax.set_ylim(1.5, -0.5)\n",
    "for i in range(2):\n",
    "    for j in range(2):\n",
    "        ax.text(j, i, confm[i, j], ha='center', va='center', color='red')\n",
    "plt.show()"
   ]
  },
  {
   "cell_type": "markdown",
   "metadata": {},
   "source": [
    "**Hold important data for evaluation**"
   ]
  },
  {
   "cell_type": "code",
   "execution_count": 64,
   "metadata": {},
   "outputs": [],
   "source": [
    "logInfo = ['LogisticRegression', log.score(X_train, y_train), log.score(X_test, y_test), \n",
    "           abs(log.score(X_train, y_train) - log.score(X_test, y_test)),\n",
    "           precisionTrn, recallTrn, fscoreTrn, precisionTest, recallTest, fscoreTest]"
   ]
  },
  {
   "cell_type": "markdown",
   "metadata": {},
   "source": [
    "**Plot precision and recall curve (test data)**"
   ]
  },
  {
   "cell_type": "code",
   "execution_count": 65,
   "metadata": {
    "scrolled": true
   },
   "outputs": [
    {
     "data": {
      "text/plain": [
       "<matplotlib.legend.Legend at 0x2a517deca60>"
      ]
     },
     "execution_count": 65,
     "metadata": {},
     "output_type": "execute_result"
    },
    {
     "data": {
      "image/png": "[encoded data removed]",
      "text/plain": [
       "<Figure size 432x432 with 1 Axes>"
      ]
     },
     "metadata": {
      "needs_background": "light"
     },
     "output_type": "display_data"
    }
   ],
   "source": [
    "%matplotlib inline\n",
    "\n",
    "precision, recall, thresholds = precision_recall_curve(y_test, log.decision_function(X_test))\n",
    "\n",
    "close_zero = np.argmin(np.abs(thresholds))\n",
    "\n",
    "plt.subplots(figsize=(6, 6))\n",
    "plt.plot(precision[close_zero], recall[close_zero], 'o', markersize=15,\n",
    "         label=\"threshold zero\", fillstyle=\"none\", c='k')\n",
    "\n",
    "plt.plot(precision, recall, label=\"Precision Recall Curve\")\n",
    "plt.xlabel(\"Precision\")\n",
    "plt.ylabel(\"Recall\")\n",
    "plt.legend()"
   ]
  },
  {
   "cell_type": "markdown",
   "metadata": {},
   "source": [
    "Based on the precision recall curce, we can see that this model is either going to have good precision or good recall. The rest of the models should follow this trend considering the target datas is skewed. We will keep this in mind when evaluating the models. "
   ]
  },
  {
   "cell_type": "markdown",
   "metadata": {},
   "source": [
    "## <font color=blue> Linear SVC </font>"
   ]
  },
  {
   "cell_type": "code",
   "execution_count": 66,
   "metadata": {},
   "outputs": [],
   "source": [
    "from sklearn.svm import LinearSVC\n",
    "from sklearn.model_selection import GridSearchCV"
   ]
  },
  {
   "cell_type": "markdown",
   "metadata": {},
   "source": [
    "#### GridSearch for best model parameters"
   ]
  },
  {
   "cell_type": "code",
   "execution_count": 67,
   "metadata": {},
   "outputs": [
    {
     "data": {
      "text/plain": [
       "GridSearchCV(estimator=LinearSVC(dual=False, max_iter=15000, random_state=0),\n",
       "             param_grid={'C': [0.001, 0.01, 0.1, 1, 10, 100],\n",
       "                         'penalty': ['l1', 'l2']},\n",
       "             return_train_score=True)"
      ]
     },
     "execution_count": 67,
     "metadata": {},
     "output_type": "execute_result"
    }
   ],
   "source": [
    "gridLSVC = GridSearchCV(LinearSVC(max_iter = 15000, dual = False, random_state = 0),\n",
    "                    param_grid = {'C': [0.001, 0.01, 0.1, 1, 10, 100], 'penalty':['l1', 'l2']}, \n",
    "                    return_train_score = True)\n",
    "gridLSVC.fit(X_train, y_train)"
   ]
  },
  {
   "cell_type": "code",
   "execution_count": 68,
   "metadata": {},
   "outputs": [
    {
     "name": "stdout",
     "output_type": "stream",
     "text": [
      "LinearSVC(C=0.1, dual=False, max_iter=15000, random_state=0)\n",
      "{'C': 0.1, 'penalty': 'l2'}\n"
     ]
    }
   ],
   "source": [
    "print(gridLSVC.best_estimator_)\n",
    "print(gridLSVC.best_params_)"
   ]
  },
  {
   "cell_type": "markdown",
   "metadata": {},
   "source": [
    "**Create GridSearch results DataFrame and plot the results**"
   ]
  },
  {
   "cell_type": "code",
   "execution_count": 69,
   "metadata": {},
   "outputs": [
    {
     "data": {
      "text/html": [
       "<div>\n",
       "<style scoped>\n",
       "    .dataframe tbody tr th:only-of-type {\n",
       "        vertical-align: middle;\n",
       "    }\n",
       "\n",
       "    .dataframe tbody tr th {\n",
       "        vertical-align: top;\n",
       "    }\n",
       "\n",
       "    .dataframe thead th {\n",
       "        text-align: right;\n",
       "    }\n",
       "</style>\n",
       "<table border=\"1\" class=\"dataframe\">\n",
       "  <thead>\n",
       "    <tr style=\"text-align: right;\">\n",
       "      <th></th>\n",
       "      <th>mean_fit_time</th>\n",
       "      <th>std_fit_time</th>\n",
       "      <th>mean_score_time</th>\n",
       "      <th>std_score_time</th>\n",
       "      <th>param_C</th>\n",
       "      <th>param_penalty</th>\n",
       "      <th>params</th>\n",
       "      <th>split0_test_score</th>\n",
       "      <th>split1_test_score</th>\n",
       "      <th>split2_test_score</th>\n",
       "      <th>...</th>\n",
       "      <th>mean_test_score</th>\n",
       "      <th>std_test_score</th>\n",
       "      <th>rank_test_score</th>\n",
       "      <th>split0_train_score</th>\n",
       "      <th>split1_train_score</th>\n",
       "      <th>split2_train_score</th>\n",
       "      <th>split3_train_score</th>\n",
       "      <th>split4_train_score</th>\n",
       "      <th>mean_train_score</th>\n",
       "      <th>std_train_score</th>\n",
       "    </tr>\n",
       "  </thead>\n",
       "  <tbody>\n",
       "    <tr>\n",
       "      <th>0</th>\n",
       "      <td>0.004861</td>\n",
       "      <td>0.005023</td>\n",
       "      <td>0.003472</td>\n",
       "      <td>0.005952</td>\n",
       "      <td>0.001</td>\n",
       "      <td>l1</td>\n",
       "      <td>{'C': 0.001, 'penalty': 'l1'}</td>\n",
       "      <td>0.839378</td>\n",
       "      <td>0.839378</td>\n",
       "      <td>0.839378</td>\n",
       "      <td>...</td>\n",
       "      <td>0.837306</td>\n",
       "      <td>0.002538</td>\n",
       "      <td>10</td>\n",
       "      <td>0.836788</td>\n",
       "      <td>0.836788</td>\n",
       "      <td>0.836788</td>\n",
       "      <td>0.838083</td>\n",
       "      <td>0.838083</td>\n",
       "      <td>0.837306</td>\n",
       "      <td>0.000635</td>\n",
       "    </tr>\n",
       "    <tr>\n",
       "      <th>1</th>\n",
       "      <td>0.003373</td>\n",
       "      <td>0.000729</td>\n",
       "      <td>0.000695</td>\n",
       "      <td>0.000243</td>\n",
       "      <td>0.001</td>\n",
       "      <td>l2</td>\n",
       "      <td>{'C': 0.001, 'penalty': 'l2'}</td>\n",
       "      <td>0.839378</td>\n",
       "      <td>0.839378</td>\n",
       "      <td>0.839378</td>\n",
       "      <td>...</td>\n",
       "      <td>0.837306</td>\n",
       "      <td>0.002538</td>\n",
       "      <td>10</td>\n",
       "      <td>0.836788</td>\n",
       "      <td>0.836788</td>\n",
       "      <td>0.836788</td>\n",
       "      <td>0.838083</td>\n",
       "      <td>0.838083</td>\n",
       "      <td>0.837306</td>\n",
       "      <td>0.000635</td>\n",
       "    </tr>\n",
       "    <tr>\n",
       "      <th>2</th>\n",
       "      <td>0.002778</td>\n",
       "      <td>0.000673</td>\n",
       "      <td>0.000595</td>\n",
       "      <td>0.000198</td>\n",
       "      <td>0.01</td>\n",
       "      <td>l1</td>\n",
       "      <td>{'C': 0.01, 'penalty': 'l1'}</td>\n",
       "      <td>0.839378</td>\n",
       "      <td>0.839378</td>\n",
       "      <td>0.839378</td>\n",
       "      <td>...</td>\n",
       "      <td>0.837306</td>\n",
       "      <td>0.002538</td>\n",
       "      <td>10</td>\n",
       "      <td>0.836788</td>\n",
       "      <td>0.836788</td>\n",
       "      <td>0.836788</td>\n",
       "      <td>0.838083</td>\n",
       "      <td>0.838083</td>\n",
       "      <td>0.837306</td>\n",
       "      <td>0.000635</td>\n",
       "    </tr>\n",
       "    <tr>\n",
       "      <th>3</th>\n",
       "      <td>0.003670</td>\n",
       "      <td>0.000397</td>\n",
       "      <td>0.000397</td>\n",
       "      <td>0.000371</td>\n",
       "      <td>0.01</td>\n",
       "      <td>l2</td>\n",
       "      <td>{'C': 0.01, 'penalty': 'l2'}</td>\n",
       "      <td>0.839378</td>\n",
       "      <td>0.844560</td>\n",
       "      <td>0.839378</td>\n",
       "      <td>...</td>\n",
       "      <td>0.842487</td>\n",
       "      <td>0.002538</td>\n",
       "      <td>9</td>\n",
       "      <td>0.849741</td>\n",
       "      <td>0.841969</td>\n",
       "      <td>0.845855</td>\n",
       "      <td>0.840674</td>\n",
       "      <td>0.841969</td>\n",
       "      <td>0.844041</td>\n",
       "      <td>0.003338</td>\n",
       "    </tr>\n",
       "    <tr>\n",
       "      <th>4</th>\n",
       "      <td>0.008928</td>\n",
       "      <td>0.001908</td>\n",
       "      <td>0.000794</td>\n",
       "      <td>0.000243</td>\n",
       "      <td>0.1</td>\n",
       "      <td>l1</td>\n",
       "      <td>{'C': 0.1, 'penalty': 'l1'}</td>\n",
       "      <td>0.844560</td>\n",
       "      <td>0.854922</td>\n",
       "      <td>0.849741</td>\n",
       "      <td>...</td>\n",
       "      <td>0.852850</td>\n",
       "      <td>0.005284</td>\n",
       "      <td>8</td>\n",
       "      <td>0.862694</td>\n",
       "      <td>0.860104</td>\n",
       "      <td>0.858808</td>\n",
       "      <td>0.863990</td>\n",
       "      <td>0.857513</td>\n",
       "      <td>0.860622</td>\n",
       "      <td>0.002402</td>\n",
       "    </tr>\n",
       "  </tbody>\n",
       "</table>\n",
       "<p>5 rows × 22 columns</p>\n",
       "</div>"
      ],
      "text/plain": [
       "   mean_fit_time  std_fit_time  mean_score_time  std_score_time param_C  \\\n",
       "0       0.004861      0.005023         0.003472        0.005952   0.001   \n",
       "1       0.003373      0.000729         0.000695        0.000243   0.001   \n",
       "2       0.002778      0.000673         0.000595        0.000198    0.01   \n",
       "3       0.003670      0.000397         0.000397        0.000371    0.01   \n",
       "4       0.008928      0.001908         0.000794        0.000243     0.1   \n",
       "\n",
       "  param_penalty                         params  split0_test_score  \\\n",
       "0            l1  {'C': 0.001, 'penalty': 'l1'}           0.839378   \n",
       "1            l2  {'C': 0.001, 'penalty': 'l2'}           0.839378   \n",
       "2            l1   {'C': 0.01, 'penalty': 'l1'}           0.839378   \n",
       "3            l2   {'C': 0.01, 'penalty': 'l2'}           0.839378   \n",
       "4            l1    {'C': 0.1, 'penalty': 'l1'}           0.844560   \n",
       "\n",
       "   split1_test_score  split2_test_score  ...  mean_test_score  std_test_score  \\\n",
       "0           0.839378           0.839378  ...         0.837306        0.002538   \n",
       "1           0.839378           0.839378  ...         0.837306        0.002538   \n",
       "2           0.839378           0.839378  ...         0.837306        0.002538   \n",
       "3           0.844560           0.839378  ...         0.842487        0.002538   \n",
       "4           0.854922           0.849741  ...         0.852850        0.005284   \n",
       "\n",
       "   rank_test_score  split0_train_score  split1_train_score  \\\n",
       "0               10            0.836788            0.836788   \n",
       "1               10            0.836788            0.836788   \n",
       "2               10            0.836788            0.836788   \n",
       "3                9            0.849741            0.841969   \n",
       "4                8            0.862694            0.860104   \n",
       "\n",
       "   split2_train_score  split3_train_score  split4_train_score  \\\n",
       "0            0.836788            0.838083            0.838083   \n",
       "1            0.836788            0.838083            0.838083   \n",
       "2            0.836788            0.838083            0.838083   \n",
       "3            0.845855            0.840674            0.841969   \n",
       "4            0.858808            0.863990            0.857513   \n",
       "\n",
       "   mean_train_score  std_train_score  \n",
       "0          0.837306         0.000635  \n",
       "1          0.837306         0.000635  \n",
       "2          0.837306         0.000635  \n",
       "3          0.844041         0.003338  \n",
       "4          0.860622         0.002402  \n",
       "\n",
       "[5 rows x 22 columns]"
      ]
     },
     "execution_count": 69,
     "metadata": {},
     "output_type": "execute_result"
    }
   ],
   "source": [
    "result = pd.DataFrame(gridLSVC.cv_results_)\n",
    "result.head()"
   ]
  },
  {
   "cell_type": "code",
   "execution_count": 70,
   "metadata": {},
   "outputs": [
    {
     "data": {
      "image/png": "[encoded data removed]",
      "text/plain": [
       "<Figure size 1080x288 with 1 Axes>"
      ]
     },
     "metadata": {
      "needs_background": "light"
     },
     "output_type": "display_data"
    }
   ],
   "source": [
    "%matplotlib inline\n",
    "\n",
    "size = range(result['params'].shape[0])\n",
    "index = gridLSVC.best_index_\n",
    "\n",
    "plt.subplots(figsize = (15,4))\n",
    "plt.plot(size, result['mean_train_score'], label = 'mean train score')\n",
    "plt.plot(size, result['mean_test_score'], label = 'mean test score')\n",
    "plt.xticks(size, result['params'], rotation = 90)\n",
    "plt.gca().get_xticklabels()[index].set_color('red')\n",
    "plt.legend()\n",
    "plt.grid()"
   ]
  },
  {
   "cell_type": "markdown",
   "metadata": {},
   "source": [
    "**Run the Linear SVC model using best parameters**"
   ]
  },
  {
   "cell_type": "code",
   "execution_count": 71,
   "metadata": {},
   "outputs": [
    {
     "name": "stdout",
     "output_type": "stream",
     "text": [
      "Train score: 0.8829015544041451\n",
      "Test score: 0.8695652173913043\n"
     ]
    }
   ],
   "source": [
    "lsvc = LinearSVC(C=0.1, dual=False, max_iter=15000, random_state=0)\n",
    "lsvc.fit(X_train, y_train)\n",
    "lsvc.score(X_train, y_train)\n",
    "print('Train score:', lsvc.score(X_train, y_train))\n",
    "print('Test score:', lsvc.score(X_test, y_test))"
   ]
  },
  {
   "cell_type": "code",
   "execution_count": 72,
   "metadata": {
    "scrolled": true
   },
   "outputs": [
    {
     "name": "stdout",
     "output_type": "stream",
     "text": [
      "Difference: 0.01333633701284076\n"
     ]
    }
   ],
   "source": [
    "print('Difference:', abs(lsvc.score(X_train, y_train) - lsvc.score(X_test, y_test)))"
   ]
  },
  {
   "cell_type": "markdown",
   "metadata": {},
   "source": [
    "**Predict the results (training data)**"
   ]
  },
  {
   "cell_type": "code",
   "execution_count": 73,
   "metadata": {},
   "outputs": [],
   "source": [
    "y_pred = lsvc.predict(X_train)"
   ]
  },
  {
   "cell_type": "markdown",
   "metadata": {},
   "source": [
    "**Classification Report (training data)** "
   ]
  },
  {
   "cell_type": "code",
   "execution_count": 74,
   "metadata": {
    "scrolled": false
   },
   "outputs": [
    {
     "name": "stdout",
     "output_type": "stream",
     "text": [
      "              precision    recall  f1-score   support\n",
      "\n",
      "           0       0.88      0.99      0.93       808\n",
      "           1       0.85      0.34      0.48       157\n",
      "\n",
      "    accuracy                           0.88       965\n",
      "   macro avg       0.87      0.66      0.71       965\n",
      "weighted avg       0.88      0.88      0.86       965\n",
      "\n"
     ]
    }
   ],
   "source": [
    "print(classification_report(y_train, y_pred))"
   ]
  },
  {
   "cell_type": "markdown",
   "metadata": {},
   "source": [
    "Comapred to the previous model's (Logistic Regression) training data results, this model is worse at classifying '1' values."
   ]
  },
  {
   "cell_type": "code",
   "execution_count": 75,
   "metadata": {},
   "outputs": [],
   "source": [
    "precisionTrn, recallTrn, fscoreTrn, supportTrn = score(y_train, y_pred, average = 'macro')"
   ]
  },
  {
   "cell_type": "markdown",
   "metadata": {},
   "source": [
    "**Predict the results (test data)**"
   ]
  },
  {
   "cell_type": "code",
   "execution_count": 76,
   "metadata": {},
   "outputs": [],
   "source": [
    "y_pred = lsvc.predict(X_test)"
   ]
  },
  {
   "cell_type": "markdown",
   "metadata": {},
   "source": [
    "**Classification Report (test data)**"
   ]
  },
  {
   "cell_type": "code",
   "execution_count": 77,
   "metadata": {},
   "outputs": [
    {
     "name": "stdout",
     "output_type": "stream",
     "text": [
      "              precision    recall  f1-score   support\n",
      "\n",
      "           0       0.88      0.99      0.93       350\n",
      "           1       0.75      0.23      0.36        64\n",
      "\n",
      "    accuracy                           0.87       414\n",
      "   macro avg       0.81      0.61      0.64       414\n",
      "weighted avg       0.86      0.87      0.84       414\n",
      "\n"
     ]
    }
   ],
   "source": [
    "print(classification_report(y_test, y_pred))"
   ]
  },
  {
   "cell_type": "markdown",
   "metadata": {},
   "source": [
    "The training results show that this model struggled at classifying '1' values, but managed to stay just as good as the training set at classifying '0' values. "
   ]
  },
  {
   "cell_type": "code",
   "execution_count": 78,
   "metadata": {},
   "outputs": [],
   "source": [
    "precisionTest, recallTest, fscoreTest, supportTest = score(y_test, y_pred, average = 'macro')"
   ]
  },
  {
   "cell_type": "markdown",
   "metadata": {},
   "source": [
    "**Confusion Matrix (test data)**"
   ]
  },
  {
   "cell_type": "code",
   "execution_count": 79,
   "metadata": {},
   "outputs": [],
   "source": [
    "confm = confusion_matrix(y_test, y_pred)"
   ]
  },
  {
   "cell_type": "code",
   "execution_count": 80,
   "metadata": {
    "scrolled": true
   },
   "outputs": [
    {
     "data": {
      "image/png": "[encoded data removed]",
      "text/plain": [
       "<Figure size 288x288 with 1 Axes>"
      ]
     },
     "metadata": {
      "needs_background": "light"
     },
     "output_type": "display_data"
    }
   ],
   "source": [
    "fig, ax = plt.subplots(figsize=(4, 4))\n",
    "\n",
    "ax.imshow(confm)\n",
    "ax.xaxis.set(ticks=(0, 1), ticklabels=('Predicted 0s', 'Predicted 1s'))\n",
    "ax.yaxis.set(ticks=(0, 1), ticklabels=('Actual 0s', 'Actual 1s'))\n",
    "ax.set_ylim(1.5, -0.5)\n",
    "for i in range(2):\n",
    "    for j in range(2):\n",
    "        ax.text(j, i, confm[i, j], ha='center', va='center', color='red')\n",
    "plt.show()"
   ]
  },
  {
   "cell_type": "markdown",
   "metadata": {},
   "source": [
    "**Hold important data for evaluation**"
   ]
  },
  {
   "cell_type": "code",
   "execution_count": 81,
   "metadata": {},
   "outputs": [],
   "source": [
    "lsvcInfo = ['LinearSVC', lsvc.score(X_train, y_train), lsvc.score(X_test, y_test), \n",
    "           abs(lsvc.score(X_train, y_train) - lsvc.score(X_test, y_test)),\n",
    "           precisionTrn, recallTrn, fscoreTrn, precisionTest, recallTest, fscoreTest]"
   ]
  },
  {
   "cell_type": "markdown",
   "metadata": {},
   "source": [
    "**Plot precision and recall curve (test data)**"
   ]
  },
  {
   "cell_type": "code",
   "execution_count": 82,
   "metadata": {},
   "outputs": [
    {
     "data": {
      "text/plain": [
       "<matplotlib.legend.Legend at 0x2a517ad08e0>"
      ]
     },
     "execution_count": 82,
     "metadata": {},
     "output_type": "execute_result"
    },
    {
     "data": {
      "image/png": "[encoded data removed]",
      "text/plain": [
       "<Figure size 576x576 with 1 Axes>"
      ]
     },
     "metadata": {
      "needs_background": "light"
     },
     "output_type": "display_data"
    }
   ],
   "source": [
    "%matplotlib inline\n",
    "\n",
    "precision, recall, thresholds = precision_recall_curve(y_test, lsvc.decision_function(X_test))\n",
    "\n",
    "close_zero = np.argmin(np.abs(thresholds))\n",
    "\n",
    "plt.subplots(figsize=(8, 8))\n",
    "plt.plot(precision[close_zero], recall[close_zero], 'o', markersize=15,\n",
    "         label=\"threshold zero\", fillstyle=\"none\", c='k')\n",
    "\n",
    "plt.plot(precision, recall, label=\"Precision Recall Curve\")\n",
    "plt.xlabel(\"Precision\")\n",
    "plt.ylabel(\"Recall\")\n",
    "plt.legend()"
   ]
  },
  {
   "cell_type": "markdown",
   "metadata": {},
   "source": [
    "We can see that this model will have a high precision while having lower recall. "
   ]
  },
  {
   "cell_type": "markdown",
   "metadata": {},
   "source": [
    "## <font color=blue> Kernelized SVC </font>"
   ]
  },
  {
   "cell_type": "code",
   "execution_count": 83,
   "metadata": {},
   "outputs": [],
   "source": [
    "from sklearn.svm import SVC"
   ]
  },
  {
   "cell_type": "markdown",
   "metadata": {},
   "source": [
    "### <font color=purple> Linear </font>"
   ]
  },
  {
   "cell_type": "markdown",
   "metadata": {},
   "source": [
    "#### GridSearch for best model parameters"
   ]
  },
  {
   "cell_type": "code",
   "execution_count": 84,
   "metadata": {},
   "outputs": [
    {
     "data": {
      "text/plain": [
       "GridSearchCV(estimator=SVC(kernel='linear', random_state=0),\n",
       "             param_grid={'C': [0.001, 0.01, 0.1, 1, 10, 100]},\n",
       "             return_train_score=True)"
      ]
     },
     "execution_count": 84,
     "metadata": {},
     "output_type": "execute_result"
    }
   ],
   "source": [
    "gridLinearSVC = GridSearchCV(SVC(kernel = 'linear', random_state = 0),\n",
    "                            param_grid = {'C': [0.001, 0.01, 0.1, 1, 10, 100]}, return_train_score = True)\n",
    "gridLinearSVC.fit(X_train, y_train)"
   ]
  },
  {
   "cell_type": "code",
   "execution_count": 85,
   "metadata": {},
   "outputs": [
    {
     "name": "stdout",
     "output_type": "stream",
     "text": [
      "SVC(C=1, kernel='linear', random_state=0)\n",
      "{'C': 1}\n"
     ]
    }
   ],
   "source": [
    "print(gridLinearSVC.best_estimator_)\n",
    "print(gridLinearSVC.best_params_)"
   ]
  },
  {
   "cell_type": "markdown",
   "metadata": {},
   "source": [
    "**Create GridSearch results DataFrame and plot the results**"
   ]
  },
  {
   "cell_type": "code",
   "execution_count": 86,
   "metadata": {
    "scrolled": true
   },
   "outputs": [
    {
     "data": {
      "text/html": [
       "<div>\n",
       "<style scoped>\n",
       "    .dataframe tbody tr th:only-of-type {\n",
       "        vertical-align: middle;\n",
       "    }\n",
       "\n",
       "    .dataframe tbody tr th {\n",
       "        vertical-align: top;\n",
       "    }\n",
       "\n",
       "    .dataframe thead th {\n",
       "        text-align: right;\n",
       "    }\n",
       "</style>\n",
       "<table border=\"1\" class=\"dataframe\">\n",
       "  <thead>\n",
       "    <tr style=\"text-align: right;\">\n",
       "      <th></th>\n",
       "      <th>mean_fit_time</th>\n",
       "      <th>std_fit_time</th>\n",
       "      <th>mean_score_time</th>\n",
       "      <th>std_score_time</th>\n",
       "      <th>param_C</th>\n",
       "      <th>params</th>\n",
       "      <th>split0_test_score</th>\n",
       "      <th>split1_test_score</th>\n",
       "      <th>split2_test_score</th>\n",
       "      <th>split3_test_score</th>\n",
       "      <th>...</th>\n",
       "      <th>mean_test_score</th>\n",
       "      <th>std_test_score</th>\n",
       "      <th>rank_test_score</th>\n",
       "      <th>split0_train_score</th>\n",
       "      <th>split1_train_score</th>\n",
       "      <th>split2_train_score</th>\n",
       "      <th>split3_train_score</th>\n",
       "      <th>split4_train_score</th>\n",
       "      <th>mean_train_score</th>\n",
       "      <th>std_train_score</th>\n",
       "    </tr>\n",
       "  </thead>\n",
       "  <tbody>\n",
       "    <tr>\n",
       "      <th>0</th>\n",
       "      <td>0.010019</td>\n",
       "      <td>0.000728</td>\n",
       "      <td>0.002281</td>\n",
       "      <td>0.000243</td>\n",
       "      <td>0.001</td>\n",
       "      <td>{'C': 0.001}</td>\n",
       "      <td>0.839378</td>\n",
       "      <td>0.839378</td>\n",
       "      <td>0.839378</td>\n",
       "      <td>0.834197</td>\n",
       "      <td>...</td>\n",
       "      <td>0.837306</td>\n",
       "      <td>0.002538</td>\n",
       "      <td>5</td>\n",
       "      <td>0.836788</td>\n",
       "      <td>0.836788</td>\n",
       "      <td>0.836788</td>\n",
       "      <td>0.838083</td>\n",
       "      <td>0.838083</td>\n",
       "      <td>0.837306</td>\n",
       "      <td>0.000635</td>\n",
       "    </tr>\n",
       "    <tr>\n",
       "      <th>1</th>\n",
       "      <td>0.010904</td>\n",
       "      <td>0.000548</td>\n",
       "      <td>0.002285</td>\n",
       "      <td>0.000244</td>\n",
       "      <td>0.01</td>\n",
       "      <td>{'C': 0.01}</td>\n",
       "      <td>0.839378</td>\n",
       "      <td>0.839378</td>\n",
       "      <td>0.839378</td>\n",
       "      <td>0.834197</td>\n",
       "      <td>...</td>\n",
       "      <td>0.837306</td>\n",
       "      <td>0.002538</td>\n",
       "      <td>5</td>\n",
       "      <td>0.836788</td>\n",
       "      <td>0.836788</td>\n",
       "      <td>0.836788</td>\n",
       "      <td>0.838083</td>\n",
       "      <td>0.838083</td>\n",
       "      <td>0.837306</td>\n",
       "      <td>0.000635</td>\n",
       "    </tr>\n",
       "    <tr>\n",
       "      <th>2</th>\n",
       "      <td>0.012307</td>\n",
       "      <td>0.000842</td>\n",
       "      <td>0.002286</td>\n",
       "      <td>0.000246</td>\n",
       "      <td>0.1</td>\n",
       "      <td>{'C': 0.1}</td>\n",
       "      <td>0.844560</td>\n",
       "      <td>0.839378</td>\n",
       "      <td>0.839378</td>\n",
       "      <td>0.839378</td>\n",
       "      <td>...</td>\n",
       "      <td>0.839378</td>\n",
       "      <td>0.003277</td>\n",
       "      <td>4</td>\n",
       "      <td>0.841969</td>\n",
       "      <td>0.838083</td>\n",
       "      <td>0.836788</td>\n",
       "      <td>0.838083</td>\n",
       "      <td>0.839378</td>\n",
       "      <td>0.838860</td>\n",
       "      <td>0.001757</td>\n",
       "    </tr>\n",
       "    <tr>\n",
       "      <th>3</th>\n",
       "      <td>0.014586</td>\n",
       "      <td>0.000748</td>\n",
       "      <td>0.001979</td>\n",
       "      <td>0.000010</td>\n",
       "      <td>1</td>\n",
       "      <td>{'C': 1}</td>\n",
       "      <td>0.849741</td>\n",
       "      <td>0.870466</td>\n",
       "      <td>0.886010</td>\n",
       "      <td>0.860104</td>\n",
       "      <td>...</td>\n",
       "      <td>0.868394</td>\n",
       "      <td>0.012521</td>\n",
       "      <td>1</td>\n",
       "      <td>0.892487</td>\n",
       "      <td>0.886010</td>\n",
       "      <td>0.887306</td>\n",
       "      <td>0.896373</td>\n",
       "      <td>0.883420</td>\n",
       "      <td>0.889119</td>\n",
       "      <td>0.004678</td>\n",
       "    </tr>\n",
       "    <tr>\n",
       "      <th>4</th>\n",
       "      <td>0.044143</td>\n",
       "      <td>0.007285</td>\n",
       "      <td>0.002079</td>\n",
       "      <td>0.000201</td>\n",
       "      <td>10</td>\n",
       "      <td>{'C': 10}</td>\n",
       "      <td>0.849741</td>\n",
       "      <td>0.865285</td>\n",
       "      <td>0.886010</td>\n",
       "      <td>0.849741</td>\n",
       "      <td>...</td>\n",
       "      <td>0.866321</td>\n",
       "      <td>0.015159</td>\n",
       "      <td>3</td>\n",
       "      <td>0.897668</td>\n",
       "      <td>0.886010</td>\n",
       "      <td>0.900259</td>\n",
       "      <td>0.900259</td>\n",
       "      <td>0.893782</td>\n",
       "      <td>0.895596</td>\n",
       "      <td>0.005347</td>\n",
       "    </tr>\n",
       "  </tbody>\n",
       "</table>\n",
       "<p>5 rows × 21 columns</p>\n",
       "</div>"
      ],
      "text/plain": [
       "   mean_fit_time  std_fit_time  mean_score_time  std_score_time param_C  \\\n",
       "0       0.010019      0.000728         0.002281        0.000243   0.001   \n",
       "1       0.010904      0.000548         0.002285        0.000244    0.01   \n",
       "2       0.012307      0.000842         0.002286        0.000246     0.1   \n",
       "3       0.014586      0.000748         0.001979        0.000010       1   \n",
       "4       0.044143      0.007285         0.002079        0.000201      10   \n",
       "\n",
       "         params  split0_test_score  split1_test_score  split2_test_score  \\\n",
       "0  {'C': 0.001}           0.839378           0.839378           0.839378   \n",
       "1   {'C': 0.01}           0.839378           0.839378           0.839378   \n",
       "2    {'C': 0.1}           0.844560           0.839378           0.839378   \n",
       "3      {'C': 1}           0.849741           0.870466           0.886010   \n",
       "4     {'C': 10}           0.849741           0.865285           0.886010   \n",
       "\n",
       "   split3_test_score  ...  mean_test_score  std_test_score  rank_test_score  \\\n",
       "0           0.834197  ...         0.837306        0.002538                5   \n",
       "1           0.834197  ...         0.837306        0.002538                5   \n",
       "2           0.839378  ...         0.839378        0.003277                4   \n",
       "3           0.860104  ...         0.868394        0.012521                1   \n",
       "4           0.849741  ...         0.866321        0.015159                3   \n",
       "\n",
       "   split0_train_score  split1_train_score  split2_train_score  \\\n",
       "0            0.836788            0.836788            0.836788   \n",
       "1            0.836788            0.836788            0.836788   \n",
       "2            0.841969            0.838083            0.836788   \n",
       "3            0.892487            0.886010            0.887306   \n",
       "4            0.897668            0.886010            0.900259   \n",
       "\n",
       "   split3_train_score  split4_train_score  mean_train_score  std_train_score  \n",
       "0            0.838083            0.838083          0.837306         0.000635  \n",
       "1            0.838083            0.838083          0.837306         0.000635  \n",
       "2            0.838083            0.839378          0.838860         0.001757  \n",
       "3            0.896373            0.883420          0.889119         0.004678  \n",
       "4            0.900259            0.893782          0.895596         0.005347  \n",
       "\n",
       "[5 rows x 21 columns]"
      ]
     },
     "execution_count": 86,
     "metadata": {},
     "output_type": "execute_result"
    }
   ],
   "source": [
    "result = pd.DataFrame(gridLinearSVC.cv_results_)\n",
    "result.head()"
   ]
  },
  {
   "cell_type": "code",
   "execution_count": 87,
   "metadata": {},
   "outputs": [
    {
     "data": {
      "image/png": "[encoded data removed]",
      "text/plain": [
       "<Figure size 1080x288 with 1 Axes>"
      ]
     },
     "metadata": {
      "needs_background": "light"
     },
     "output_type": "display_data"
    }
   ],
   "source": [
    "%matplotlib inline\n",
    "\n",
    "size = range(result['params'].shape[0])\n",
    "index = gridLinearSVC.best_index_\n",
    "\n",
    "plt.subplots(figsize = (15,4))\n",
    "plt.plot(size, result['mean_train_score'], label = 'mean train score')\n",
    "plt.plot(size, result['mean_test_score'], label = 'mean test score')\n",
    "plt.xticks(size, result['params'], rotation = 90)\n",
    "plt.gca().get_xticklabels()[index].set_color('red')\n",
    "plt.legend()\n",
    "plt.grid()"
   ]
  },
  {
   "cell_type": "markdown",
   "metadata": {},
   "source": [
    "**Run the Kernelized Linear SVC model using best parameters**"
   ]
  },
  {
   "cell_type": "code",
   "execution_count": 88,
   "metadata": {},
   "outputs": [
    {
     "name": "stdout",
     "output_type": "stream",
     "text": [
      "Test score:  0.8932642487046633\n",
      "Test score:  0.8695652173913043\n"
     ]
    }
   ],
   "source": [
    "kernLinear = SVC(C=1, kernel='linear', random_state=0)\n",
    "kernLinear.fit(X_train, y_train)\n",
    "print('Test score: ', kernLinear.score(X_train, y_train))\n",
    "print('Test score: ', kernLinear.score(X_test, y_test))"
   ]
  },
  {
   "cell_type": "code",
   "execution_count": 89,
   "metadata": {
    "scrolled": true
   },
   "outputs": [
    {
     "name": "stdout",
     "output_type": "stream",
     "text": [
      "Difference: 0.02369903131335893\n"
     ]
    }
   ],
   "source": [
    "print('Difference:', abs(kernLinear.score(X_train, y_train) - kernLinear.score(X_test, y_test)))"
   ]
  },
  {
   "cell_type": "markdown",
   "metadata": {},
   "source": [
    "**Predict the results (training data)**"
   ]
  },
  {
   "cell_type": "code",
   "execution_count": 90,
   "metadata": {},
   "outputs": [],
   "source": [
    "y_pred = kernLinear.predict(X_train)"
   ]
  },
  {
   "cell_type": "markdown",
   "metadata": {},
   "source": [
    "**Classification Report (training data)** "
   ]
  },
  {
   "cell_type": "code",
   "execution_count": 91,
   "metadata": {
    "scrolled": false
   },
   "outputs": [
    {
     "name": "stdout",
     "output_type": "stream",
     "text": [
      "              precision    recall  f1-score   support\n",
      "\n",
      "           0       0.90      0.98      0.94       808\n",
      "           1       0.83      0.43      0.57       157\n",
      "\n",
      "    accuracy                           0.89       965\n",
      "   macro avg       0.86      0.71      0.75       965\n",
      "weighted avg       0.89      0.89      0.88       965\n",
      "\n"
     ]
    }
   ],
   "source": [
    "print(classification_report(y_train, y_pred))"
   ]
  },
  {
   "cell_type": "markdown",
   "metadata": {},
   "source": [
    "Compared with previous models, this model's training results are decent. It has managed to classify the '1' values just as well as the Logistic Regression model had. "
   ]
  },
  {
   "cell_type": "code",
   "execution_count": 92,
   "metadata": {},
   "outputs": [],
   "source": [
    "precisionTrn, recallTrn, fscoreTrn, supportTrn = score(y_train, y_pred, average = 'macro')"
   ]
  },
  {
   "cell_type": "markdown",
   "metadata": {},
   "source": [
    "**Predict the results (test data)**"
   ]
  },
  {
   "cell_type": "code",
   "execution_count": 93,
   "metadata": {},
   "outputs": [],
   "source": [
    "y_pred = kernLinear.predict(X_test)"
   ]
  },
  {
   "cell_type": "markdown",
   "metadata": {},
   "source": [
    "**Classification Report (test data)**"
   ]
  },
  {
   "cell_type": "code",
   "execution_count": 94,
   "metadata": {},
   "outputs": [
    {
     "name": "stdout",
     "output_type": "stream",
     "text": [
      "              precision    recall  f1-score   support\n",
      "\n",
      "           0       0.89      0.97      0.93       350\n",
      "           1       0.66      0.33      0.44        64\n",
      "\n",
      "    accuracy                           0.87       414\n",
      "   macro avg       0.77      0.65      0.68       414\n",
      "weighted avg       0.85      0.87      0.85       414\n",
      "\n"
     ]
    }
   ],
   "source": [
    "print(classification_report(y_test, y_pred))"
   ]
  },
  {
   "cell_type": "markdown",
   "metadata": {},
   "source": [
    "Similar to the Logistic Regression model, the test results of this model dropped a small amount when classifying '1' values but is still relatively high considering how skewed the target data is. "
   ]
  },
  {
   "cell_type": "code",
   "execution_count": 95,
   "metadata": {},
   "outputs": [],
   "source": [
    "precisionTest, recallTest, fscoreTest, supportTest = score(y_test, y_pred, average = 'macro')"
   ]
  },
  {
   "cell_type": "markdown",
   "metadata": {},
   "source": [
    "**Confusion Matrix (test data)**"
   ]
  },
  {
   "cell_type": "code",
   "execution_count": 96,
   "metadata": {},
   "outputs": [],
   "source": [
    "confm = confusion_matrix(y_test, y_pred)"
   ]
  },
  {
   "cell_type": "code",
   "execution_count": 97,
   "metadata": {
    "scrolled": true
   },
   "outputs": [
    {
     "data": {
      "image/png": "[encoded data removed]",
      "text/plain": [
       "<Figure size 288x288 with 1 Axes>"
      ]
     },
     "metadata": {
      "needs_background": "light"
     },
     "output_type": "display_data"
    }
   ],
   "source": [
    "fig, ax = plt.subplots(figsize=(4, 4))\n",
    "\n",
    "ax.imshow(confm)\n",
    "ax.xaxis.set(ticks=(0, 1), ticklabels=('Predicted 0s', 'Predicted 1s'))\n",
    "ax.yaxis.set(ticks=(0, 1), ticklabels=('Actual 0s', 'Actual 1s'))\n",
    "ax.set_ylim(1.5, -0.5)\n",
    "for i in range(2):\n",
    "    for j in range(2):\n",
    "        ax.text(j, i, confm[i, j], ha='center', va='center', color='red')\n",
    "plt.show()"
   ]
  },
  {
   "cell_type": "markdown",
   "metadata": {},
   "source": [
    "**Hold important data for evaluation**"
   ]
  },
  {
   "cell_type": "code",
   "execution_count": 98,
   "metadata": {},
   "outputs": [],
   "source": [
    "kernLinearInfo = ['KernLinearSVC', kernLinear.score(X_train, y_train), kernLinear.score(X_test, y_test), \n",
    "                   abs(kernLinear.score(X_train, y_train) - kernLinear.score(X_test, y_test)),\n",
    "                   precisionTrn, recallTrn, fscoreTrn, precisionTest, recallTest, fscoreTest]"
   ]
  },
  {
   "cell_type": "markdown",
   "metadata": {},
   "source": [
    "**Plot precision and recall curve (test data)**"
   ]
  },
  {
   "cell_type": "code",
   "execution_count": 99,
   "metadata": {
    "scrolled": true
   },
   "outputs": [
    {
     "data": {
      "text/plain": [
       "<matplotlib.legend.Legend at 0x2a517e48e80>"
      ]
     },
     "execution_count": 99,
     "metadata": {},
     "output_type": "execute_result"
    },
    {
     "data": {
      "image/png": "[encoded data removed]",
      "text/plain": [
       "<Figure size 576x576 with 1 Axes>"
      ]
     },
     "metadata": {
      "needs_background": "light"
     },
     "output_type": "display_data"
    }
   ],
   "source": [
    "%matplotlib inline\n",
    "\n",
    "precision, recall, thresholds = precision_recall_curve(y_test, kernLinear.decision_function(X_test))\n",
    "\n",
    "close_zero = np.argmin(np.abs(thresholds))\n",
    "\n",
    "plt.subplots(figsize=(8, 8))\n",
    "plt.plot(precision[close_zero], recall[close_zero], 'o', markersize=10,\n",
    "         label=\"threshold zero\", fillstyle=\"none\", c='k')\n",
    "\n",
    "plt.plot(precision, recall, label=\"Precision Recall Curve\")\n",
    "plt.xlabel(\"Precision\")\n",
    "plt.ylabel(\"Recall\")\n",
    "plt.legend()"
   ]
  },
  {
   "cell_type": "markdown",
   "metadata": {},
   "source": [
    "This model's precision recall curve sees a very similar trend to the Linear SVC model's curve. "
   ]
  },
  {
   "cell_type": "markdown",
   "metadata": {},
   "source": [
    "### <font color=purple> RBF </font>"
   ]
  },
  {
   "cell_type": "markdown",
   "metadata": {},
   "source": [
    "#### GridSearch for best model parameters"
   ]
  },
  {
   "cell_type": "code",
   "execution_count": 100,
   "metadata": {},
   "outputs": [
    {
     "data": {
      "text/plain": [
       "GridSearchCV(estimator=SVC(),\n",
       "             param_grid={'C': [0.01, 0.1, 1, 10, 100],\n",
       "                         'gamma': [0.0001, 0.001, 0.01, 0.1]},\n",
       "             return_train_score=True)"
      ]
     },
     "execution_count": 100,
     "metadata": {},
     "output_type": "execute_result"
    }
   ],
   "source": [
    "gridRBFSVC = GridSearchCV(SVC(kernel = 'rbf'),\n",
    "                          param_grid = {'C': [0.01, 0.1, 1, 10, 100], 'gamma':[0.0001, 0.001, 0.01, 0.1]}, \n",
    "                          return_train_score = True)\n",
    "gridRBFSVC.fit(X_train, y_train)"
   ]
  },
  {
   "cell_type": "code",
   "execution_count": 101,
   "metadata": {},
   "outputs": [
    {
     "name": "stdout",
     "output_type": "stream",
     "text": [
      "SVC(C=100, gamma=0.01)\n",
      "{'C': 100, 'gamma': 0.01}\n"
     ]
    }
   ],
   "source": [
    "print(gridRBFSVC.best_estimator_)\n",
    "print(gridRBFSVC.best_params_)"
   ]
  },
  {
   "cell_type": "markdown",
   "metadata": {},
   "source": [
    "**Create GridSearch results DataFrame and plot the results**"
   ]
  },
  {
   "cell_type": "code",
   "execution_count": 102,
   "metadata": {
    "scrolled": true
   },
   "outputs": [
    {
     "data": {
      "text/html": [
       "<div>\n",
       "<style scoped>\n",
       "    .dataframe tbody tr th:only-of-type {\n",
       "        vertical-align: middle;\n",
       "    }\n",
       "\n",
       "    .dataframe tbody tr th {\n",
       "        vertical-align: top;\n",
       "    }\n",
       "\n",
       "    .dataframe thead th {\n",
       "        text-align: right;\n",
       "    }\n",
       "</style>\n",
       "<table border=\"1\" class=\"dataframe\">\n",
       "  <thead>\n",
       "    <tr style=\"text-align: right;\">\n",
       "      <th></th>\n",
       "      <th>mean_fit_time</th>\n",
       "      <th>std_fit_time</th>\n",
       "      <th>mean_score_time</th>\n",
       "      <th>std_score_time</th>\n",
       "      <th>param_C</th>\n",
       "      <th>param_gamma</th>\n",
       "      <th>params</th>\n",
       "      <th>split0_test_score</th>\n",
       "      <th>split1_test_score</th>\n",
       "      <th>split2_test_score</th>\n",
       "      <th>...</th>\n",
       "      <th>mean_test_score</th>\n",
       "      <th>std_test_score</th>\n",
       "      <th>rank_test_score</th>\n",
       "      <th>split0_train_score</th>\n",
       "      <th>split1_train_score</th>\n",
       "      <th>split2_train_score</th>\n",
       "      <th>split3_train_score</th>\n",
       "      <th>split4_train_score</th>\n",
       "      <th>mean_train_score</th>\n",
       "      <th>std_train_score</th>\n",
       "    </tr>\n",
       "  </thead>\n",
       "  <tbody>\n",
       "    <tr>\n",
       "      <th>0</th>\n",
       "      <td>0.011700</td>\n",
       "      <td>0.000238</td>\n",
       "      <td>0.002788</td>\n",
       "      <td>0.000242</td>\n",
       "      <td>0.01</td>\n",
       "      <td>0.0001</td>\n",
       "      <td>{'C': 0.01, 'gamma': 0.0001}</td>\n",
       "      <td>0.839378</td>\n",
       "      <td>0.839378</td>\n",
       "      <td>0.839378</td>\n",
       "      <td>...</td>\n",
       "      <td>0.837306</td>\n",
       "      <td>0.002538</td>\n",
       "      <td>6</td>\n",
       "      <td>0.836788</td>\n",
       "      <td>0.836788</td>\n",
       "      <td>0.836788</td>\n",
       "      <td>0.838083</td>\n",
       "      <td>0.838083</td>\n",
       "      <td>0.837306</td>\n",
       "      <td>0.000635</td>\n",
       "    </tr>\n",
       "    <tr>\n",
       "      <th>1</th>\n",
       "      <td>0.011611</td>\n",
       "      <td>0.000239</td>\n",
       "      <td>0.002872</td>\n",
       "      <td>0.000208</td>\n",
       "      <td>0.01</td>\n",
       "      <td>0.001</td>\n",
       "      <td>{'C': 0.01, 'gamma': 0.001}</td>\n",
       "      <td>0.839378</td>\n",
       "      <td>0.839378</td>\n",
       "      <td>0.839378</td>\n",
       "      <td>...</td>\n",
       "      <td>0.837306</td>\n",
       "      <td>0.002538</td>\n",
       "      <td>6</td>\n",
       "      <td>0.836788</td>\n",
       "      <td>0.836788</td>\n",
       "      <td>0.836788</td>\n",
       "      <td>0.838083</td>\n",
       "      <td>0.838083</td>\n",
       "      <td>0.837306</td>\n",
       "      <td>0.000635</td>\n",
       "    </tr>\n",
       "    <tr>\n",
       "      <th>2</th>\n",
       "      <td>0.012102</td>\n",
       "      <td>0.000397</td>\n",
       "      <td>0.002678</td>\n",
       "      <td>0.000243</td>\n",
       "      <td>0.01</td>\n",
       "      <td>0.01</td>\n",
       "      <td>{'C': 0.01, 'gamma': 0.01}</td>\n",
       "      <td>0.839378</td>\n",
       "      <td>0.839378</td>\n",
       "      <td>0.839378</td>\n",
       "      <td>...</td>\n",
       "      <td>0.837306</td>\n",
       "      <td>0.002538</td>\n",
       "      <td>6</td>\n",
       "      <td>0.836788</td>\n",
       "      <td>0.836788</td>\n",
       "      <td>0.836788</td>\n",
       "      <td>0.838083</td>\n",
       "      <td>0.838083</td>\n",
       "      <td>0.837306</td>\n",
       "      <td>0.000635</td>\n",
       "    </tr>\n",
       "    <tr>\n",
       "      <th>3</th>\n",
       "      <td>0.013982</td>\n",
       "      <td>0.000379</td>\n",
       "      <td>0.003482</td>\n",
       "      <td>0.000012</td>\n",
       "      <td>0.01</td>\n",
       "      <td>0.1</td>\n",
       "      <td>{'C': 0.01, 'gamma': 0.1}</td>\n",
       "      <td>0.839378</td>\n",
       "      <td>0.839378</td>\n",
       "      <td>0.839378</td>\n",
       "      <td>...</td>\n",
       "      <td>0.837306</td>\n",
       "      <td>0.002538</td>\n",
       "      <td>6</td>\n",
       "      <td>0.836788</td>\n",
       "      <td>0.836788</td>\n",
       "      <td>0.836788</td>\n",
       "      <td>0.838083</td>\n",
       "      <td>0.838083</td>\n",
       "      <td>0.837306</td>\n",
       "      <td>0.000635</td>\n",
       "    </tr>\n",
       "    <tr>\n",
       "      <th>4</th>\n",
       "      <td>0.011403</td>\n",
       "      <td>0.000019</td>\n",
       "      <td>0.002882</td>\n",
       "      <td>0.000189</td>\n",
       "      <td>0.1</td>\n",
       "      <td>0.0001</td>\n",
       "      <td>{'C': 0.1, 'gamma': 0.0001}</td>\n",
       "      <td>0.839378</td>\n",
       "      <td>0.839378</td>\n",
       "      <td>0.839378</td>\n",
       "      <td>...</td>\n",
       "      <td>0.837306</td>\n",
       "      <td>0.002538</td>\n",
       "      <td>6</td>\n",
       "      <td>0.836788</td>\n",
       "      <td>0.836788</td>\n",
       "      <td>0.836788</td>\n",
       "      <td>0.838083</td>\n",
       "      <td>0.838083</td>\n",
       "      <td>0.837306</td>\n",
       "      <td>0.000635</td>\n",
       "    </tr>\n",
       "  </tbody>\n",
       "</table>\n",
       "<p>5 rows × 22 columns</p>\n",
       "</div>"
      ],
      "text/plain": [
       "   mean_fit_time  std_fit_time  mean_score_time  std_score_time param_C  \\\n",
       "0       0.011700      0.000238         0.002788        0.000242    0.01   \n",
       "1       0.011611      0.000239         0.002872        0.000208    0.01   \n",
       "2       0.012102      0.000397         0.002678        0.000243    0.01   \n",
       "3       0.013982      0.000379         0.003482        0.000012    0.01   \n",
       "4       0.011403      0.000019         0.002882        0.000189     0.1   \n",
       "\n",
       "  param_gamma                        params  split0_test_score  \\\n",
       "0      0.0001  {'C': 0.01, 'gamma': 0.0001}           0.839378   \n",
       "1       0.001   {'C': 0.01, 'gamma': 0.001}           0.839378   \n",
       "2        0.01    {'C': 0.01, 'gamma': 0.01}           0.839378   \n",
       "3         0.1     {'C': 0.01, 'gamma': 0.1}           0.839378   \n",
       "4      0.0001   {'C': 0.1, 'gamma': 0.0001}           0.839378   \n",
       "\n",
       "   split1_test_score  split2_test_score  ...  mean_test_score  std_test_score  \\\n",
       "0           0.839378           0.839378  ...         0.837306        0.002538   \n",
       "1           0.839378           0.839378  ...         0.837306        0.002538   \n",
       "2           0.839378           0.839378  ...         0.837306        0.002538   \n",
       "3           0.839378           0.839378  ...         0.837306        0.002538   \n",
       "4           0.839378           0.839378  ...         0.837306        0.002538   \n",
       "\n",
       "   rank_test_score  split0_train_score  split1_train_score  \\\n",
       "0                6            0.836788            0.836788   \n",
       "1                6            0.836788            0.836788   \n",
       "2                6            0.836788            0.836788   \n",
       "3                6            0.836788            0.836788   \n",
       "4                6            0.836788            0.836788   \n",
       "\n",
       "   split2_train_score  split3_train_score  split4_train_score  \\\n",
       "0            0.836788            0.838083            0.838083   \n",
       "1            0.836788            0.838083            0.838083   \n",
       "2            0.836788            0.838083            0.838083   \n",
       "3            0.836788            0.838083            0.838083   \n",
       "4            0.836788            0.838083            0.838083   \n",
       "\n",
       "   mean_train_score  std_train_score  \n",
       "0          0.837306         0.000635  \n",
       "1          0.837306         0.000635  \n",
       "2          0.837306         0.000635  \n",
       "3          0.837306         0.000635  \n",
       "4          0.837306         0.000635  \n",
       "\n",
       "[5 rows x 22 columns]"
      ]
     },
     "execution_count": 102,
     "metadata": {},
     "output_type": "execute_result"
    }
   ],
   "source": [
    "result = pd.DataFrame(gridRBFSVC.cv_results_)\n",
    "result.head()"
   ]
  },
  {
   "cell_type": "code",
   "execution_count": 103,
   "metadata": {},
   "outputs": [
    {
     "data": {
      "image/png": "[encoded data removed]",
      "text/plain": [
       "<Figure size 1080x288 with 1 Axes>"
      ]
     },
     "metadata": {
      "needs_background": "light"
     },
     "output_type": "display_data"
    }
   ],
   "source": [
    "%matplotlib inline\n",
    "\n",
    "size = range(result['params'].shape[0])\n",
    "index = gridRBFSVC.best_index_\n",
    "\n",
    "plt.subplots(figsize = (15,4))\n",
    "plt.plot(size, result['mean_train_score'], label = 'mean train score')\n",
    "plt.plot(size, result['mean_test_score'], label = 'mean test score')\n",
    "plt.xticks(size, result['params'], rotation = 90)\n",
    "plt.gca().get_xticklabels()[index].set_color('red')\n",
    "plt.legend()\n",
    "plt.grid()"
   ]
  },
  {
   "cell_type": "markdown",
   "metadata": {},
   "source": [
    "**Run the Kernelized RBF SVC model using best parameters**"
   ]
  },
  {
   "cell_type": "code",
   "execution_count": 104,
   "metadata": {},
   "outputs": [
    {
     "name": "stdout",
     "output_type": "stream",
     "text": [
      "Train score: 0.910880829015544\n",
      "Test score: 0.8671497584541062\n"
     ]
    }
   ],
   "source": [
    "rbfSVC = SVC(C=100, gamma=0.01)\n",
    "rbfSVC.fit(X_train, y_train)\n",
    "print('Train score:', rbfSVC.score(X_train, y_train))\n",
    "print('Test score:', rbfSVC.score(X_test, y_test))"
   ]
  },
  {
   "cell_type": "code",
   "execution_count": 105,
   "metadata": {
    "scrolled": true
   },
   "outputs": [
    {
     "name": "stdout",
     "output_type": "stream",
     "text": [
      "Difference: 0.04373107056143777\n"
     ]
    }
   ],
   "source": [
    "print('Difference:', abs(rbfSVC.score(X_train, y_train) - rbfSVC.score(X_test, y_test)))"
   ]
  },
  {
   "cell_type": "markdown",
   "metadata": {},
   "source": [
    "**Predict the results (training data)**"
   ]
  },
  {
   "cell_type": "code",
   "execution_count": 106,
   "metadata": {},
   "outputs": [],
   "source": [
    "y_pred = rbfSVC.predict(X_train)"
   ]
  },
  {
   "cell_type": "markdown",
   "metadata": {},
   "source": [
    "**Classification Report (training data)** "
   ]
  },
  {
   "cell_type": "code",
   "execution_count": 107,
   "metadata": {
    "scrolled": false
   },
   "outputs": [
    {
     "name": "stdout",
     "output_type": "stream",
     "text": [
      "              precision    recall  f1-score   support\n",
      "\n",
      "           0       0.91      0.99      0.95       808\n",
      "           1       0.89      0.52      0.65       157\n",
      "\n",
      "    accuracy                           0.91       965\n",
      "   macro avg       0.90      0.75      0.80       965\n",
      "weighted avg       0.91      0.91      0.90       965\n",
      "\n"
     ]
    }
   ],
   "source": [
    "print(classification_report(y_train, y_pred))"
   ]
  },
  {
   "cell_type": "markdown",
   "metadata": {},
   "source": [
    "Based on the training results for this model, the classification of '1' values is far higher than any other model has been."
   ]
  },
  {
   "cell_type": "code",
   "execution_count": 108,
   "metadata": {},
   "outputs": [],
   "source": [
    "precisionTrn, recallTrn, fscoreTrn, supportTrn = score(y_train, y_pred, average = 'macro')"
   ]
  },
  {
   "cell_type": "markdown",
   "metadata": {},
   "source": [
    "**Predict the results (test data)**"
   ]
  },
  {
   "cell_type": "code",
   "execution_count": 109,
   "metadata": {},
   "outputs": [],
   "source": [
    "y_pred = rbfSVC.predict(X_test)"
   ]
  },
  {
   "cell_type": "markdown",
   "metadata": {},
   "source": [
    "**Classification Report (test data)**"
   ]
  },
  {
   "cell_type": "code",
   "execution_count": 110,
   "metadata": {},
   "outputs": [
    {
     "name": "stdout",
     "output_type": "stream",
     "text": [
      "              precision    recall  f1-score   support\n",
      "\n",
      "           0       0.89      0.97      0.92       350\n",
      "           1       0.64      0.33      0.43        64\n",
      "\n",
      "    accuracy                           0.87       414\n",
      "   macro avg       0.76      0.65      0.68       414\n",
      "weighted avg       0.85      0.87      0.85       414\n",
      "\n"
     ]
    }
   ],
   "source": [
    "print(classification_report(y_test, y_pred))"
   ]
  },
  {
   "cell_type": "markdown",
   "metadata": {},
   "source": [
    "Compared to the training results, the test results see the classification of '1' values drop off significantly, however, this model may still be competitive with some other models as it is still relatively high. "
   ]
  },
  {
   "cell_type": "code",
   "execution_count": 111,
   "metadata": {},
   "outputs": [],
   "source": [
    "precisionTest, recallTest, fscoreTest, supportTest = score(y_test, y_pred, average = 'macro')"
   ]
  },
  {
   "cell_type": "markdown",
   "metadata": {},
   "source": [
    "**Confusion Matrix (test data)**"
   ]
  },
  {
   "cell_type": "code",
   "execution_count": 112,
   "metadata": {},
   "outputs": [],
   "source": [
    "confm = confusion_matrix(y_test, y_pred)"
   ]
  },
  {
   "cell_type": "code",
   "execution_count": 113,
   "metadata": {
    "scrolled": true
   },
   "outputs": [
    {
     "data": {
      "image/png": "[encoded data removed]",
      "text/plain": [
       "<Figure size 288x288 with 1 Axes>"
      ]
     },
     "metadata": {
      "needs_background": "light"
     },
     "output_type": "display_data"
    }
   ],
   "source": [
    "fig, ax = plt.subplots(figsize=(4, 4))\n",
    "\n",
    "ax.imshow(confm)\n",
    "ax.xaxis.set(ticks=(0, 1), ticklabels=('Predicted 0s', 'Predicted 1s'))\n",
    "ax.yaxis.set(ticks=(0, 1), ticklabels=('Actual 0s', 'Actual 1s'))\n",
    "ax.set_ylim(1.5, -0.5)\n",
    "for i in range(2):\n",
    "    for j in range(2):\n",
    "        ax.text(j, i, confm[i, j], ha='center', va='center', color='red')\n",
    "plt.show()"
   ]
  },
  {
   "cell_type": "markdown",
   "metadata": {},
   "source": [
    "**Hold important data for evaluation**"
   ]
  },
  {
   "cell_type": "code",
   "execution_count": 114,
   "metadata": {},
   "outputs": [],
   "source": [
    "rbfSVCInfo = ['KernRbfSVC', rbfSVC.score(X_train, y_train), rbfSVC.score(X_test, y_test), \n",
    "               abs(rbfSVC.score(X_train, y_train) - rbfSVC.score(X_test, y_test)),\n",
    "               precisionTrn, recallTrn, fscoreTrn, precisionTest, recallTest, fscoreTest]"
   ]
  },
  {
   "cell_type": "markdown",
   "metadata": {},
   "source": [
    "**Plot precision and recall curve (test data)**"
   ]
  },
  {
   "cell_type": "code",
   "execution_count": 115,
   "metadata": {},
   "outputs": [
    {
     "data": {
      "text/plain": [
       "<matplotlib.legend.Legend at 0x2a517f83d90>"
      ]
     },
     "execution_count": 115,
     "metadata": {},
     "output_type": "execute_result"
    },
    {
     "data": {
      "image/png": "[encoded data removed]",
      "text/plain": [
       "<Figure size 576x576 with 1 Axes>"
      ]
     },
     "metadata": {
      "needs_background": "light"
     },
     "output_type": "display_data"
    }
   ],
   "source": [
    "%matplotlib inline\n",
    "\n",
    "precision, recall, thresholds = precision_recall_curve(y_test, rbfSVC.decision_function(X_test))\n",
    "\n",
    "close_zero = np.argmin(np.abs(thresholds))\n",
    "\n",
    "plt.subplots(figsize=(8, 8))\n",
    "plt.plot(precision[close_zero], recall[close_zero], 'o', markersize=15,\n",
    "         label=\"threshold zero\", fillstyle=\"none\", c='k')\n",
    "\n",
    "plt.plot(precision, recall, label=\"precision recall curve\")\n",
    "plt.xlabel(\"Precision\")\n",
    "plt.ylabel(\"Recall\")\n",
    "plt.legend()"
   ]
  },
  {
   "cell_type": "markdown",
   "metadata": {},
   "source": [
    "The precision recall curve for this model shows that the precision remains relatively stable around 0.6 when the recall is around 0.3-0.5. This shows a similar trend to previous models. "
   ]
  },
  {
   "cell_type": "markdown",
   "metadata": {},
   "source": [
    "### <font color=purple> Poly </font>"
   ]
  },
  {
   "cell_type": "markdown",
   "metadata": {},
   "source": [
    "#### GridSearch for best model parameters"
   ]
  },
  {
   "cell_type": "code",
   "execution_count": 116,
   "metadata": {},
   "outputs": [
    {
     "data": {
      "text/plain": [
       "GridSearchCV(estimator=SVC(kernel='poly'),\n",
       "             param_grid={'coef0': [0, 1],\n",
       "                         'degree': [1, 2, 3, 4, 5, 6, 7, 8, 9, 10],\n",
       "                         'gamma': [0.0001, 0.001, 0.01, 0.1]},\n",
       "             return_train_score=True)"
      ]
     },
     "execution_count": 116,
     "metadata": {},
     "output_type": "execute_result"
    }
   ],
   "source": [
    "gridPolySVC = GridSearchCV(SVC(kernel = 'poly'),\n",
    "                            param_grid = {'degree': [1, 2, 3, 4, 5, 6, 7, 8, 9, 10], \n",
    "                                          'gamma':[0.0001, 0.001, 0.01, 0.1], 'coef0':[0,1]}, \n",
    "                            return_train_score = True)\n",
    "gridPolySVC.fit(X_train, y_train)"
   ]
  },
  {
   "cell_type": "code",
   "execution_count": 117,
   "metadata": {},
   "outputs": [
    {
     "name": "stdout",
     "output_type": "stream",
     "text": [
      "SVC(coef0=1, gamma=0.1, kernel='poly')\n",
      "{'coef0': 1, 'degree': 3, 'gamma': 0.1}\n"
     ]
    }
   ],
   "source": [
    "print(gridPolySVC.best_estimator_)\n",
    "print(gridPolySVC.best_params_)"
   ]
  },
  {
   "cell_type": "markdown",
   "metadata": {},
   "source": [
    "**Create GridSearch results DataFrame and plot the results**"
   ]
  },
  {
   "cell_type": "code",
   "execution_count": 118,
   "metadata": {
    "scrolled": true
   },
   "outputs": [
    {
     "data": {
      "text/html": [
       "<div>\n",
       "<style scoped>\n",
       "    .dataframe tbody tr th:only-of-type {\n",
       "        vertical-align: middle;\n",
       "    }\n",
       "\n",
       "    .dataframe tbody tr th {\n",
       "        vertical-align: top;\n",
       "    }\n",
       "\n",
       "    .dataframe thead th {\n",
       "        text-align: right;\n",
       "    }\n",
       "</style>\n",
       "<table border=\"1\" class=\"dataframe\">\n",
       "  <thead>\n",
       "    <tr style=\"text-align: right;\">\n",
       "      <th></th>\n",
       "      <th>mean_fit_time</th>\n",
       "      <th>std_fit_time</th>\n",
       "      <th>mean_score_time</th>\n",
       "      <th>std_score_time</th>\n",
       "      <th>param_coef0</th>\n",
       "      <th>param_degree</th>\n",
       "      <th>param_gamma</th>\n",
       "      <th>params</th>\n",
       "      <th>split0_test_score</th>\n",
       "      <th>split1_test_score</th>\n",
       "      <th>...</th>\n",
       "      <th>mean_test_score</th>\n",
       "      <th>std_test_score</th>\n",
       "      <th>rank_test_score</th>\n",
       "      <th>split0_train_score</th>\n",
       "      <th>split1_train_score</th>\n",
       "      <th>split2_train_score</th>\n",
       "      <th>split3_train_score</th>\n",
       "      <th>split4_train_score</th>\n",
       "      <th>mean_train_score</th>\n",
       "      <th>std_train_score</th>\n",
       "    </tr>\n",
       "  </thead>\n",
       "  <tbody>\n",
       "    <tr>\n",
       "      <th>0</th>\n",
       "      <td>0.009027</td>\n",
       "      <td>0.000198</td>\n",
       "      <td>0.002282</td>\n",
       "      <td>0.000243</td>\n",
       "      <td>0</td>\n",
       "      <td>1</td>\n",
       "      <td>0.0001</td>\n",
       "      <td>{'coef0': 0, 'degree': 1, 'gamma': 0.0001}</td>\n",
       "      <td>0.839378</td>\n",
       "      <td>0.839378</td>\n",
       "      <td>...</td>\n",
       "      <td>0.837306</td>\n",
       "      <td>0.002538</td>\n",
       "      <td>15</td>\n",
       "      <td>0.836788</td>\n",
       "      <td>0.836788</td>\n",
       "      <td>0.836788</td>\n",
       "      <td>0.838083</td>\n",
       "      <td>0.838083</td>\n",
       "      <td>0.837306</td>\n",
       "      <td>0.000635</td>\n",
       "    </tr>\n",
       "    <tr>\n",
       "      <th>1</th>\n",
       "      <td>0.010212</td>\n",
       "      <td>0.000250</td>\n",
       "      <td>0.002381</td>\n",
       "      <td>0.000198</td>\n",
       "      <td>0</td>\n",
       "      <td>1</td>\n",
       "      <td>0.001</td>\n",
       "      <td>{'coef0': 0, 'degree': 1, 'gamma': 0.001}</td>\n",
       "      <td>0.839378</td>\n",
       "      <td>0.839378</td>\n",
       "      <td>...</td>\n",
       "      <td>0.837306</td>\n",
       "      <td>0.002538</td>\n",
       "      <td>15</td>\n",
       "      <td>0.836788</td>\n",
       "      <td>0.836788</td>\n",
       "      <td>0.836788</td>\n",
       "      <td>0.838083</td>\n",
       "      <td>0.838083</td>\n",
       "      <td>0.837306</td>\n",
       "      <td>0.000635</td>\n",
       "    </tr>\n",
       "    <tr>\n",
       "      <th>2</th>\n",
       "      <td>0.011110</td>\n",
       "      <td>0.000506</td>\n",
       "      <td>0.002385</td>\n",
       "      <td>0.000201</td>\n",
       "      <td>0</td>\n",
       "      <td>1</td>\n",
       "      <td>0.01</td>\n",
       "      <td>{'coef0': 0, 'degree': 1, 'gamma': 0.01}</td>\n",
       "      <td>0.839378</td>\n",
       "      <td>0.839378</td>\n",
       "      <td>...</td>\n",
       "      <td>0.837306</td>\n",
       "      <td>0.002538</td>\n",
       "      <td>15</td>\n",
       "      <td>0.836788</td>\n",
       "      <td>0.836788</td>\n",
       "      <td>0.836788</td>\n",
       "      <td>0.838083</td>\n",
       "      <td>0.838083</td>\n",
       "      <td>0.837306</td>\n",
       "      <td>0.000635</td>\n",
       "    </tr>\n",
       "    <tr>\n",
       "      <th>3</th>\n",
       "      <td>0.012295</td>\n",
       "      <td>0.000725</td>\n",
       "      <td>0.002377</td>\n",
       "      <td>0.000197</td>\n",
       "      <td>0</td>\n",
       "      <td>1</td>\n",
       "      <td>0.1</td>\n",
       "      <td>{'coef0': 0, 'degree': 1, 'gamma': 0.1}</td>\n",
       "      <td>0.844560</td>\n",
       "      <td>0.839378</td>\n",
       "      <td>...</td>\n",
       "      <td>0.839378</td>\n",
       "      <td>0.003277</td>\n",
       "      <td>11</td>\n",
       "      <td>0.841969</td>\n",
       "      <td>0.838083</td>\n",
       "      <td>0.836788</td>\n",
       "      <td>0.838083</td>\n",
       "      <td>0.839378</td>\n",
       "      <td>0.838860</td>\n",
       "      <td>0.001757</td>\n",
       "    </tr>\n",
       "    <tr>\n",
       "      <th>4</th>\n",
       "      <td>0.008834</td>\n",
       "      <td>0.000201</td>\n",
       "      <td>0.002380</td>\n",
       "      <td>0.000198</td>\n",
       "      <td>0</td>\n",
       "      <td>2</td>\n",
       "      <td>0.0001</td>\n",
       "      <td>{'coef0': 0, 'degree': 2, 'gamma': 0.0001}</td>\n",
       "      <td>0.839378</td>\n",
       "      <td>0.839378</td>\n",
       "      <td>...</td>\n",
       "      <td>0.837306</td>\n",
       "      <td>0.002538</td>\n",
       "      <td>15</td>\n",
       "      <td>0.836788</td>\n",
       "      <td>0.836788</td>\n",
       "      <td>0.836788</td>\n",
       "      <td>0.838083</td>\n",
       "      <td>0.838083</td>\n",
       "      <td>0.837306</td>\n",
       "      <td>0.000635</td>\n",
       "    </tr>\n",
       "  </tbody>\n",
       "</table>\n",
       "<p>5 rows × 23 columns</p>\n",
       "</div>"
      ],
      "text/plain": [
       "   mean_fit_time  std_fit_time  mean_score_time  std_score_time param_coef0  \\\n",
       "0       0.009027      0.000198         0.002282        0.000243           0   \n",
       "1       0.010212      0.000250         0.002381        0.000198           0   \n",
       "2       0.011110      0.000506         0.002385        0.000201           0   \n",
       "3       0.012295      0.000725         0.002377        0.000197           0   \n",
       "4       0.008834      0.000201         0.002380        0.000198           0   \n",
       "\n",
       "  param_degree param_gamma                                      params  \\\n",
       "0            1      0.0001  {'coef0': 0, 'degree': 1, 'gamma': 0.0001}   \n",
       "1            1       0.001   {'coef0': 0, 'degree': 1, 'gamma': 0.001}   \n",
       "2            1        0.01    {'coef0': 0, 'degree': 1, 'gamma': 0.01}   \n",
       "3            1         0.1     {'coef0': 0, 'degree': 1, 'gamma': 0.1}   \n",
       "4            2      0.0001  {'coef0': 0, 'degree': 2, 'gamma': 0.0001}   \n",
       "\n",
       "   split0_test_score  split1_test_score  ...  mean_test_score  std_test_score  \\\n",
       "0           0.839378           0.839378  ...         0.837306        0.002538   \n",
       "1           0.839378           0.839378  ...         0.837306        0.002538   \n",
       "2           0.839378           0.839378  ...         0.837306        0.002538   \n",
       "3           0.844560           0.839378  ...         0.839378        0.003277   \n",
       "4           0.839378           0.839378  ...         0.837306        0.002538   \n",
       "\n",
       "   rank_test_score  split0_train_score  split1_train_score  \\\n",
       "0               15            0.836788            0.836788   \n",
       "1               15            0.836788            0.836788   \n",
       "2               15            0.836788            0.836788   \n",
       "3               11            0.841969            0.838083   \n",
       "4               15            0.836788            0.836788   \n",
       "\n",
       "   split2_train_score  split3_train_score  split4_train_score  \\\n",
       "0            0.836788            0.838083            0.838083   \n",
       "1            0.836788            0.838083            0.838083   \n",
       "2            0.836788            0.838083            0.838083   \n",
       "3            0.836788            0.838083            0.839378   \n",
       "4            0.836788            0.838083            0.838083   \n",
       "\n",
       "   mean_train_score  std_train_score  \n",
       "0          0.837306         0.000635  \n",
       "1          0.837306         0.000635  \n",
       "2          0.837306         0.000635  \n",
       "3          0.838860         0.001757  \n",
       "4          0.837306         0.000635  \n",
       "\n",
       "[5 rows x 23 columns]"
      ]
     },
     "execution_count": 118,
     "metadata": {},
     "output_type": "execute_result"
    }
   ],
   "source": [
    "result = pd.DataFrame(gridPolySVC.cv_results_)\n",
    "result.head()"
   ]
  },
  {
   "cell_type": "code",
   "execution_count": 119,
   "metadata": {},
   "outputs": [
    {
     "data": {
      "image/png": "[encoded data removed]",
      "text/plain": [
       "<Figure size 2304x360 with 1 Axes>"
      ]
     },
     "metadata": {
      "needs_background": "light"
     },
     "output_type": "display_data"
    }
   ],
   "source": [
    "%matplotlib inline\n",
    "\n",
    "size = range(result['params'].shape[0])\n",
    "index = gridPolySVC.best_index_\n",
    "\n",
    "plt.subplots(figsize = (32,5))\n",
    "plt.plot(size, result['mean_train_score'], label = 'mean train score')\n",
    "plt.plot(size, result['mean_test_score'], label = 'mean test score')\n",
    "plt.xticks(size, result['params'], rotation = 90)\n",
    "plt.gca().get_xticklabels()[index].set_color('red')\n",
    "plt.legend()\n",
    "plt.grid()"
   ]
  },
  {
   "cell_type": "markdown",
   "metadata": {},
   "source": [
    "**Run the Kernelized Poly SVC model using best parameters**"
   ]
  },
  {
   "cell_type": "code",
   "execution_count": 120,
   "metadata": {},
   "outputs": [
    {
     "name": "stdout",
     "output_type": "stream",
     "text": [
      "Train score: 0.9284974093264249\n",
      "Test score: 0.857487922705314\n"
     ]
    }
   ],
   "source": [
    "polySVC = SVC(coef0=1, gamma=0.1, kernel='poly')\n",
    "polySVC.fit(X_train, y_train)\n",
    "print('Train score:', polySVC.score(X_train, y_train))\n",
    "print('Test score:', polySVC.score(X_test, y_test))"
   ]
  },
  {
   "cell_type": "code",
   "execution_count": 121,
   "metadata": {},
   "outputs": [
    {
     "name": "stdout",
     "output_type": "stream",
     "text": [
      "Difference: 0.07100948662111084\n"
     ]
    }
   ],
   "source": [
    "print('Difference:', abs(polySVC.score(X_train, y_train) - polySVC.score(X_test, y_test)))"
   ]
  },
  {
   "cell_type": "markdown",
   "metadata": {},
   "source": [
    "**Predict the results (training data)**"
   ]
  },
  {
   "cell_type": "code",
   "execution_count": 122,
   "metadata": {},
   "outputs": [],
   "source": [
    "y_pred = polySVC.predict(X_train)"
   ]
  },
  {
   "cell_type": "markdown",
   "metadata": {},
   "source": [
    "**Classification Report (training data)** "
   ]
  },
  {
   "cell_type": "code",
   "execution_count": 123,
   "metadata": {
    "scrolled": false
   },
   "outputs": [
    {
     "name": "stdout",
     "output_type": "stream",
     "text": [
      "              precision    recall  f1-score   support\n",
      "\n",
      "           0       0.93      0.99      0.96       808\n",
      "           1       0.92      0.62      0.74       157\n",
      "\n",
      "    accuracy                           0.93       965\n",
      "   macro avg       0.92      0.80      0.85       965\n",
      "weighted avg       0.93      0.93      0.92       965\n",
      "\n"
     ]
    }
   ],
   "source": [
    "print(classification_report(y_train, y_pred))"
   ]
  },
  {
   "cell_type": "markdown",
   "metadata": {},
   "source": [
    "The training results for this model show that it is great at classifying '1' values. This is the highest accuracy seen so far (for training results). "
   ]
  },
  {
   "cell_type": "code",
   "execution_count": 124,
   "metadata": {},
   "outputs": [],
   "source": [
    "precisionTrn, recallTrn, fscoreTrn, supportTrn = score(y_train, y_pred, average = 'macro')"
   ]
  },
  {
   "cell_type": "markdown",
   "metadata": {},
   "source": [
    "**Predict the results (test data)**"
   ]
  },
  {
   "cell_type": "code",
   "execution_count": 125,
   "metadata": {},
   "outputs": [],
   "source": [
    "y_pred = polySVC.predict(X_test)"
   ]
  },
  {
   "cell_type": "markdown",
   "metadata": {},
   "source": [
    "**Classification Report (test data)**"
   ]
  },
  {
   "cell_type": "code",
   "execution_count": 126,
   "metadata": {},
   "outputs": [
    {
     "name": "stdout",
     "output_type": "stream",
     "text": [
      "              precision    recall  f1-score   support\n",
      "\n",
      "           0       0.88      0.96      0.92       350\n",
      "           1       0.57      0.31      0.40        64\n",
      "\n",
      "    accuracy                           0.86       414\n",
      "   macro avg       0.73      0.63      0.66       414\n",
      "weighted avg       0.84      0.86      0.84       414\n",
      "\n"
     ]
    }
   ],
   "source": [
    "print(classification_report(y_test, y_pred))"
   ]
  },
  {
   "cell_type": "markdown",
   "metadata": {},
   "source": [
    "Unfortunately, the test results show that the classification of '1' values drops off drastically compared to previous models. This model may still be competitive against the other models."
   ]
  },
  {
   "cell_type": "code",
   "execution_count": 127,
   "metadata": {},
   "outputs": [],
   "source": [
    "precisionTest, recallTest, fscoreTest, supportTest = score(y_test, y_pred, average = 'macro')"
   ]
  },
  {
   "cell_type": "markdown",
   "metadata": {},
   "source": [
    "**Confusion Matrix (test data)**"
   ]
  },
  {
   "cell_type": "code",
   "execution_count": 128,
   "metadata": {},
   "outputs": [],
   "source": [
    "confm = confusion_matrix(y_test, y_pred)"
   ]
  },
  {
   "cell_type": "code",
   "execution_count": 129,
   "metadata": {
    "scrolled": true
   },
   "outputs": [
    {
     "data": {
      "image/png": "[encoded data removed]",
      "text/plain": [
       "<Figure size 288x288 with 1 Axes>"
      ]
     },
     "metadata": {
      "needs_background": "light"
     },
     "output_type": "display_data"
    }
   ],
   "source": [
    "fig, ax = plt.subplots(figsize=(4, 4))\n",
    "\n",
    "ax.imshow(confm)\n",
    "ax.xaxis.set(ticks=(0, 1), ticklabels=('Predicted 0s', 'Predicted 1s'))\n",
    "ax.yaxis.set(ticks=(0, 1), ticklabels=('Actual 0s', 'Actual 1s'))\n",
    "ax.set_ylim(1.5, -0.5)\n",
    "for i in range(2):\n",
    "    for j in range(2):\n",
    "        ax.text(j, i, confm[i, j], ha='center', va='center', color='red')\n",
    "plt.show()"
   ]
  },
  {
   "cell_type": "markdown",
   "metadata": {},
   "source": [
    "**Hold important data for evaluation**"
   ]
  },
  {
   "cell_type": "code",
   "execution_count": 130,
   "metadata": {},
   "outputs": [],
   "source": [
    "polySVCInfo = ['KernPolySVC', polySVC.score(X_train, y_train), polySVC.score(X_test, y_test), \n",
    "                abs(polySVC.score(X_train, y_train) - polySVC.score(X_test, y_test)),\n",
    "                precisionTrn, recallTrn, fscoreTrn, precisionTest, recallTest, fscoreTest]"
   ]
  },
  {
   "cell_type": "markdown",
   "metadata": {},
   "source": [
    "**Plot precision and recall curve (test data)**"
   ]
  },
  {
   "cell_type": "code",
   "execution_count": 131,
   "metadata": {},
   "outputs": [
    {
     "data": {
      "text/plain": [
       "<matplotlib.legend.Legend at 0x2a517be40d0>"
      ]
     },
     "execution_count": 131,
     "metadata": {},
     "output_type": "execute_result"
    },
    {
     "data": {
      "image/png": "[encoded data removed]",
      "text/plain": [
       "<Figure size 576x576 with 1 Axes>"
      ]
     },
     "metadata": {
      "needs_background": "light"
     },
     "output_type": "display_data"
    }
   ],
   "source": [
    "%matplotlib inline\n",
    "\n",
    "precision, recall, thresholds = precision_recall_curve(y_test, polySVC.decision_function(X_test))\n",
    "\n",
    "close_zero = np.argmin(np.abs(thresholds))\n",
    "\n",
    "plt.subplots(figsize=(8, 8))\n",
    "plt.plot(precision[close_zero], recall[close_zero], 'o', markersize=15,\n",
    "         label=\"threshold zero\", fillstyle=\"none\", c='k')\n",
    "\n",
    "plt.plot(precision, recall, label=\"precision recall curve\")\n",
    "plt.xlabel(\"Precision\")\n",
    "plt.ylabel(\"Recall\")\n",
    "plt.legend()"
   ]
  },
  {
   "cell_type": "markdown",
   "metadata": {},
   "source": [
    "Compared to other models, the precision recall curve for this models shows that the precision drops off far sooner for lower values of recall. Overall, this does not look good for this model. "
   ]
  },
  {
   "cell_type": "markdown",
   "metadata": {},
   "source": [
    "## <font color=blue> Decision Tree </font>"
   ]
  },
  {
   "cell_type": "code",
   "execution_count": 132,
   "metadata": {},
   "outputs": [],
   "source": [
    "from sklearn.tree import DecisionTreeClassifier\n",
    "from sklearn import tree"
   ]
  },
  {
   "cell_type": "markdown",
   "metadata": {},
   "source": [
    "#### GridSearch for best model parameters"
   ]
  },
  {
   "cell_type": "code",
   "execution_count": 133,
   "metadata": {},
   "outputs": [
    {
     "data": {
      "text/plain": [
       "GridSearchCV(estimator=DecisionTreeClassifier(random_state=0),\n",
       "             param_grid={'criterion': ['gini', 'entropy'],\n",
       "                         'max_depth': [1, 2, 3, 4, 5, 6, 7],\n",
       "                         'splitter': ['best', 'random']},\n",
       "             return_train_score=True)"
      ]
     },
     "execution_count": 133,
     "metadata": {},
     "output_type": "execute_result"
    }
   ],
   "source": [
    "gridDtree = GridSearchCV(DecisionTreeClassifier(random_state=0), \n",
    "                         param_grid = {'max_depth':[1,2,3,4,5,6,7], 'criterion':['gini', 'entropy'], \n",
    "                                       'splitter':['best','random']}, \n",
    "                         return_train_score = True)\n",
    "gridDtree.fit(X_train, y_train)"
   ]
  },
  {
   "cell_type": "code",
   "execution_count": 134,
   "metadata": {},
   "outputs": [
    {
     "name": "stdout",
     "output_type": "stream",
     "text": [
      "DecisionTreeClassifier(criterion='entropy', max_depth=4, random_state=0)\n",
      "{'criterion': 'entropy', 'max_depth': 4, 'splitter': 'best'}\n"
     ]
    }
   ],
   "source": [
    "print(gridDtree.best_estimator_)\n",
    "print(gridDtree.best_params_)"
   ]
  },
  {
   "cell_type": "markdown",
   "metadata": {},
   "source": [
    "**Create GridSearch results DataFrame and plot the results**"
   ]
  },
  {
   "cell_type": "code",
   "execution_count": 135,
   "metadata": {
    "scrolled": true
   },
   "outputs": [
    {
     "data": {
      "text/html": [
       "<div>\n",
       "<style scoped>\n",
       "    .dataframe tbody tr th:only-of-type {\n",
       "        vertical-align: middle;\n",
       "    }\n",
       "\n",
       "    .dataframe tbody tr th {\n",
       "        vertical-align: top;\n",
       "    }\n",
       "\n",
       "    .dataframe thead th {\n",
       "        text-align: right;\n",
       "    }\n",
       "</style>\n",
       "<table border=\"1\" class=\"dataframe\">\n",
       "  <thead>\n",
       "    <tr style=\"text-align: right;\">\n",
       "      <th></th>\n",
       "      <th>mean_fit_time</th>\n",
       "      <th>std_fit_time</th>\n",
       "      <th>mean_score_time</th>\n",
       "      <th>std_score_time</th>\n",
       "      <th>param_criterion</th>\n",
       "      <th>param_max_depth</th>\n",
       "      <th>param_splitter</th>\n",
       "      <th>params</th>\n",
       "      <th>split0_test_score</th>\n",
       "      <th>split1_test_score</th>\n",
       "      <th>...</th>\n",
       "      <th>mean_test_score</th>\n",
       "      <th>std_test_score</th>\n",
       "      <th>rank_test_score</th>\n",
       "      <th>split0_train_score</th>\n",
       "      <th>split1_train_score</th>\n",
       "      <th>split2_train_score</th>\n",
       "      <th>split3_train_score</th>\n",
       "      <th>split4_train_score</th>\n",
       "      <th>mean_train_score</th>\n",
       "      <th>std_train_score</th>\n",
       "    </tr>\n",
       "  </thead>\n",
       "  <tbody>\n",
       "    <tr>\n",
       "      <th>0</th>\n",
       "      <td>0.001879</td>\n",
       "      <td>8.556561e-04</td>\n",
       "      <td>0.000199</td>\n",
       "      <td>0.000243</td>\n",
       "      <td>gini</td>\n",
       "      <td>1</td>\n",
       "      <td>best</td>\n",
       "      <td>{'criterion': 'gini', 'max_depth': 1, 'splitte...</td>\n",
       "      <td>0.839378</td>\n",
       "      <td>0.829016</td>\n",
       "      <td>...</td>\n",
       "      <td>0.832124</td>\n",
       "      <td>0.007755</td>\n",
       "      <td>19</td>\n",
       "      <td>0.836788</td>\n",
       "      <td>0.845855</td>\n",
       "      <td>0.836788</td>\n",
       "      <td>0.848446</td>\n",
       "      <td>0.838083</td>\n",
       "      <td>0.841192</td>\n",
       "      <td>0.004956</td>\n",
       "    </tr>\n",
       "    <tr>\n",
       "      <th>1</th>\n",
       "      <td>0.001092</td>\n",
       "      <td>2.002245e-04</td>\n",
       "      <td>0.000198</td>\n",
       "      <td>0.000243</td>\n",
       "      <td>gini</td>\n",
       "      <td>1</td>\n",
       "      <td>random</td>\n",
       "      <td>{'criterion': 'gini', 'max_depth': 1, 'splitte...</td>\n",
       "      <td>0.839378</td>\n",
       "      <td>0.839378</td>\n",
       "      <td>...</td>\n",
       "      <td>0.837306</td>\n",
       "      <td>0.002538</td>\n",
       "      <td>10</td>\n",
       "      <td>0.836788</td>\n",
       "      <td>0.836788</td>\n",
       "      <td>0.836788</td>\n",
       "      <td>0.838083</td>\n",
       "      <td>0.838083</td>\n",
       "      <td>0.837306</td>\n",
       "      <td>0.000635</td>\n",
       "    </tr>\n",
       "    <tr>\n",
       "      <th>2</th>\n",
       "      <td>0.002385</td>\n",
       "      <td>1.907346e-04</td>\n",
       "      <td>0.000194</td>\n",
       "      <td>0.000238</td>\n",
       "      <td>gini</td>\n",
       "      <td>2</td>\n",
       "      <td>best</td>\n",
       "      <td>{'criterion': 'gini', 'max_depth': 2, 'splitte...</td>\n",
       "      <td>0.854922</td>\n",
       "      <td>0.839378</td>\n",
       "      <td>...</td>\n",
       "      <td>0.842487</td>\n",
       "      <td>0.023767</td>\n",
       "      <td>4</td>\n",
       "      <td>0.853627</td>\n",
       "      <td>0.856218</td>\n",
       "      <td>0.866580</td>\n",
       "      <td>0.860104</td>\n",
       "      <td>0.845855</td>\n",
       "      <td>0.856477</td>\n",
       "      <td>0.006874</td>\n",
       "    </tr>\n",
       "    <tr>\n",
       "      <th>3</th>\n",
       "      <td>0.001291</td>\n",
       "      <td>2.445981e-04</td>\n",
       "      <td>0.000302</td>\n",
       "      <td>0.000247</td>\n",
       "      <td>gini</td>\n",
       "      <td>2</td>\n",
       "      <td>random</td>\n",
       "      <td>{'criterion': 'gini', 'max_depth': 2, 'splitte...</td>\n",
       "      <td>0.849741</td>\n",
       "      <td>0.844560</td>\n",
       "      <td>...</td>\n",
       "      <td>0.839378</td>\n",
       "      <td>0.014655</td>\n",
       "      <td>6</td>\n",
       "      <td>0.840674</td>\n",
       "      <td>0.852332</td>\n",
       "      <td>0.849741</td>\n",
       "      <td>0.854922</td>\n",
       "      <td>0.839378</td>\n",
       "      <td>0.847409</td>\n",
       "      <td>0.006261</td>\n",
       "    </tr>\n",
       "    <tr>\n",
       "      <th>4</th>\n",
       "      <td>0.002480</td>\n",
       "      <td>2.780415e-07</td>\n",
       "      <td>0.000402</td>\n",
       "      <td>0.000201</td>\n",
       "      <td>gini</td>\n",
       "      <td>3</td>\n",
       "      <td>best</td>\n",
       "      <td>{'criterion': 'gini', 'max_depth': 3, 'splitte...</td>\n",
       "      <td>0.865285</td>\n",
       "      <td>0.823834</td>\n",
       "      <td>...</td>\n",
       "      <td>0.827979</td>\n",
       "      <td>0.019220</td>\n",
       "      <td>23</td>\n",
       "      <td>0.862694</td>\n",
       "      <td>0.866580</td>\n",
       "      <td>0.878238</td>\n",
       "      <td>0.862694</td>\n",
       "      <td>0.863990</td>\n",
       "      <td>0.866839</td>\n",
       "      <td>0.005873</td>\n",
       "    </tr>\n",
       "  </tbody>\n",
       "</table>\n",
       "<p>5 rows × 23 columns</p>\n",
       "</div>"
      ],
      "text/plain": [
       "   mean_fit_time  std_fit_time  mean_score_time  std_score_time  \\\n",
       "0       0.001879  8.556561e-04         0.000199        0.000243   \n",
       "1       0.001092  2.002245e-04         0.000198        0.000243   \n",
       "2       0.002385  1.907346e-04         0.000194        0.000238   \n",
       "3       0.001291  2.445981e-04         0.000302        0.000247   \n",
       "4       0.002480  2.780415e-07         0.000402        0.000201   \n",
       "\n",
       "  param_criterion param_max_depth param_splitter  \\\n",
       "0            gini               1           best   \n",
       "1            gini               1         random   \n",
       "2            gini               2           best   \n",
       "3            gini               2         random   \n",
       "4            gini               3           best   \n",
       "\n",
       "                                              params  split0_test_score  \\\n",
       "0  {'criterion': 'gini', 'max_depth': 1, 'splitte...           0.839378   \n",
       "1  {'criterion': 'gini', 'max_depth': 1, 'splitte...           0.839378   \n",
       "2  {'criterion': 'gini', 'max_depth': 2, 'splitte...           0.854922   \n",
       "3  {'criterion': 'gini', 'max_depth': 2, 'splitte...           0.849741   \n",
       "4  {'criterion': 'gini', 'max_depth': 3, 'splitte...           0.865285   \n",
       "\n",
       "   split1_test_score  ...  mean_test_score  std_test_score  rank_test_score  \\\n",
       "0           0.829016  ...         0.832124        0.007755               19   \n",
       "1           0.839378  ...         0.837306        0.002538               10   \n",
       "2           0.839378  ...         0.842487        0.023767                4   \n",
       "3           0.844560  ...         0.839378        0.014655                6   \n",
       "4           0.823834  ...         0.827979        0.019220               23   \n",
       "\n",
       "   split0_train_score  split1_train_score  split2_train_score  \\\n",
       "0            0.836788            0.845855            0.836788   \n",
       "1            0.836788            0.836788            0.836788   \n",
       "2            0.853627            0.856218            0.866580   \n",
       "3            0.840674            0.852332            0.849741   \n",
       "4            0.862694            0.866580            0.878238   \n",
       "\n",
       "   split3_train_score  split4_train_score  mean_train_score  std_train_score  \n",
       "0            0.848446            0.838083          0.841192         0.004956  \n",
       "1            0.838083            0.838083          0.837306         0.000635  \n",
       "2            0.860104            0.845855          0.856477         0.006874  \n",
       "3            0.854922            0.839378          0.847409         0.006261  \n",
       "4            0.862694            0.863990          0.866839         0.005873  \n",
       "\n",
       "[5 rows x 23 columns]"
      ]
     },
     "execution_count": 135,
     "metadata": {},
     "output_type": "execute_result"
    }
   ],
   "source": [
    "result = pd.DataFrame(gridDtree.cv_results_)\n",
    "result.head()"
   ]
  },
  {
   "cell_type": "code",
   "execution_count": 136,
   "metadata": {},
   "outputs": [
    {
     "data": {
      "image/png": "[encoded data removed]",
      "text/plain": [
       "<Figure size 1080x288 with 1 Axes>"
      ]
     },
     "metadata": {
      "needs_background": "light"
     },
     "output_type": "display_data"
    }
   ],
   "source": [
    "%matplotlib inline\n",
    "\n",
    "size = range(result['params'].shape[0])\n",
    "index = gridDtree.best_index_\n",
    "\n",
    "plt.subplots(figsize = (15,4))\n",
    "plt.plot(size, result['mean_train_score'], label = 'mean train score')\n",
    "plt.plot(size, result['mean_test_score'], label = 'mean test score')\n",
    "plt.xticks(size, result['params'], rotation = 90)\n",
    "plt.gca().get_xticklabels()[index].set_color('red')\n",
    "plt.legend()\n",
    "plt.grid()"
   ]
  },
  {
   "cell_type": "markdown",
   "metadata": {},
   "source": [
    "**Run the Decision Tree model using best parameters**"
   ]
  },
  {
   "cell_type": "code",
   "execution_count": 137,
   "metadata": {},
   "outputs": [
    {
     "name": "stdout",
     "output_type": "stream",
     "text": [
      "Train score: 0.8829015544041451\n",
      "Test score: 0.8405797101449275\n"
     ]
    }
   ],
   "source": [
    "dtree = DecisionTreeClassifier(criterion='entropy', max_depth=4, random_state=0)\n",
    "dtree.fit(X_train, y_train)\n",
    "print('Train score:', dtree.score(X_train, y_train))\n",
    "print('Test score:', dtree.score(X_test, y_test))"
   ]
  },
  {
   "cell_type": "code",
   "execution_count": 138,
   "metadata": {
    "scrolled": true
   },
   "outputs": [
    {
     "name": "stdout",
     "output_type": "stream",
     "text": [
      "Difference: 0.04232184425921759\n"
     ]
    }
   ],
   "source": [
    "print('Difference:', abs(dtree.score(X_train, y_train) - dtree.score(X_test, y_test)))"
   ]
  },
  {
   "cell_type": "markdown",
   "metadata": {},
   "source": [
    "**Predict the results (training data)**"
   ]
  },
  {
   "cell_type": "code",
   "execution_count": 139,
   "metadata": {},
   "outputs": [],
   "source": [
    "y_pred = lsvc.predict(X_train)"
   ]
  },
  {
   "cell_type": "markdown",
   "metadata": {},
   "source": [
    "**Classification Report (training data)** "
   ]
  },
  {
   "cell_type": "code",
   "execution_count": 140,
   "metadata": {
    "scrolled": false
   },
   "outputs": [
    {
     "name": "stdout",
     "output_type": "stream",
     "text": [
      "              precision    recall  f1-score   support\n",
      "\n",
      "           0       0.88      0.99      0.93       808\n",
      "           1       0.85      0.34      0.48       157\n",
      "\n",
      "    accuracy                           0.88       965\n",
      "   macro avg       0.87      0.66      0.71       965\n",
      "weighted avg       0.88      0.88      0.86       965\n",
      "\n"
     ]
    }
   ],
   "source": [
    "print(classification_report(y_train, y_pred))"
   ]
  },
  {
   "cell_type": "markdown",
   "metadata": {},
   "source": [
    "The training results for this model show that it is not great at classifying '1' values. It is really good at classifying '0' values. "
   ]
  },
  {
   "cell_type": "code",
   "execution_count": 141,
   "metadata": {},
   "outputs": [],
   "source": [
    "precisionTrn, recallTrn, fscoreTrn, supportTrn = score(y_train, y_pred, average = 'macro')"
   ]
  },
  {
   "cell_type": "markdown",
   "metadata": {},
   "source": [
    "**Predict the results (test data)**"
   ]
  },
  {
   "cell_type": "code",
   "execution_count": 142,
   "metadata": {},
   "outputs": [],
   "source": [
    "y_pred = dtree.predict(X_test)"
   ]
  },
  {
   "cell_type": "markdown",
   "metadata": {},
   "source": [
    "**Classification Report (test data)**"
   ]
  },
  {
   "cell_type": "code",
   "execution_count": 143,
   "metadata": {},
   "outputs": [
    {
     "name": "stdout",
     "output_type": "stream",
     "text": [
      "              precision    recall  f1-score   support\n",
      "\n",
      "           0       0.88      0.95      0.91       350\n",
      "           1       0.47      0.27      0.34        64\n",
      "\n",
      "    accuracy                           0.84       414\n",
      "   macro avg       0.67      0.61      0.62       414\n",
      "weighted avg       0.81      0.84      0.82       414\n",
      "\n"
     ]
    }
   ],
   "source": [
    "print(classification_report(y_test, y_pred))"
   ]
  },
  {
   "cell_type": "markdown",
   "metadata": {},
   "source": [
    "The test results show that when classifying '1' values, it performs slightly worse than the training results. With these results considered, it's likely this won't be as competitive against some of the other models."
   ]
  },
  {
   "cell_type": "code",
   "execution_count": 144,
   "metadata": {},
   "outputs": [],
   "source": [
    "precisionTest, recallTest, fscoreTest, supportTest = score(y_test, y_pred, average = 'macro')"
   ]
  },
  {
   "cell_type": "markdown",
   "metadata": {},
   "source": [
    "**Confusion Matrix (test data)**"
   ]
  },
  {
   "cell_type": "code",
   "execution_count": 145,
   "metadata": {},
   "outputs": [],
   "source": [
    "confm = confusion_matrix(y_test, y_pred)"
   ]
  },
  {
   "cell_type": "code",
   "execution_count": 146,
   "metadata": {},
   "outputs": [
    {
     "data": {
      "image/png": "[encoded data removed]",
      "text/plain": [
       "<Figure size 288x288 with 1 Axes>"
      ]
     },
     "metadata": {
      "needs_background": "light"
     },
     "output_type": "display_data"
    }
   ],
   "source": [
    "fig, ax = plt.subplots(figsize=(4, 4))\n",
    "\n",
    "ax.imshow(confm)\n",
    "ax.xaxis.set(ticks=(0, 1), ticklabels=('Predicted 0s', 'Predicted 1s'))\n",
    "ax.yaxis.set(ticks=(0, 1), ticklabels=('Actual 0s', 'Actual 1s'))\n",
    "ax.set_ylim(1.5, -0.5)\n",
    "for i in range(2):\n",
    "    for j in range(2):\n",
    "        ax.text(j, i, confm[i, j], ha='center', va='center', color='red')\n",
    "plt.show()"
   ]
  },
  {
   "cell_type": "markdown",
   "metadata": {},
   "source": [
    "**Hold important data for evaluation**"
   ]
  },
  {
   "cell_type": "code",
   "execution_count": 147,
   "metadata": {},
   "outputs": [],
   "source": [
    "dtreeInfo = ['DecisionTree', dtree.score(X_train, y_train), dtree.score(X_test, y_test), \n",
    "             abs(dtree.score(X_train, y_train) - dtree.score(X_test, y_test)),\n",
    "             precisionTrn, recallTrn, fscoreTrn, precisionTest, recallTest, fscoreTest]"
   ]
  },
  {
   "cell_type": "markdown",
   "metadata": {},
   "source": [
    "**Find and plot important features**"
   ]
  },
  {
   "cell_type": "code",
   "execution_count": 148,
   "metadata": {},
   "outputs": [
    {
     "data": {
      "text/plain": [
       "array([0.12091446, 0.        , 0.        , 0.02274406, 0.        ,\n",
       "       0.        , 0.        , 0.        , 0.        , 0.        ,\n",
       "       0.        , 0.06625887, 0.15866231, 0.        , 0.03376581,\n",
       "       0.22491467, 0.        , 0.        , 0.        , 0.        ,\n",
       "       0.03815928, 0.        , 0.        , 0.        , 0.13955738,\n",
       "       0.        , 0.        , 0.07726122, 0.        , 0.04384473,\n",
       "       0.        , 0.        , 0.        , 0.        , 0.        ,\n",
       "       0.02620963, 0.        , 0.        , 0.        , 0.        ,\n",
       "       0.        , 0.        , 0.        , 0.        , 0.        ,\n",
       "       0.        , 0.        , 0.04770757, 0.        ])"
      ]
     },
     "execution_count": 148,
     "metadata": {},
     "output_type": "execute_result"
    }
   ],
   "source": [
    "dtree.feature_importances_"
   ]
  },
  {
   "cell_type": "code",
   "execution_count": 149,
   "metadata": {},
   "outputs": [],
   "source": [
    "features = sorted(X)\n",
    "n_features = X.shape[1]"
   ]
  },
  {
   "cell_type": "code",
   "execution_count": 150,
   "metadata": {},
   "outputs": [
    {
     "data": {
      "image/png": "[encoded data removed]",
      "text/plain": [
       "<Figure size 720x1080 with 1 Axes>"
      ]
     },
     "metadata": {
      "needs_background": "light"
     },
     "output_type": "display_data"
    }
   ],
   "source": [
    "plt.subplots(figsize = (10,15))\n",
    "plt.barh(range(n_features), dtree.feature_importances_, align='center')\n",
    "plt.yticks(range(len(dtree.feature_importances_)), X.columns)\n",
    "plt.ylabel('Features')\n",
    "plt.xlabel('Feature Importance')\n",
    "plt.show()"
   ]
  },
  {
   "cell_type": "markdown",
   "metadata": {},
   "source": [
    "The outcomes of the Decision Tree models' features make sense when it comes to employee attrition. One would expect that features such as OverTime, MonthlyIncome, Age and YearsAtCompany would impact employee retention. "
   ]
  },
  {
   "cell_type": "markdown",
   "metadata": {},
   "source": [
    "## <font color='blue'>Evaluation</font>"
   ]
  },
  {
   "cell_type": "markdown",
   "metadata": {},
   "source": [
    "**Aggregate the data for every model tested to determine which model to use**"
   ]
  },
  {
   "cell_type": "code",
   "execution_count": 151,
   "metadata": {},
   "outputs": [],
   "source": [
    "Xvalues = np.array([kNNInfo,\n",
    "                    logInfo,\n",
    "                    lsvcInfo,\n",
    "                    kernLinearInfo,\n",
    "                    rbfSVCInfo,\n",
    "                    polySVCInfo,\n",
    "                    dtreeInfo])\n",
    "\n",
    "dfValues = pd.DataFrame(Xvalues, columns = ['ModelType', 'TrainScore', 'TestScore', \n",
    "                                            'Difference', 'PrecisionTrn', 'RecallTrn', 'f1-scoreTrn', \n",
    "                                            'PrecisionTest', 'RecallTest', 'f1-scoreTest'])"
   ]
  },
  {
   "cell_type": "code",
   "execution_count": 152,
   "metadata": {
    "scrolled": true
   },
   "outputs": [
    {
     "name": "stdout",
     "output_type": "stream",
     "text": [
      "<class 'pandas.core.frame.DataFrame'>\n",
      "RangeIndex: 7 entries, 0 to 6\n",
      "Data columns (total 10 columns):\n",
      " #   Column         Non-Null Count  Dtype \n",
      "---  ------         --------------  ----- \n",
      " 0   ModelType      7 non-null      object\n",
      " 1   TrainScore     7 non-null      object\n",
      " 2   TestScore      7 non-null      object\n",
      " 3   Difference     7 non-null      object\n",
      " 4   PrecisionTrn   7 non-null      object\n",
      " 5   RecallTrn      7 non-null      object\n",
      " 6   f1-scoreTrn    7 non-null      object\n",
      " 7   PrecisionTest  7 non-null      object\n",
      " 8   RecallTest     7 non-null      object\n",
      " 9   f1-scoreTest   7 non-null      object\n",
      "dtypes: object(10)\n",
      "memory usage: 688.0+ bytes\n"
     ]
    }
   ],
   "source": [
    "dfValues.info()"
   ]
  },
  {
   "cell_type": "markdown",
   "metadata": {},
   "source": [
    "**Set the data types to float** "
   ]
  },
  {
   "cell_type": "code",
   "execution_count": 153,
   "metadata": {},
   "outputs": [],
   "source": [
    "dfValues[['TrainScore', 'TestScore', \n",
    "          'Difference', 'PrecisionTrn', \n",
    "          'RecallTrn', 'f1-scoreTrn', \n",
    "          'PrecisionTest','RecallTest', \n",
    "          'f1-scoreTest']] = dfValues[['TrainScore', 'TestScore', \n",
    "                                       'Difference', 'PrecisionTrn', \n",
    "                                       'RecallTrn', 'f1-scoreTrn', \n",
    "                                       'PrecisionTest', 'RecallTest', \n",
    "                                       'f1-scoreTest']].astype('float')"
   ]
  },
  {
   "cell_type": "markdown",
   "metadata": {},
   "source": [
    "**Round the data**"
   ]
  },
  {
   "cell_type": "code",
   "execution_count": 154,
   "metadata": {},
   "outputs": [
    {
     "data": {
      "text/html": [
       "<div>\n",
       "<style scoped>\n",
       "    .dataframe tbody tr th:only-of-type {\n",
       "        vertical-align: middle;\n",
       "    }\n",
       "\n",
       "    .dataframe tbody tr th {\n",
       "        vertical-align: top;\n",
       "    }\n",
       "\n",
       "    .dataframe thead th {\n",
       "        text-align: right;\n",
       "    }\n",
       "</style>\n",
       "<table border=\"1\" class=\"dataframe\">\n",
       "  <thead>\n",
       "    <tr style=\"text-align: right;\">\n",
       "      <th></th>\n",
       "      <th>ModelType</th>\n",
       "      <th>TrainScore</th>\n",
       "      <th>TestScore</th>\n",
       "      <th>Difference</th>\n",
       "      <th>PrecisionTrn</th>\n",
       "      <th>RecallTrn</th>\n",
       "      <th>f1-scoreTrn</th>\n",
       "      <th>PrecisionTest</th>\n",
       "      <th>RecallTest</th>\n",
       "      <th>f1-scoreTest</th>\n",
       "    </tr>\n",
       "  </thead>\n",
       "  <tbody>\n",
       "    <tr>\n",
       "      <th>0</th>\n",
       "      <td>kNN</td>\n",
       "      <td>0.8694</td>\n",
       "      <td>0.8454</td>\n",
       "      <td>0.0240</td>\n",
       "      <td>0.8735</td>\n",
       "      <td>0.6116</td>\n",
       "      <td>0.6454</td>\n",
       "      <td>0.6779</td>\n",
       "      <td>0.5383</td>\n",
       "      <td>0.5364</td>\n",
       "    </tr>\n",
       "    <tr>\n",
       "      <th>1</th>\n",
       "      <td>LogisticRegression</td>\n",
       "      <td>0.8891</td>\n",
       "      <td>0.8768</td>\n",
       "      <td>0.0123</td>\n",
       "      <td>0.8578</td>\n",
       "      <td>0.6952</td>\n",
       "      <td>0.7408</td>\n",
       "      <td>0.8222</td>\n",
       "      <td>0.6399</td>\n",
       "      <td>0.6790</td>\n",
       "    </tr>\n",
       "    <tr>\n",
       "      <th>2</th>\n",
       "      <td>LinearSVC</td>\n",
       "      <td>0.8829</td>\n",
       "      <td>0.8696</td>\n",
       "      <td>0.0133</td>\n",
       "      <td>0.8698</td>\n",
       "      <td>0.6632</td>\n",
       "      <td>0.7090</td>\n",
       "      <td>0.8128</td>\n",
       "      <td>0.6100</td>\n",
       "      <td>0.6423</td>\n",
       "    </tr>\n",
       "    <tr>\n",
       "      <th>3</th>\n",
       "      <td>KernLinearSVC</td>\n",
       "      <td>0.8933</td>\n",
       "      <td>0.8696</td>\n",
       "      <td>0.0237</td>\n",
       "      <td>0.8642</td>\n",
       "      <td>0.7079</td>\n",
       "      <td>0.7541</td>\n",
       "      <td>0.7718</td>\n",
       "      <td>0.6483</td>\n",
       "      <td>0.6819</td>\n",
       "    </tr>\n",
       "    <tr>\n",
       "      <th>4</th>\n",
       "      <td>KernRbfSVC</td>\n",
       "      <td>0.9109</td>\n",
       "      <td>0.8671</td>\n",
       "      <td>0.0437</td>\n",
       "      <td>0.9016</td>\n",
       "      <td>0.7518</td>\n",
       "      <td>0.8010</td>\n",
       "      <td>0.7618</td>\n",
       "      <td>0.6469</td>\n",
       "      <td>0.6789</td>\n",
       "    </tr>\n",
       "    <tr>\n",
       "      <th>5</th>\n",
       "      <td>KernPolySVC</td>\n",
       "      <td>0.9285</td>\n",
       "      <td>0.8575</td>\n",
       "      <td>0.0710</td>\n",
       "      <td>0.9226</td>\n",
       "      <td>0.8033</td>\n",
       "      <td>0.8481</td>\n",
       "      <td>0.7277</td>\n",
       "      <td>0.6348</td>\n",
       "      <td>0.6616</td>\n",
       "    </tr>\n",
       "    <tr>\n",
       "      <th>6</th>\n",
       "      <td>DecisionTree</td>\n",
       "      <td>0.8829</td>\n",
       "      <td>0.8406</td>\n",
       "      <td>0.0423</td>\n",
       "      <td>0.8698</td>\n",
       "      <td>0.6632</td>\n",
       "      <td>0.7090</td>\n",
       "      <td>0.6739</td>\n",
       "      <td>0.6057</td>\n",
       "      <td>0.6247</td>\n",
       "    </tr>\n",
       "  </tbody>\n",
       "</table>\n",
       "</div>"
      ],
      "text/plain": [
       "            ModelType  TrainScore  TestScore  Difference  PrecisionTrn  \\\n",
       "0                 kNN      0.8694     0.8454      0.0240        0.8735   \n",
       "1  LogisticRegression      0.8891     0.8768      0.0123        0.8578   \n",
       "2           LinearSVC      0.8829     0.8696      0.0133        0.8698   \n",
       "3       KernLinearSVC      0.8933     0.8696      0.0237        0.8642   \n",
       "4          KernRbfSVC      0.9109     0.8671      0.0437        0.9016   \n",
       "5         KernPolySVC      0.9285     0.8575      0.0710        0.9226   \n",
       "6        DecisionTree      0.8829     0.8406      0.0423        0.8698   \n",
       "\n",
       "   RecallTrn  f1-scoreTrn  PrecisionTest  RecallTest  f1-scoreTest  \n",
       "0     0.6116       0.6454         0.6779      0.5383        0.5364  \n",
       "1     0.6952       0.7408         0.8222      0.6399        0.6790  \n",
       "2     0.6632       0.7090         0.8128      0.6100        0.6423  \n",
       "3     0.7079       0.7541         0.7718      0.6483        0.6819  \n",
       "4     0.7518       0.8010         0.7618      0.6469        0.6789  \n",
       "5     0.8033       0.8481         0.7277      0.6348        0.6616  \n",
       "6     0.6632       0.7090         0.6739      0.6057        0.6247  "
      ]
     },
     "execution_count": 154,
     "metadata": {},
     "output_type": "execute_result"
    }
   ],
   "source": [
    "dfValues.round(4)"
   ]
  },
  {
   "cell_type": "markdown",
   "metadata": {},
   "source": [
    "#### Analysis of Models (based on the dataframe shown above)"
   ]
  },
  {
   "cell_type": "markdown",
   "metadata": {},
   "source": [
    "Due the dataset being so skewed, precision, recall and f1-score will be heavily relied on when selecting the model. The accuracy for majority of the models is fine, with Logistic Regression and LinearSVC having the best accuracy difference between the train and test data while the Polynomial Kernel model has one of the worst cases (and is overfitting).\n",
    "\n",
    "It's interesting to note that the Linear Kernel and Logistic Regression models have the highest f1-score for test data. In regards to the f1-score for training data, the the RBF Kernel and Polynomial Kernel models have the highest scores.\n",
    "\n",
    "Due to the problem of overfitting the data, we can safely remove the RBF Kernel, Polynomial Kernel and Decision Tree models from our selection of best models. The kNN model also has a poor f1-score in comparison to the other models when considering the testing set, and can safely be removed for the selection. Based off of the precision, recall and f1-scores, we can safely remove LinearSVC as it lacks compared to the LogisticRegression and Linear Kernel models."
   ]
  },
  {
   "cell_type": "markdown",
   "metadata": {},
   "source": [
    "#### Model Decision"
   ]
  },
  {
   "cell_type": "markdown",
   "metadata": {},
   "source": [
    "Based on this knowledge, we'll be picking the Logistic Regression model as the model to predict employee attrition. This decision was based on the f-score, precision, recall and difference. \n",
    "\n",
    "While the Linear Kernel model technically has the highest f1-score at 0.6819 (which could be considered the best model accuracy), we would be sacrificing test score accuracy and precision as well as be overfitting the data slightly if we chose that model. By picking the Logistic Regression, however, we can maintain relatively high test and training scores, a far higher precision score (compared to other models), while sacrificing a slight amount of recall (compared to the Kernelized Linear SVC model). \n",
    "\n",
    "To add on to this, the difference between the two models' f1-scores (0.6819 for Linear Kernel, 0.6790 for Logistic Regression) is minimal enough to not cause a large difference in model accuracy. With this conclusion, the Logistic Regression model appears to be the best model due to these factors."
   ]
  },
  {
   "cell_type": "markdown",
   "metadata": {},
   "source": [
    "### <font color='purple'>Logistic Model (shown again for visibility and further analysis)</font>"
   ]
  },
  {
   "cell_type": "markdown",
   "metadata": {},
   "source": [
    "We will use the parameters that were determined earlier in the model evaluation phase. "
   ]
  },
  {
   "cell_type": "code",
   "execution_count": 155,
   "metadata": {},
   "outputs": [
    {
     "name": "stdout",
     "output_type": "stream",
     "text": [
      "Train score accuracy:  0.8891191709844559\n",
      "Test score accuracy:  0.8768115942028986\n"
     ]
    }
   ],
   "source": [
    "log = LogisticRegression(C=1, max_iter=10000, random_state=0, solver='liblinear')\n",
    "log.fit(X_train, y_train)\n",
    "print('Train score accuracy: ', log.score(X_train, y_train))\n",
    "print('Test score accuracy: ', log.score(X_test, y_test))"
   ]
  },
  {
   "cell_type": "code",
   "execution_count": 156,
   "metadata": {
    "scrolled": true
   },
   "outputs": [
    {
     "name": "stdout",
     "output_type": "stream",
     "text": [
      "Difference: 0.012307576781557361\n"
     ]
    }
   ],
   "source": [
    "print('Difference:', abs(log.score(X_train, y_train) - log.score(X_test, y_test)))"
   ]
  },
  {
   "cell_type": "code",
   "execution_count": 157,
   "metadata": {},
   "outputs": [
    {
     "name": "stdout",
     "output_type": "stream",
     "text": [
      "[0.61928684]\n"
     ]
    }
   ],
   "source": [
    "print(log.intercept_)"
   ]
  },
  {
   "cell_type": "code",
   "execution_count": 158,
   "metadata": {},
   "outputs": [
    {
     "name": "stdout",
     "output_type": "stream",
     "text": [
      "[[-1.13885801 -0.38865975  0.90450436 -0.13544558  0.         -1.06790796\n",
      "  -0.13435445  0.08872932 -1.23662678 -0.10373194 -0.88417624 -1.26631818\n",
      "  -0.01816992  0.24623186  1.3267443   1.66314066 -0.78077052  0.33126107\n",
      "  -0.45323499  0.         -0.34830393 -0.79949211 -0.62402694 -0.29502518\n",
      "   0.17898235 -1.02089911  1.86973643 -1.10432821 -0.40156212  0.83761151\n",
      "   0.18323744  0.09992244  0.05667427  0.46269013  0.29100578 -0.25783596\n",
      "   0.12143241  0.01967672 -0.18606551  0.6310734  -0.26529258  0.42677357\n",
      "   0.7611162  -0.34642542 -0.16943002 -0.89758508  0.13154693  0.02834445\n",
      "   0.95023879]]\n"
     ]
    }
   ],
   "source": [
    "print(log.coef_)"
   ]
  },
  {
   "cell_type": "markdown",
   "metadata": {},
   "source": [
    "**Predict the results (training data)**"
   ]
  },
  {
   "cell_type": "code",
   "execution_count": 159,
   "metadata": {},
   "outputs": [],
   "source": [
    "y_pred = log.predict(X_train)"
   ]
  },
  {
   "cell_type": "markdown",
   "metadata": {},
   "source": [
    "**Classification report (training data)** "
   ]
  },
  {
   "cell_type": "code",
   "execution_count": 160,
   "metadata": {},
   "outputs": [
    {
     "name": "stdout",
     "output_type": "stream",
     "text": [
      "              precision    recall  f1-score   support\n",
      "\n",
      "           0       0.90      0.98      0.94       808\n",
      "           1       0.82      0.41      0.54       157\n",
      "\n",
      "    accuracy                           0.89       965\n",
      "   macro avg       0.86      0.70      0.74       965\n",
      "weighted avg       0.88      0.89      0.87       965\n",
      "\n"
     ]
    }
   ],
   "source": [
    "print(classification_report(y_train, y_pred))"
   ]
  },
  {
   "cell_type": "markdown",
   "metadata": {},
   "source": [
    "**Confusion matrix (training data)**"
   ]
  },
  {
   "cell_type": "code",
   "execution_count": 161,
   "metadata": {},
   "outputs": [],
   "source": [
    "confm = confusion_matrix(y_train, y_pred)"
   ]
  },
  {
   "cell_type": "code",
   "execution_count": 162,
   "metadata": {},
   "outputs": [
    {
     "data": {
      "image/png": "[encoded data removed]",
      "text/plain": [
       "<Figure size 288x288 with 1 Axes>"
      ]
     },
     "metadata": {
      "needs_background": "light"
     },
     "output_type": "display_data"
    }
   ],
   "source": [
    "fig, ax = plt.subplots(figsize=(4, 4))\n",
    "ax.imshow(confm)\n",
    "ax.xaxis.set(ticks=(0, 1), ticklabels=('Predicted 0s', 'Predicted 1s'))\n",
    "ax.yaxis.set(ticks=(0, 1), ticklabels=('Actual 0s', 'Actual 1s'))\n",
    "ax.set_ylim(1.5, -0.5)\n",
    "for i in range(2):\n",
    "    for j in range(2):\n",
    "        ax.text(j, i, confm[i, j], ha='center', va='center', color='red')\n",
    "plt.show()"
   ]
  },
  {
   "cell_type": "code",
   "execution_count": 163,
   "metadata": {},
   "outputs": [
    {
     "name": "stdout",
     "output_type": "stream",
     "text": [
      "Actual values:\n"
     ]
    },
    {
     "data": {
      "text/plain": [
       "0    808\n",
       "1    157\n",
       "Name: Attrition, dtype: int64"
      ]
     },
     "execution_count": 163,
     "metadata": {},
     "output_type": "execute_result"
    }
   ],
   "source": [
    "print('Actual values:')\n",
    "y_train.value_counts()"
   ]
  },
  {
   "cell_type": "code",
   "execution_count": 164,
   "metadata": {},
   "outputs": [
    {
     "name": "stdout",
     "output_type": "stream",
     "text": [
      "Classified 0 values: 887\n",
      "Classified 1 values: 78\n"
     ]
    }
   ],
   "source": [
    "print('Classified ''0'' values:', np.count_nonzero(y_pred == 0))\n",
    "print('Classified ''1'' values:', np.count_nonzero(y_pred == 1))"
   ]
  },
  {
   "cell_type": "markdown",
   "metadata": {},
   "source": [
    "**Predict the results (testing data)**"
   ]
  },
  {
   "cell_type": "code",
   "execution_count": 165,
   "metadata": {},
   "outputs": [],
   "source": [
    "y_pred = log.predict(X_test)"
   ]
  },
  {
   "cell_type": "markdown",
   "metadata": {},
   "source": [
    "**Classification report (testing data)**"
   ]
  },
  {
   "cell_type": "code",
   "execution_count": 166,
   "metadata": {},
   "outputs": [
    {
     "name": "stdout",
     "output_type": "stream",
     "text": [
      "              precision    recall  f1-score   support\n",
      "\n",
      "           0       0.88      0.98      0.93       350\n",
      "           1       0.76      0.30      0.43        64\n",
      "\n",
      "    accuracy                           0.88       414\n",
      "   macro avg       0.82      0.64      0.68       414\n",
      "weighted avg       0.87      0.88      0.85       414\n",
      "\n"
     ]
    }
   ],
   "source": [
    "print(classification_report(y_test, y_pred))"
   ]
  },
  {
   "cell_type": "markdown",
   "metadata": {},
   "source": [
    "**Confusion matrix (testing data)**"
   ]
  },
  {
   "cell_type": "code",
   "execution_count": 167,
   "metadata": {},
   "outputs": [],
   "source": [
    "confm = confusion_matrix(y_test, y_pred)"
   ]
  },
  {
   "cell_type": "code",
   "execution_count": 168,
   "metadata": {},
   "outputs": [
    {
     "data": {
      "image/png": "[encoded data removed]",
      "text/plain": [
       "<Figure size 288x288 with 1 Axes>"
      ]
     },
     "metadata": {
      "needs_background": "light"
     },
     "output_type": "display_data"
    }
   ],
   "source": [
    "fig, ax = plt.subplots(figsize=(4, 4))\n",
    "ax.imshow(confm)\n",
    "ax.xaxis.set(ticks=(0, 1), ticklabels=('Predicted 0s', 'Predicted 1s'))\n",
    "ax.yaxis.set(ticks=(0, 1), ticklabels=('Actual 0s', 'Actual 1s'))\n",
    "ax.set_ylim(1.5, -0.5)\n",
    "for i in range(2):\n",
    "    for j in range(2):\n",
    "        ax.text(j, i, confm[i, j], ha='center', va='center', color='red')\n",
    "plt.show()"
   ]
  },
  {
   "cell_type": "code",
   "execution_count": 169,
   "metadata": {},
   "outputs": [
    {
     "name": "stdout",
     "output_type": "stream",
     "text": [
      "Actual values:\n"
     ]
    },
    {
     "data": {
      "text/plain": [
       "0    350\n",
       "1     64\n",
       "Name: Attrition, dtype: int64"
      ]
     },
     "execution_count": 169,
     "metadata": {},
     "output_type": "execute_result"
    }
   ],
   "source": [
    "print('Actual values:')\n",
    "y_test.value_counts()"
   ]
  },
  {
   "cell_type": "code",
   "execution_count": 170,
   "metadata": {},
   "outputs": [
    {
     "name": "stdout",
     "output_type": "stream",
     "text": [
      "Classified 0 values: 389\n",
      "Classified 1 values: 25\n"
     ]
    }
   ],
   "source": [
    "print('Classified ''0'' values:', np.count_nonzero(y_pred == 0))\n",
    "print('Classified ''1'' values:', np.count_nonzero(y_pred == 1))"
   ]
  },
  {
   "cell_type": "markdown",
   "metadata": {},
   "source": [
    "**Final Thoughts & Analysis on the Logistic Regression Model**"
   ]
  },
  {
   "cell_type": "markdown",
   "metadata": {},
   "source": [
    "While the Logistic Regression model is technically the best model found from the model evaluation, it is not a great model overall. This is mostly due to the data disparity - only 16% of the data was the 'Yes' / '1' value (shown in the preparation phase). This is backed up by analyzing the classification report for both the train and test sets. We can see that the train set was better at classifying the '1s' than the test set. It's also worth noting however, that the test set did not lose much value in classifying '0s', it managed to keep a high precision and recall (the precision was 0.02 lower than the train set). \n",
    "\n",
    "Overall the model is decent. Given that it is a smaller dataset with heavily skewed data, the model is expected to struggle at classifying the data. With a larger dataset or more balanced distribution of the target values, this could potentially be a great model. "
   ]
  }
 ],
 "metadata": {
  "kernelspec": {
   "display_name": "Python 3",
   "language": "python",
   "name": "python3"
  },
  "language_info": {
   "codemirror_mode": {
    "name": "ipython",
    "version": 3
   },
   "file_extension": ".py",
   "mimetype": "text/x-python",
   "name": "python",
   "nbconvert_exporter": "python",
   "pygments_lexer": "ipython3",
   "version": "3.8.3"
  }
 },
 "nbformat": 4,
 "nbformat_minor": 4
}
